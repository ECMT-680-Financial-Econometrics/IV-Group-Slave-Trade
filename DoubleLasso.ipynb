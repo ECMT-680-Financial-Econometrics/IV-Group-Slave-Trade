{
 "cells": [
  {
   "cell_type": "markdown",
   "metadata": {},
   "source": [
    "# **Implementing the Lasso Regression Methodology to the study by Nathan Nunn (2008)**\n",
    "\n",
    "### **IV Group Members:**\n",
    "* Colon, Christopher\n",
    "* Rodriguez Quinto, Anel\n",
    "* Stevens, Madison\n",
    "* Stutts, Charlie\n",
    "* Xu, Davis\n",
    "\n",
    "**The article can be found here:** https://www.jstor.org/stable/25098896\n",
    "\n",
    "**The dataset of the paper can be found here:** https://nathannunn.arts.ubc.ca/data/\n",
    "\n",
    "**The Google Colab project can be found here:** https://colab.research.google.com/drive/19Rc1VzFgVn_KXGHygORPp26AeBBzToUl#scrollTo=KIyK8PmmytZ8"
   ]
  },
  {
   "cell_type": "markdown",
   "metadata": {},
   "source": [
    "### **Step 1: Data Preprocessing** ###\n",
    "\n",
    "Here we read the data in and perform preprocessing steps to make the data usable for the Lasso selection method. These preprocessing steps include dropping irrelevent vaariables and normalizing the data."
   ]
  },
  {
   "cell_type": "code",
   "execution_count": 167,
   "metadata": {},
   "outputs": [],
   "source": [
    "import pandas as pd\n",
    "from sklearn.linear_model import LassoCV\n",
    "from sklearn.model_selection import train_test_split\n",
    "from sklearn.preprocessing import StandardScaler\n",
    "from sklearn.preprocessing import scale\n",
    "from statsmodels.sandbox.regression.gmm import IV2SLS\n",
    "import numpy as np\n",
    "import statsmodels.api as sm\n",
    "from scipy.stats import pearsonr\n",
    "\n",
    "#!git clone https://github.com/ECMT-680-Financial-Econometrics/IV-Group-Slave-Trade.git\n",
    "\n",
    "# Navigate to the repository directory\n",
    "#%cd IV-Group-Slave-Trade\n",
    "\n",
    "data = pd.read_csv('slave_trade_QJE_New_Data.csv')\n",
    "# Preprocessing the data\n",
    "data = data.drop(data.columns[[0,1]], axis=1) #Drop the first two columns\n",
    "\n",
    "# Drop the columns that are not needed\n",
    "columnstodrop = ['atlantic_distance_minimum_region_n_interaction', 'atlantic_distance_minimum_region_s_interaction', 'atlantic_distance_minimum_region_w_interaction', 'atlantic_distance_minimum_region_e_interaction', 'atlantic_distance_minimum_region_c_interaction', 'indian_distance_minimum_region_n_interaction', 'indian_distance_minimum_region_s_interaction', 'indian_distance_minimum_region_w_interaction', 'indian_distance_minimum_region_e_interaction', 'indian_distance_minimum_region_c_interaction', 'saharan_distance_minimum_region_n_interaction', 'saharan_distance_minimum_region_s_interaction', 'saharan_distance_minimum_region_w_interaction', 'saharan_distance_minimum_region_e_interaction', 'saharan_distance_minimum_region_c_interaction', 'red_sea_distance_minimum_region_n_interaction', 'red_sea_distance_minimum_region_s_interaction', 'red_sea_distance_minimum_region_w_interaction', 'red_sea_distance_minimum_region_e_interaction', 'red_sea_distance_minimum_region_c_interaction'] #Drop the first two columns\n",
    "data = data.drop(columnstodrop, axis=1) \n",
    "\n",
    "# Preprocess the data\n",
    "data = data.apply(pd.to_numeric, errors='coerce') #Convert all columns to numeric\n",
    "\n",
    "# Scale non-binary columns for normalization\n",
    "cols_to_scale = data.apply(lambda x: not pd.Series([0, 24]).isin(x).all())\n",
    "data.loc[:, cols_to_scale] = scale(data.loc[:, cols_to_scale])\n",
    "\n",
    "data = data.apply(lambda x: x.fillna(x.median()), axis=0)\n"
   ]
  },
  {
   "cell_type": "markdown",
   "metadata": {},
   "source": [
    "### **Step 2: Select variables using the Lasso selection method** ###\n",
    "First, we perform the Lasso between the dependent variable and the exogenous variables to select the most relevent variables for the regression. Then we perform the Lasso between the endogeneous and exogenous variables to determine the most relevant variables for predicting the endogenous variable. \n",
    "\n",
    "The unique variables from both Lassos are then combined into a final list of variables for the regression."
   ]
  },
  {
   "cell_type": "code",
   "execution_count": 174,
   "metadata": {},
   "outputs": [
    {
     "name": "stdout",
     "output_type": "stream",
     "text": [
      "Index(['ln_export_area', 'colony0', 'colony3', 'colony4', 'colony5', 'colony6',\n",
      "       'abs_latitude', 'rain_min', 'low_temp', 'ln_coastline_area', 'islam',\n",
      "       'region_c', 'ln_avg_oil_pop', 'ln_pop_dens_1400',\n",
      "       'saharan_distance_minimum', 'red_sea_distance_minimum',\n",
      "       'ethnic_fractionalization', 'land_area'],\n",
      "      dtype='object')\n",
      "Index(['ln_export_pop', 'colony1', 'colony3', 'colony6', 'colony7', 'rain_min',\n",
      "       'low_temp', 'ln_coastline_area', 'island_dum', 'islam', 'region_n',\n",
      "       'region_w', 'ln_avg_gold_pop', 'ln_avg_oil_pop',\n",
      "       'ln_avg_all_diamonds_pop', 'ln_pop_dens_1400',\n",
      "       'saharan_distance_minimum'],\n",
      "      dtype='object')\n",
      "['abs_latitude' 'colony0' 'colony1' 'colony3' 'colony4' 'colony5'\n",
      " 'colony6' 'colony7' 'ethnic_fractionalization' 'islam' 'island_dum'\n",
      " 'land_area' 'ln_avg_all_diamonds_pop' 'ln_avg_gold_pop' 'ln_avg_oil_pop'\n",
      " 'ln_coastline_area' 'ln_export_area' 'ln_export_pop' 'ln_pop_dens_1400'\n",
      " 'low_temp' 'rain_min' 'red_sea_distance_minimum' 'region_c' 'region_n'\n",
      " 'region_w' 'saharan_distance_minimum']\n"
     ]
    }
   ],
   "source": [
    "# Define the dependent variable and instrumental variable\n",
    "dependent_var = \"ln_maddison_pcgdp2000\"\n",
    "endogeneous_var = \"ln_export_area\"\n",
    "\n",
    "# Separate the covariates and the dependent variable\n",
    "X = data.drop(data.columns[0:25], axis=1)\n",
    "y = data[dependent_var]\n",
    "Z = data[endogeneous_var]\n",
    "\n",
    "\n",
    "# Perform Lasso to select important variables\n",
    "lasso_y = LassoCV(cv=5, max_iter=10000, tol=0.0001, random_state=0).fit(X, y)\n",
    "selected_y = X.columns[lasso_y.coef_ != 0]\n",
    "print(selected_y)\n",
    "\n",
    "lasso_z = LassoCV(cv=5, max_iter=10000, tol=0.0001, random_state=0).fit(X.drop(columns=Z.name), Z)\n",
    "selected_z = X.drop(columns=Z.name).columns[(lasso_z.coef_ != 0)]\n",
    "print(selected_z)\n",
    "\n",
    "# Get the indices of selected features\n",
    "selected_vars = np.unique(np.concatenate([selected_y, selected_z]))\n",
    "print(selected_vars)\n"
   ]
  },
  {
   "cell_type": "markdown",
   "metadata": {},
   "source": [
    "### **Step 3: OLS Model with Selected Variables** ###\n",
    "\n",
    "Here we use the selected variables to predict the outcomes for 2000 GDP. The results of this model are printed below."
   ]
  },
  {
   "cell_type": "code",
   "execution_count": 175,
   "metadata": {},
   "outputs": [
    {
     "name": "stdout",
     "output_type": "stream",
     "text": [
      "                              OLS Regression Results                             \n",
      "=================================================================================\n",
      "Dep. Variable:     ln_maddison_pcgdp2000   R-squared:                       0.788\n",
      "Model:                               OLS   Adj. R-squared:                  0.567\n",
      "Method:                    Least Squares   F-statistic:                     3.568\n",
      "Date:                   Mon, 29 Apr 2024   Prob (F-statistic):            0.00108\n",
      "Time:                           02:44:37   Log-Likelihood:                -33.489\n",
      "No. Observations:                     52   AIC:                             121.0\n",
      "Df Residuals:                         25   BIC:                             173.7\n",
      "Df Model:                             26                                         \n",
      "Covariance Type:               nonrobust                                         \n",
      "============================================================================================\n",
      "                               coef    std err          t      P>|t|      [0.025      0.975]\n",
      "--------------------------------------------------------------------------------------------\n",
      "const                        0.0002      0.092      0.003      0.998      -0.190       0.190\n",
      "abs_latitude                 0.1042      0.336      0.310      0.759      -0.588       0.797\n",
      "colony0                     -0.0842      0.128     -0.656      0.518      -0.349       0.180\n",
      "colony1                      0.0038      0.179      0.021      0.983      -0.365       0.373\n",
      "colony3                     -0.1728      0.133     -1.299      0.206      -0.447       0.101\n",
      "colony4                     -0.1466      0.223     -0.658      0.517      -0.606       0.312\n",
      "colony5                      0.1399      0.166      0.841      0.408      -0.203       0.483\n",
      "colony6                      0.0321      0.125      0.257      0.799      -0.225       0.289\n",
      "colony7                     -0.1157      0.145     -0.799      0.432      -0.414       0.182\n",
      "ethnic_fractionalization    -0.0327      0.229     -0.143      0.887      -0.503       0.438\n",
      "islam                       -0.2818      0.204     -1.379      0.180      -0.703       0.139\n",
      "island_dum                  -0.0534      0.393     -0.136      0.893      -0.864       0.757\n",
      "land_area                   -0.2037      0.269     -0.756      0.457      -0.759       0.351\n",
      "ln_avg_all_diamonds_pop     -0.0518      0.226     -0.229      0.821      -0.517       0.413\n",
      "ln_avg_gold_pop              0.0387      0.147      0.264      0.794      -0.263       0.341\n",
      "ln_avg_oil_pop               0.5752      0.203      2.831      0.009       0.157       0.994\n",
      "ln_coastline_area            0.2237      0.208      1.074      0.293      -0.205       0.652\n",
      "ln_export_area              -0.0402      1.030     -0.039      0.969      -2.162       2.082\n",
      "ln_export_pop               -0.2572      1.032     -0.249      0.805      -2.383       1.869\n",
      "ln_pop_dens_1400            -0.3279      0.401     -0.818      0.421      -1.153       0.498\n",
      "low_temp                    -0.0449      0.286     -0.157      0.876      -0.633       0.544\n",
      "rain_min                    -0.1315      0.158     -0.832      0.413      -0.457       0.194\n",
      "red_sea_distance_minimum     0.2212      0.319      0.693      0.495      -0.436       0.878\n",
      "region_c                    -0.3729      0.282     -1.323      0.198      -0.954       0.208\n",
      "region_n                    -0.1188      0.389     -0.305      0.763      -0.920       0.682\n",
      "region_w                    -0.2578      0.413     -0.625      0.538      -1.108       0.592\n",
      "saharan_distance_minimum    -0.2410      0.429     -0.562      0.579      -1.125       0.643\n",
      "==============================================================================\n",
      "Omnibus:                        2.005   Durbin-Watson:                   1.831\n",
      "Prob(Omnibus):                  0.367   Jarque-Bera (JB):                1.224\n",
      "Skew:                          -0.068   Prob(JB):                        0.542\n",
      "Kurtosis:                       3.739   Cond. No.                         33.2\n",
      "==============================================================================\n",
      "\n",
      "Notes:\n",
      "[1] Standard Errors assume that the covariance matrix of the errors is correctly specified.\n"
     ]
    }
   ],
   "source": [
    "# Create a design matrix for regression\n",
    "X_selected = sm.add_constant(data[selected_vars])\n",
    "# X_selected = X_selected.drop(columns=[endogeneous_var])\n",
    "\n",
    "# Fit a final OLS model using only selected variables\n",
    "ols_model = sm.OLS(y, X_selected).fit()\n",
    "\n",
    "print(ols_model.summary())\n"
   ]
  },
  {
   "cell_type": "markdown",
   "metadata": {},
   "source": [
    "### **Step 4: Perform an IV regression with the selected variables** ###\n",
    "Now we perform a IV2SLS regression with the selected instruments and controls. The results of this model are printed below."
   ]
  },
  {
   "cell_type": "code",
   "execution_count": 176,
   "metadata": {},
   "outputs": [
    {
     "name": "stdout",
     "output_type": "stream",
     "text": [
      "                            IV2SLS Regression Results                            \n",
      "=================================================================================\n",
      "Dep. Variable:     ln_maddison_pcgdp2000   R-squared:                      -0.233\n",
      "Model:                            IV2SLS   Adj. R-squared:                 -0.257\n",
      "Method:                        Two Stage   F-statistic:                     12.52\n",
      "                           Least Squares   Prob (F-statistic):           0.000881\n",
      "Date:                   Mon, 29 Apr 2024                                         \n",
      "Time:                           02:44:50                                         \n",
      "No. Observations:                     52                                         \n",
      "Df Residuals:                         50                                         \n",
      "Df Model:                              1                                         \n",
      "==================================================================================\n",
      "                     coef    std err          t      P>|t|      [0.025      0.975]\n",
      "----------------------------------------------------------------------------------\n",
      "const             -0.7356      8.768     -0.084      0.933     -18.346      16.875\n",
      "ln_export_area    -0.5555      0.157     -3.538      0.001      -0.871      -0.240\n",
      "==============================================================================\n",
      "Omnibus:                        0.206   Durbin-Watson:                   1.387\n",
      "Prob(Omnibus):                  0.902   Jarque-Bera (JB):                0.407\n",
      "Skew:                           0.022   Prob(JB):                        0.816\n",
      "Kurtosis:                       2.569   Cond. No.                         1.00\n",
      "==============================================================================\n"
     ]
    }
   ],
   "source": [
    "# Step 4: Conduct IV regression using the selected instruments and controls\n",
    "iv_model = IV2SLS(y, sm.add_constant(data[Z.name]), data[selected_vars]).fit()\n",
    "\n",
    "print(iv_model.summary())"
   ]
  },
  {
   "cell_type": "markdown",
   "metadata": {},
   "source": [
    "## **Repeating the Lasso Selection process for Years 2000-2022**"
   ]
  },
  {
   "cell_type": "markdown",
   "metadata": {},
   "source": [
    "### **Step 1: Selecting the features for each regression** ###\n",
    "\n",
    "Here we iterate through each year to find select variables for their individual regresions through the process described before."
   ]
  },
  {
   "cell_type": "code",
   "execution_count": 114,
   "metadata": {},
   "outputs": [
    {
     "name": "stdout",
     "output_type": "stream",
     "text": [
      "['colony0' 'colony1' 'colony3' 'colony4' 'colony7' 'islam'\n",
      " 'ln_avg_all_diamonds_pop' 'ln_avg_oil_pop' 'ln_coastline_area'\n",
      " 'ln_export_area' 'ln_pop_dens_1400' 'red_sea_distance_minimum' 'region_c']\n",
      "['colony0' 'colony3' 'colony4' 'ln_avg_oil_pop' 'ln_coastline_area'\n",
      " 'ln_export_area' 'ln_pop_dens_1400' 'region_c']\n",
      "['colony4' 'ln_avg_oil_pop' 'ln_coastline_area' 'ln_export_area'\n",
      " 'ln_pop_dens_1400']\n",
      "['colony0' 'colony1' 'colony3' 'colony4' 'colony5' 'colony7'\n",
      " 'ln_avg_oil_pop' 'ln_coastline_area' 'ln_export_area' 'ln_pop_dens_1400'\n",
      " 'region_c']\n",
      "['abs_latitude' 'colony0' 'colony1' 'colony3' 'colony4' 'colony5'\n",
      " 'colony7' 'ln_avg_oil_pop' 'ln_coastline_area' 'ln_export_area'\n",
      " 'ln_pop_dens_1400' 'region_c']\n",
      "['abs_latitude' 'colony0' 'colony1' 'colony3' 'colony4' 'colony5'\n",
      " 'colony7' 'ln_avg_oil_pop' 'ln_coastline_area' 'ln_export_area'\n",
      " 'ln_pop_dens_1400' 'region_c']\n",
      "['colony0' 'colony4' 'colony5' 'ln_avg_oil_pop' 'ln_coastline_area'\n",
      " 'ln_export_area' 'ln_pop_dens_1400']\n",
      "['colony0' 'colony4' 'colony5' 'ln_avg_oil_pop' 'ln_coastline_area'\n",
      " 'ln_export_area' 'ln_pop_dens_1400']\n",
      "['abs_latitude' 'colony0' 'colony1' 'colony4' 'colony5' 'colony7'\n",
      " 'ln_avg_oil_pop' 'ln_coastline_area' 'ln_export_area' 'ln_pop_dens_1400'\n",
      " 'region_c']\n",
      "['abs_latitude' 'colony0' 'colony1' 'colony4' 'colony5' 'colony7'\n",
      " 'ln_avg_oil_pop' 'ln_coastline_area' 'ln_export_area' 'ln_pop_dens_1400'\n",
      " 'region_c']\n",
      "['colony1' 'colony4' 'colony5' 'ln_avg_oil_pop' 'ln_coastline_area'\n",
      " 'ln_export_area' 'ln_pop_dens_1400']\n",
      "['colony0' 'colony1' 'colony4' 'colony5' 'ethnic_fractionalization'\n",
      " 'ln_avg_oil_pop' 'ln_coastline_area' 'ln_export_area' 'ln_pop_dens_1400']\n",
      "['colony1' 'colony4' 'colony5' 'ln_avg_oil_pop' 'ln_coastline_area'\n",
      " 'ln_export_area' 'ln_pop_dens_1400']\n",
      "['colony1' 'colony4' 'colony5' 'ethnic_fractionalization' 'ln_avg_oil_pop'\n",
      " 'ln_coastline_area' 'ln_export_area' 'ln_pop_dens_1400']\n",
      "['colony1' 'colony4' 'colony5' 'ethnic_fractionalization' 'ln_avg_oil_pop'\n",
      " 'ln_coastline_area' 'ln_export_area' 'ln_pop_dens_1400']\n",
      "['colony1' 'colony4' 'ethnic_fractionalization' 'ln_avg_oil_pop'\n",
      " 'ln_coastline_area' 'ln_export_area' 'ln_pop_dens_1400']\n",
      "['colony1' 'colony4' 'ethnic_fractionalization' 'ln_avg_oil_pop'\n",
      " 'ln_coastline_area' 'ln_export_area' 'ln_pop_dens_1400']\n",
      "['colony0' 'colony1' 'colony3' 'colony4' 'colony5' 'colony6'\n",
      " 'ethnic_fractionalization' 'islam' 'ln_avg_all_diamonds_pop'\n",
      " 'ln_avg_oil_pop' 'ln_coastline_area' 'ln_export_area' 'ln_pop_dens_1400'\n",
      " 'red_sea_distance_minimum' 'region_c']\n",
      "['colony0' 'colony1' 'colony3' 'colony4' 'colony5' 'colony6'\n",
      " 'ethnic_fractionalization' 'ln_avg_all_diamonds_pop' 'ln_avg_oil_pop'\n",
      " 'ln_coastline_area' 'ln_export_area' 'ln_pop_dens_1400'\n",
      " 'red_sea_distance_minimum' 'region_c']\n",
      "['colony0' 'colony1' 'colony3' 'colony4' 'ethnic_fractionalization'\n",
      " 'islam' 'ln_avg_all_diamonds_pop' 'ln_avg_oil_pop' 'ln_coastline_area'\n",
      " 'ln_export_area' 'ln_pop_dens_1400' 'red_sea_distance_minimum' 'region_c']\n",
      "['colony0' 'colony1' 'colony3' 'colony4' 'ethnic_fractionalization'\n",
      " 'islam' 'ln_avg_all_diamonds_pop' 'ln_avg_oil_pop' 'ln_coastline_area'\n",
      " 'ln_export_area' 'ln_pop_dens_1400' 'region_c']\n",
      "['colony0' 'colony1' 'colony3' 'colony4' 'ethnic_fractionalization'\n",
      " 'islam' 'ln_avg_all_diamonds_pop' 'ln_avg_oil_pop' 'ln_coastline_area'\n",
      " 'ln_export_area' 'ln_pop_dens_1400' 'region_c']\n",
      "['colony0' 'colony1' 'colony3' 'colony4' 'ethnic_fractionalization'\n",
      " 'islam' 'ln_avg_all_diamonds_pop' 'ln_avg_oil_pop' 'ln_coastline_area'\n",
      " 'ln_export_area' 'ln_pop_dens_1400' 'red_sea_distance_minimum' 'region_c']\n"
     ]
    }
   ],
   "source": [
    "second_stage_variables = ['gdp00', 'gpd01', 'gdp02', 'gdp03', 'gdp04', 'gdp05', 'gdp06', 'gdp07', 'gdp08', 'gdp09', 'gdp10', 'gdp11', 'gdp12', 'gdp13', 'gdp14', 'gdp15','gdp16', 'gdp17', 'gdp18', 'gdp19', 'gdp20', 'gdp21', 'gdp22']\n",
    "endogeneous_var_var = \"ln_export_area\"\n",
    "\n",
    "# Separate the covariates and the dependent variable\n",
    "X = data.drop(data.columns[0:25], axis=1)\n",
    "y = data[second_stage_variables]\n",
    "Z = data[endogeneous_var_var]\n",
    "for dependent_variable in second_stage_variables:\n",
    "    # Perform Lasso to select important variables\n",
    "    lasso_y = LassoCV(cv=5, max_iter=10000, tol=0.0001, random_state=0).fit(X, data[dependent_variable])\n",
    "    selected_y = X.columns[lasso_y.coef_ != 0]\n",
    "\n",
    "    lasso_z = LassoCV(cv=5, max_iter=10000, tol=0.0001, random_state=0).fit(X, Z)\n",
    "    selected_z = X.columns[(lasso_z.coef_ != 0)]\n",
    "\n",
    "    # Get the indices of selected features\n",
    "    selected_vars = np.unique(np.concatenate([selected_y, selected_z]))\n",
    "    print(selected_vars)\n",
    "    # Create a design matrix for regression\n",
    "    X_selected = data[selected_vars]\n",
    "\n",
    "    # Perform 2SLS (Two-Stage Least Squares) using the instrumental variable\n",
    "    # First stage: Regress the instrumental variable with selected features\n",
    "    first_stage = sm.OLS(Z, sm.add_constant(X_selected)).fit()\n",
    "    # Get predicted values from the first stage\n",
    "    Z_pred = first_stage.predict(sm.add_constant(X_selected))\n",
    "    \n",
    "    # Second stage: Regress the dependent variable on the predicted values\n",
    "    iv_model = IV2SLS(data[dependent_variable], sm.add_constant(data[Z.name]), data[selected_vars]).fit()\n",
    "    \n",
    "    exog_second_stage = X_selected.merge(Z_pred.rename('Z_pred'), left_index=True, right_index=True)\n",
    "    second_stage_model = sm.OLS(data[dependent_variable], exog_second_stage).fit()\n",
    "    \n"
   ]
  },
  {
   "cell_type": "markdown",
   "metadata": {},
   "source": [
    "### **Step 2: Running the regressions with the selected variables and grabbing the resulting coefficients** ###\n",
    "\n",
    "After the variables are selected, we implement these variables into the IV2SLS model in order to estimate the coefficient of the regressions for each year. These coefficients are then stored for future plotting."
   ]
  },
  {
   "cell_type": "code",
   "execution_count": 181,
   "metadata": {},
   "outputs": [
    {
     "name": "stdout",
     "output_type": "stream",
     "text": [
      "   Dependent Variable  Coefficient  Lower CI  Upper CI  Year\n",
      "0               gdp00    -0.473732 -1.534982  0.587518  2000\n",
      "1               gpd01    -0.481138 -1.547251  0.584975  2001\n",
      "2               gdp02    -0.483787 -1.603977  0.636404  2002\n",
      "3               gdp03    -0.478936 -1.474908  0.517037  2003\n",
      "4               gdp04    -0.479416 -1.357374  0.398541  2004\n",
      "5               gdp05    -0.479309 -1.336997  0.378378  2005\n",
      "6               gdp06    -0.486500 -1.323484  0.350483  2006\n",
      "7               gdp07    -0.490319 -1.243486  0.262849  2007\n",
      "8               gdp08    -0.491115 -1.029690  0.047461  2008\n",
      "9               gdp09    -0.491741 -1.051956  0.068475  2009\n",
      "10              gdp10    -0.492523 -1.121194  0.136148  2010\n",
      "11              gdp11    -0.502211 -1.305040  0.300618  2011\n",
      "12              gdp12    -0.497352 -1.396184  0.401479  2012\n",
      "13              gdp13    -0.482514 -1.420286  0.455257  2013\n",
      "14              gdp14    -0.483786 -1.366685  0.399113  2014\n",
      "15              gdp15    -0.486879 -1.284912  0.311153  2015\n",
      "16              gdp16    -0.493264 -1.298551  0.312023  2016\n",
      "17              gdp17    -0.490833 -1.281081  0.299415  2017\n",
      "18              gdp18    -0.493515 -1.249518  0.262488  2018\n",
      "19              gdp19    -0.493168 -1.184798  0.198463  2019\n",
      "20              gdp20    -0.483483 -1.252857  0.285891  2020\n",
      "21              gdp21    -0.487679 -1.252282  0.276924  2021\n",
      "22              gdp22    -0.491554 -1.174212  0.191104  2022\n"
     ]
    }
   ],
   "source": [
    "import pandas as pd\n",
    "\n",
    "# Define an empty list to store the coefficients\n",
    "coefficients_table = []\n",
    "\n",
    "for dependent_variable in second_stage_variables:\n",
    "    # Rest of the code remains the same as before\n",
    "\n",
    "    # Fit the second stage regression\n",
    "    iv_model = IV2SLS(data[dependent_variable], sm.add_constant(data[Z.name]), data[selected_vars]).fit()\n",
    "\n",
    "    # Extract the coefficient of ln_export_area_predicted\n",
    "    coefficient = iv_model.params['ln_export_area']\n",
    "    std_err = iv_model.bse['ln_export_area']\n",
    "    # Calculate the 95% confidence intervals\n",
    "    lower_ci = coefficient - 1.96 * std_err\n",
    "    upper_ci = coefficient + 1.96 * std_err\n",
    "    # Store the coefficient along with the dependent variable name\n",
    "    coefficients_table.append({'Dependent Variable': dependent_variable, 'Coefficient': coefficient, 'Lower CI': lower_ci, 'Upper CI': upper_ci})\n",
    "\n",
    "# Create a DataFrame from the coefficients list\n",
    "coefficients_df = pd.DataFrame(coefficients_table)\n",
    "\n",
    "# Add a column representing years from 2000 to 2022\n",
    "years = list(range(2000, 2023))\n",
    "coefficients_df['Year'] = years\n",
    "\n",
    "# Print the coefficients table\n",
    "print(coefficients_df)\n"
   ]
  },
  {
   "cell_type": "markdown",
   "metadata": {},
   "source": [
    "### **Step 3: Modeling the coefficient on ln_export_area over time** ###\n",
    "Now we use matplot to graph the changes in the effect of ln_export_area on the GDP of each year."
   ]
  },
  {
   "cell_type": "code",
   "execution_count": 183,
   "metadata": {},
   "outputs": [
    {
     "name": "stderr",
     "output_type": "stream",
     "text": [
      "C:\\Users\\Davis\\AppData\\Local\\Temp\\ipykernel_2396\\2092869490.py:8: UserWarning: marker is redundantly defined by the 'marker' keyword argument and the fmt string \"o\" (-> marker='o'). The keyword argument will take precedence.\n",
      "  plt.errorbar(coefficients_df['Year'], coefficients_df['Coefficient'],\n"
     ]
    },
    {
     "data": {
      "image/png": "[encoded data removed]",
      "text/plain": [
       "<Figure size 1000x600 with 1 Axes>"
      ]
     },
     "metadata": {},
     "output_type": "display_data"
    }
   ],
   "source": [
    "import matplotlib.pyplot as plt\n",
    "\n",
    "# Plotting\n",
    "plt.figure(figsize=(10, 6))\n",
    "\n",
    "# Plot coefficients for each dependent variable\n",
    "plt.scatter(coefficients_df['Year'], coefficients_df['Coefficient'])\n",
    "plt.errorbar(coefficients_df['Year'], coefficients_df['Coefficient'], \n",
    "             yerr=[coefficients_df['Coefficient'] - coefficients_df['Lower CI'],\n",
    "                   coefficients_df['Upper CI'] - coefficients_df['Coefficient']],\n",
    "             fmt='o', capsize=5, capthick=2, ecolor='red', marker='s', color='blue',\n",
    "             label='Coefficient with 95% CI')\n",
    "\n",
    "# Adding labels and title\n",
    "plt.xlabel('Year')\n",
    "plt.ylabel('Coefficient')\n",
    "plt.title('Coefficient of ln_export_area over the years')\n",
    "plt.grid(True)\n",
    "\n",
    "# Show plot\n",
    "plt.show()"
   ]
  },
  {
   "cell_type": "markdown",
   "metadata": {},
   "source": [
    "## **Comparing the Results of the Lasso Regression With the Results of the Replication** ##"
   ]
  },
  {
   "cell_type": "markdown",
   "metadata": {},
   "source": [
    "### **Step 1: Bring in the results of the replication** ###\n",
    "The following code was brought over directly from the replication file to create an aggregate plot. In this code, the models are created with the specifications defined in the paper, and the resulting coefficients of each model are then stored for plotting."
   ]
  },
  {
   "cell_type": "code",
   "execution_count": 178,
   "metadata": {},
   "outputs": [
    {
     "name": "stdout",
     "output_type": "stream",
     "text": [
      "   Dependent Variable  Coefficient  Lower CI  Upper CI  Year\n",
      "0               gdp00    -0.417695 -0.639112 -0.196277  2000\n",
      "1               gpd01    -0.409542 -0.630617 -0.188466  2001\n",
      "2               gdp02    -0.413216 -0.635245 -0.191188  2002\n",
      "3               gdp03    -0.393435 -0.612257 -0.174613  2003\n",
      "4               gdp04    -0.380955 -0.600302 -0.161608  2004\n",
      "5               gdp05    -0.377960 -0.601276 -0.154645  2005\n",
      "6               gdp06    -0.380701 -0.605394 -0.156009  2006\n",
      "7               gdp07    -0.388052 -0.613707 -0.162397  2007\n",
      "8               gdp08    -0.380723 -0.605096 -0.156351  2008\n",
      "9               gdp09    -0.376195 -0.597078 -0.155311  2009\n",
      "10              gdp10    -0.370007 -0.593259 -0.146756  2010\n",
      "11              gdp11    -0.377192 -0.602801 -0.151583  2011\n",
      "12              gdp12    -0.372040 -0.597876 -0.146204  2012\n",
      "13              gdp13    -0.357059 -0.587457 -0.126660  2013\n",
      "14              gdp14    -0.353198 -0.585189 -0.121207  2014\n",
      "15              gdp15    -0.351711 -0.583687 -0.119736  2015\n",
      "16              gdp16    -0.354777 -0.583586 -0.125968  2016\n",
      "17              gdp17    -0.354113 -0.580402 -0.127824  2017\n",
      "18              gdp18    -0.349884 -0.575623 -0.124145  2018\n",
      "19              gdp19    -0.346197 -0.572126 -0.120269  2019\n",
      "20              gdp20    -0.335079 -0.557377 -0.112780  2020\n",
      "21              gdp21    -0.341277 -0.565606 -0.116948  2021\n",
      "22              gdp22    -0.336849 -0.563387 -0.110312  2022\n"
     ]
    }
   ],
   "source": [
    "df = pd.read_csv('slave_trade_QJE_New_Data.csv')\n",
    "\n",
    "second_stage_variables = ['gdp00', 'gpd01', 'gdp02', 'gdp03', 'gdp04', 'gdp05', 'gdp06', 'gdp07', 'gdp08', 'gdp09', 'gdp10', 'gdp11', 'gdp12', 'gdp13', 'gdp14', 'gdp15','gdp16', 'gdp17', 'gdp18', 'gdp19', 'gdp20', 'gdp21', 'gdp22']\n",
    "\n",
    "for dependent_variable in second_stage_variables:\n",
    "    # Step 1: First Stage Regression\n",
    "    # Define the endogenous variable (to be instrumented) and the instrument\n",
    "    endog_first_stage = df['ln_export_area']\n",
    "    instrument_first_stage = df[['atlantic_distance_minimum', 'indian_distance_minimum', 'saharan_distance_minimum', 'red_sea_distance_minimum',\n",
    "                                 'colony0', 'colony1', 'colony2', 'colony3', 'colony4', 'colony5', 'colony6',\n",
    "                                 'abs_latitude', 'longitude', 'rain_min', 'humid_max', 'low_temp', 'ln_coastline_area']]\n",
    "\n",
    "    # Add constant to the instrument\n",
    "    instrument_first_stage = sm.add_constant(instrument_first_stage)\n",
    "\n",
    "    # Fit the first stage regression\n",
    "    first_stage_model = sm.OLS(endog_first_stage, instrument_first_stage).fit()\n",
    "\n",
    "    # Step 2: Predicted Values from First Stage\n",
    "    # Get the predicted values from the first stage\n",
    "    df['ln_export_area_predicted'] = first_stage_model.predict()\n",
    "    \n",
    "    # Step 3: Second Stage Regression\n",
    "    # Define the exogenous variable (including the predicted values from the first stage)\n",
    "    exog_second_stage = df[['ln_export_area_predicted', 'colony0', 'colony1', 'colony2', 'colony3', 'colony4', 'colony5', 'colony6',\n",
    "                            'abs_latitude', 'longitude', 'rain_min', 'humid_max', 'low_temp', 'ln_coastline_area']]\n",
    "\n",
    "    # Add constant to the exogenous variables\n",
    "    exog_second_stage = sm.add_constant(exog_second_stage)\n",
    "\n",
    "    # Fit the second stage regression\n",
    "    second_stage_model = sm.OLS(df[dependent_variable], exog_second_stage).fit()\n",
    "    \n",
    "coefficients_table2 = []\n",
    "\n",
    "for dependent_variable in second_stage_variables:\n",
    "    # Rest of the code remains the same as before\n",
    "\n",
    "    # Fit the second stage regression\n",
    "    second_stage_model = sm.OLS(df[dependent_variable], exog_second_stage).fit()\n",
    "\n",
    "    # Extract the coefficient of ln_export_area_predicted\n",
    "    coefficient2 = second_stage_model.params['ln_export_area_predicted']\n",
    "\n",
    "    # Extract the standard error of ln_export_area_predicted\n",
    "    std_err2 = second_stage_model.bse['ln_export_area_predicted']\n",
    "    # Calculate the 95% confidence intervals\n",
    "    lower_ci2 = coefficient2 - 1.96 * std_err2\n",
    "    upper_ci2 = coefficient2 + 1.96 * std_err2\n",
    "\n",
    "    # Store the coefficient along with the dependent variable name\n",
    "    coefficients_table2.append({'Dependent Variable': dependent_variable, 'Coefficient': coefficient2, 'Lower CI': lower_ci2, 'Upper CI': upper_ci2})\n",
    "\n",
    "# Create a DataFrame from the coefficients list\n",
    "coefficients2_df = pd.DataFrame(coefficients_table2)\n",
    "\n",
    "# Add a column representing years from 2000 to 2022\n",
    "years = list(range(2000, 2023))\n",
    "coefficients2_df['Year'] = years\n",
    "\n",
    "# Print the coefficients table\n",
    "print(coefficients2_df)"
   ]
  },
  {
   "cell_type": "markdown",
   "metadata": {},
   "source": [
    "### **Step 2: Modeling the results of the replication and lasso together** ###\n",
    "Finally, we plot the results of the models from the replication and the lasso implementation together for a visual comparison of the results. As we can see, the results of the lasso regression tend to be more negative, but the standard error is much higher, leading to non-statistically significant results."
   ]
  },
  {
   "cell_type": "code",
   "execution_count": 184,
   "metadata": {},
   "outputs": [
    {
     "name": "stderr",
     "output_type": "stream",
     "text": [
      "C:\\Users\\Davis\\AppData\\Local\\Temp\\ipykernel_2396\\52326156.py:7: UserWarning: marker is redundantly defined by the 'marker' keyword argument and the fmt string \"o\" (-> marker='o'). The keyword argument will take precedence.\n",
      "  plt.errorbar(coefficients_df['Year'], coefficients_df['Coefficient'],\n",
      "C:\\Users\\Davis\\AppData\\Local\\Temp\\ipykernel_2396\\52326156.py:12: UserWarning: marker is redundantly defined by the 'marker' keyword argument and the fmt string \"o\" (-> marker='o'). The keyword argument will take precedence.\n",
      "  plt.errorbar(coefficients2_df['Year'], coefficients2_df['Coefficient'],\n"
     ]
    },
    {
     "data": {
      "image/png": "[encoded data removed]",
      "text/plain": [
       "<Figure size 1000x600 with 1 Axes>"
      ]
     },
     "metadata": {},
     "output_type": "display_data"
    }
   ],
   "source": [
    "# Plotting\n",
    "plt.figure(figsize=(10, 6))\n",
    "\n",
    "# Plot coefficients for each dependent variable\n",
    "plt.scatter(coefficients_df['Year'], coefficients_df['Coefficient'], label = \"Lasso\")\n",
    "plt.scatter(coefficients_df['Year'], coefficients2_df['Coefficient'], label = \"Replication\")\n",
    "plt.errorbar(coefficients_df['Year'], coefficients_df['Coefficient'], \n",
    "             yerr=[coefficients_df['Coefficient'] - coefficients_df['Lower CI'],\n",
    "                   coefficients_df['Upper CI'] - coefficients_df['Coefficient']],\n",
    "             fmt='o', capsize=5, capthick=2, ecolor='orange', marker='s', color='red',\n",
    "             label='Lasso')\n",
    "plt.errorbar(coefficients2_df['Year'], coefficients2_df['Coefficient'], \n",
    "             yerr=[coefficients2_df['Coefficient'] - coefficients2_df['Lower CI'],\n",
    "                   coefficients2_df['Upper CI'] - coefficients2_df['Coefficient']],\n",
    "             fmt='o', capsize=5, capthick=2, ecolor='green', marker='s', color='blue',\n",
    "             label='Replication')\n",
    "\n",
    "\n",
    "# Adding labels and title\n",
    "plt.xlabel('Year')\n",
    "plt.ylabel('Coefficient')\n",
    "plt.title('Coefficient of ln_export_area over the years')\n",
    "plt.grid(True)\n",
    "plt.legend() \n",
    "\n",
    "# Show plot\n",
    "plt.show()\n",
    "     "
   ]
  }
 ],
 "metadata": {
  "kernelspec": {
   "display_name": "Python 3",
   "language": "python",
   "name": "python3"
  },
  "language_info": {
   "codemirror_mode": {
    "name": "ipython",
    "version": 3
   },
   "file_extension": ".py",
   "mimetype": "text/x-python",
   "name": "python",
   "nbconvert_exporter": "python",
   "pygments_lexer": "ipython3",
   "version": "3.11.2"
  }
 },
 "nbformat": 4,
 "nbformat_minor": 2
}
