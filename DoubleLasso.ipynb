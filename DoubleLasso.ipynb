{
 "cells": [
  {
   "cell_type": "markdown",
   "metadata": {},
   "source": [
    "# **Implementing the Lasso Regression Methodology to the study by Nathan Nunn (2008)**\n",
    "\n",
    "### **IV Group Members:**\n",
    "* Colon, Christopher\n",
    "* Rodriguez Quinto, Anel\n",
    "* Stevens, Madison\n",
    "* Stutts, Charlie\n",
    "* Xu, Davis\n",
    "\n",
    "**The article can be found here:** https://www.jstor.org/stable/25098896\n",
    "\n",
    "**The dataset of the paper can be found here:** https://nathannunn.arts.ubc.ca/data/\n",
    "\n",
    "**The Google Colab project can be found here:** https://colab.research.google.com/drive/19Rc1VzFgVn_KXGHygORPp26AeBBzToUl#scrollTo=KIyK8PmmytZ8"
   ]
  },
  {
   "cell_type": "markdown",
   "metadata": {},
   "source": [
    "### **Step 1: Data Preprocessing** ###\n",
    "\n",
    "Here we read the data in and perform preprocessing steps to make the data usable for the Lasso selection method. These preprocessing steps include dropping irrelevent vaariables and normalizing the data."
   ]
  },
  {
   "cell_type": "code",
   "execution_count": 195,
   "metadata": {},
   "outputs": [],
   "source": [
    "import pandas as pd\n",
    "from sklearn.linear_model import LassoCV\n",
    "from sklearn.model_selection import train_test_split\n",
    "from sklearn.preprocessing import StandardScaler\n",
    "from sklearn.preprocessing import scale\n",
    "from statsmodels.sandbox.regression.gmm import IV2SLS\n",
    "import numpy as np\n",
    "import statsmodels.api as sm\n",
    "from scipy.stats import pearsonr\n",
    "\n",
    "#!git clone https://github.com/ECMT-680-Financial-Econometrics/IV-Group-Slave-Trade.git\n",
    "\n",
    "# Navigate to the repository directory\n",
    "#%cd IV-Group-Slave-Trade\n",
    "\n",
    "data = pd.read_csv('slave_trade_QJE_New_Data.csv')\n",
    "# Preprocessing the data\n",
    "data = data.drop(data.columns[[0,1]], axis=1) #Drop the first two columns\n",
    "\n",
    "# Drop the columns that are not needed\n",
    "columnstodrop = ['atlantic_distance_minimum_region_n_interaction', 'atlantic_distance_minimum_region_s_interaction', 'atlantic_distance_minimum_region_w_interaction', 'atlantic_distance_minimum_region_e_interaction', 'atlantic_distance_minimum_region_c_interaction', 'indian_distance_minimum_region_n_interaction', 'indian_distance_minimum_region_s_interaction', 'indian_distance_minimum_region_w_interaction', 'indian_distance_minimum_region_e_interaction', 'indian_distance_minimum_region_c_interaction', 'saharan_distance_minimum_region_n_interaction', 'saharan_distance_minimum_region_s_interaction', 'saharan_distance_minimum_region_w_interaction', 'saharan_distance_minimum_region_e_interaction', 'saharan_distance_minimum_region_c_interaction', 'red_sea_distance_minimum_region_n_interaction', 'red_sea_distance_minimum_region_s_interaction', 'red_sea_distance_minimum_region_w_interaction', 'red_sea_distance_minimum_region_e_interaction', 'red_sea_distance_minimum_region_c_interaction'] #Drop the first two columns\n",
    "data = data.drop(columnstodrop, axis=1) \n",
    "\n",
    "# Preprocess the data\n",
    "data = data.apply(pd.to_numeric, errors='coerce') #Convert all columns to numeric\n",
    "\n",
    "# Scale non-binary columns for normalization\n",
    "cols_to_scale = data.apply(lambda x: not pd.Series([0, 25]).isin(x).all())\n",
    "data.loc[:, cols_to_scale] = scale(data.loc[:, cols_to_scale])\n",
    "\n",
    "data = data.apply(lambda x: x.fillna(x.median()), axis=0)\n"
   ]
  },
  {
   "cell_type": "markdown",
   "metadata": {},
   "source": [
    "### **Step 2: Select variables using the Lasso selection method** ###\n",
    "First, we perform the Lasso between the dependent variable and the exogenous variables to select the most relevent variables for the regression. Then we perform the Lasso between the endogeneous and exogenous variables to determine the most relevant variables for predicting the endogenous variable. \n",
    "\n",
    "The unique variables from both Lassos are then combined into a final list of variables for the regression."
   ]
  },
  {
   "cell_type": "code",
   "execution_count": 199,
   "metadata": {},
   "outputs": [
    {
     "name": "stdout",
     "output_type": "stream",
     "text": [
      "Index(['ln_export_area', 'colony0', 'colony1', 'colony3', 'colony4', 'colony7',\n",
      "       'rain_min', 'ln_coastline_area', 'region_c', 'ln_avg_oil_pop',\n",
      "       'ln_avg_all_diamonds_pop', 'ln_pop_dens_1400',\n",
      "       'red_sea_distance_minimum'],\n",
      "      dtype='object')\n",
      "Index(['ln_export_pop', 'colony1', 'colony3', 'colony6', 'colony7', 'rain_min',\n",
      "       'low_temp', 'ln_coastline_area', 'island_dum', 'islam', 'region_n',\n",
      "       'region_w', 'ln_avg_gold_pop', 'ln_avg_oil_pop',\n",
      "       'ln_avg_all_diamonds_pop', 'ln_pop_dens_1400',\n",
      "       'saharan_distance_minimum', 'ethnic_fractionalization'],\n",
      "      dtype='object')\n",
      "['colony0' 'colony1' 'colony3' 'colony4' 'colony6' 'colony7'\n",
      " 'ethnic_fractionalization' 'islam' 'island_dum' 'ln_avg_all_diamonds_pop'\n",
      " 'ln_avg_gold_pop' 'ln_avg_oil_pop' 'ln_coastline_area' 'ln_export_area'\n",
      " 'ln_export_pop' 'ln_pop_dens_1400' 'low_temp' 'rain_min'\n",
      " 'red_sea_distance_minimum' 'region_c' 'region_n' 'region_w'\n",
      " 'saharan_distance_minimum']\n"
     ]
    }
   ],
   "source": [
    "# Define the dependent variable and instrumental variable\n",
    "dependent_var = \"gdp00\"\n",
    "endogeneous_var = \"ln_export_area\"\n",
    "\n",
    "# Separate the covariates and the dependent variable\n",
    "X = data.drop(data.columns[0:25], axis=1)\n",
    "y = data[dependent_var]\n",
    "Z = data[endogeneous_var]\n",
    "\n",
    "\n",
    "# Perform Lasso to select important variables\n",
    "lasso_y = LassoCV(cv=5, max_iter=10000, tol=0.0001, random_state=0).fit(X, y)\n",
    "selected_y = X.columns[lasso_y.coef_ != 0]\n",
    "print(selected_y)\n",
    "\n",
    "lasso_z = LassoCV(cv=5, max_iter=10000, tol=0.0001, random_state=0).fit(X.drop(columns=Z.name), Z)\n",
    "selected_z = X.drop(columns=Z.name).columns[(lasso_z.coef_ != 0)]\n",
    "print(selected_z)\n",
    "\n",
    "# Get the indices of selected features\n",
    "selected_vars = np.unique(np.concatenate([selected_y, selected_z]))\n",
    "print(selected_vars)\n"
   ]
  },
  {
   "cell_type": "markdown",
   "metadata": {},
   "source": [
    "### **Step 3: OLS Model with Selected Variables** ###\n",
    "\n",
    "Here we use the selected variables to predict the outcomes for 2000 GDP. The results of this model are printed below."
   ]
  },
  {
   "cell_type": "code",
   "execution_count": 200,
   "metadata": {},
   "outputs": [
    {
     "name": "stdout",
     "output_type": "stream",
     "text": [
      "                            OLS Regression Results                            \n",
      "==============================================================================\n",
      "Dep. Variable:                  gdp00   R-squared:                       0.851\n",
      "Model:                            OLS   Adj. R-squared:                  0.729\n",
      "Method:                 Least Squares   F-statistic:                     6.973\n",
      "Date:                Mon, 29 Apr 2024   Prob (F-statistic):           1.60e-06\n",
      "Time:                        13:57:23   Log-Likelihood:                -24.223\n",
      "No. Observations:                  52   AIC:                             96.45\n",
      "Df Residuals:                      28   BIC:                             143.3\n",
      "Df Model:                          23                                         \n",
      "Covariance Type:            nonrobust                                         \n",
      "============================================================================================\n",
      "                               coef    std err          t      P>|t|      [0.025      0.975]\n",
      "--------------------------------------------------------------------------------------------\n",
      "const                        0.0158      0.095      0.166      0.869      -0.179       0.210\n",
      "colony0                     -0.1620      0.100     -1.612      0.118      -0.368       0.044\n",
      "colony1                      0.0714      0.136      0.524      0.605      -0.208       0.351\n",
      "colony3                     -0.2161      0.098     -2.213      0.035      -0.416      -0.016\n",
      "colony4                     -0.1412      0.133     -1.062      0.297      -0.413       0.131\n",
      "colony6                     -0.0389      0.097     -0.399      0.693      -0.238       0.161\n",
      "colony7                      0.0855      0.101      0.843      0.406      -0.122       0.293\n",
      "ethnic_fractionalization    -0.0815      0.143     -0.571      0.573      -0.374       0.211\n",
      "islam                       -0.2722      0.143     -1.908      0.067      -0.565       0.020\n",
      "island_dum                  -0.2257      0.252     -0.895      0.378      -0.742       0.291\n",
      "ln_avg_all_diamonds_pop      0.0812      0.148      0.548      0.588      -0.222       0.385\n",
      "ln_avg_gold_pop             -0.0410      0.114     -0.359      0.722      -0.275       0.193\n",
      "ln_avg_oil_pop               0.6093      0.142      4.305      0.000       0.319       0.899\n",
      "ln_coastline_area            0.2949      0.152      1.945      0.062      -0.016       0.606\n",
      "ln_export_area              -0.1295      0.743     -0.174      0.863      -1.652       1.393\n",
      "ln_export_pop               -0.1847      0.718     -0.257      0.799      -1.655       1.286\n",
      "ln_pop_dens_1400            -0.5115      0.271     -1.888      0.069      -1.067       0.043\n",
      "low_temp                     0.1666      0.183      0.909      0.371      -0.209       0.542\n",
      "rain_min                    -0.0017      0.007     -0.250      0.804      -0.016       0.012\n",
      "red_sea_distance_minimum     0.4142      0.236      1.752      0.091      -0.070       0.898\n",
      "region_c                    -0.4583      0.209     -2.192      0.037      -0.887      -0.030\n",
      "region_n                    -0.3212      0.268     -1.200      0.240      -0.869       0.227\n",
      "region_w                    -0.4559      0.324     -1.405      0.171      -1.120       0.209\n",
      "saharan_distance_minimum    -0.4953      0.299     -1.654      0.109      -1.109       0.118\n",
      "==============================================================================\n",
      "Omnibus:                        0.477   Durbin-Watson:                   2.025\n",
      "Prob(Omnibus):                  0.788   Jarque-Bera (JB):                0.603\n",
      "Skew:                          -0.016   Prob(JB):                        0.740\n",
      "Kurtosis:                       2.473   Cond. No.                         264.\n",
      "==============================================================================\n",
      "\n",
      "Notes:\n",
      "[1] Standard Errors assume that the covariance matrix of the errors is correctly specified.\n"
     ]
    }
   ],
   "source": [
    "# Create a design matrix for regression\n",
    "X_selected = sm.add_constant(data[selected_vars])\n",
    "# X_selected = X_selected.drop(columns=[endogeneous_var])\n",
    "\n",
    "# Fit a final OLS model using only selected variables\n",
    "ols_model = sm.OLS(y, X_selected).fit()\n",
    "\n",
    "print(ols_model.summary())\n"
   ]
  },
  {
   "cell_type": "markdown",
   "metadata": {},
   "source": [
    "### **Step 4: Perform an IV regression with the selected variables** ###\n",
    "Now we perform a IV2SLS regression with the selected instruments and controls. The results of this model are printed below."
   ]
  },
  {
   "cell_type": "code",
   "execution_count": 201,
   "metadata": {},
   "outputs": [
    {
     "name": "stdout",
     "output_type": "stream",
     "text": [
      "                          IV2SLS Regression Results                           \n",
      "==============================================================================\n",
      "Dep. Variable:                  gdp00   R-squared:                       0.224\n",
      "Model:                         IV2SLS   Adj. R-squared:                  0.208\n",
      "Method:                     Two Stage   F-statistic:                     14.46\n",
      "                        Least Squares   Prob (F-statistic):           0.000391\n",
      "Date:                Mon, 29 Apr 2024                                         \n",
      "Time:                        13:57:30                                         \n",
      "No. Observations:                  52                                         \n",
      "Df Residuals:                      50                                         \n",
      "Df Model:                           1                                         \n",
      "==================================================================================\n",
      "                     coef    std err          t      P>|t|      [0.025      0.975]\n",
      "----------------------------------------------------------------------------------\n",
      "const             -0.0226      0.194     -0.116      0.908      -0.413       0.368\n",
      "ln_export_area    -0.4737      0.125     -3.802      0.000      -0.724      -0.223\n",
      "==============================================================================\n",
      "Omnibus:                        0.617   Durbin-Watson:                   2.733\n",
      "Prob(Omnibus):                  0.734   Jarque-Bera (JB):                0.537\n",
      "Skew:                           0.238   Prob(JB):                        0.764\n",
      "Kurtosis:                       2.852   Cond. No.                         1.00\n",
      "==============================================================================\n"
     ]
    }
   ],
   "source": [
    "# Step 4: Conduct IV regression using the selected instruments and controls\n",
    "iv_model = IV2SLS(y, sm.add_constant(data[Z.name]), data[selected_vars]).fit()\n",
    "\n",
    "print(iv_model.summary())"
   ]
  },
  {
   "cell_type": "markdown",
   "metadata": {},
   "source": [
    "## **Repeating the Lasso Selection process for Years 2000-2022**"
   ]
  },
  {
   "cell_type": "markdown",
   "metadata": {},
   "source": [
    "### **Step 1: Selecting the features for each regression** ###\n",
    "\n",
    "Here we iterate through each year to find select variables for their individual regresions through the process described before."
   ]
  },
  {
   "cell_type": "code",
   "execution_count": 202,
   "metadata": {},
   "outputs": [
    {
     "name": "stdout",
     "output_type": "stream",
     "text": [
      "['colony0' 'colony1' 'colony3' 'colony4' 'colony7'\n",
      " 'ln_avg_all_diamonds_pop' 'ln_avg_oil_pop' 'ln_coastline_area'\n",
      " 'ln_export_area' 'ln_pop_dens_1400' 'rain_min' 'red_sea_distance_minimum'\n",
      " 'region_c']\n",
      "['colony0' 'colony1' 'colony3' 'colony4' 'colony5' 'colony7' 'islam'\n",
      " 'ln_avg_all_diamonds_pop' 'ln_avg_oil_pop' 'ln_coastline_area'\n",
      " 'ln_export_area' 'ln_pop_dens_1400' 'rain_min' 'red_sea_distance_minimum'\n",
      " 'region_c']\n",
      "['colony0' 'colony1' 'colony3' 'colony4' 'colony5' 'colony7'\n",
      " 'ln_avg_all_diamonds_pop' 'ln_avg_oil_pop' 'ln_coastline_area'\n",
      " 'ln_export_area' 'ln_pop_dens_1400' 'rain_min' 'red_sea_distance_minimum'\n",
      " 'region_c']\n",
      "['colony0' 'colony1' 'colony3' 'colony4' 'colony5' 'colony7' 'islam'\n",
      " 'ln_avg_all_diamonds_pop' 'ln_avg_oil_pop' 'ln_coastline_area'\n",
      " 'ln_export_area' 'ln_pop_dens_1400' 'rain_min' 'red_sea_distance_minimum'\n",
      " 'region_c']\n",
      "['colony0' 'colony1' 'colony3' 'colony4' 'colony5' 'colony7' 'islam'\n",
      " 'ln_avg_all_diamonds_pop' 'ln_avg_oil_pop' 'ln_coastline_area'\n",
      " 'ln_export_area' 'ln_pop_dens_1400' 'rain_min' 'red_sea_distance_minimum'\n",
      " 'region_c']\n",
      "['colony0' 'colony1' 'colony3' 'colony4' 'colony5' 'colony7' 'islam'\n",
      " 'ln_avg_all_diamonds_pop' 'ln_avg_oil_pop' 'ln_coastline_area'\n",
      " 'ln_export_area' 'ln_pop_dens_1400' 'rain_min' 'red_sea_distance_minimum'\n",
      " 'region_c']\n",
      "['colony0' 'colony1' 'colony3' 'colony4' 'colony5' 'colony7' 'islam'\n",
      " 'ln_avg_all_diamonds_pop' 'ln_avg_oil_pop' 'ln_coastline_area'\n",
      " 'ln_export_area' 'ln_pop_dens_1400' 'rain_min' 'red_sea_distance_minimum'\n",
      " 'region_c']\n",
      "['colony0' 'colony1' 'colony3' 'colony4' 'colony5' 'colony7' 'islam'\n",
      " 'ln_avg_all_diamonds_pop' 'ln_avg_oil_pop' 'ln_coastline_area'\n",
      " 'ln_export_area' 'ln_pop_dens_1400' 'rain_min' 'red_sea_distance_minimum'\n",
      " 'region_c']\n",
      "['abs_latitude' 'colony0' 'colony1' 'colony3' 'colony4' 'colony5'\n",
      " 'colony6' 'colony7' 'islam' 'ln_avg_all_diamonds_pop' 'ln_avg_oil_pop'\n",
      " 'ln_coastline_area' 'ln_export_area' 'ln_pop_dens_1400' 'rain_min'\n",
      " 'red_sea_distance_minimum' 'region_c']\n",
      "['colony0' 'colony1' 'colony3' 'colony4' 'colony5' 'colony6' 'colony7'\n",
      " 'islam' 'ln_avg_all_diamonds_pop' 'ln_avg_oil_pop' 'ln_coastline_area'\n",
      " 'ln_export_area' 'ln_pop_dens_1400' 'rain_min' 'red_sea_distance_minimum'\n",
      " 'region_c']\n",
      "['abs_latitude' 'colony0' 'colony1' 'colony4' 'colony5' 'colony6'\n",
      " 'colony7' 'ln_avg_oil_pop' 'ln_coastline_area' 'ln_export_area'\n",
      " 'ln_pop_dens_1400' 'rain_min' 'region_c']\n",
      "['colony0' 'colony1' 'colony3' 'colony4' 'colony5' 'colony6'\n",
      " 'ethnic_fractionalization' 'islam' 'ln_avg_all_diamonds_pop'\n",
      " 'ln_avg_oil_pop' 'ln_coastline_area' 'ln_export_area' 'ln_pop_dens_1400'\n",
      " 'rain_min' 'red_sea_distance_minimum' 'region_c']\n",
      "['colony0' 'colony1' 'colony3' 'colony4' 'colony5' 'colony6' 'colony7'\n",
      " 'ethnic_fractionalization' 'islam' 'ln_avg_all_diamonds_pop'\n",
      " 'ln_avg_oil_pop' 'ln_coastline_area' 'ln_export_area' 'ln_pop_dens_1400'\n",
      " 'rain_min' 'red_sea_distance_minimum' 'region_c']\n",
      "['abs_latitude' 'colony0' 'colony1' 'colony3' 'colony4' 'colony5'\n",
      " 'colony6' 'ethnic_fractionalization' 'islam' 'ln_avg_all_diamonds_pop'\n",
      " 'ln_avg_oil_pop' 'ln_coastline_area' 'ln_export_area' 'ln_pop_dens_1400'\n",
      " 'rain_min' 'red_sea_distance_minimum' 'region_c']\n",
      "['colony0' 'colony1' 'colony3' 'colony4' 'colony5' 'colony6'\n",
      " 'ethnic_fractionalization' 'islam' 'ln_avg_all_diamonds_pop'\n",
      " 'ln_avg_oil_pop' 'ln_coastline_area' 'ln_export_area' 'ln_pop_dens_1400'\n",
      " 'rain_min' 'red_sea_distance_minimum' 'region_c']\n",
      "['colony0' 'colony1' 'colony3' 'colony4' 'colony5' 'colony6'\n",
      " 'ethnic_fractionalization' 'islam' 'ln_avg_all_diamonds_pop'\n",
      " 'ln_avg_oil_pop' 'ln_coastline_area' 'ln_export_area' 'ln_pop_dens_1400'\n",
      " 'rain_min' 'red_sea_distance_minimum' 'region_c']\n",
      "['colony0' 'colony1' 'colony3' 'colony4' 'colony5' 'colony6'\n",
      " 'ethnic_fractionalization' 'islam' 'ln_avg_all_diamonds_pop'\n",
      " 'ln_avg_oil_pop' 'ln_coastline_area' 'ln_export_area' 'ln_pop_dens_1400'\n",
      " 'rain_min' 'red_sea_distance_minimum' 'region_c']\n",
      "['colony0' 'colony1' 'colony3' 'colony4' 'colony5' 'colony6'\n",
      " 'ethnic_fractionalization' 'islam' 'ln_avg_all_diamonds_pop'\n",
      " 'ln_avg_oil_pop' 'ln_coastline_area' 'ln_export_area' 'ln_pop_dens_1400'\n",
      " 'rain_min' 'red_sea_distance_minimum' 'region_c']\n",
      "['colony0' 'colony1' 'colony3' 'colony4' 'colony5' 'colony6'\n",
      " 'ethnic_fractionalization' 'islam' 'ln_avg_all_diamonds_pop'\n",
      " 'ln_avg_oil_pop' 'ln_coastline_area' 'ln_export_area' 'ln_pop_dens_1400'\n",
      " 'rain_min' 'red_sea_distance_minimum' 'region_c']\n",
      "['colony0' 'colony1' 'colony3' 'colony4' 'colony5' 'colony6'\n",
      " 'ethnic_fractionalization' 'islam' 'ln_avg_all_diamonds_pop'\n",
      " 'ln_avg_oil_pop' 'ln_coastline_area' 'ln_export_area' 'ln_pop_dens_1400'\n",
      " 'rain_min' 'red_sea_distance_minimum' 'region_c']\n",
      "['colony0' 'colony1' 'colony3' 'colony4' 'colony5' 'colony6'\n",
      " 'ethnic_fractionalization' 'islam' 'ln_avg_all_diamonds_pop'\n",
      " 'ln_avg_oil_pop' 'ln_coastline_area' 'ln_export_area' 'ln_pop_dens_1400'\n",
      " 'rain_min' 'red_sea_distance_minimum' 'region_c']\n",
      "['colony0' 'colony1' 'colony3' 'colony4' 'ethnic_fractionalization'\n",
      " 'islam' 'ln_avg_all_diamonds_pop' 'ln_avg_oil_pop' 'ln_coastline_area'\n",
      " 'ln_export_area' 'ln_pop_dens_1400' 'rain_min' 'red_sea_distance_minimum'\n",
      " 'region_c']\n",
      "['colony0' 'colony1' 'colony3' 'colony4' 'colony6'\n",
      " 'ethnic_fractionalization' 'islam' 'ln_avg_all_diamonds_pop'\n",
      " 'ln_avg_oil_pop' 'ln_coastline_area' 'ln_export_area' 'ln_pop_dens_1400'\n",
      " 'rain_min' 'red_sea_distance_minimum' 'region_c']\n"
     ]
    }
   ],
   "source": [
    "second_stage_variables = ['gdp00', 'gpd01', 'gdp02', 'gdp03', 'gdp04', 'gdp05', 'gdp06', 'gdp07', 'gdp08', 'gdp09', 'gdp10', 'gdp11', 'gdp12', 'gdp13', 'gdp14', 'gdp15','gdp16', 'gdp17', 'gdp18', 'gdp19', 'gdp20', 'gdp21', 'gdp22']\n",
    "endogeneous_var_var = \"ln_export_area\"\n",
    "\n",
    "# Separate the covariates and the dependent variable\n",
    "X = data.drop(data.columns[0:25], axis=1)\n",
    "y = data[second_stage_variables]\n",
    "Z = data[endogeneous_var_var]\n",
    "for dependent_variable in second_stage_variables:\n",
    "    # Perform Lasso to select important variables\n",
    "    lasso_y = LassoCV(cv=5, max_iter=10000, tol=0.0001, random_state=0).fit(X, data[dependent_variable])\n",
    "    selected_y = X.columns[lasso_y.coef_ != 0]\n",
    "\n",
    "    lasso_z = LassoCV(cv=5, max_iter=10000, tol=0.0001, random_state=0).fit(X, Z)\n",
    "    selected_z = X.columns[(lasso_z.coef_ != 0)]\n",
    "\n",
    "    # Get the indices of selected features\n",
    "    selected_vars = np.unique(np.concatenate([selected_y, selected_z]))\n",
    "    print(selected_vars)\n",
    "    # Create a design matrix for regression\n",
    "    X_selected = data[selected_vars]\n",
    "\n",
    "    # Perform 2SLS (Two-Stage Least Squares) using the instrumental variable\n",
    "    # First stage: Regress the instrumental variable with selected features\n",
    "    first_stage = sm.OLS(Z, sm.add_constant(X_selected)).fit()\n",
    "    # Get predicted values from the first stage\n",
    "    Z_pred = first_stage.predict(sm.add_constant(X_selected))\n",
    "    \n",
    "    # Second stage: Regress the dependent variable on the predicted values\n",
    "    iv_model = IV2SLS(data[dependent_variable], sm.add_constant(data[Z.name]), data[selected_vars]).fit()\n",
    "    \n",
    "    exog_second_stage = X_selected.merge(Z_pred.rename('Z_pred'), left_index=True, right_index=True)\n",
    "    second_stage_model = sm.OLS(data[dependent_variable], exog_second_stage).fit()\n",
    "    \n"
   ]
  },
  {
   "cell_type": "markdown",
   "metadata": {},
   "source": [
    "### **Step 2: Running the regressions with the selected variables and grabbing the resulting coefficients** ###\n",
    "\n",
    "After the variables are selected, we implement these variables into the IV2SLS model in order to estimate the coefficient of the regressions for each year. These coefficients are then stored for future plotting."
   ]
  },
  {
   "cell_type": "code",
   "execution_count": 203,
   "metadata": {},
   "outputs": [
    {
     "name": "stdout",
     "output_type": "stream",
     "text": [
      "   Dependent Variable  Coefficient  Lower CI  Upper CI  Year\n",
      "0               gdp00    -0.473732 -0.718344 -0.229120  2000\n",
      "1               gpd01    -0.481138 -0.724955 -0.237321  2001\n",
      "2               gdp02    -0.483787 -0.727025 -0.240548  2002\n",
      "3               gdp03    -0.478936 -0.723406 -0.234465  2003\n",
      "4               gdp04    -0.479416 -0.724034 -0.234798  2004\n",
      "5               gdp05    -0.479309 -0.723938 -0.234680  2005\n",
      "6               gdp06    -0.486500 -0.729960 -0.243041  2006\n",
      "7               gdp07    -0.490319 -0.733240 -0.247397  2007\n",
      "8               gdp08    -0.491115 -0.733936 -0.248293  2008\n",
      "9               gdp09    -0.491741 -0.734288 -0.249193  2009\n",
      "10              gdp10    -0.492523 -0.734975 -0.250070  2010\n",
      "11              gdp11    -0.502211 -0.743115 -0.261308  2011\n",
      "12              gdp12    -0.497352 -0.739087 -0.255617  2012\n",
      "13              gdp13    -0.482514 -0.726219 -0.238809  2013\n",
      "14              gdp14    -0.483786 -0.727325 -0.240247  2014\n",
      "15              gdp15    -0.486879 -0.729838 -0.243920  2015\n",
      "16              gdp16    -0.493264 -0.735321 -0.251206  2016\n",
      "17              gdp17    -0.490833 -0.733381 -0.248284  2017\n",
      "18              gdp18    -0.493515 -0.735625 -0.251404  2018\n",
      "19              gdp19    -0.493168 -0.735354 -0.250982  2019\n",
      "20              gdp20    -0.483483 -0.726835 -0.240131  2020\n",
      "21              gdp21    -0.487679 -0.730477 -0.244880  2021\n",
      "22              gdp22    -0.491554 -0.734085 -0.249022  2022\n"
     ]
    }
   ],
   "source": [
    "import pandas as pd\n",
    "\n",
    "# Define an empty list to store the coefficients\n",
    "coefficients_table = []\n",
    "\n",
    "for dependent_variable in second_stage_variables:\n",
    "    # Rest of the code remains the same as before\n",
    "\n",
    "    # Fit the second stage regression\n",
    "    iv_model = IV2SLS(data[dependent_variable], sm.add_constant(data[Z.name]), data[selected_vars]).fit()\n",
    "\n",
    "    # Extract the coefficient of ln_export_area_predicted\n",
    "    coefficient = iv_model.params['ln_export_area']\n",
    "    std_err = iv_model.bse['ln_export_area']\n",
    "    # Calculate the 95% confidence intervals\n",
    "    lower_ci = coefficient - 1.96 * std_err\n",
    "    upper_ci = coefficient + 1.96 * std_err\n",
    "    # Store the coefficient along with the dependent variable name\n",
    "    coefficients_table.append({'Dependent Variable': dependent_variable, 'Coefficient': coefficient, 'Lower CI': lower_ci, 'Upper CI': upper_ci})\n",
    "\n",
    "# Create a DataFrame from the coefficients list\n",
    "coefficients_df = pd.DataFrame(coefficients_table)\n",
    "\n",
    "# Add a column representing years from 2000 to 2022\n",
    "years = list(range(2000, 2023))\n",
    "coefficients_df['Year'] = years\n",
    "\n",
    "# Print the coefficients table\n",
    "print(coefficients_df)\n"
   ]
  },
  {
   "cell_type": "markdown",
   "metadata": {},
   "source": [
    "### **Step 3: Modeling the coefficient on ln_export_area over time** ###\n",
    "Now we use matplot to graph the changes in the effect of ln_export_area on the GDP of each year."
   ]
  },
  {
   "cell_type": "code",
   "execution_count": 204,
   "metadata": {},
   "outputs": [
    {
     "name": "stderr",
     "output_type": "stream",
     "text": [
      "C:\\Users\\Davis\\AppData\\Local\\Temp\\ipykernel_2396\\2092869490.py:8: UserWarning: marker is redundantly defined by the 'marker' keyword argument and the fmt string \"o\" (-> marker='o'). The keyword argument will take precedence.\n",
      "  plt.errorbar(coefficients_df['Year'], coefficients_df['Coefficient'],\n"
     ]
    },
    {
     "data": {
      "image/png": "[encoded data removed]",
      "text/plain": [
       "<Figure size 1000x600 with 1 Axes>"
      ]
     },
     "metadata": {},
     "output_type": "display_data"
    }
   ],
   "source": [
    "import matplotlib.pyplot as plt\n",
    "\n",
    "# Plotting\n",
    "plt.figure(figsize=(10, 6))\n",
    "\n",
    "# Plot coefficients for each dependent variable\n",
    "plt.scatter(coefficients_df['Year'], coefficients_df['Coefficient'])\n",
    "plt.errorbar(coefficients_df['Year'], coefficients_df['Coefficient'], \n",
    "             yerr=[coefficients_df['Coefficient'] - coefficients_df['Lower CI'],\n",
    "                   coefficients_df['Upper CI'] - coefficients_df['Coefficient']],\n",
    "             fmt='o', capsize=5, capthick=2, ecolor='red', marker='s', color='blue',\n",
    "             label='Coefficient with 95% CI')\n",
    "\n",
    "# Adding labels and title\n",
    "plt.xlabel('Year')\n",
    "plt.ylabel('Coefficient')\n",
    "plt.title('Coefficient of ln_export_area over the years')\n",
    "plt.grid(True)\n",
    "\n",
    "# Show plot\n",
    "plt.show()"
   ]
  },
  {
   "cell_type": "markdown",
   "metadata": {},
   "source": [
    "## **Comparing the Results of the Lasso Regression With the Results of the Replication** ##"
   ]
  },
  {
   "cell_type": "markdown",
   "metadata": {},
   "source": [
    "### **Step 1: Bring in the results of the replication** ###\n",
    "The following code was brought over directly from the replication file to create an aggregate plot. In this code, the models are created with the specifications defined in the paper, and the resulting coefficients of each model are then stored for plotting."
   ]
  },
  {
   "cell_type": "code",
   "execution_count": 205,
   "metadata": {},
   "outputs": [
    {
     "name": "stdout",
     "output_type": "stream",
     "text": [
      "   Dependent Variable  Coefficient  Lower CI  Upper CI  Year\n",
      "0               gdp00    -0.417695 -0.639112 -0.196277  2000\n",
      "1               gpd01    -0.409542 -0.630617 -0.188466  2001\n",
      "2               gdp02    -0.413216 -0.635245 -0.191188  2002\n",
      "3               gdp03    -0.393435 -0.612257 -0.174613  2003\n",
      "4               gdp04    -0.380955 -0.600302 -0.161608  2004\n",
      "5               gdp05    -0.377960 -0.601276 -0.154645  2005\n",
      "6               gdp06    -0.380701 -0.605394 -0.156009  2006\n",
      "7               gdp07    -0.388052 -0.613707 -0.162397  2007\n",
      "8               gdp08    -0.380723 -0.605096 -0.156351  2008\n",
      "9               gdp09    -0.376195 -0.597078 -0.155311  2009\n",
      "10              gdp10    -0.370007 -0.593259 -0.146756  2010\n",
      "11              gdp11    -0.377192 -0.602801 -0.151583  2011\n",
      "12              gdp12    -0.372040 -0.597876 -0.146204  2012\n",
      "13              gdp13    -0.357059 -0.587457 -0.126660  2013\n",
      "14              gdp14    -0.353198 -0.585189 -0.121207  2014\n",
      "15              gdp15    -0.351711 -0.583687 -0.119736  2015\n",
      "16              gdp16    -0.354777 -0.583586 -0.125968  2016\n",
      "17              gdp17    -0.354113 -0.580402 -0.127824  2017\n",
      "18              gdp18    -0.349884 -0.575623 -0.124145  2018\n",
      "19              gdp19    -0.346197 -0.572126 -0.120269  2019\n",
      "20              gdp20    -0.335079 -0.557377 -0.112780  2020\n",
      "21              gdp21    -0.341277 -0.565606 -0.116948  2021\n",
      "22              gdp22    -0.336849 -0.563387 -0.110312  2022\n"
     ]
    }
   ],
   "source": [
    "df = pd.read_csv('slave_trade_QJE_New_Data.csv')\n",
    "\n",
    "second_stage_variables = ['gdp00', 'gpd01', 'gdp02', 'gdp03', 'gdp04', 'gdp05', 'gdp06', 'gdp07', 'gdp08', 'gdp09', 'gdp10', 'gdp11', 'gdp12', 'gdp13', 'gdp14', 'gdp15','gdp16', 'gdp17', 'gdp18', 'gdp19', 'gdp20', 'gdp21', 'gdp22']\n",
    "\n",
    "for dependent_variable in second_stage_variables:\n",
    "    # Step 1: First Stage Regression\n",
    "    # Define the endogenous variable (to be instrumented) and the instrument\n",
    "    endog_first_stage = df['ln_export_area']\n",
    "    instrument_first_stage = df[['atlantic_distance_minimum', 'indian_distance_minimum', 'saharan_distance_minimum', 'red_sea_distance_minimum',\n",
    "                                 'colony0', 'colony1', 'colony2', 'colony3', 'colony4', 'colony5', 'colony6',\n",
    "                                 'abs_latitude', 'longitude', 'rain_min', 'humid_max', 'low_temp', 'ln_coastline_area']]\n",
    "\n",
    "    # Add constant to the instrument\n",
    "    instrument_first_stage = sm.add_constant(instrument_first_stage)\n",
    "\n",
    "    # Fit the first stage regression\n",
    "    first_stage_model = sm.OLS(endog_first_stage, instrument_first_stage).fit()\n",
    "\n",
    "    # Step 2: Predicted Values from First Stage\n",
    "    # Get the predicted values from the first stage\n",
    "    df['ln_export_area_predicted'] = first_stage_model.predict()\n",
    "    \n",
    "    # Step 3: Second Stage Regression\n",
    "    # Define the exogenous variable (including the predicted values from the first stage)\n",
    "    exog_second_stage = df[['ln_export_area_predicted', 'colony0', 'colony1', 'colony2', 'colony3', 'colony4', 'colony5', 'colony6',\n",
    "                            'abs_latitude', 'longitude', 'rain_min', 'humid_max', 'low_temp', 'ln_coastline_area']]\n",
    "\n",
    "    # Add constant to the exogenous variables\n",
    "    exog_second_stage = sm.add_constant(exog_second_stage)\n",
    "\n",
    "    # Fit the second stage regression\n",
    "    second_stage_model = sm.OLS(df[dependent_variable], exog_second_stage).fit()\n",
    "    \n",
    "coefficients_table2 = []\n",
    "\n",
    "for dependent_variable in second_stage_variables:\n",
    "    # Rest of the code remains the same as before\n",
    "\n",
    "    # Fit the second stage regression\n",
    "    second_stage_model = sm.OLS(df[dependent_variable], exog_second_stage).fit()\n",
    "\n",
    "    # Extract the coefficient of ln_export_area_predicted\n",
    "    coefficient2 = second_stage_model.params['ln_export_area_predicted']\n",
    "\n",
    "    # Extract the standard error of ln_export_area_predicted\n",
    "    std_err2 = second_stage_model.bse['ln_export_area_predicted']\n",
    "    # Calculate the 95% confidence intervals\n",
    "    lower_ci2 = coefficient2 - 1.96 * std_err2\n",
    "    upper_ci2 = coefficient2 + 1.96 * std_err2\n",
    "\n",
    "    # Store the coefficient along with the dependent variable name\n",
    "    coefficients_table2.append({'Dependent Variable': dependent_variable, 'Coefficient': coefficient2, 'Lower CI': lower_ci2, 'Upper CI': upper_ci2})\n",
    "\n",
    "# Create a DataFrame from the coefficients list\n",
    "coefficients2_df = pd.DataFrame(coefficients_table2)\n",
    "\n",
    "# Add a column representing years from 2000 to 2022\n",
    "years = list(range(2000, 2023))\n",
    "coefficients2_df['Year'] = years\n",
    "\n",
    "# Print the coefficients table\n",
    "print(coefficients2_df)"
   ]
  },
  {
   "cell_type": "markdown",
   "metadata": {},
   "source": [
    "### **Step 2: Modeling the results of the replication and lasso together** ###\n",
    "Finally, we plot the results of the models from the replication and the lasso implementation together for a visual comparison of the results. As we can see, the results of the lasso regression tend to be more negative, but the standard error is much higher, leading to non-statistically significant results."
   ]
  },
  {
   "cell_type": "code",
   "execution_count": 207,
   "metadata": {},
   "outputs": [
    {
     "name": "stderr",
     "output_type": "stream",
     "text": [
      "C:\\Users\\Davis\\AppData\\Local\\Temp\\ipykernel_2396\\1667156179.py:5: UserWarning: marker is redundantly defined by the 'marker' keyword argument and the fmt string \"o\" (-> marker='o'). The keyword argument will take precedence.\n",
      "  plt.errorbar(coefficients2_df['Year'], coefficients2_df['Coefficient'],\n",
      "C:\\Users\\Davis\\AppData\\Local\\Temp\\ipykernel_2396\\1667156179.py:10: UserWarning: marker is redundantly defined by the 'marker' keyword argument and the fmt string \"o\" (-> marker='o'). The keyword argument will take precedence.\n",
      "  plt.errorbar(coefficients_df['Year'], coefficients_df['Coefficient'],\n"
     ]
    },
    {
     "data": {
      "image/png": "[encoded data removed]",
      "text/plain": [
       "<Figure size 1000x600 with 1 Axes>"
      ]
     },
     "metadata": {},
     "output_type": "display_data"
    }
   ],
   "source": [
    "# Plotting\n",
    "plt.figure(figsize=(10, 6))\n",
    "\n",
    "# Plot coefficients for each dependent variable\n",
    "plt.errorbar(coefficients2_df['Year'], coefficients2_df['Coefficient'], \n",
    "             yerr=[coefficients2_df['Coefficient'] - coefficients2_df['Lower CI'],\n",
    "                   coefficients2_df['Upper CI'] - coefficients2_df['Coefficient']],\n",
    "             fmt='o', capsize=5, capthick=2, ecolor='green', marker='s', color='blue',\n",
    "             label='Replication')\n",
    "plt.errorbar(coefficients_df['Year'], coefficients_df['Coefficient'], \n",
    "             yerr=[coefficients_df['Coefficient'] - coefficients_df['Lower CI'],\n",
    "                   coefficients_df['Upper CI'] - coefficients_df['Coefficient']],\n",
    "             fmt='o', capsize=5, capthick=2, ecolor='orange', marker='s', color='red',\n",
    "             label='Lasso')\n",
    "\n",
    "# Adding labels and title\n",
    "plt.xlabel('Year')\n",
    "plt.ylabel('Coefficient')\n",
    "plt.title('Coefficient of ln_export_area over the years')\n",
    "plt.grid(True)\n",
    "plt.legend() \n",
    "\n",
    "# Show plot\n",
    "plt.show()\n",
    "     "
   ]
  }
 ],
 "metadata": {
  "kernelspec": {
   "display_name": "Python 3",
   "language": "python",
   "name": "python3"
  },
  "language_info": {
   "codemirror_mode": {
    "name": "ipython",
    "version": 3
   },
   "file_extension": ".py",
   "mimetype": "text/x-python",
   "name": "python",
   "nbconvert_exporter": "python",
   "pygments_lexer": "ipython3",
   "version": "3.11.2"
  }
 },
 "nbformat": 4,
 "nbformat_minor": 2
}
