{
  "nbformat": 4,
  "nbformat_minor": 0,
  "metadata": {
    "colab": {
      "provenance": []
    },
    "kernelspec": {
      "name": "python3",
      "display_name": "Python 3"
    },
    "language_info": {
      "name": "python"
    }
  },
  "cells": [
    {
      "cell_type": "markdown",
      "source": [
        "# **Replication of the study by Nathan Nunn (2008)**\n",
        "\n",
        "### **IV Group Members:**\n",
        "* Colon, Christopher\n",
        "* Rodriguez Quinto, Anel\n",
        "* Stevens, Madison\n",
        "* Stutts, Charlie\n",
        "* Xu, Davis\n"
      ],
      "metadata": {
        "id": "I38oc0kP2DAV"
      }
    },
    {
      "cell_type": "markdown",
      "source": [
        "**The article can be found here:** https://www.jstor.org/stable/25098896\n",
        "\n",
        "**The dataset of the paper can be found here:** https://nathannunn.arts.ubc.ca/data/\n",
        "\n",
        "**The Google Colab project can be found here:** https://colab.research.google.com/drive/19Rc1VzFgVn_KXGHygORPp26AeBBzToUl#scrollTo=KIyK8PmmytZ8"
      ],
      "metadata": {
        "id": "Y5K2ho5Bjcum"
      }
    },
    {
      "cell_type": "code",
      "source": [
        "!pip install linearmodels\n",
        "\n",
        "import pandas as pd\n",
        "import numpy as np\n",
        "import statsmodels.api as sm\n",
        "import matplotlib.pyplot as plt\n",
        "import seaborn as sns\n",
        "import requests\n",
        "from io import BytesIO\n",
        "from statsmodels.sandbox.regression.gmm import IV2SLS\n",
        "import linearmodels.iv.model as lm\n",
        "from tabulate import tabulate\n",
        "\n",
        "# Clone the repository\n",
        "!git clone https://github.com/ECMT-680-Financial-Econometrics/IV-Group-Slave-Trade.git\n",
        "\n",
        "# Navigate to the repository directory\n",
        "%cd IV-Group-Slave-Trade\n",
        "\n",
        "# List the files in the directory to verify the repository is cloned\n",
        "#!ls\n",
        "\n",
        "# Now you can load the data from the cloned repository\n",
        "# For example, if the data is stored in a CSV file, you can use pandas to load it\n",
        "df = pd.read_csv('slave_trade_QJE_New_Data.csv')\n",
        "\n",
        "# print(df.columns)  # This will list all the columns in your DataFrame"
      ],
      "metadata": {
        "id": "mJOgJoTcm3dE",
        "colab": {
          "base_uri": "https://localhost:8080/"
        },
        "outputId": "9cc5dec7-6128-4b5c-b492-7b89a1a776ba"
      },
      "execution_count": null,
      "outputs": [
        {
          "output_type": "stream",
          "name": "stdout",
          "text": [
            "Requirement already satisfied: linearmodels in /usr/local/lib/python3.10/dist-packages (6.0)\n",
            "Requirement already satisfied: numpy<3,>=1.22.3 in /usr/local/lib/python3.10/dist-packages (from linearmodels) (1.25.2)\n",
            "Requirement already satisfied: pandas>=1.4.0 in /usr/local/lib/python3.10/dist-packages (from linearmodels) (2.0.3)\n",
            "Requirement already satisfied: scipy>=1.8.0 in /usr/local/lib/python3.10/dist-packages (from linearmodels) (1.11.4)\n",
            "Requirement already satisfied: statsmodels>=0.13.0 in /usr/local/lib/python3.10/dist-packages (from linearmodels) (0.14.2)\n",
            "Requirement already satisfied: mypy-extensions>=0.4 in /usr/local/lib/python3.10/dist-packages (from linearmodels) (1.0.0)\n",
            "Requirement already satisfied: Cython>=3.0.10 in /usr/local/lib/python3.10/dist-packages (from linearmodels) (3.0.10)\n",
            "Requirement already satisfied: pyhdfe>=0.1 in /usr/local/lib/python3.10/dist-packages (from linearmodels) (0.2.0)\n",
            "Requirement already satisfied: formulaic>=1.0.0 in /usr/local/lib/python3.10/dist-packages (from linearmodels) (1.0.1)\n",
            "Requirement already satisfied: setuptools-scm[toml]<9.0.0,>=8.0.0 in /usr/local/lib/python3.10/dist-packages (from linearmodels) (8.0.4)\n",
            "Requirement already satisfied: interface-meta>=1.2.0 in /usr/local/lib/python3.10/dist-packages (from formulaic>=1.0.0->linearmodels) (1.3.0)\n",
            "Requirement already satisfied: typing-extensions>=4.2.0 in /usr/local/lib/python3.10/dist-packages (from formulaic>=1.0.0->linearmodels) (4.11.0)\n",
            "Requirement already satisfied: wrapt>=1.0 in /usr/local/lib/python3.10/dist-packages (from formulaic>=1.0.0->linearmodels) (1.14.1)\n",
            "Requirement already satisfied: python-dateutil>=2.8.2 in /usr/local/lib/python3.10/dist-packages (from pandas>=1.4.0->linearmodels) (2.8.2)\n",
            "Requirement already satisfied: pytz>=2020.1 in /usr/local/lib/python3.10/dist-packages (from pandas>=1.4.0->linearmodels) (2023.4)\n",
            "Requirement already satisfied: tzdata>=2022.1 in /usr/local/lib/python3.10/dist-packages (from pandas>=1.4.0->linearmodels) (2024.1)\n",
            "Requirement already satisfied: packaging>=20 in /usr/local/lib/python3.10/dist-packages (from setuptools-scm[toml]<9.0.0,>=8.0.0->linearmodels) (24.0)\n",
            "Requirement already satisfied: setuptools in /usr/local/lib/python3.10/dist-packages (from setuptools-scm[toml]<9.0.0,>=8.0.0->linearmodels) (67.7.2)\n",
            "Requirement already satisfied: tomli>=1 in /usr/local/lib/python3.10/dist-packages (from setuptools-scm[toml]<9.0.0,>=8.0.0->linearmodels) (2.0.1)\n",
            "Requirement already satisfied: patsy>=0.5.6 in /usr/local/lib/python3.10/dist-packages (from statsmodels>=0.13.0->linearmodels) (0.5.6)\n",
            "Requirement already satisfied: six in /usr/local/lib/python3.10/dist-packages (from patsy>=0.5.6->statsmodels>=0.13.0->linearmodels) (1.16.0)\n",
            "Cloning into 'IV-Group-Slave-Trade'...\n",
            "remote: Enumerating objects: 61, done.\u001b[K\n",
            "remote: Counting objects: 100% (61/61), done.\u001b[K\n",
            "remote: Compressing objects: 100% (61/61), done.\u001b[K\n",
            "remote: Total 61 (delta 28), reused 1 (delta 0), pack-reused 0\u001b[K\n",
            "Receiving objects: 100% (61/61), 460.57 KiB | 10.47 MiB/s, done.\n",
            "Resolving deltas: 100% (28/28), done.\n",
            "/content/IV-Group-Slave-Trade/IV-Group-Slave-Trade/IV-Group-Slave-Trade\n"
          ]
        }
      ]
    },
    {
      "cell_type": "markdown",
      "source": [
        "# **Table 3: OLS Regressions**"
      ],
      "metadata": {
        "id": "FG08saFKQ6QM"
      }
    },
    {
      "cell_type": "code",
      "source": [
        "# Table 3: OLS regression with and without controls\n",
        "X1 = sm.add_constant(df[['ln_export_area', 'colony0', 'colony1', 'colony2', 'colony3', 'colony4', 'colony5', 'colony6', 'colony7']])\n",
        "X2 = sm.add_constant(df[['ln_export_area', 'abs_latitude', 'longitude', 'rain_min', 'humid_max', 'low_temp', 'ln_coastline_area',  'colony0', 'colony1', 'colony2', 'colony3', 'colony4', 'colony5', 'colony6', 'colony7']])\n",
        "X4 = sm.add_constant(df[['ln_export_area', 'abs_latitude', 'longitude', 'rain_min', 'humid_max', 'low_temp', 'ln_coastline_area', 'island_dum', 'islam', 'legor_fr', 'region_n',  'colony0', 'colony1', 'colony2', 'colony3', 'colony4', 'colony5', 'colony6', 'colony7']])\n",
        "X5 = sm.add_constant(df[['ln_export_area', 'abs_latitude', 'longitude', 'rain_min', 'humid_max', 'low_temp', 'ln_coastline_area', 'island_dum', 'islam', 'legor_fr', 'legor_uk', 'region_n', 'ln_avg_gold_pop', 'ln_avg_oil_pop', 'ln_avg_all_diamonds_pop',  'colony0', 'colony1', 'colony2', 'colony3', 'colony4', 'colony5', 'colony6', 'colony7']])\n",
        "\n",
        "# Fit the models\n",
        "model1 = sm.OLS(df['ln_maddison_pcgdp2000'], X1).fit()\n",
        "model2 = sm.OLS(df['ln_maddison_pcgdp2000'], X2).fit()\n",
        "model4 = sm.OLS(df['ln_maddison_pcgdp2000'], X4).fit()\n",
        "model5 = sm.OLS(df['ln_maddison_pcgdp2000'], X5).fit()\n",
        "\n",
        "# Extract coefficients and other statistics for the specified variables\n",
        "variables = ['ln_export_area', 'abs_latitude', 'longitude', 'rain_min', 'humid_max', 'low_temp',\n",
        "             'ln_coastline_area', 'island_dum', 'islam', 'legor_fr', 'legor_uk', 'region_n',\n",
        "             'ln_avg_gold_pop', 'ln_avg_oil_pop', 'ln_avg_all_diamonds_pop']\n",
        "\n",
        "results = []\n",
        "\n",
        "# Populate the results list\n",
        "for var in variables:\n",
        "    row_values = {'Variable': var}\n",
        "    for i, model in enumerate([model1, model2, model4, model5]):\n",
        "        if var in model.params:\n",
        "            coefficient = round(model.params[var], 3)\n",
        "            std_error = round(model.bse[var], 3)\n",
        "            p_value = round(model.pvalues[var], 3)\n",
        "            std_p_value = f\"{std_error} ({p_value})\"\n",
        "            row_values[f'Model {i+1} Coefficient'] = coefficient\n",
        "            row_values[f'Model {i+1} Std. Error (P-value)'] = std_p_value\n",
        "        else:\n",
        "            row_values[f'Model {i+1} Coefficient'] = ''\n",
        "            row_values[f'Model {i+1} Std. Error (P-value)'] = ''\n",
        "    results.append(row_values)\n",
        "\n",
        "# Convert the results list to a DataFrame\n",
        "results_df = pd.DataFrame(results)\n",
        "\n",
        "# Convert NaN values to empty strings\n",
        "results_df = results_df.replace({np.nan: ''})\n",
        "\n",
        "# Convert the DataFrame to a tabular format with fancy styling\n",
        "table = tabulate(results_df, headers='keys', tablefmt='fancy_grid', showindex=False)\n",
        "\n",
        "# Print the table\n",
        "print(table)\n"
      ],
      "metadata": {
        "id": "9s_PtR2QpcsS",
        "colab": {
          "base_uri": "https://localhost:8080/"
        },
        "outputId": "4de2f1bd-b714-4883-ae86-ee15bb6f9b61"
      },
      "execution_count": null,
      "outputs": [
        {
          "output_type": "stream",
          "name": "stdout",
          "text": [
            "╒═════════════════════════╤═══════════════════════╤════════════════════════════════╤═══════════════════════╤════════════════════════════════╤═══════════════════════╤════════════════════════════════╤═══════════════════════╤════════════════════════════════╕\n",
            "│ Variable                │ Model 1 Coefficient   │ Model 1 Std. Error (P-value)   │ Model 2 Coefficient   │ Model 2 Std. Error (P-value)   │ Model 3 Coefficient   │ Model 3 Std. Error (P-value)   │   Model 4 Coefficient │ Model 4 Std. Error (P-value)   │\n",
            "╞═════════════════════════╪═══════════════════════╪════════════════════════════════╪═══════════════════════╪════════════════════════════════╪═══════════════════════╪════════════════════════════════╪═══════════════════════╪════════════════════════════════╡\n",
            "│ ln_export_area          │ -0.112                │ 0.024 (0.0)                    │ -0.076                │ 0.029 (0.013)                  │ -0.085                │ 0.035 (0.02)                   │                -0.103 │ 0.034 (0.005)                  │\n",
            "├─────────────────────────┼───────────────────────┼────────────────────────────────┼───────────────────────┼────────────────────────────────┼───────────────────────┼────────────────────────────────┼───────────────────────┼────────────────────────────────┤\n",
            "│ abs_latitude            │                       │                                │ 0.016                 │ 0.017 (0.349)                  │ 0.019                 │ 0.018 (0.277)                  │                 0.023 │ 0.017 (0.177)                  │\n",
            "├─────────────────────────┼───────────────────────┼────────────────────────────────┼───────────────────────┼────────────────────────────────┼───────────────────────┼────────────────────────────────┼───────────────────────┼────────────────────────────────┤\n",
            "│ longitude               │                       │                                │ 0.0                   │ 0.005 (0.928)                  │ -0.004                │ 0.006 (0.499)                  │                -0.004 │ 0.005 (0.468)                  │\n",
            "├─────────────────────────┼───────────────────────┼────────────────────────────────┼───────────────────────┼────────────────────────────────┼───────────────────────┼────────────────────────────────┼───────────────────────┼────────────────────────────────┤\n",
            "│ rain_min                │                       │                                │ -0.001                │ 0.007 (0.926)                  │ 0.0                   │ 0.007 (0.985)                  │                -0.001 │ 0.006 (0.88)                   │\n",
            "├─────────────────────────┼───────────────────────┼────────────────────────────────┼───────────────────────┼────────────────────────────────┼───────────────────────┼────────────────────────────────┼───────────────────────┼────────────────────────────────┤\n",
            "│ humid_max               │                       │                                │ 0.009                 │ 0.012 (0.428)                  │ 0.009                 │ 0.012 (0.44)                   │                 0.015 │ 0.011 (0.189)                  │\n",
            "├─────────────────────────┼───────────────────────┼────────────────────────────────┼───────────────────────┼────────────────────────────────┼───────────────────────┼────────────────────────────────┼───────────────────────┼────────────────────────────────┤\n",
            "│ low_temp                │                       │                                │ -0.019                │ 0.028 (0.51)                   │ -0.005                │ 0.027 (0.859)                  │                -0.015 │ 0.026 (0.567)                  │\n",
            "├─────────────────────────┼───────────────────────┼────────────────────────────────┼───────────────────────┼────────────────────────────────┼───────────────────────┼────────────────────────────────┼───────────────────────┼────────────────────────────────┤\n",
            "│ ln_coastline_area       │                       │                                │ 0.085                 │ 0.039 (0.035)                  │ 0.095                 │ 0.042 (0.031)                  │                 0.082 │ 0.04 (0.046)                   │\n",
            "├─────────────────────────┼───────────────────────┼────────────────────────────────┼───────────────────────┼────────────────────────────────┼───────────────────────┼────────────────────────────────┼───────────────────────┼────────────────────────────────┤\n",
            "│ island_dum              │                       │                                │                       │                                │ -0.398                │ 0.529 (0.457)                  │                -0.15  │ 0.516 (0.773)                  │\n",
            "├─────────────────────────┼───────────────────────┼────────────────────────────────┼───────────────────────┼────────────────────────────────┼───────────────────────┼────────────────────────────────┼───────────────────────┼────────────────────────────────┤\n",
            "│ islam                   │                       │                                │                       │                                │ -0.008                │ 0.003 (0.006)                  │                -0.006 │ 0.003 (0.061)                  │\n",
            "├─────────────────────────┼───────────────────────┼────────────────────────────────┼───────────────────────┼────────────────────────────────┼───────────────────────┼────────────────────────────────┼───────────────────────┼────────────────────────────────┤\n",
            "│ legor_fr                │                       │                                │                       │                                │ 0.755                 │ 0.503 (0.143)                  │                 2.396 │ 0.336 (0.0)                    │\n",
            "├─────────────────────────┼───────────────────────┼────────────────────────────────┼───────────────────────┼────────────────────────────────┼───────────────────────┼────────────────────────────────┼───────────────────────┼────────────────────────────────┤\n",
            "│ legor_uk                │                       │                                │                       │                                │                       │                                │                 1.754 │ 0.368 (0.0)                    │\n",
            "├─────────────────────────┼───────────────────────┼────────────────────────────────┼───────────────────────┼────────────────────────────────┼───────────────────────┼────────────────────────────────┼───────────────────────┼────────────────────────────────┤\n",
            "│ region_n                │                       │                                │                       │                                │ 0.382                 │ 0.484 (0.436)                  │                -0.304 │ 0.517 (0.561)                  │\n",
            "├─────────────────────────┼───────────────────────┼────────────────────────────────┼───────────────────────┼────────────────────────────────┼───────────────────────┼────────────────────────────────┼───────────────────────┼────────────────────────────────┤\n",
            "│ ln_avg_gold_pop         │                       │                                │                       │                                │                       │                                │                 0.011 │ 0.017 (0.531)                  │\n",
            "├─────────────────────────┼───────────────────────┼────────────────────────────────┼───────────────────────┼────────────────────────────────┼───────────────────────┼────────────────────────────────┼───────────────────────┼────────────────────────────────┤\n",
            "│ ln_avg_oil_pop          │                       │                                │                       │                                │                       │                                │                 0.078 │ 0.027 (0.008)                  │\n",
            "├─────────────────────────┼───────────────────────┼────────────────────────────────┼───────────────────────┼────────────────────────────────┼───────────────────────┼────────────────────────────────┼───────────────────────┼────────────────────────────────┤\n",
            "│ ln_avg_all_diamonds_pop │                       │                                │                       │                                │                       │                                │                -0.039 │ 0.043 (0.373)                  │\n",
            "╘═════════════════════════╧═══════════════════════╧════════════════════════════════╧═══════════════════════╧════════════════════════════════╧═══════════════════════╧════════════════════════════════╧═══════════════════════╧════════════════════════════════╛\n"
          ]
        }
      ]
    },
    {
      "cell_type": "markdown",
      "source": [
        "# **Table 4: IV and 2SLS**"
      ],
      "metadata": {
        "id": "4r3B6bLUbBJH"
      }
    },
    {
      "cell_type": "markdown",
      "source": [
        "**Model 1**"
      ],
      "metadata": {
        "id": "K51hpo9C1tKj"
      }
    },
    {
      "cell_type": "code",
      "source": [
        "import statsmodels.api as sm\n",
        "\n",
        "# Step 1: First Stage Regression\n",
        "# Define the endogenous variable (to be instrumented) and the instrument\n",
        "endog_first_stage = df['ln_export_area']\n",
        "instrument_first_stage = df[['atlantic_distance_minimum', 'indian_distance_minimum', 'saharan_distance_minimum', 'red_sea_distance_minimum']]\n",
        "\n",
        "# Add constant to the instrument\n",
        "instrument_first_stage = sm.add_constant(instrument_first_stage)\n",
        "\n",
        "# Fit the first stage regression\n",
        "first_stage_model1 = sm.OLS(endog_first_stage, instrument_first_stage).fit()\n",
        "\n",
        "# Print first stage results\n",
        "# print(\"First Stage Results:\")\n",
        "# print(first_stage_model1.summary())\n",
        "\n",
        "# Step 2: Predicted Values from First Stage\n",
        "# Get the predicted values from the first stage\n",
        "df['ln_export_area_predicted'] = first_stage_model1.predict()\n",
        "\n",
        "# Step 3: Second Stage Regression\n",
        "# Define the exogenous variable (including the predicted values from the first stage)\n",
        "exog_second_stage = df[['ln_export_area_predicted']]\n",
        "\n",
        "# Add constant to the exogenous variables\n",
        "exog_second_stage = sm.add_constant(exog_second_stage)\n",
        "\n",
        "# Fit the second stage regression\n",
        "second_stage_model1 = sm.OLS(df['ln_maddison_pcgdp2000'], exog_second_stage).fit()\n",
        "\n",
        "# Print second stage results\n",
        "# print(\"\\nSecond Stage Results:\")\n",
        "# print(second_stage_model1.summary())\n"
      ],
      "metadata": {
        "id": "QAR7c9SbzAwM"
      },
      "execution_count": null,
      "outputs": []
    },
    {
      "cell_type": "code",
      "source": [
        "# Extracting coefficients and standard errors for the first stage\n",
        "coefficients = first_stage_model1.params\n",
        "std_errors = first_stage_model1.bse\n",
        "\n",
        "# Create a DataFrame with coefficients and standard errors\n",
        "first_stage_results_df = pd.DataFrame({'Variable': coefficients.index, 'Coefficient': coefficients.values, 'Std. Error': std_errors.values})\n",
        "\n",
        "# Round the numbers to three decimals\n",
        "first_stage_results_df = first_stage_results_df.round(3)\n",
        "\n",
        "# Print the name of the first stage\n",
        "print(\"First Stage Results:\")\n",
        "# Print the table\n",
        "print(tabulate(first_stage_results_df, headers='keys', tablefmt='fancy_grid', showindex=False))\n",
        "\n",
        "# Extracting coefficients and standard errors for the second stage\n",
        "coefficients_second_stage = second_stage_model1.params\n",
        "std_errors_second_stage = second_stage_model1.bse\n",
        "\n",
        "# Create a DataFrame with coefficients and standard errors for the second stage\n",
        "second_stage_results_df = pd.DataFrame({'Variable': coefficients_second_stage.index, 'Coefficient': coefficients_second_stage.values, 'Std. Error': std_errors_second_stage.values})\n",
        "\n",
        "# Round the numbers to three decimals\n",
        "second_stage_results_df = second_stage_results_df.round(3)\n",
        "\n",
        "# Print the name of the second stage\n",
        "print(\"\\nSecond Stage Results:\")\n",
        "# Print the table\n",
        "print(tabulate(second_stage_results_df, headers='keys', tablefmt='fancy_grid', showindex=False))"
      ],
      "metadata": {
        "colab": {
          "base_uri": "https://localhost:8080/"
        },
        "id": "TLkjiHxQ0exW",
        "outputId": "aaf2df47-5851-45d7-cee1-b5ca2bcc9ada"
      },
      "execution_count": null,
      "outputs": [
        {
          "output_type": "stream",
          "name": "stdout",
          "text": [
            "First Stage Results:\n",
            "╒═══════════════════════════╤═══════════════╤══════════════╕\n",
            "│ Variable                  │   Coefficient │   Std. Error │\n",
            "╞═══════════════════════════╪═══════════════╪══════════════╡\n",
            "│ const                     │        29.11  │        6.959 │\n",
            "├───────────────────────────┼───────────────┼──────────────┤\n",
            "│ atlantic_distance_minimum │        -1.314 │        0.357 │\n",
            "├───────────────────────────┼───────────────┼──────────────┤\n",
            "│ indian_distance_minimum   │        -1.095 │        0.38  │\n",
            "├───────────────────────────┼───────────────┼──────────────┤\n",
            "│ saharan_distance_minimum  │        -2.435 │        0.823 │\n",
            "├───────────────────────────┼───────────────┼──────────────┤\n",
            "│ red_sea_distance_minimum  │        -0.002 │        0.71  │\n",
            "╘═══════════════════════════╧═══════════════╧══════════════╛\n",
            "\n",
            "Second Stage Results:\n",
            "╒══════════════════════════╤═══════════════╤══════════════╕\n",
            "│ Variable                 │   Coefficient │   Std. Error │\n",
            "╞══════════════════════════╪═══════════════╪══════════════╡\n",
            "│ const                    │         7.811 │        0.187 │\n",
            "├──────────────────────────┼───────────────┼──────────────┤\n",
            "│ ln_export_area_predicted │        -0.208 │        0.049 │\n",
            "╘══════════════════════════╧═══════════════╧══════════════╛\n"
          ]
        }
      ]
    },
    {
      "cell_type": "markdown",
      "source": [
        "**Model 2**"
      ],
      "metadata": {
        "id": "HqhpuujD1qr9"
      }
    },
    {
      "cell_type": "code",
      "source": [
        "import statsmodels.api as sm\n",
        "\n",
        "# Step 1: First Stage Regression\n",
        "# Define the endogenous variable (to be instrumented) and the instrument\n",
        "endog_first_stage = df['ln_export_area']\n",
        "instrument_first_stage = df[['atlantic_distance_minimum', 'indian_distance_minimum', 'saharan_distance_minimum', 'red_sea_distance_minimum', 'colony0', 'colony1', 'colony2', 'colony3', 'colony4', 'colony5', 'colony6']]\n",
        "\n",
        "# Add constant to the instrument\n",
        "instrument_first_stage = sm.add_constant(instrument_first_stage)\n",
        "\n",
        "# Fit the first stage regression\n",
        "first_stage_model2 = sm.OLS(endog_first_stage, instrument_first_stage).fit()\n",
        "\n",
        "# Print first stage results\n",
        "# print(\"First Stage Results:\")\n",
        "# print(first_stage_model2.summary())\n",
        "\n",
        "# Step 2: Predicted Values from First Stage\n",
        "# Get the predicted values from the first stage\n",
        "df['ln_export_area_predicted'] = first_stage_model2.predict()\n",
        "\n",
        "# Step 3: Second Stage Regression\n",
        "# Define the exogenous variable (including the predicted values from the first stage)\n",
        "exog_second_stage = df[['ln_export_area_predicted', 'colony0', 'colony1', 'colony2', 'colony3', 'colony4', 'colony5', 'colony6']]\n",
        "\n",
        "# Add constant to the exogenous variables\n",
        "exog_second_stage = sm.add_constant(exog_second_stage)\n",
        "\n",
        "# Fit the second stage regression\n",
        "second_stage_model2 = sm.OLS(df['ln_maddison_pcgdp2000'], exog_second_stage).fit()\n",
        "\n",
        "# Print second stage results\n",
        "# print(\"\\nSecond Stage Results:\")\n",
        "# print(second_stage_model2.summary())\n"
      ],
      "metadata": {
        "id": "w2Rd12W0cKiv"
      },
      "execution_count": null,
      "outputs": []
    },
    {
      "cell_type": "code",
      "source": [
        "# Extracting coefficients and standard errors for the first stage\n",
        "coefficients = first_stage_model2.params\n",
        "std_errors = first_stage_model2.bse\n",
        "\n",
        "# Create a DataFrame with coefficients and standard errors\n",
        "first_stage_results_df = pd.DataFrame({'Variable': coefficients.index, 'Coefficient': coefficients.values, 'Std. Error': std_errors.values})\n",
        "\n",
        "# Round the numbers to three decimals\n",
        "first_stage_results_df = first_stage_results_df.round(3)\n",
        "\n",
        "# Exclude colony variables from the first stage results table\n",
        "first_stage_results_df = first_stage_results_df[~first_stage_results_df['Variable'].str.startswith('colony')]\n",
        "\n",
        "# Add \"Colony Fixed Effects\" to the first stage results table\n",
        "colony_fixed_effects_row = pd.DataFrame({'Variable': ['Colony Fixed Effects'], 'Coefficient': ['Yes'], 'Std. Error': ['']})\n",
        "first_stage_results_df = pd.concat([first_stage_results_df, colony_fixed_effects_row], ignore_index=True)\n",
        "\n",
        "# Print the name of the first stage\n",
        "print(\"First Stage Results:\")\n",
        "# Print the table\n",
        "print(tabulate(first_stage_results_df, headers='keys', tablefmt='fancy_grid', showindex=False))\n",
        "\n",
        "# Extracting coefficients and standard errors for the second stage\n",
        "coefficients_second_stage = second_stage_model2.params\n",
        "std_errors_second_stage = second_stage_model2.bse\n",
        "\n",
        "# Create a DataFrame with coefficients and standard errors for the second stage\n",
        "second_stage_results_df = pd.DataFrame({'Variable': coefficients_second_stage.index, 'Coefficient': coefficients_second_stage.values, 'Std. Error': std_errors_second_stage.values})\n",
        "\n",
        "# Round the numbers to three decimals\n",
        "second_stage_results_df = second_stage_results_df.round(3)\n",
        "\n",
        "# Exclude colony variables from the second stage results table\n",
        "second_stage_results_df = second_stage_results_df[~second_stage_results_df['Variable'].str.startswith('colony')]\n",
        "\n",
        "# Add \"Colony Fixed Effects\" to the second stage results table\n",
        "second_stage_results_df = pd.concat([second_stage_results_df, colony_fixed_effects_row], ignore_index=True)\n",
        "\n",
        "# Print the name of the second stage\n",
        "print(\"\\nSecond Stage Results:\")\n",
        "# Print the table\n",
        "print(tabulate(second_stage_results_df, headers='keys', tablefmt='fancy_grid', showindex=False))\n"
      ],
      "metadata": {
        "colab": {
          "base_uri": "https://localhost:8080/"
        },
        "id": "cDVH3WkXqfgk",
        "outputId": "76e5a369-ef9e-4ab8-ca6f-2eb5818c16c8"
      },
      "execution_count": null,
      "outputs": [
        {
          "output_type": "stream",
          "name": "stdout",
          "text": [
            "First Stage Results:\n",
            "╒═══════════════════════════╤═══════════════╤══════════════╕\n",
            "│ Variable                  │ Coefficient   │ Std. Error   │\n",
            "╞═══════════════════════════╪═══════════════╪══════════════╡\n",
            "│ const                     │ 42.363        │ 12.189       │\n",
            "├───────────────────────────┼───────────────┼──────────────┤\n",
            "│ atlantic_distance_minimum │ -1.741        │ 0.425        │\n",
            "├───────────────────────────┼───────────────┼──────────────┤\n",
            "│ indian_distance_minimum   │ -1.426        │ 0.531        │\n",
            "├───────────────────────────┼───────────────┼──────────────┤\n",
            "│ saharan_distance_minimum  │ -3.001        │ 1.049        │\n",
            "├───────────────────────────┼───────────────┼──────────────┤\n",
            "│ red_sea_distance_minimum  │ -0.152        │ 0.813        │\n",
            "├───────────────────────────┼───────────────┼──────────────┤\n",
            "│ Colony Fixed Effects      │ Yes           │              │\n",
            "╘═══════════════════════════╧═══════════════╧══════════════╛\n",
            "\n",
            "Second Stage Results:\n",
            "╒══════════════════════════╤═══════════════╤══════════════╕\n",
            "│ Variable                 │ Coefficient   │ Std. Error   │\n",
            "╞══════════════════════════╪═══════════════╪══════════════╡\n",
            "│ const                    │ 8.075         │ 0.62         │\n",
            "├──────────────────────────┼───────────────┼──────────────┤\n",
            "│ ln_export_area_predicted │ -0.201        │ 0.04         │\n",
            "├──────────────────────────┼───────────────┼──────────────┤\n",
            "│ Colony Fixed Effects     │ Yes           │              │\n",
            "╘══════════════════════════╧═══════════════╧══════════════╛\n"
          ]
        }
      ]
    },
    {
      "cell_type": "markdown",
      "source": [
        "**Model 3**"
      ],
      "metadata": {
        "id": "GuRlPBzo1n7V"
      }
    },
    {
      "cell_type": "code",
      "source": [
        "import statsmodels.api as sm\n",
        "\n",
        "# Step 1: First Stage Regression\n",
        "# Define the endogenous variable (to be instrumented) and the instrument\n",
        "endog_first_stage = df['ln_export_area']\n",
        "instrument_first_stage = df[['atlantic_distance_minimum', 'indian_distance_minimum', 'saharan_distance_minimum', 'red_sea_distance_minimum',\n",
        "                             'colony0', 'colony1', 'colony2', 'colony3', 'colony4', 'colony5', 'colony6',\n",
        "                             'abs_latitude', 'longitude', 'rain_min', 'humid_max', 'low_temp', 'ln_coastline_area']]\n",
        "\n",
        "# Add constant to the instrument\n",
        "instrument_first_stage = sm.add_constant(instrument_first_stage)\n",
        "\n",
        "# Fit the first stage regression\n",
        "first_stage_model3 = sm.OLS(endog_first_stage, instrument_first_stage).fit()\n",
        "\n",
        "# Print first stage results\n",
        "# print(\"First Stage Results:\")\n",
        "# print(first_stage_model3.summary())\n",
        "\n",
        "# Step 2: Predicted Values from First Stage\n",
        "# Get the predicted values from the first stage\n",
        "df['ln_export_area_predicted'] = first_stage_model3.predict()\n",
        "\n",
        "# Step 3: Second Stage Regression\n",
        "# Define the exogenous variable (including the predicted values from the first stage)\n",
        "exog_second_stage = df[['ln_export_area_predicted', 'colony0', 'colony1', 'colony2', 'colony3', 'colony4', 'colony5', 'colony6',\n",
        "                        'abs_latitude', 'longitude', 'rain_min', 'humid_max', 'low_temp', 'ln_coastline_area']]\n",
        "\n",
        "# Add constant to the exogenous variables\n",
        "exog_second_stage = sm.add_constant(exog_second_stage)\n",
        "\n",
        "# Fit the second stage regression\n",
        "second_stage_model3 = sm.OLS(df['ln_maddison_pcgdp2000'], exog_second_stage).fit()\n",
        "\n",
        "# Print second stage results\n",
        "# print(\"\\nSecond Stage Results:\")\n",
        "# print(second_stage_model3.summary())"
      ],
      "metadata": {
        "id": "h3g56jVUlPC5"
      },
      "execution_count": null,
      "outputs": []
    },
    {
      "cell_type": "code",
      "source": [
        "# Extract first stage results\n",
        "coefficients_first_stage = first_stage_model3.params.round(3)\n",
        "std_errors_first_stage = first_stage_model3.bse.round(3)\n",
        "\n",
        "# Define variables to exclude\n",
        "exclude_variables = ['colony0', 'colony1', 'colony2', 'colony3', 'colony4', 'colony5', 'colony6', 'abs_latitude', 'longitude', 'rain_min', 'humid_max', 'low_temp', 'ln_coastline_area']\n",
        "\n",
        "# Create first stage results DataFrame\n",
        "first_stage_results_df = pd.DataFrame({'Variable': coefficients_first_stage.index,\n",
        "                                       'Coefficient': coefficients_first_stage.values,\n",
        "                                       'Std. Error': std_errors_first_stage.values})\n",
        "\n",
        "# Exclude specified variables\n",
        "first_stage_results_df = first_stage_results_df[~first_stage_results_df['Variable'].isin(exclude_variables)]\n",
        "\n",
        "# Add \"Colony Fixed Effects\" row\n",
        "colony_fixed_effects_row = pd.DataFrame({'Variable': ['Colony Fixed Effects'], 'Coefficient': ['Yes'], 'Std. Error': ['']})\n",
        "first_stage_results_df = pd.concat([first_stage_results_df, colony_fixed_effects_row], ignore_index=True)\n",
        "\n",
        "# Add \"Geography Controls\" row\n",
        "geography_controls_row = pd.DataFrame({'Variable': ['Geography Controls'], 'Coefficient': ['Yes'], 'Std. Error': ['']})\n",
        "first_stage_results_df = pd.concat([first_stage_results_df, geography_controls_row], ignore_index=True)\n",
        "\n",
        "# Print first stage table\n",
        "print(\"\\nFirst Stage Results:\")\n",
        "print(tabulate(first_stage_results_df, headers='keys', tablefmt='fancy_grid', showindex=False))\n",
        "\n",
        "# Extract second stage results\n",
        "coefficients_second_stage = second_stage_model3.params.round(3)\n",
        "std_errors_second_stage = second_stage_model3.bse.round(3)\n",
        "\n",
        "# Create second stage results DataFrame\n",
        "second_stage_results_df = pd.DataFrame({'Variable': coefficients_second_stage.index,\n",
        "                                        'Coefficient': coefficients_second_stage.values,\n",
        "                                        'Std. Error': std_errors_second_stage.values})\n",
        "\n",
        "# Exclude specified variables\n",
        "second_stage_results_df = second_stage_results_df[~second_stage_results_df['Variable'].isin(exclude_variables)]\n",
        "\n",
        "# Add \"Colony Fixed Effects\" row\n",
        "second_stage_results_df = pd.concat([second_stage_results_df, colony_fixed_effects_row], ignore_index=True)\n",
        "\n",
        "# Add \"Geography Controls\" row\n",
        "second_stage_results_df = pd.concat([second_stage_results_df, geography_controls_row], ignore_index=True)\n",
        "\n",
        "# Print second stage table\n",
        "print(\"\\nSecond Stage Results:\")\n",
        "print(tabulate(second_stage_results_df, headers='keys', tablefmt='fancy_grid', showindex=False))\n"
      ],
      "metadata": {
        "colab": {
          "base_uri": "https://localhost:8080/"
        },
        "id": "DSZtgs9IubNq",
        "outputId": "31df6dbf-0d14-4301-fc5f-511dfa301236"
      },
      "execution_count": null,
      "outputs": [
        {
          "output_type": "stream",
          "name": "stdout",
          "text": [
            "\n",
            "First Stage Results:\n",
            "╒═══════════════════════════╤═══════════════╤══════════════╕\n",
            "│ Variable                  │ Coefficient   │ Std. Error   │\n",
            "╞═══════════════════════════╪═══════════════╪══════════════╡\n",
            "│ const                     │ 42.288        │ 19.336       │\n",
            "├───────────────────────────┼───────────────┼──────────────┤\n",
            "│ atlantic_distance_minimum │ -1.316        │ 0.761        │\n",
            "├───────────────────────────┼───────────────┼──────────────┤\n",
            "│ indian_distance_minimum   │ -1.081        │ 0.697        │\n",
            "├───────────────────────────┼───────────────┼──────────────┤\n",
            "│ saharan_distance_minimum  │ -1.139        │ 1.595        │\n",
            "├───────────────────────────┼───────────────┼──────────────┤\n",
            "│ red_sea_distance_minimum  │ -1.221        │ 1.82         │\n",
            "├───────────────────────────┼───────────────┼──────────────┤\n",
            "│ Colony Fixed Effects      │ Yes           │              │\n",
            "├───────────────────────────┼───────────────┼──────────────┤\n",
            "│ Geography Controls        │ Yes           │              │\n",
            "╘═══════════════════════════╧═══════════════╧══════════════╛\n",
            "\n",
            "Second Stage Results:\n",
            "╒══════════════════════════╤═══════════════╤══════════════╕\n",
            "│ Variable                 │ Coefficient   │ Std. Error   │\n",
            "╞══════════════════════════╪═══════════════╪══════════════╡\n",
            "│ const                    │ 8.771         │ 1.487        │\n",
            "├──────────────────────────┼───────────────┼──────────────┤\n",
            "│ ln_export_area_predicted │ -0.286        │ 0.096        │\n",
            "├──────────────────────────┼───────────────┼──────────────┤\n",
            "│ Colony Fixed Effects     │ Yes           │              │\n",
            "├──────────────────────────┼───────────────┼──────────────┤\n",
            "│ Geography Controls       │ Yes           │              │\n",
            "╘══════════════════════════╧═══════════════╧══════════════╛\n"
          ]
        }
      ]
    },
    {
      "cell_type": "markdown",
      "source": [
        "## **Figures**"
      ],
      "metadata": {
        "id": "0GX3WIJGWKrK"
      }
    },
    {
      "cell_type": "code",
      "execution_count": null,
      "metadata": {
        "id": "mMihC3Q8Ewxr",
        "colab": {
          "base_uri": "https://localhost:8080/",
          "height": 1000
        },
        "outputId": "0718d02f-8626-4d72-8930-092d03c5b904"
      },
      "outputs": [
        {
          "output_type": "display_data",
          "data": {
            "text/plain": [
              "<Figure size 640x480 with 1 Axes>"
            ],
            "image/png": "[encoded data removed]"
          },
          "metadata": {}
        },
        {
          "output_type": "display_data",
          "data": {
            "text/plain": [
              "<Figure size 640x480 with 1 Axes>"
            ],
            "image/png": "[encoded data removed]"
          },
          "metadata": {}
        },
        {
          "output_type": "display_data",
          "data": {
            "text/plain": [
              "<Figure size 640x480 with 1 Axes>"
            ],
            "image/png": "[encoded data removed]"
          },
          "metadata": {}
        },
        {
          "output_type": "display_data",
          "data": {
            "text/plain": [
              "<Figure size 640x480 with 1 Axes>"
            ],
            "image/png": "[encoded data removed]"
          },
          "metadata": {}
        }
      ],
      "source": [
        "# Figure 3: Relationship between slaves exported per area and GDP\n",
        "sns.regplot(x='ln_export_area', y='ln_maddison_pcgdp2000', data=df)\n",
        "plt.title('Figure 3: Relationship between Log Slave Exports Normalized by Land Area, ln(exports/area), and Log Real Per Capita GDP in 2000, ln y')\n",
        "plt.xlabel('Slave Exports, ln(exports/area)')\n",
        "plt.ylabel('Log Real Per Capita GDP in 2000, ln y')\n",
        "plt.show()\n",
        "\n",
        "# Figure 4: Relationship between ln_pop_dens_1400 and slaves exported per area\n",
        "# Assuming 'ethnic_fractionalization' is available in df\n",
        "sns.regplot(x='ln_pop_dens_1400', y='ln_export_area', data=df)\n",
        "plt.title('Figure 4: Relationship between Initial Population Density and Slave Exports')\n",
        "plt.xlabel('Log Population Density in 1400')\n",
        "plt.ylabel('Slave Exports, ln(exports/area)')\n",
        "plt.show()\n",
        "\n",
        "# Figure 6: Relationship between slaves exported per area and Ethnic Fractionalization\n",
        "# Assuming 'ethnic_fractionalization' is available in df\n",
        "sns.regplot(x='ln_export_area', y='ethnic_fractionalization', data=df)\n",
        "plt.title('Figure 6: Relationship between Slave Exports and Current Ethnic Fractionalization')\n",
        "plt.xlabel('Slave Exports, ln(exports/area)')\n",
        "plt.ylabel('Ethnic Fractionalization')\n",
        "plt.show()\n",
        "\n",
        "# Figure 7: Relationship between slaves exported per area and Nineteenth-Century State Development\n",
        "# Assuming 'ethnic_fractionalization' is available in df\n",
        "sns.regplot(x='ln_export_area', y='state_dev', data=df)\n",
        "plt.title('Figure 7: Relationship between Slave Exports and Nineteenth-Century State Development')\n",
        "plt.xlabel('Slave Exports, ln(exports/area)')\n",
        "plt.ylabel('19th Century State Development')\n",
        "plt.show()\n"
      ]
    },
    {
      "cell_type": "markdown",
      "source": [
        "# **Replicating the models with new GDP data**\n",
        "\n",
        "In this section, we replicate the OLS models and the IV models using GDP data from 2001 and 2022 and an average for the period 2001 - 2022."
      ],
      "metadata": {
        "id": "qr2wGoCg_t5I"
      }
    },
    {
      "cell_type": "markdown",
      "source": [
        "## **GDP 2001**"
      ],
      "metadata": {
        "id": "lFN-J1d43eDN"
      }
    },
    {
      "cell_type": "markdown",
      "source": [
        "### OLS Regressions"
      ],
      "metadata": {
        "id": "Abit7bwW_FnX"
      }
    },
    {
      "cell_type": "code",
      "source": [
        "# Table 3: OLS regression with and without controls\n",
        "X1 = sm.add_constant(df[['ln_export_area', 'colony0', 'colony1', 'colony2', 'colony3', 'colony4', 'colony5', 'colony6', 'colony7']])\n",
        "X2 = sm.add_constant(df[['ln_export_area', 'abs_latitude', 'longitude', 'rain_min', 'humid_max', 'low_temp', 'ln_coastline_area',  'colony0', 'colony1', 'colony2', 'colony3', 'colony4', 'colony5', 'colony6', 'colony7']])\n",
        "X4 = sm.add_constant(df[['ln_export_area', 'abs_latitude', 'longitude', 'rain_min', 'humid_max', 'low_temp', 'ln_coastline_area', 'island_dum', 'islam', 'legor_fr', 'region_n',  'colony0', 'colony1', 'colony2', 'colony3', 'colony4', 'colony5', 'colony6', 'colony7']])\n",
        "\n",
        "# Fit the models\n",
        "model1_gdp01 = sm.OLS(df['gpd01'], X1).fit()\n",
        "model2_gdp01 = sm.OLS(df['gpd01'], X2).fit()\n",
        "model4_gdp01 = sm.OLS(df['gpd01'], X4).fit()\n",
        "\n",
        "# Extract coefficients and other statistics for the specified variables\n",
        "variables = ['ln_export_area', 'abs_latitude', 'longitude', 'rain_min', 'humid_max', 'low_temp',\n",
        "             'ln_coastline_area', 'island_dum', 'islam', 'legor_fr', 'legor_uk', 'region_n',\n",
        "             'ln_avg_gold_pop', 'ln_avg_oil_pop', 'ln_avg_all_diamonds_pop']\n",
        "\n",
        "results = []\n",
        "\n",
        "# Populate the results list\n",
        "for var in variables:\n",
        "    row_values = {'Variable': var}\n",
        "    for i, model in enumerate([model1_gdp01, model2_gdp01, model4_gdp01]):\n",
        "        if var in model.params:\n",
        "            coefficient = round(model.params[var], 3)\n",
        "            std_error = round(model.bse[var], 3)\n",
        "            p_value = round(model.pvalues[var], 3)\n",
        "            std_p_value = f\"{std_error} ({p_value})\"\n",
        "            row_values[f'Model {i+1} Coefficient'] = coefficient\n",
        "            row_values[f'Model {i+1} Std. Error (P-value)'] = std_p_value\n",
        "        else:\n",
        "            row_values[f'Model {i+1} Coefficient'] = ''\n",
        "            row_values[f'Model {i+1} Std. Error (P-value)'] = ''\n",
        "    results.append(row_values)\n",
        "\n",
        "# Convert the results list to a DataFrame\n",
        "results_df = pd.DataFrame(results)\n",
        "\n",
        "# Convert NaN values to empty strings\n",
        "results_df = results_df.replace({np.nan: ''})\n",
        "\n",
        "# Convert the DataFrame to a tabular format with fancy styling\n",
        "table = tabulate(results_df, headers='keys', tablefmt='fancy_grid', showindex=False)\n",
        "\n",
        "# Print the table\n",
        "print(table)\n"
      ],
      "metadata": {
        "id": "Xy_Fusfs3kmo",
        "colab": {
          "base_uri": "https://localhost:8080/"
        },
        "outputId": "dcea7b4f-afa1-417e-9203-d4dfd440d297"
      },
      "execution_count": null,
      "outputs": [
        {
          "output_type": "stream",
          "name": "stdout",
          "text": [
            "╒═════════════════════════╤═══════════════════════╤════════════════════════════════╤═══════════════════════╤════════════════════════════════╤═══════════════════════╤════════════════════════════════╕\n",
            "│ Variable                │ Model 1 Coefficient   │ Model 1 Std. Error (P-value)   │ Model 2 Coefficient   │ Model 2 Std. Error (P-value)   │ Model 3 Coefficient   │ Model 3 Std. Error (P-value)   │\n",
            "╞═════════════════════════╪═══════════════════════╪════════════════════════════════╪═══════════════════════╪════════════════════════════════╪═══════════════════════╪════════════════════════════════╡\n",
            "│ ln_export_area          │ -0.115                │ 0.029 (0.0)                    │ -0.093                │ 0.036 (0.013)                  │ -0.101                │ 0.046 (0.034)                  │\n",
            "├─────────────────────────┼───────────────────────┼────────────────────────────────┼───────────────────────┼────────────────────────────────┼───────────────────────┼────────────────────────────────┤\n",
            "│ abs_latitude            │                       │                                │ 0.01                  │ 0.02 (0.618)                   │ 0.019                 │ 0.023 (0.406)                  │\n",
            "├─────────────────────────┼───────────────────────┼────────────────────────────────┼───────────────────────┼────────────────────────────────┼───────────────────────┼────────────────────────────────┤\n",
            "│ longitude               │                       │                                │ -0.002                │ 0.007 (0.781)                  │ -0.004                │ 0.007 (0.607)                  │\n",
            "├─────────────────────────┼───────────────────────┼────────────────────────────────┼───────────────────────┼────────────────────────────────┼───────────────────────┼────────────────────────────────┤\n",
            "│ rain_min                │                       │                                │ 0.002                 │ 0.008 (0.812)                  │ -0.001                │ 0.009 (0.947)                  │\n",
            "├─────────────────────────┼───────────────────────┼────────────────────────────────┼───────────────────────┼────────────────────────────────┼───────────────────────┼────────────────────────────────┤\n",
            "│ humid_max               │                       │                                │ 0.003                 │ 0.014 (0.85)                   │ -0.002                │ 0.015 (0.908)                  │\n",
            "├─────────────────────────┼───────────────────────┼────────────────────────────────┼───────────────────────┼────────────────────────────────┼───────────────────────┼────────────────────────────────┤\n",
            "│ low_temp                │                       │                                │ -0.001                │ 0.035 (0.988)                  │ 0.023                 │ 0.036 (0.525)                  │\n",
            "├─────────────────────────┼───────────────────────┼────────────────────────────────┼───────────────────────┼────────────────────────────────┼───────────────────────┼────────────────────────────────┤\n",
            "│ ln_coastline_area       │                       │                                │ 0.101                 │ 0.047 (0.041)                  │ 0.125                 │ 0.056 (0.031)                  │\n",
            "├─────────────────────────┼───────────────────────┼────────────────────────────────┼───────────────────────┼────────────────────────────────┼───────────────────────┼────────────────────────────────┤\n",
            "│ island_dum              │                       │                                │                       │                                │ -0.37                 │ 0.694 (0.598)                  │\n",
            "├─────────────────────────┼───────────────────────┼────────────────────────────────┼───────────────────────┼────────────────────────────────┼───────────────────────┼────────────────────────────────┤\n",
            "│ islam                   │                       │                                │                       │                                │ -0.009                │ 0.004 (0.019)                  │\n",
            "├─────────────────────────┼───────────────────────┼────────────────────────────────┼───────────────────────┼────────────────────────────────┼───────────────────────┼────────────────────────────────┤\n",
            "│ legor_fr                │                       │                                │                       │                                │ 0.091                 │ 0.661 (0.891)                  │\n",
            "├─────────────────────────┼───────────────────────┼────────────────────────────────┼───────────────────────┼────────────────────────────────┼───────────────────────┼────────────────────────────────┤\n",
            "│ legor_uk                │                       │                                │                       │                                │                       │                                │\n",
            "├─────────────────────────┼───────────────────────┼────────────────────────────────┼───────────────────────┼────────────────────────────────┼───────────────────────┼────────────────────────────────┤\n",
            "│ region_n                │                       │                                │                       │                                │ 0.459                 │ 0.635 (0.475)                  │\n",
            "├─────────────────────────┼───────────────────────┼────────────────────────────────┼───────────────────────┼────────────────────────────────┼───────────────────────┼────────────────────────────────┤\n",
            "│ ln_avg_gold_pop         │                       │                                │                       │                                │                       │                                │\n",
            "├─────────────────────────┼───────────────────────┼────────────────────────────────┼───────────────────────┼────────────────────────────────┼───────────────────────┼────────────────────────────────┤\n",
            "│ ln_avg_oil_pop          │                       │                                │                       │                                │                       │                                │\n",
            "├─────────────────────────┼───────────────────────┼────────────────────────────────┼───────────────────────┼────────────────────────────────┼───────────────────────┼────────────────────────────────┤\n",
            "│ ln_avg_all_diamonds_pop │                       │                                │                       │                                │                       │                                │\n",
            "╘═════════════════════════╧═══════════════════════╧════════════════════════════════╧═══════════════════════╧════════════════════════════════╧═══════════════════════╧════════════════════════════════╛\n"
          ]
        }
      ]
    },
    {
      "cell_type": "markdown",
      "source": [
        "### IV and 2SLS"
      ],
      "metadata": {
        "id": "bTXFDFyD-wpF"
      }
    },
    {
      "cell_type": "markdown",
      "source": [
        "**Model 1**"
      ],
      "metadata": {
        "id": "QfN1d3zb1f5y"
      }
    },
    {
      "cell_type": "code",
      "source": [
        "import statsmodels.api as sm\n",
        "\n",
        "# Step 1: First Stage Regression\n",
        "# Define the endogenous variable (to be instrumented) and the instrument\n",
        "endog_first_stage = df['ln_export_area']\n",
        "instrument_first_stage = df[['atlantic_distance_minimum', 'indian_distance_minimum', 'saharan_distance_minimum', 'red_sea_distance_minimum']]\n",
        "\n",
        "# Add constant to the instrument\n",
        "instrument_first_stage = sm.add_constant(instrument_first_stage)\n",
        "\n",
        "# Fit the first stage regression\n",
        "first_stage_model1 = sm.OLS(endog_first_stage, instrument_first_stage).fit()\n",
        "\n",
        "# Print first stage results\n",
        "# print(\"First Stage Results:\")\n",
        "# print(first_stage_model1.summary())\n",
        "\n",
        "# Step 2: Predicted Values from First Stage\n",
        "# Get the predicted values from the first stage\n",
        "df['ln_export_area_predicted'] = first_stage_model1.predict()\n",
        "\n",
        "# Step 3: Second Stage Regression\n",
        "# Define the exogenous variable (including the predicted values from the first stage)\n",
        "exog_second_stage = df[['ln_export_area_predicted']]\n",
        "\n",
        "# Add constant to the exogenous variables\n",
        "exog_second_stage = sm.add_constant(exog_second_stage)\n",
        "\n",
        "# Fit the second stage regression\n",
        "second_stage_model1_gdp01 = sm.OLS(df['gpd01'], exog_second_stage).fit()\n",
        "\n",
        "# Print second stage results\n",
        "# print(\"\\nSecond Stage Results:\")\n",
        "# print(second_stage_model1_gdp01.summary())\n"
      ],
      "metadata": {
        "id": "ZLyHj8Nf-yKg"
      },
      "execution_count": null,
      "outputs": []
    },
    {
      "cell_type": "code",
      "source": [
        "# Extracting coefficients and standard errors for the second stage\n",
        "coefficients_second_stage = second_stage_model1_gdp01.params\n",
        "std_errors_second_stage = second_stage_model1_gdp01.bse\n",
        "\n",
        "# Create a DataFrame with coefficients and standard errors for the second stage\n",
        "second_stage_results_df = pd.DataFrame({'Variable': coefficients_second_stage.index, 'Coefficient': coefficients_second_stage.values, 'Std. Error': std_errors_second_stage.values})\n",
        "\n",
        "# Round the numbers to three decimals\n",
        "second_stage_results_df = second_stage_results_df.round(3)\n",
        "\n",
        "# Print the name of the second stage\n",
        "print(\"\\nSecond Stage Results:\")\n",
        "# Print the table\n",
        "print(tabulate(second_stage_results_df, headers='keys', tablefmt='fancy_grid', showindex=False))"
      ],
      "metadata": {
        "colab": {
          "base_uri": "https://localhost:8080/"
        },
        "id": "KUaaQuP8wm3N",
        "outputId": "895ccc47-5734-4701-fc34-633ad78e1073"
      },
      "execution_count": null,
      "outputs": [
        {
          "output_type": "stream",
          "name": "stdout",
          "text": [
            "\n",
            "Second Stage Results:\n",
            "╒══════════════════════════╤═══════════════╤══════════════╕\n",
            "│ Variable                 │   Coefficient │   Std. Error │\n",
            "╞══════════════════════════╪═══════════════╪══════════════╡\n",
            "│ const                    │         7.933 │        0.218 │\n",
            "├──────────────────────────┼───────────────┼──────────────┤\n",
            "│ ln_export_area_predicted │        -0.263 │        0.057 │\n",
            "╘══════════════════════════╧═══════════════╧══════════════╛\n"
          ]
        }
      ]
    },
    {
      "cell_type": "markdown",
      "source": [
        "**Model 2**"
      ],
      "metadata": {
        "id": "pBi23cQM1eo6"
      }
    },
    {
      "cell_type": "code",
      "source": [
        "import statsmodels.api as sm\n",
        "\n",
        "# Step 1: First Stage Regression\n",
        "# Define the endogenous variable (to be instrumented) and the instrument\n",
        "endog_first_stage = df['ln_export_area']\n",
        "instrument_first_stage = df[['atlantic_distance_minimum', 'indian_distance_minimum', 'saharan_distance_minimum', 'red_sea_distance_minimum', 'colony0', 'colony1', 'colony2', 'colony3', 'colony4', 'colony5', 'colony6']]\n",
        "\n",
        "# Add constant to the instrument\n",
        "instrument_first_stage = sm.add_constant(instrument_first_stage)\n",
        "\n",
        "# Fit the first stage regression\n",
        "first_stage_model2 = sm.OLS(endog_first_stage, instrument_first_stage).fit()\n",
        "\n",
        "# Print first stage results\n",
        "# print(\"First Stage Results:\")\n",
        "# print(first_stage_model2.summary())\n",
        "\n",
        "# Step 2: Predicted Values from First Stage\n",
        "# Get the predicted values from the first stage\n",
        "df['ln_export_area_predicted'] = first_stage_model2.predict()\n",
        "\n",
        "# Step 3: Second Stage Regression\n",
        "# Define the exogenous variable (including the predicted values from the first stage)\n",
        "exog_second_stage = df[['ln_export_area_predicted', 'colony0', 'colony1', 'colony2', 'colony3', 'colony4', 'colony5', 'colony6']]\n",
        "\n",
        "# Add constant to the exogenous variables\n",
        "exog_second_stage = sm.add_constant(exog_second_stage)\n",
        "\n",
        "# Fit the second stage regression\n",
        "second_stage_model2_gdp01 = sm.OLS(df['gpd01'], exog_second_stage).fit()\n",
        "\n",
        "# Print second stage results\n",
        "# print(\"\\nSecond Stage Results:\")\n",
        "# print(second_stage_model2_gdp01.summary())"
      ],
      "metadata": {
        "id": "PaK9TDeX_L9P"
      },
      "execution_count": null,
      "outputs": []
    },
    {
      "cell_type": "code",
      "source": [
        "# Extracting coefficients and standard errors for the second stage\n",
        "coefficients_second_stage = second_stage_model2_gdp01.params\n",
        "std_errors_second_stage = second_stage_model2_gdp01.bse\n",
        "\n",
        "# Create a DataFrame with coefficients and standard errors for the second stage\n",
        "second_stage_results_df = pd.DataFrame({'Variable': coefficients_second_stage.index, 'Coefficient': coefficients_second_stage.values, 'Std. Error': std_errors_second_stage.values})\n",
        "\n",
        "# Round the numbers to three decimals\n",
        "second_stage_results_df = second_stage_results_df.round(3)\n",
        "\n",
        "# Exclude colony variables from the second stage results table\n",
        "second_stage_results_df = second_stage_results_df[~second_stage_results_df['Variable'].str.startswith('colony')]\n",
        "\n",
        "# Add \"Colony Fixed Effects\" to the second stage results table\n",
        "second_stage_results_df = pd.concat([second_stage_results_df, colony_fixed_effects_row], ignore_index=True)\n",
        "\n",
        "# Print the name of the second stage\n",
        "print(\"\\nSecond Stage Results:\")\n",
        "# Print the table\n",
        "print(tabulate(second_stage_results_df, headers='keys', tablefmt='fancy_grid', showindex=False))"
      ],
      "metadata": {
        "colab": {
          "base_uri": "https://localhost:8080/"
        },
        "id": "92cFNIIjw19b",
        "outputId": "cd44094c-7b65-446f-f919-6f5b1062810c"
      },
      "execution_count": null,
      "outputs": [
        {
          "output_type": "stream",
          "name": "stdout",
          "text": [
            "\n",
            "Second Stage Results:\n",
            "╒══════════════════════════╤═══════════════╤══════════════╕\n",
            "│ Variable                 │ Coefficient   │ Std. Error   │\n",
            "╞══════════════════════════╪═══════════════╪══════════════╡\n",
            "│ const                    │ 9.651         │ 0.713        │\n",
            "├──────────────────────────┼───────────────┼──────────────┤\n",
            "│ ln_export_area_predicted │ -0.23         │ 0.046        │\n",
            "├──────────────────────────┼───────────────┼──────────────┤\n",
            "│ Colony Fixed Effects     │ Yes           │              │\n",
            "╘══════════════════════════╧═══════════════╧══════════════╛\n"
          ]
        }
      ]
    },
    {
      "cell_type": "markdown",
      "source": [
        "**Model 3**"
      ],
      "metadata": {
        "id": "wokBT75M1bKE"
      }
    },
    {
      "cell_type": "code",
      "source": [
        "import statsmodels.api as sm\n",
        "\n",
        "# Step 1: First Stage Regression\n",
        "# Define the endogenous variable (to be instrumented) and the instrument\n",
        "endog_first_stage = df['ln_export_area']\n",
        "instrument_first_stage = df[['atlantic_distance_minimum', 'indian_distance_minimum', 'saharan_distance_minimum', 'red_sea_distance_minimum',\n",
        "                             'colony0', 'colony1', 'colony2', 'colony3', 'colony4', 'colony5', 'colony6',\n",
        "                             'abs_latitude', 'longitude', 'rain_min', 'humid_max', 'low_temp', 'ln_coastline_area']]\n",
        "\n",
        "# Add constant to the instrument\n",
        "instrument_first_stage = sm.add_constant(instrument_first_stage)\n",
        "\n",
        "# Fit the first stage regression\n",
        "first_stage_model3 = sm.OLS(endog_first_stage, instrument_first_stage).fit()\n",
        "\n",
        "# Print first stage results\n",
        "# print(\"First Stage Results:\")\n",
        "# print(first_stage_model3.summary())\n",
        "\n",
        "# Step 2: Predicted Values from First Stage\n",
        "# Get the predicted values from the first stage\n",
        "df['ln_export_area_predicted'] = first_stage_model3.predict()\n",
        "\n",
        "# Step 3: Second Stage Regression\n",
        "# Define the exogenous variable (including the predicted values from the first stage)\n",
        "exog_second_stage = df[['ln_export_area_predicted', 'colony0', 'colony1', 'colony2', 'colony3', 'colony4', 'colony5', 'colony6',\n",
        "                        'abs_latitude', 'longitude', 'rain_min', 'humid_max', 'low_temp', 'ln_coastline_area']]\n",
        "\n",
        "# Add constant to the exogenous variables\n",
        "exog_second_stage = sm.add_constant(exog_second_stage)\n",
        "\n",
        "# Fit the second stage regression\n",
        "second_stage_model3_gdp01 = sm.OLS(df['gpd01'], exog_second_stage).fit()\n",
        "\n",
        "# Print second stage results\n",
        "# print(\"\\nSecond Stage Results:\")\n",
        "# print(second_stage_model3_gdp01.summary())"
      ],
      "metadata": {
        "id": "gueLF7K-_Lws"
      },
      "execution_count": null,
      "outputs": []
    },
    {
      "cell_type": "code",
      "source": [
        "# Extract second stage results\n",
        "coefficients_second_stage = second_stage_model3_gdp01.params.round(3)\n",
        "std_errors_second_stage = second_stage_model3_gdp01.bse.round(3)\n",
        "\n",
        "# Create second stage results DataFrame\n",
        "second_stage_results_df = pd.DataFrame({'Variable': coefficients_second_stage.index,\n",
        "                                        'Coefficient': coefficients_second_stage.values,\n",
        "                                        'Std. Error': std_errors_second_stage.values})\n",
        "\n",
        "# Exclude specified variables\n",
        "second_stage_results_df = second_stage_results_df[~second_stage_results_df['Variable'].isin(exclude_variables)]\n",
        "\n",
        "# Add \"Colony Fixed Effects\" row\n",
        "second_stage_results_df = pd.concat([second_stage_results_df, colony_fixed_effects_row], ignore_index=True)\n",
        "\n",
        "# Add \"Geography Controls\" row\n",
        "second_stage_results_df = pd.concat([second_stage_results_df, geography_controls_row], ignore_index=True)\n",
        "\n",
        "# Print second stage table\n",
        "print(\"\\nSecond Stage Results:\")\n",
        "print(tabulate(second_stage_results_df, headers='keys', tablefmt='fancy_grid', showindex=False))"
      ],
      "metadata": {
        "colab": {
          "base_uri": "https://localhost:8080/"
        },
        "id": "o0mDWhvnxWNb",
        "outputId": "0d493f40-dedf-4dff-c3f5-0ce2086fb2c6"
      },
      "execution_count": null,
      "outputs": [
        {
          "output_type": "stream",
          "name": "stdout",
          "text": [
            "\n",
            "Second Stage Results:\n",
            "╒══════════════════════════╤═══════════════╤══════════════╕\n",
            "│ Variable                 │ Coefficient   │ Std. Error   │\n",
            "╞══════════════════════════╪═══════════════╪══════════════╡\n",
            "│ const                    │ 12.074        │ 1.739        │\n",
            "├──────────────────────────┼───────────────┼──────────────┤\n",
            "│ ln_export_area_predicted │ -0.41         │ 0.113        │\n",
            "├──────────────────────────┼───────────────┼──────────────┤\n",
            "│ Colony Fixed Effects     │ Yes           │              │\n",
            "├──────────────────────────┼───────────────┼──────────────┤\n",
            "│ Geography Controls       │ Yes           │              │\n",
            "╘══════════════════════════╧═══════════════╧══════════════╛\n"
          ]
        }
      ]
    },
    {
      "cell_type": "markdown",
      "source": [
        "## **GDP 2022**"
      ],
      "metadata": {
        "id": "BUefcv6j-NZS"
      }
    },
    {
      "cell_type": "markdown",
      "source": [
        "### OLS Regressions"
      ],
      "metadata": {
        "id": "Qx6-B4Qy_7Lu"
      }
    },
    {
      "cell_type": "code",
      "source": [
        "# Table 3: OLS regression with and without controls\n",
        "X1 = sm.add_constant(df[['ln_export_area', 'colony0', 'colony1', 'colony2', 'colony3', 'colony4', 'colony5', 'colony6', 'colony7']])\n",
        "X2 = sm.add_constant(df[['ln_export_area', 'abs_latitude', 'longitude', 'rain_min', 'humid_max', 'low_temp', 'ln_coastline_area',  'colony0', 'colony1', 'colony2', 'colony3', 'colony4', 'colony5', 'colony6', 'colony7']])\n",
        "X4 = sm.add_constant(df[['ln_export_area', 'abs_latitude', 'longitude', 'rain_min', 'humid_max', 'low_temp', 'ln_coastline_area', 'island_dum', 'islam', 'legor_fr', 'region_n',  'colony0', 'colony1', 'colony2', 'colony3', 'colony4', 'colony5', 'colony6', 'colony7']])\n",
        "\n",
        "# Fit the models\n",
        "model1_gdp22 = sm.OLS(df['gdp22'], X1).fit()\n",
        "model2_gdp22 = sm.OLS(df['gdp22'], X2).fit()\n",
        "model4_gdp22 = sm.OLS(df['gdp22'], X4).fit()\n",
        "\n",
        "# Extract coefficients and other statistics for the specified variables\n",
        "variables = ['ln_export_area', 'abs_latitude', 'longitude', 'rain_min', 'humid_max', 'low_temp',\n",
        "             'ln_coastline_area', 'island_dum', 'islam', 'legor_fr', 'legor_uk', 'region_n',\n",
        "             'ln_avg_gold_pop', 'ln_avg_oil_pop', 'ln_avg_all_diamonds_pop']\n",
        "\n",
        "results = []\n",
        "\n",
        "# Populate the results list\n",
        "for var in variables:\n",
        "    row_values = {'Variable': var}\n",
        "    for i, model in enumerate([model1_gdp22, model2_gdp22, model4_gdp22]):\n",
        "        if var in model.params:\n",
        "            coefficient = round(model.params[var], 3)\n",
        "            std_error = round(model.bse[var], 3)\n",
        "            p_value = round(model.pvalues[var], 3)\n",
        "            std_p_value = f\"{std_error} ({p_value})\"\n",
        "            row_values[f'Model {i+1} Coefficient'] = coefficient\n",
        "            row_values[f'Model {i+1} Std. Error (P-value)'] = std_p_value\n",
        "        else:\n",
        "            row_values[f'Model {i+1} Coefficient'] = ''\n",
        "            row_values[f'Model {i+1} Std. Error (P-value)'] = ''\n",
        "    results.append(row_values)\n",
        "\n",
        "# Convert the results list to a DataFrame\n",
        "results_df = pd.DataFrame(results)\n",
        "\n",
        "# Convert NaN values to empty strings\n",
        "results_df = results_df.replace({np.nan: ''})\n",
        "\n",
        "# Convert the DataFrame to a tabular format with fancy styling\n",
        "table = tabulate(results_df, headers='keys', tablefmt='fancy_grid', showindex=False)\n",
        "\n",
        "# Print the table\n",
        "print(table)\n"
      ],
      "metadata": {
        "id": "ObfpGEZ9-Nzm",
        "colab": {
          "base_uri": "https://localhost:8080/"
        },
        "outputId": "83d7a072-9ce0-4ec2-8799-c86a57f7762f"
      },
      "execution_count": null,
      "outputs": [
        {
          "output_type": "stream",
          "name": "stdout",
          "text": [
            "╒═════════════════════════╤═══════════════════════╤════════════════════════════════╤═══════════════════════╤════════════════════════════════╤═══════════════════════╤════════════════════════════════╕\n",
            "│ Variable                │ Model 1 Coefficient   │ Model 1 Std. Error (P-value)   │ Model 2 Coefficient   │ Model 2 Std. Error (P-value)   │ Model 3 Coefficient   │ Model 3 Std. Error (P-value)   │\n",
            "╞═════════════════════════╪═══════════════════════╪════════════════════════════════╪═══════════════════════╪════════════════════════════════╪═══════════════════════╪════════════════════════════════╡\n",
            "│ ln_export_area          │ -0.115                │ 0.029 (0.0)                    │ -0.083                │ 0.035 (0.023)                  │ -0.088                │ 0.044 (0.055)                  │\n",
            "├─────────────────────────┼───────────────────────┼────────────────────────────────┼───────────────────────┼────────────────────────────────┼───────────────────────┼────────────────────────────────┤\n",
            "│ abs_latitude            │                       │                                │ 0.008                 │ 0.02 (0.704)                   │ 0.008                 │ 0.022 (0.716)                  │\n",
            "├─────────────────────────┼───────────────────────┼────────────────────────────────┼───────────────────────┼────────────────────────────────┼───────────────────────┼────────────────────────────────┤\n",
            "│ longitude               │                       │                                │ -0.003                │ 0.007 (0.686)                  │ -0.007                │ 0.007 (0.344)                  │\n",
            "├─────────────────────────┼───────────────────────┼────────────────────────────────┼───────────────────────┼────────────────────────────────┼───────────────────────┼────────────────────────────────┤\n",
            "│ rain_min                │                       │                                │ 0.004                 │ 0.008 (0.642)                  │ 0.005                 │ 0.009 (0.589)                  │\n",
            "├─────────────────────────┼───────────────────────┼────────────────────────────────┼───────────────────────┼────────────────────────────────┼───────────────────────┼────────────────────────────────┤\n",
            "│ humid_max               │                       │                                │ 0.006                 │ 0.014 (0.661)                  │ 0.008                 │ 0.015 (0.607)                  │\n",
            "├─────────────────────────┼───────────────────────┼────────────────────────────────┼───────────────────────┼────────────────────────────────┼───────────────────────┼────────────────────────────────┤\n",
            "│ low_temp                │                       │                                │ -0.016                │ 0.034 (0.636)                  │ -0.005                │ 0.035 (0.891)                  │\n",
            "├─────────────────────────┼───────────────────────┼────────────────────────────────┼───────────────────────┼────────────────────────────────┼───────────────────────┼────────────────────────────────┤\n",
            "│ ln_coastline_area       │                       │                                │ 0.121                 │ 0.047 (0.014)                  │ 0.124                 │ 0.054 (0.028)                  │\n",
            "├─────────────────────────┼───────────────────────┼────────────────────────────────┼───────────────────────┼────────────────────────────────┼───────────────────────┼────────────────────────────────┤\n",
            "│ island_dum              │                       │                                │                       │                                │ -0.326                │ 0.674 (0.632)                  │\n",
            "├─────────────────────────┼───────────────────────┼────────────────────────────────┼───────────────────────┼────────────────────────────────┼───────────────────────┼────────────────────────────────┤\n",
            "│ islam                   │                       │                                │                       │                                │ -0.008                │ 0.004 (0.031)                  │\n",
            "├─────────────────────────┼───────────────────────┼────────────────────────────────┼───────────────────────┼────────────────────────────────┼───────────────────────┼────────────────────────────────┤\n",
            "│ legor_fr                │                       │                                │                       │                                │ 0.824                 │ 0.641 (0.208)                  │\n",
            "├─────────────────────────┼───────────────────────┼────────────────────────────────┼───────────────────────┼────────────────────────────────┼───────────────────────┼────────────────────────────────┤\n",
            "│ legor_uk                │                       │                                │                       │                                │                       │                                │\n",
            "├─────────────────────────┼───────────────────────┼────────────────────────────────┼───────────────────────┼────────────────────────────────┼───────────────────────┼────────────────────────────────┤\n",
            "│ region_n                │                       │                                │                       │                                │ 0.53                  │ 0.616 (0.396)                  │\n",
            "├─────────────────────────┼───────────────────────┼────────────────────────────────┼───────────────────────┼────────────────────────────────┼───────────────────────┼────────────────────────────────┤\n",
            "│ ln_avg_gold_pop         │                       │                                │                       │                                │                       │                                │\n",
            "├─────────────────────────┼───────────────────────┼────────────────────────────────┼───────────────────────┼────────────────────────────────┼───────────────────────┼────────────────────────────────┤\n",
            "│ ln_avg_oil_pop          │                       │                                │                       │                                │                       │                                │\n",
            "├─────────────────────────┼───────────────────────┼────────────────────────────────┼───────────────────────┼────────────────────────────────┼───────────────────────┼────────────────────────────────┤\n",
            "│ ln_avg_all_diamonds_pop │                       │                                │                       │                                │                       │                                │\n",
            "╘═════════════════════════╧═══════════════════════╧════════════════════════════════╧═══════════════════════╧════════════════════════════════╧═══════════════════════╧════════════════════════════════╛\n"
          ]
        }
      ]
    },
    {
      "cell_type": "markdown",
      "source": [
        "## IV and 2SLS"
      ],
      "metadata": {
        "id": "NUxXMoVuxi2W"
      }
    },
    {
      "cell_type": "markdown",
      "source": [
        "**Model 1**"
      ],
      "metadata": {
        "id": "GoCN5kfG0tcF"
      }
    },
    {
      "cell_type": "code",
      "source": [
        "# Step 1: First Stage Regression\n",
        "# Define the endogenous variable (to be instrumented) and the instrument\n",
        "endog_first_stage = df['ln_export_area']\n",
        "instrument_first_stage = df[['atlantic_distance_minimum', 'indian_distance_minimum', 'saharan_distance_minimum', 'red_sea_distance_minimum']]\n",
        "\n",
        "# Add constant to the instrument\n",
        "instrument_first_stage = sm.add_constant(instrument_first_stage)\n",
        "\n",
        "# Fit the first stage regression\n",
        "first_stage_model1 = sm.OLS(endog_first_stage, instrument_first_stage).fit()\n",
        "\n",
        "# Print first stage results\n",
        "# print(\"First Stage Results:\")\n",
        "# print(first_stage_model1.summary())\n",
        "\n",
        "# Step 2: Predicted Values from First Stage\n",
        "# Get the predicted values from the first stage\n",
        "df['ln_export_area_predicted'] = first_stage_model1.predict()\n",
        "\n",
        "# Step 3: Second Stage Regression\n",
        "# Define the exogenous variable (including the predicted values from the first stage)\n",
        "exog_second_stage = df[['ln_export_area_predicted']]\n",
        "\n",
        "# Add constant to the exogenous variables\n",
        "exog_second_stage = sm.add_constant(exog_second_stage)\n",
        "\n",
        "# Fit the second stage regression\n",
        "second_stage_model1_gdp22 = sm.OLS(df['gdp22'], exog_second_stage).fit()\n",
        "\n",
        "# Print second stage results\n",
        "# print(\"\\nSecond Stage Results:\")\n",
        "# print(second_stage_model1_gdp22.summary())"
      ],
      "metadata": {
        "id": "2EJXXCUuxkiv"
      },
      "execution_count": null,
      "outputs": []
    },
    {
      "cell_type": "code",
      "source": [
        "# Extracting coefficients and standard errors for the second stage\n",
        "coefficients_second_stage = second_stage_model1_gdp22.params\n",
        "std_errors_second_stage = second_stage_model1_gdp22.bse\n",
        "\n",
        "# Create a DataFrame with coefficients and standard errors for the second stage\n",
        "second_stage_results_df = pd.DataFrame({'Variable': coefficients_second_stage.index, 'Coefficient': coefficients_second_stage.values, 'Std. Error': std_errors_second_stage.values})\n",
        "\n",
        "# Round the numbers to three decimals\n",
        "second_stage_results_df = second_stage_results_df.round(3)\n",
        "\n",
        "# Print the name of the second stage\n",
        "print(\"\\nSecond Stage Results:\")\n",
        "# Print the table\n",
        "print(tabulate(second_stage_results_df, headers='keys', tablefmt='fancy_grid', showindex=False))"
      ],
      "metadata": {
        "colab": {
          "base_uri": "https://localhost:8080/"
        },
        "id": "NfV09YPUxjOo",
        "outputId": "e09d4101-7946-49c4-c77e-17475d42ec17"
      },
      "execution_count": null,
      "outputs": [
        {
          "output_type": "stream",
          "name": "stdout",
          "text": [
            "\n",
            "Second Stage Results:\n",
            "╒══════════════════════════╤═══════════════╤══════════════╕\n",
            "│ Variable                 │   Coefficient │   Std. Error │\n",
            "╞══════════════════════════╪═══════════════╪══════════════╡\n",
            "│ const                    │         8.155 │        0.211 │\n",
            "├──────────────────────────┼───────────────┼──────────────┤\n",
            "│ ln_export_area_predicted │        -0.245 │        0.055 │\n",
            "╘══════════════════════════╧═══════════════╧══════════════╛\n"
          ]
        }
      ]
    },
    {
      "cell_type": "markdown",
      "source": [
        "**Model 2**"
      ],
      "metadata": {
        "id": "XTjR2GuL00BC"
      }
    },
    {
      "cell_type": "code",
      "source": [
        "import statsmodels.api as sm\n",
        "\n",
        "# Step 1: First Stage Regression\n",
        "# Define the endogenous variable (to be instrumented) and the instrument\n",
        "endog_first_stage = df['ln_export_area']\n",
        "instrument_first_stage = df[['atlantic_distance_minimum', 'indian_distance_minimum', 'saharan_distance_minimum', 'red_sea_distance_minimum', 'colony0', 'colony1', 'colony2', 'colony3', 'colony4', 'colony5', 'colony6']]\n",
        "\n",
        "# Add constant to the instrument\n",
        "instrument_first_stage = sm.add_constant(instrument_first_stage)\n",
        "\n",
        "# Fit the first stage regression\n",
        "first_stage_model2 = sm.OLS(endog_first_stage, instrument_first_stage).fit()\n",
        "\n",
        "# Print first stage results\n",
        "# print(\"First Stage Results:\")\n",
        "# print(first_stage_model2.summary())\n",
        "\n",
        "# Step 2: Predicted Values from First Stage\n",
        "# Get the predicted values from the first stage\n",
        "df['ln_export_area_predicted'] = first_stage_model2.predict()\n",
        "\n",
        "# Step 3: Second Stage Regression\n",
        "# Define the exogenous variable (including the predicted values from the first stage)\n",
        "exog_second_stage = df[['ln_export_area_predicted', 'colony0', 'colony1', 'colony2', 'colony3', 'colony4', 'colony5', 'colony6']]\n",
        "\n",
        "# Add constant to the exogenous variables\n",
        "exog_second_stage = sm.add_constant(exog_second_stage)\n",
        "\n",
        "# Fit the second stage regression\n",
        "second_stage_model2_gdp22 = sm.OLS(df['gdp22'], exog_second_stage).fit()\n",
        "\n",
        "# Print second stage results\n",
        "# print(\"\\nSecond Stage Results:\")\n",
        "# print(second_stage_model2_gdp22.summary())"
      ],
      "metadata": {
        "id": "FU4fLgkzxk7S"
      },
      "execution_count": null,
      "outputs": []
    },
    {
      "cell_type": "code",
      "source": [
        "# Extracting coefficients and standard errors for the second stage\n",
        "coefficients_second_stage = second_stage_model2_gdp22.params\n",
        "std_errors_second_stage = second_stage_model2_gdp22.bse\n",
        "\n",
        "# Create a DataFrame with coefficients and standard errors for the second stage\n",
        "second_stage_results_df = pd.DataFrame({'Variable': coefficients_second_stage.index, 'Coefficient': coefficients_second_stage.values, 'Std. Error': std_errors_second_stage.values})\n",
        "\n",
        "# Round the numbers to three decimals\n",
        "second_stage_results_df = second_stage_results_df.round(3)\n",
        "\n",
        "# Exclude colony variables from the second stage results table\n",
        "second_stage_results_df = second_stage_results_df[~second_stage_results_df['Variable'].str.startswith('colony')]\n",
        "\n",
        "# Add \"Colony Fixed Effects\" to the second stage results table\n",
        "second_stage_results_df = pd.concat([second_stage_results_df, colony_fixed_effects_row], ignore_index=True)\n",
        "\n",
        "# Print the name of the second stage\n",
        "print(\"\\nSecond Stage Results:\")\n",
        "# Print the table\n",
        "print(tabulate(second_stage_results_df, headers='keys', tablefmt='fancy_grid', showindex=False))"
      ],
      "metadata": {
        "colab": {
          "base_uri": "https://localhost:8080/"
        },
        "id": "78rzuTHlxxoP",
        "outputId": "c22ae011-3725-4bd5-f053-48be4ce350ab"
      },
      "execution_count": null,
      "outputs": [
        {
          "output_type": "stream",
          "name": "stdout",
          "text": [
            "\n",
            "Second Stage Results:\n",
            "╒══════════════════════════╤═══════════════╤══════════════╕\n",
            "│ Variable                 │ Coefficient   │ Std. Error   │\n",
            "╞══════════════════════════╪═══════════════╪══════════════╡\n",
            "│ const                    │ 9.349         │ 0.751        │\n",
            "├──────────────────────────┼───────────────┼──────────────┤\n",
            "│ ln_export_area_predicted │ -0.213        │ 0.048        │\n",
            "├──────────────────────────┼───────────────┼──────────────┤\n",
            "│ Colony Fixed Effects     │ Yes           │              │\n",
            "╘══════════════════════════╧═══════════════╧══════════════╛\n"
          ]
        }
      ]
    },
    {
      "cell_type": "markdown",
      "source": [
        "**Model 3**"
      ],
      "metadata": {
        "id": "XgBEgAOF02P7"
      }
    },
    {
      "cell_type": "code",
      "source": [
        "import statsmodels.api as sm\n",
        "\n",
        "# Step 1: First Stage Regression\n",
        "# Define the endogenous variable (to be instrumented) and the instrument\n",
        "endog_first_stage = df['ln_export_area']\n",
        "instrument_first_stage = df[['atlantic_distance_minimum', 'indian_distance_minimum', 'saharan_distance_minimum', 'red_sea_distance_minimum',\n",
        "                             'colony0', 'colony1', 'colony2', 'colony3', 'colony4', 'colony5', 'colony6',\n",
        "                             'abs_latitude', 'longitude', 'rain_min', 'humid_max', 'low_temp', 'ln_coastline_area']]\n",
        "\n",
        "# Add constant to the instrument\n",
        "instrument_first_stage = sm.add_constant(instrument_first_stage)\n",
        "\n",
        "# Fit the first stage regression\n",
        "first_stage_model3 = sm.OLS(endog_first_stage, instrument_first_stage).fit()\n",
        "\n",
        "# Print first stage results\n",
        "# print(\"First Stage Results:\")\n",
        "# print(first_stage_model3.summary())\n",
        "\n",
        "# Step 2: Predicted Values from First Stage\n",
        "# Get the predicted values from the first stage\n",
        "df['ln_export_area_predicted'] = first_stage_model3.predict()\n",
        "\n",
        "# Step 3: Second Stage Regression\n",
        "# Define the exogenous variable (including the predicted values from the first stage)\n",
        "exog_second_stage = df[['ln_export_area_predicted', 'colony0', 'colony1', 'colony2', 'colony3', 'colony4', 'colony5', 'colony6',\n",
        "                        'abs_latitude', 'longitude', 'rain_min', 'humid_max', 'low_temp', 'ln_coastline_area']]\n",
        "\n",
        "# Add constant to the exogenous variables\n",
        "exog_second_stage = sm.add_constant(exog_second_stage)\n",
        "\n",
        "# Fit the second stage regression\n",
        "second_stage_model3_gdp22 = sm.OLS(df['gdp22'], exog_second_stage).fit()\n",
        "\n",
        "# Print second stage results\n",
        "# print(\"\\nSecond Stage Results:\")\n",
        "# print(second_stage_model3_gdp22.summary())"
      ],
      "metadata": {
        "id": "lbXamV0zxlO3"
      },
      "execution_count": null,
      "outputs": []
    },
    {
      "cell_type": "code",
      "source": [
        "# Extract second stage results\n",
        "coefficients_second_stage = second_stage_model3_gdp22.params.round(3)\n",
        "std_errors_second_stage = second_stage_model3_gdp22.bse.round(3)\n",
        "\n",
        "# Create second stage results DataFrame\n",
        "second_stage_results_df = pd.DataFrame({'Variable': coefficients_second_stage.index,\n",
        "                                        'Coefficient': coefficients_second_stage.values,\n",
        "                                        'Std. Error': std_errors_second_stage.values})\n",
        "\n",
        "# Exclude specified variables\n",
        "second_stage_results_df = second_stage_results_df[~second_stage_results_df['Variable'].isin(exclude_variables)]\n",
        "\n",
        "# Add \"Colony Fixed Effects\" row\n",
        "second_stage_results_df = pd.concat([second_stage_results_df, colony_fixed_effects_row], ignore_index=True)\n",
        "\n",
        "# Add \"Geography Controls\" row\n",
        "second_stage_results_df = pd.concat([second_stage_results_df, geography_controls_row], ignore_index=True)\n",
        "\n",
        "# Print second stage table\n",
        "print(\"\\nSecond Stage Results:\")\n",
        "print(tabulate(second_stage_results_df, headers='keys', tablefmt='fancy_grid', showindex=False))"
      ],
      "metadata": {
        "colab": {
          "base_uri": "https://localhost:8080/"
        },
        "id": "BpG0jgVJyOgW",
        "outputId": "5dc00cd4-a13b-4ded-9bbf-ae40da02adc4"
      },
      "execution_count": null,
      "outputs": [
        {
          "output_type": "stream",
          "name": "stdout",
          "text": [
            "\n",
            "Second Stage Results:\n",
            "╒══════════════════════════╤═══════════════╤══════════════╕\n",
            "│ Variable                 │ Coefficient   │ Std. Error   │\n",
            "╞══════════════════════════╪═══════════════╪══════════════╡\n",
            "│ const                    │ 11.013        │ 1.782        │\n",
            "├──────────────────────────┼───────────────┼──────────────┤\n",
            "│ ln_export_area_predicted │ -0.337        │ 0.116        │\n",
            "├──────────────────────────┼───────────────┼──────────────┤\n",
            "│ Colony Fixed Effects     │ Yes           │              │\n",
            "├──────────────────────────┼───────────────┼──────────────┤\n",
            "│ Geography Controls       │ Yes           │              │\n",
            "╘══════════════════════════╧═══════════════╧══════════════╛\n"
          ]
        }
      ]
    },
    {
      "cell_type": "markdown",
      "source": [
        "## **Average GDP 2001 - 2022**"
      ],
      "metadata": {
        "id": "EsgPl3iQAHPq"
      }
    },
    {
      "cell_type": "markdown",
      "source": [
        "### OLS Regressions"
      ],
      "metadata": {
        "id": "eLpJeEIzAuU7"
      }
    },
    {
      "cell_type": "code",
      "source": [
        "# Table 3: OLS regression with and without controls\n",
        "X1 = sm.add_constant(df[['ln_export_area', 'colony0', 'colony1', 'colony2', 'colony3', 'colony4', 'colony5', 'colony6', 'colony7']])\n",
        "X2 = sm.add_constant(df[['ln_export_area', 'abs_latitude', 'longitude', 'rain_min', 'humid_max', 'low_temp', 'ln_coastline_area',  'colony0', 'colony1', 'colony2', 'colony3', 'colony4', 'colony5', 'colony6', 'colony7']])\n",
        "X4 = sm.add_constant(df[['ln_export_area', 'abs_latitude', 'longitude', 'rain_min', 'humid_max', 'low_temp', 'ln_coastline_area', 'island_dum', 'islam', 'legor_fr', 'region_n',  'colony0', 'colony1', 'colony2', 'colony3', 'colony4', 'colony5', 'colony6', 'colony7']])\n",
        "\n",
        "# Fit the models\n",
        "model1_avg = sm.OLS(df['average_gdp_01_22'], X1).fit()\n",
        "model2_avg = sm.OLS(df['average_gdp_01_22'], X2).fit()\n",
        "model4_avg = sm.OLS(df['average_gdp_01_22'], X4).fit()\n",
        "\n",
        "# Extract coefficients and other statistics for the specified variables\n",
        "variables = ['ln_export_area', 'abs_latitude', 'longitude', 'rain_min', 'humid_max', 'low_temp',\n",
        "             'ln_coastline_area', 'island_dum', 'islam', 'legor_fr', 'legor_uk', 'region_n',\n",
        "             'ln_avg_gold_pop', 'ln_avg_oil_pop', 'ln_avg_all_diamonds_pop']\n",
        "\n",
        "results = []\n",
        "\n",
        "# Populate the results list\n",
        "for var in variables:\n",
        "    row_values = {'Variable': var}\n",
        "    for i, model in enumerate([model1_avg, model2_avg, model4_avg]):\n",
        "        if var in model.params:\n",
        "            coefficient = round(model.params[var], 3)\n",
        "            std_error = round(model.bse[var], 3)\n",
        "            p_value = round(model.pvalues[var], 3)\n",
        "            std_p_value = f\"{std_error} ({p_value})\"\n",
        "            row_values[f'Model {i+1} Coefficient'] = coefficient\n",
        "            row_values[f'Model {i+1} Std. Error (P-value)'] = std_p_value\n",
        "        else:\n",
        "            row_values[f'Model {i+1} Coefficient'] = ''\n",
        "            row_values[f'Model {i+1} Std. Error (P-value)'] = ''\n",
        "    results.append(row_values)\n",
        "\n",
        "# Convert the results list to a DataFrame\n",
        "results_df = pd.DataFrame(results)\n",
        "\n",
        "# Convert NaN values to empty strings\n",
        "results_df = results_df.replace({np.nan: ''})\n",
        "\n",
        "# Convert the DataFrame to a tabular format with fancy styling\n",
        "table = tabulate(results_df, headers='keys', tablefmt='fancy_grid', showindex=False)\n",
        "\n",
        "# Print the table\n",
        "print(table)\n"
      ],
      "metadata": {
        "id": "vkcxvlqTAMSL",
        "colab": {
          "base_uri": "https://localhost:8080/"
        },
        "outputId": "921e6dac-7780-4219-8099-9e92d2b0dc26"
      },
      "execution_count": null,
      "outputs": [
        {
          "output_type": "stream",
          "name": "stdout",
          "text": [
            "╒═════════════════════════╤═══════════════════════╤════════════════════════════════╤═══════════════════════╤════════════════════════════════╤═══════════════════════╤════════════════════════════════╕\n",
            "│ Variable                │ Model 1 Coefficient   │ Model 1 Std. Error (P-value)   │ Model 2 Coefficient   │ Model 2 Std. Error (P-value)   │ Model 3 Coefficient   │ Model 3 Std. Error (P-value)   │\n",
            "╞═════════════════════════╪═══════════════════════╪════════════════════════════════╪═══════════════════════╪════════════════════════════════╪═══════════════════════╪════════════════════════════════╡\n",
            "│ ln_export_area          │ -0.114                │ 0.028 (0.0)                    │ -0.086                │ 0.035 (0.02)                   │ -0.087                │ 0.045 (0.061)                  │\n",
            "├─────────────────────────┼───────────────────────┼────────────────────────────────┼───────────────────────┼────────────────────────────────┼───────────────────────┼────────────────────────────────┤\n",
            "│ abs_latitude            │                       │                                │ 0.011                 │ 0.02 (0.576)                   │ 0.016                 │ 0.023 (0.492)                  │\n",
            "├─────────────────────────┼───────────────────────┼────────────────────────────────┼───────────────────────┼────────────────────────────────┼───────────────────────┼────────────────────────────────┤\n",
            "│ longitude               │                       │                                │ -0.001                │ 0.007 (0.83)                   │ -0.004                │ 0.007 (0.578)                  │\n",
            "├─────────────────────────┼───────────────────────┼────────────────────────────────┼───────────────────────┼────────────────────────────────┼───────────────────────┼────────────────────────────────┤\n",
            "│ rain_min                │                       │                                │ 0.003                 │ 0.008 (0.731)                  │ 0.001                 │ 0.009 (0.869)                  │\n",
            "├─────────────────────────┼───────────────────────┼────────────────────────────────┼───────────────────────┼────────────────────────────────┼───────────────────────┼────────────────────────────────┤\n",
            "│ humid_max               │                       │                                │ 0.004                 │ 0.014 (0.786)                  │ 0.003                 │ 0.015 (0.86)                   │\n",
            "├─────────────────────────┼───────────────────────┼────────────────────────────────┼───────────────────────┼────────────────────────────────┼───────────────────────┼────────────────────────────────┤\n",
            "│ low_temp                │                       │                                │ -0.006                │ 0.034 (0.859)                  │ 0.011                 │ 0.035 (0.749)                  │\n",
            "├─────────────────────────┼───────────────────────┼────────────────────────────────┼───────────────────────┼────────────────────────────────┼───────────────────────┼────────────────────────────────┤\n",
            "│ ln_coastline_area       │                       │                                │ 0.106                 │ 0.047 (0.03)                   │ 0.116                 │ 0.055 (0.042)                  │\n",
            "├─────────────────────────┼───────────────────────┼────────────────────────────────┼───────────────────────┼────────────────────────────────┼───────────────────────┼────────────────────────────────┤\n",
            "│ island_dum              │                       │                                │                       │                                │ -0.242                │ 0.683 (0.725)                  │\n",
            "├─────────────────────────┼───────────────────────┼────────────────────────────────┼───────────────────────┼────────────────────────────────┼───────────────────────┼────────────────────────────────┤\n",
            "│ islam                   │                       │                                │                       │                                │ -0.009                │ 0.004 (0.023)                  │\n",
            "├─────────────────────────┼───────────────────────┼────────────────────────────────┼───────────────────────┼────────────────────────────────┼───────────────────────┼────────────────────────────────┤\n",
            "│ legor_fr                │                       │                                │                       │                                │ 0.4                   │ 0.65 (0.543)                   │\n",
            "├─────────────────────────┼───────────────────────┼────────────────────────────────┼───────────────────────┼────────────────────────────────┼───────────────────────┼────────────────────────────────┤\n",
            "│ legor_uk                │                       │                                │                       │                                │                       │                                │\n",
            "├─────────────────────────┼───────────────────────┼────────────────────────────────┼───────────────────────┼────────────────────────────────┼───────────────────────┼────────────────────────────────┤\n",
            "│ region_n                │                       │                                │                       │                                │ 0.583                 │ 0.625 (0.357)                  │\n",
            "├─────────────────────────┼───────────────────────┼────────────────────────────────┼───────────────────────┼────────────────────────────────┼───────────────────────┼────────────────────────────────┤\n",
            "│ ln_avg_gold_pop         │                       │                                │                       │                                │                       │                                │\n",
            "├─────────────────────────┼───────────────────────┼────────────────────────────────┼───────────────────────┼────────────────────────────────┼───────────────────────┼────────────────────────────────┤\n",
            "│ ln_avg_oil_pop          │                       │                                │                       │                                │                       │                                │\n",
            "├─────────────────────────┼───────────────────────┼────────────────────────────────┼───────────────────────┼────────────────────────────────┼───────────────────────┼────────────────────────────────┤\n",
            "│ ln_avg_all_diamonds_pop │                       │                                │                       │                                │                       │                                │\n",
            "╘═════════════════════════╧═══════════════════════╧════════════════════════════════╧═══════════════════════╧════════════════════════════════╧═══════════════════════╧════════════════════════════════╛\n"
          ]
        }
      ]
    },
    {
      "cell_type": "markdown",
      "source": [
        "## IV and 2SLS"
      ],
      "metadata": {
        "id": "c9n1pf3Tx-0w"
      }
    },
    {
      "cell_type": "markdown",
      "source": [
        "**Model 1**"
      ],
      "metadata": {
        "id": "QL99sB0Z0-qj"
      }
    },
    {
      "cell_type": "code",
      "source": [
        "# Step 1: First Stage Regression\n",
        "# Define the endogenous variable (to be instrumented) and the instrument\n",
        "endog_first_stage = df['ln_export_area']\n",
        "instrument_first_stage = df[['atlantic_distance_minimum', 'indian_distance_minimum', 'saharan_distance_minimum', 'red_sea_distance_minimum']]\n",
        "\n",
        "# Add constant to the instrument\n",
        "instrument_first_stage = sm.add_constant(instrument_first_stage)\n",
        "\n",
        "# Fit the first stage regression\n",
        "first_stage_model1 = sm.OLS(endog_first_stage, instrument_first_stage).fit()\n",
        "\n",
        "# Print first stage results\n",
        "# print(\"First Stage Results:\")\n",
        "# print(first_stage_model1.summary())\n",
        "\n",
        "# Step 2: Predicted Values from First Stage\n",
        "# Get the predicted values from the first stage\n",
        "df['ln_export_area_predicted'] = first_stage_model1.predict()\n",
        "\n",
        "# Step 3: Second Stage Regression\n",
        "# Define the exogenous variable (including the predicted values from the first stage)\n",
        "exog_second_stage = df[['ln_export_area_predicted']]\n",
        "\n",
        "# Add constant to the exogenous variables\n",
        "exog_second_stage = sm.add_constant(exog_second_stage)\n",
        "\n",
        "# Fit the second stage regression\n",
        "second_stage_model1_avg = sm.OLS(df['average_gdp_01_22'], exog_second_stage).fit()\n",
        "\n",
        "# Print second stage results\n",
        "# print(\"\\nSecond Stage Results:\")\n",
        "# print(second_stage_model1_avg.summary())"
      ],
      "metadata": {
        "id": "4Xk3RqJFx_Ir"
      },
      "execution_count": null,
      "outputs": []
    },
    {
      "cell_type": "code",
      "source": [
        "# Extracting coefficients and standard errors for the second stage\n",
        "coefficients_second_stage = second_stage_model1_avg.params\n",
        "std_errors_second_stage = second_stage_model1_avg.bse\n",
        "\n",
        "# Create a DataFrame with coefficients and standard errors for the second stage\n",
        "second_stage_results_df = pd.DataFrame({'Variable': coefficients_second_stage.index, 'Coefficient': coefficients_second_stage.values, 'Std. Error': std_errors_second_stage.values})\n",
        "\n",
        "# Round the numbers to three decimals\n",
        "second_stage_results_df = second_stage_results_df.round(3)\n",
        "\n",
        "# Print the name of the second stage\n",
        "print(\"\\nSecond Stage Results:\")\n",
        "# Print the table\n",
        "print(tabulate(second_stage_results_df, headers='keys', tablefmt='fancy_grid', showindex=False))"
      ],
      "metadata": {
        "colab": {
          "base_uri": "https://localhost:8080/"
        },
        "id": "3TRrjusIygeH",
        "outputId": "5dbb8ff4-6625-4f0a-8216-a2eec2caa3de"
      },
      "execution_count": null,
      "outputs": [
        {
          "output_type": "stream",
          "name": "stdout",
          "text": [
            "\n",
            "Second Stage Results:\n",
            "╒══════════════════════════╤═══════════════╤══════════════╕\n",
            "│ Variable                 │   Coefficient │   Std. Error │\n",
            "╞══════════════════════════╪═══════════════╪══════════════╡\n",
            "│ const                    │         8.112 │        0.217 │\n",
            "├──────────────────────────┼───────────────┼──────────────┤\n",
            "│ ln_export_area_predicted │        -0.259 │        0.056 │\n",
            "╘══════════════════════════╧═══════════════╧══════════════╛\n"
          ]
        }
      ]
    },
    {
      "cell_type": "markdown",
      "source": [
        "**Model 2**"
      ],
      "metadata": {
        "id": "LrWrNtCs1BoY"
      }
    },
    {
      "cell_type": "code",
      "source": [
        "import statsmodels.api as sm\n",
        "\n",
        "# Step 1: First Stage Regression\n",
        "# Define the endogenous variable (to be instrumented) and the instrument\n",
        "endog_first_stage = df['ln_export_area']\n",
        "instrument_first_stage = df[['atlantic_distance_minimum', 'indian_distance_minimum', 'saharan_distance_minimum', 'red_sea_distance_minimum', 'colony0', 'colony1', 'colony2', 'colony3', 'colony4', 'colony5', 'colony6']]\n",
        "\n",
        "# Add constant to the instrument\n",
        "instrument_first_stage = sm.add_constant(instrument_first_stage)\n",
        "\n",
        "# Fit the first stage regression\n",
        "first_stage_model2 = sm.OLS(endog_first_stage, instrument_first_stage).fit()\n",
        "\n",
        "# Print first stage results\n",
        "# print(\"First Stage Results:\")\n",
        "# print(first_stage_model2.summary())\n",
        "\n",
        "# Step 2: Predicted Values from First Stage\n",
        "# Get the predicted values from the first stage\n",
        "df['ln_export_area_predicted'] = first_stage_model2.predict()\n",
        "\n",
        "# Step 3: Second Stage Regression\n",
        "# Define the exogenous variable (including the predicted values from the first stage)\n",
        "exog_second_stage = df[['ln_export_area_predicted', 'colony0', 'colony1', 'colony2', 'colony3', 'colony4', 'colony5', 'colony6']]\n",
        "\n",
        "# Add constant to the exogenous variables\n",
        "exog_second_stage = sm.add_constant(exog_second_stage)\n",
        "\n",
        "# Fit the second stage regression\n",
        "second_stage_model2_avg = sm.OLS(df['average_gdp_01_22'], exog_second_stage).fit()\n",
        "\n",
        "# Print second stage results\n",
        "# print(\"\\nSecond Stage Results:\")\n",
        "# print(second_stage_model2_avg.summary())"
      ],
      "metadata": {
        "id": "llHhAzt-x_k7"
      },
      "execution_count": null,
      "outputs": []
    },
    {
      "cell_type": "code",
      "source": [
        "# Extracting coefficients and standard errors for the second stage\n",
        "coefficients_second_stage = second_stage_model2_avg.params\n",
        "std_errors_second_stage = second_stage_model2_avg.bse\n",
        "\n",
        "# Create a DataFrame with coefficients and standard errors for the second stage\n",
        "second_stage_results_df = pd.DataFrame({'Variable': coefficients_second_stage.index, 'Coefficient': coefficients_second_stage.values, 'Std. Error': std_errors_second_stage.values})\n",
        "\n",
        "# Round the numbers to three decimals\n",
        "second_stage_results_df = second_stage_results_df.round(3)\n",
        "\n",
        "# Exclude colony variables from the second stage results table\n",
        "second_stage_results_df = second_stage_results_df[~second_stage_results_df['Variable'].str.startswith('colony')]\n",
        "\n",
        "# Add \"Colony Fixed Effects\" to the second stage results table\n",
        "second_stage_results_df = pd.concat([second_stage_results_df, colony_fixed_effects_row], ignore_index=True)\n",
        "\n",
        "# Print the name of the second stage\n",
        "print(\"\\nSecond Stage Results:\")\n",
        "# Print the table\n",
        "print(tabulate(second_stage_results_df, headers='keys', tablefmt='fancy_grid', showindex=False))"
      ],
      "metadata": {
        "colab": {
          "base_uri": "https://localhost:8080/"
        },
        "id": "Z5Utt-zVys3q",
        "outputId": "97866500-8f6b-46be-a576-f301b63f234a"
      },
      "execution_count": null,
      "outputs": [
        {
          "output_type": "stream",
          "name": "stdout",
          "text": [
            "\n",
            "Second Stage Results:\n",
            "╒══════════════════════════╤═══════════════╤══════════════╕\n",
            "│ Variable                 │ Coefficient   │ Std. Error   │\n",
            "╞══════════════════════════╪═══════════════╪══════════════╡\n",
            "│ const                    │ 9.61          │ 0.723        │\n",
            "├──────────────────────────┼───────────────┼──────────────┤\n",
            "│ ln_export_area_predicted │ -0.221        │ 0.047        │\n",
            "├──────────────────────────┼───────────────┼──────────────┤\n",
            "│ Colony Fixed Effects     │ Yes           │              │\n",
            "╘══════════════════════════╧═══════════════╧══════════════╛\n"
          ]
        }
      ]
    },
    {
      "cell_type": "markdown",
      "source": [
        "**Model 3**"
      ],
      "metadata": {
        "id": "sr9hR8YW1DQQ"
      }
    },
    {
      "cell_type": "code",
      "source": [
        "import statsmodels.api as sm\n",
        "\n",
        "# Step 1: First Stage Regression\n",
        "# Define the endogenous variable (to be instrumented) and the instrument\n",
        "endog_first_stage = df['ln_export_area']\n",
        "instrument_first_stage = df[['atlantic_distance_minimum', 'indian_distance_minimum', 'saharan_distance_minimum', 'red_sea_distance_minimum',\n",
        "                             'colony0', 'colony1', 'colony2', 'colony3', 'colony4', 'colony5', 'colony6',\n",
        "                             'abs_latitude', 'longitude', 'rain_min', 'humid_max', 'low_temp', 'ln_coastline_area']]\n",
        "\n",
        "# Add constant to the instrument\n",
        "instrument_first_stage = sm.add_constant(instrument_first_stage)\n",
        "\n",
        "# Fit the first stage regression\n",
        "first_stage_model3 = sm.OLS(endog_first_stage, instrument_first_stage).fit()\n",
        "\n",
        "# Print first stage results\n",
        "# print(\"First Stage Results:\")\n",
        "# print(first_stage_model3.summary())\n",
        "\n",
        "# Step 2: Predicted Values from First Stage\n",
        "# Get the predicted values from the first stage\n",
        "df['ln_export_area_predicted'] = first_stage_model3.predict()\n",
        "\n",
        "# Step 3: Second Stage Regression\n",
        "# Define the exogenous variable (including the predicted values from the first stage)\n",
        "exog_second_stage = df[['ln_export_area_predicted', 'colony0', 'colony1', 'colony2', 'colony3', 'colony4', 'colony5', 'colony6',\n",
        "                        'abs_latitude', 'longitude', 'rain_min', 'humid_max', 'low_temp', 'ln_coastline_area']]\n",
        "\n",
        "# Add constant to the exogenous variables\n",
        "exog_second_stage = sm.add_constant(exog_second_stage)\n",
        "\n",
        "# Fit the second stage regression\n",
        "second_stage_model3_avg = sm.OLS(df['average_gdp_01_22'], exog_second_stage).fit()\n",
        "\n",
        "# Print second stage results\n",
        "# print(\"\\nSecond Stage Results:\")\n",
        "# print(second_stage_model3_avg.summary())"
      ],
      "metadata": {
        "id": "CbcG658gx_2x"
      },
      "execution_count": null,
      "outputs": []
    },
    {
      "cell_type": "code",
      "source": [
        "# Extract second stage results\n",
        "coefficients_second_stage = second_stage_model3_avg.params.round(3)\n",
        "std_errors_second_stage = second_stage_model3_avg.bse.round(3)\n",
        "\n",
        "# Create second stage results DataFrame\n",
        "second_stage_results_df = pd.DataFrame({'Variable': coefficients_second_stage.index,\n",
        "                                        'Coefficient': coefficients_second_stage.values,\n",
        "                                        'Std. Error': std_errors_second_stage.values})\n",
        "\n",
        "# Exclude specified variables\n",
        "second_stage_results_df = second_stage_results_df[~second_stage_results_df['Variable'].isin(exclude_variables)]\n",
        "\n",
        "# Add \"Colony Fixed Effects\" row\n",
        "second_stage_results_df = pd.concat([second_stage_results_df, colony_fixed_effects_row], ignore_index=True)\n",
        "\n",
        "# Add \"Geography Controls\" row\n",
        "second_stage_results_df = pd.concat([second_stage_results_df, geography_controls_row], ignore_index=True)\n",
        "\n",
        "# Print second stage table\n",
        "print(\"\\nSecond Stage Results:\")\n",
        "print(tabulate(second_stage_results_df, headers='keys', tablefmt='fancy_grid', showindex=False))"
      ],
      "metadata": {
        "colab": {
          "base_uri": "https://localhost:8080/"
        },
        "id": "KIyK8PmmytZ8",
        "outputId": "78b5e20f-6a63-4dd1-8dc0-4064e4d49e58"
      },
      "execution_count": null,
      "outputs": [
        {
          "output_type": "stream",
          "name": "stdout",
          "text": [
            "\n",
            "Second Stage Results:\n",
            "╒══════════════════════════╤═══════════════╤══════════════╕\n",
            "│ Variable                 │ Coefficient   │ Std. Error   │\n",
            "╞══════════════════════════╪═══════════════╪══════════════╡\n",
            "│ const                    │ 11.555        │ 1.752        │\n",
            "├──────────────────────────┼───────────────┼──────────────┤\n",
            "│ ln_export_area_predicted │ -0.366        │ 0.114        │\n",
            "├──────────────────────────┼───────────────┼──────────────┤\n",
            "│ Colony Fixed Effects     │ Yes           │              │\n",
            "├──────────────────────────┼───────────────┼──────────────┤\n",
            "│ Geography Controls       │ Yes           │              │\n",
            "╘══════════════════════════╧═══════════════╧══════════════╛\n"
          ]
        }
      ]
    },
    {
      "cell_type": "markdown",
      "source": [
        "# **Analyzing multiple years**\n",
        "\n",
        "In this section, we re-estimate the model 3 of the original IV analysis for multiple years, in specific for the period 2001 - 2022, in order to see how different is the coefficient of our interest variable \"ln_export_area\" when we use the GDP of different years."
      ],
      "metadata": {
        "id": "y7CZJ4YEnogz"
      }
    },
    {
      "cell_type": "code",
      "source": [
        "import statsmodels.api as sm\n",
        "\n",
        "# Define the list of variables for the second stage model\n",
        "second_stage_variables = ['ln_maddison_pcgdp2000', 'gpd01', 'gdp02', 'gdp03', 'gdp04', 'gdp05', 'gdp06', 'gdp07', 'gdp08', 'gdp09', 'gdp10', 'gdp11', 'gdp12', 'gdp13', 'gdp14', 'gdp15','gdp16', 'gdp17', 'gdp18', 'gdp19', 'gdp20', 'gdp21', 'gdp22']\n",
        "\n",
        "for dependent_variable in second_stage_variables:\n",
        "    # Step 1: First Stage Regression\n",
        "    # Define the endogenous variable (to be instrumented) and the instrument\n",
        "    endog_first_stage = df['ln_export_area']\n",
        "    instrument_first_stage = df[['atlantic_distance_minimum', 'indian_distance_minimum', 'saharan_distance_minimum', 'red_sea_distance_minimum',\n",
        "                                 'colony0', 'colony1', 'colony2', 'colony3', 'colony4', 'colony5', 'colony6',\n",
        "                                 'abs_latitude', 'longitude', 'rain_min', 'humid_max', 'low_temp', 'ln_coastline_area']]\n",
        "\n",
        "    # Add constant to the instrument\n",
        "    instrument_first_stage = sm.add_constant(instrument_first_stage)\n",
        "\n",
        "    # Fit the first stage regression\n",
        "    first_stage_model = sm.OLS(endog_first_stage, instrument_first_stage).fit()\n",
        "\n",
        "    # Step 2: Predicted Values from First Stage\n",
        "    # Get the predicted values from the first stage\n",
        "    df['ln_export_area_predicted'] = first_stage_model.predict()\n",
        "\n",
        "    # Step 3: Second Stage Regression\n",
        "    # Define the exogenous variable (including the predicted values from the first stage)\n",
        "    exog_second_stage = df[['ln_export_area_predicted', 'colony0', 'colony1', 'colony2', 'colony3', 'colony4', 'colony5', 'colony6',\n",
        "                            'abs_latitude', 'longitude', 'rain_min', 'humid_max', 'low_temp', 'ln_coastline_area']]\n",
        "\n",
        "    # Add constant to the exogenous variables\n",
        "    exog_second_stage = sm.add_constant(exog_second_stage)\n",
        "\n",
        "    # Fit the second stage regression\n",
        "    second_stage_model = sm.OLS(df[dependent_variable], exog_second_stage).fit()\n",
        "\n",
        "    # Print second stage results\n",
        "    # print(\"\\nSecond Stage Results for dependent variable:\", dependent_variable)\n",
        "    # print(second_stage_model.summary())\n"
      ],
      "metadata": {
        "id": "EK6NPliPpCSw"
      },
      "execution_count": null,
      "outputs": []
    },
    {
      "cell_type": "code",
      "source": [
        "import pandas as pd\n",
        "\n",
        "# Define an empty list to store the coefficients\n",
        "coefficients_table = []\n",
        "\n",
        "for dependent_variable in second_stage_variables:\n",
        "    # Rest of the code remains the same as before\n",
        "\n",
        "    # Fit the second stage regression\n",
        "    second_stage_model = sm.OLS(df[dependent_variable], exog_second_stage).fit()\n",
        "\n",
        "    # Extract the coefficient of ln_export_area_predicted\n",
        "    coefficient = second_stage_model.params['ln_export_area_predicted']\n",
        "\n",
        "    # Store the coefficient along with the dependent variable name\n",
        "    coefficients_table.append({'Dependent Variable': dependent_variable, 'Coefficient': coefficient})\n",
        "\n",
        "# Create a DataFrame from the coefficients list\n",
        "coefficients_df = pd.DataFrame(coefficients_table)\n",
        "\n",
        "# Add a column representing years from 2000 to 2022\n",
        "years = list(range(2000, 2023))\n",
        "coefficients_df['Year'] = years\n",
        "\n",
        "# Print the coefficients table\n",
        "print(coefficients_df)\n"
      ],
      "metadata": {
        "colab": {
          "base_uri": "https://localhost:8080/"
        },
        "id": "eMA8hGYIxSre",
        "outputId": "dca3921b-6dc2-421c-dc19-df58cb5b519b"
      },
      "execution_count": null,
      "outputs": [
        {
          "output_type": "stream",
          "name": "stdout",
          "text": [
            "       Dependent Variable  Coefficient  Year\n",
            "0   ln_maddison_pcgdp2000    -0.285659  2000\n",
            "1                   gpd01    -0.409542  2001\n",
            "2                   gdp02    -0.413216  2002\n",
            "3                   gdp03    -0.393435  2003\n",
            "4                   gdp04    -0.380955  2004\n",
            "5                   gdp05    -0.377960  2005\n",
            "6                   gdp06    -0.380701  2006\n",
            "7                   gdp07    -0.388052  2007\n",
            "8                   gdp08    -0.380723  2008\n",
            "9                   gdp09    -0.376195  2009\n",
            "10                  gdp10    -0.370007  2010\n",
            "11                  gdp11    -0.377192  2011\n",
            "12                  gdp12    -0.372040  2012\n",
            "13                  gdp13    -0.357059  2013\n",
            "14                  gdp14    -0.353198  2014\n",
            "15                  gdp15    -0.351711  2015\n",
            "16                  gdp16    -0.354777  2016\n",
            "17                  gdp17    -0.354113  2017\n",
            "18                  gdp18    -0.349884  2018\n",
            "19                  gdp19    -0.346197  2019\n",
            "20                  gdp20    -0.335079  2020\n",
            "21                  gdp21    -0.341277  2021\n",
            "22                  gdp22    -0.336849  2022\n"
          ]
        }
      ]
    },
    {
      "cell_type": "code",
      "source": [
        "import matplotlib.pyplot as plt\n",
        "\n",
        "# Plotting\n",
        "plt.figure(figsize=(10, 6))\n",
        "\n",
        "# Plot coefficients for each dependent variable\n",
        "plt.scatter(coefficients_df['Year'], coefficients_df['Coefficient'])\n",
        "\n",
        "# Adding labels and title\n",
        "plt.xlabel('Year')\n",
        "plt.ylabel('Coefficient')\n",
        "plt.title('Coefficient of ln_export_area over the years')\n",
        "plt.grid(True)\n",
        "\n",
        "# Show plot\n",
        "plt.show()"
      ],
      "metadata": {
        "colab": {
          "base_uri": "https://localhost:8080/",
          "height": 564
        },
        "id": "PWx5gDPpxdx5",
        "outputId": "254e3399-9f41-403c-c1b7-e5e2a1f8c9d7"
      },
      "execution_count": null,
      "outputs": [
        {
          "output_type": "display_data",
          "data": {
            "text/plain": [
              "<Figure size 1000x600 with 1 Axes>"
            ],
            "image/png": "[encoded data removed]"
          },
          "metadata": {}
        }
      ]
    }
  ]
}