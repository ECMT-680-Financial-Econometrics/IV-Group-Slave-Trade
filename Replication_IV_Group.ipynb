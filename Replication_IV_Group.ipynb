{
  "nbformat": 4,
  "nbformat_minor": 0,
  "metadata": {
    "colab": {
      "provenance": []
    },
    "kernelspec": {
      "name": "python3",
      "display_name": "Python 3"
    },
    "language_info": {
      "name": "python"
    }
  },
  "cells": [
    {
      "cell_type": "markdown",
      "source": [
        "# **Replication of the study by Nathan Nunn (2008)**\n",
        "\n",
        "### **IV Group Members:**\n",
        "* Colon, Christopher\n",
        "* Rodriguez Quinto, Anel\n",
        "* Stevens, Madison\n",
        "* Stutts, Charlie\n",
        "* Xu, Davis\n"
      ],
      "metadata": {
        "id": "I38oc0kP2DAV"
      }
    },
    {
      "cell_type": "markdown",
      "source": [
        "**The article can be found here:** https://www.jstor.org/stable/25098896\n",
        "\n",
        "**The dataset of the paper can be found here:** https://nathannunn.arts.ubc.ca/data/\n",
        "\n",
        "**The Google Colab project can be found here:** https://colab.research.google.com/drive/19Rc1VzFgVn_KXGHygORPp26AeBBzToUl#scrollTo=KIyK8PmmytZ8"
      ],
      "metadata": {
        "id": "Y5K2ho5Bjcum"
      }
    },
    {
      "cell_type": "markdown",
      "source": [
        "### **Setting Up the Environment for the Instrumental Variable Analysis of Slave Trade Impact on Economic Growth**\n",
        "\n",
        "This script prepares the environment to estimate an instrumental variable (IV) analysis to investigate the impact of the historical slave trade on economic performance. It utilizes the linearmodels library to implement IV regression models, addressing endogeneity concerns. The code begins by installing necessary dependencies, including linearmodels. It then clones a GitHub repository containing the required dataset and navigates to the repository directory to load the dataset into a pandas DataFrame."
      ],
      "metadata": {
        "id": "uDOkLYP-kMDT"
      }
    },
    {
      "cell_type": "code",
      "source": [
        "#Install and import the necessary libraries\n",
        "!pip install linearmodels\n",
        "\n",
        "import pandas as pd\n",
        "import numpy as np\n",
        "import statsmodels.api as sm\n",
        "import matplotlib.pyplot as plt\n",
        "import seaborn as sns\n",
        "import requests\n",
        "from io import BytesIO\n",
        "from statsmodels.sandbox.regression.gmm import IV2SLS\n",
        "import linearmodels.iv.model as lm\n",
        "from tabulate import tabulate\n",
        "\n",
        "# Clone the repository\n",
        "!git clone https://github.com/ECMT-680-Financial-Econometrics/IV-Group-Slave-Trade.git\n",
        "\n",
        "# Navigate to the repository directory\n",
        "%cd IV-Group-Slave-Trade\n",
        "\n",
        "# Load the data from the cloned repository\n",
        "df = pd.read_csv('slave_trade_QJE_New_Data.csv')"
      ],
      "metadata": {
        "id": "mJOgJoTcm3dE",
        "colab": {
          "base_uri": "https://localhost:8080/"
        },
        "outputId": "016dfce9-e82a-43ea-9d7a-13a698e43129"
      },
      "execution_count": null,
      "outputs": [
        {
          "output_type": "stream",
          "name": "stdout",
          "text": [
            "Collecting linearmodels\n",
            "  Downloading linearmodels-6.0-cp310-cp310-manylinux_2_17_x86_64.manylinux2014_x86_64.whl (1.5 MB)\n",
            "\u001b[2K     \u001b[90m━━━━━━━━━━━━━━━━━━━━━━━━━━━━━━━━━━━━━━━━\u001b[0m \u001b[32m1.5/1.5 MB\u001b[0m \u001b[31m8.2 MB/s\u001b[0m eta \u001b[36m0:00:00\u001b[0m\n",
            "\u001b[?25hRequirement already satisfied: numpy<3,>=1.22.3 in /usr/local/lib/python3.10/dist-packages (from linearmodels) (1.25.2)\n",
            "Requirement already satisfied: pandas>=1.4.0 in /usr/local/lib/python3.10/dist-packages (from linearmodels) (2.0.3)\n",
            "Requirement already satisfied: scipy>=1.8.0 in /usr/local/lib/python3.10/dist-packages (from linearmodels) (1.11.4)\n",
            "Requirement already satisfied: statsmodels>=0.13.0 in /usr/local/lib/python3.10/dist-packages (from linearmodels) (0.14.2)\n",
            "Collecting mypy-extensions>=0.4 (from linearmodels)\n",
            "  Downloading mypy_extensions-1.0.0-py3-none-any.whl (4.7 kB)\n",
            "Requirement already satisfied: Cython>=3.0.10 in /usr/local/lib/python3.10/dist-packages (from linearmodels) (3.0.10)\n",
            "Collecting pyhdfe>=0.1 (from linearmodels)\n",
            "  Downloading pyhdfe-0.2.0-py3-none-any.whl (19 kB)\n",
            "Collecting formulaic>=1.0.0 (from linearmodels)\n",
            "  Downloading formulaic-1.0.1-py3-none-any.whl (94 kB)\n",
            "\u001b[2K     \u001b[90m━━━━━━━━━━━━━━━━━━━━━━━━━━━━━━━━━━━━━━━━\u001b[0m \u001b[32m94.2/94.2 kB\u001b[0m \u001b[31m7.9 MB/s\u001b[0m eta \u001b[36m0:00:00\u001b[0m\n",
            "\u001b[?25hCollecting setuptools-scm[toml]<9.0.0,>=8.0.0 (from linearmodels)\n",
            "  Downloading setuptools_scm-8.0.4-py3-none-any.whl (42 kB)\n",
            "\u001b[2K     \u001b[90m━━━━━━━━━━━━━━━━━━━━━━━━━━━━━━━━━━━━━━━━\u001b[0m \u001b[32m42.1/42.1 kB\u001b[0m \u001b[31m964.9 kB/s\u001b[0m eta \u001b[36m0:00:00\u001b[0m\n",
            "\u001b[?25hCollecting interface-meta>=1.2.0 (from formulaic>=1.0.0->linearmodels)\n",
            "  Downloading interface_meta-1.3.0-py3-none-any.whl (14 kB)\n",
            "Requirement already satisfied: typing-extensions>=4.2.0 in /usr/local/lib/python3.10/dist-packages (from formulaic>=1.0.0->linearmodels) (4.11.0)\n",
            "Requirement already satisfied: wrapt>=1.0 in /usr/local/lib/python3.10/dist-packages (from formulaic>=1.0.0->linearmodels) (1.14.1)\n",
            "Requirement already satisfied: python-dateutil>=2.8.2 in /usr/local/lib/python3.10/dist-packages (from pandas>=1.4.0->linearmodels) (2.8.2)\n",
            "Requirement already satisfied: pytz>=2020.1 in /usr/local/lib/python3.10/dist-packages (from pandas>=1.4.0->linearmodels) (2023.4)\n",
            "Requirement already satisfied: tzdata>=2022.1 in /usr/local/lib/python3.10/dist-packages (from pandas>=1.4.0->linearmodels) (2024.1)\n",
            "Requirement already satisfied: packaging>=20 in /usr/local/lib/python3.10/dist-packages (from setuptools-scm[toml]<9.0.0,>=8.0.0->linearmodels) (24.0)\n",
            "Requirement already satisfied: setuptools in /usr/local/lib/python3.10/dist-packages (from setuptools-scm[toml]<9.0.0,>=8.0.0->linearmodels) (67.7.2)\n",
            "Requirement already satisfied: tomli>=1 in /usr/local/lib/python3.10/dist-packages (from setuptools-scm[toml]<9.0.0,>=8.0.0->linearmodels) (2.0.1)\n",
            "Requirement already satisfied: patsy>=0.5.6 in /usr/local/lib/python3.10/dist-packages (from statsmodels>=0.13.0->linearmodels) (0.5.6)\n",
            "Requirement already satisfied: six in /usr/local/lib/python3.10/dist-packages (from patsy>=0.5.6->statsmodels>=0.13.0->linearmodels) (1.16.0)\n",
            "Installing collected packages: setuptools-scm, mypy-extensions, interface-meta, pyhdfe, formulaic, linearmodels\n",
            "Successfully installed formulaic-1.0.1 interface-meta-1.3.0 linearmodels-6.0 mypy-extensions-1.0.0 pyhdfe-0.2.0 setuptools-scm-8.0.4\n",
            "Cloning into 'IV-Group-Slave-Trade'...\n",
            "remote: Enumerating objects: 123, done.\u001b[K\n",
            "remote: Counting objects: 100% (80/80), done.\u001b[K\n",
            "remote: Compressing objects: 100% (64/64), done.\u001b[K\n",
            "remote: Total 123 (delta 46), reused 16 (delta 16), pack-reused 43\u001b[K\n",
            "Receiving objects: 100% (123/123), 934.79 KiB | 3.58 MiB/s, done.\n",
            "Resolving deltas: 100% (56/56), done.\n",
            "/content/IV-Group-Slave-Trade\n"
          ]
        }
      ]
    },
    {
      "cell_type": "markdown",
      "source": [
        "# **Table 3: OLS Regressions**\n",
        "\n",
        "In this first section, we replicate the different OLS models used in the paper."
      ],
      "metadata": {
        "id": "FG08saFKQ6QM"
      }
    },
    {
      "cell_type": "markdown",
      "source": [
        "### **Comparative Analysis of OLS Regressions with Varying Control Variables**\n",
        "\n",
        "This code conducts Ordinary Least Squares (OLS) regressions on the dataset, comparing models with different sets of control variables. The regressions aim to analyze the relationship between ln_maddison_pcgdp2000 (natural logarithm of GDP per capita in 2000) and various predictor variables. The script fits multiple OLS models with different combinations of control variables and extracts coefficients, standard errors, and p-values for each model. Finally, it presents the results in a tabular format with informative styling for easy interpretation."
      ],
      "metadata": {
        "id": "224vQMQRllUi"
      }
    },
    {
      "cell_type": "code",
      "source": [
        "# Table 3: OLS regression with and without controls\n",
        "X1 = sm.add_constant(df[['ln_export_area', 'colony0', 'colony1', 'colony2', 'colony3', 'colony4', 'colony5', 'colony6', 'colony7']])\n",
        "X2 = sm.add_constant(df[['ln_export_area', 'abs_latitude', 'longitude', 'rain_min', 'humid_max', 'low_temp', 'ln_coastline_area',  'colony0', 'colony1', 'colony2', 'colony3', 'colony4', 'colony5', 'colony6', 'colony7']])\n",
        "X4 = sm.add_constant(df[['ln_export_area', 'abs_latitude', 'longitude', 'rain_min', 'humid_max', 'low_temp', 'ln_coastline_area', 'island_dum', 'islam', 'legor_fr', 'region_n',  'colony0', 'colony1', 'colony2', 'colony3', 'colony4', 'colony5', 'colony6', 'colony7']])\n",
        "X5 = sm.add_constant(df[['ln_export_area', 'abs_latitude', 'longitude', 'rain_min', 'humid_max', 'low_temp', 'ln_coastline_area', 'island_dum', 'islam', 'legor_fr', 'legor_uk', 'region_n', 'ln_avg_gold_pop', 'ln_avg_oil_pop', 'ln_avg_all_diamonds_pop',  'colony0', 'colony1', 'colony2', 'colony3', 'colony4', 'colony5', 'colony6', 'colony7']])\n",
        "\n",
        "# Fit the models\n",
        "model1 = sm.OLS(df['ln_maddison_pcgdp2000'], X1).fit()\n",
        "model2 = sm.OLS(df['ln_maddison_pcgdp2000'], X2).fit()\n",
        "model4 = sm.OLS(df['ln_maddison_pcgdp2000'], X4).fit()\n",
        "model5 = sm.OLS(df['ln_maddison_pcgdp2000'], X5).fit()\n",
        "\n",
        "# Extract coefficients and other statistics for the specified variables\n",
        "variables = ['ln_export_area', 'abs_latitude', 'longitude', 'rain_min', 'humid_max', 'low_temp',\n",
        "             'ln_coastline_area', 'island_dum', 'islam', 'legor_fr', 'legor_uk', 'region_n',\n",
        "             'ln_avg_gold_pop', 'ln_avg_oil_pop', 'ln_avg_all_diamonds_pop']\n",
        "\n",
        "results = []\n",
        "\n",
        "# Populate the results list\n",
        "for var in variables:\n",
        "    row_values = {'Variable': var}\n",
        "    for i, model in enumerate([model1, model2, model4, model5]):\n",
        "        if var in model.params:\n",
        "            coefficient = round(model.params[var], 3)\n",
        "            std_error = round(model.bse[var], 3)\n",
        "            p_value = round(model.pvalues[var], 3)\n",
        "            std_p_value = f\"{std_error} ({p_value})\"\n",
        "            row_values[f'Model {i+1} Coefficient'] = coefficient\n",
        "            row_values[f'Model {i+1} Std. Error (P-value)'] = std_p_value\n",
        "        else:\n",
        "            row_values[f'Model {i+1} Coefficient'] = ''\n",
        "            row_values[f'Model {i+1} Std. Error (P-value)'] = ''\n",
        "    results.append(row_values)\n",
        "\n",
        "# Convert the results list to a DataFrame\n",
        "results_df = pd.DataFrame(results)\n",
        "\n",
        "# Convert NaN values to empty strings\n",
        "results_df = results_df.replace({np.nan: ''})\n",
        "\n",
        "# Convert the DataFrame to a tabular format with fancy styling\n",
        "table = tabulate(results_df, headers='keys', tablefmt='fancy_grid', showindex=False)\n",
        "\n",
        "# Print the table\n",
        "print(table)\n"
      ],
      "metadata": {
        "id": "9s_PtR2QpcsS",
        "colab": {
          "base_uri": "https://localhost:8080/"
        },
        "outputId": "8fd3d94f-ed72-4428-d7f0-0293a207645c"
      },
      "execution_count": null,
      "outputs": [
        {
          "output_type": "stream",
          "name": "stdout",
          "text": [
            "╒═════════════════════════╤═══════════════════════╤════════════════════════════════╤═══════════════════════╤════════════════════════════════╤═══════════════════════╤════════════════════════════════╤═══════════════════════╤════════════════════════════════╕\n",
            "│ Variable                │ Model 1 Coefficient   │ Model 1 Std. Error (P-value)   │ Model 2 Coefficient   │ Model 2 Std. Error (P-value)   │ Model 3 Coefficient   │ Model 3 Std. Error (P-value)   │   Model 4 Coefficient │ Model 4 Std. Error (P-value)   │\n",
            "╞═════════════════════════╪═══════════════════════╪════════════════════════════════╪═══════════════════════╪════════════════════════════════╪═══════════════════════╪════════════════════════════════╪═══════════════════════╪════════════════════════════════╡\n",
            "│ ln_export_area          │ -0.112                │ 0.024 (0.0)                    │ -0.076                │ 0.029 (0.013)                  │ -0.085                │ 0.035 (0.02)                   │                -0.103 │ 0.034 (0.005)                  │\n",
            "├─────────────────────────┼───────────────────────┼────────────────────────────────┼───────────────────────┼────────────────────────────────┼───────────────────────┼────────────────────────────────┼───────────────────────┼────────────────────────────────┤\n",
            "│ abs_latitude            │                       │                                │ 0.016                 │ 0.017 (0.349)                  │ 0.019                 │ 0.018 (0.277)                  │                 0.023 │ 0.017 (0.177)                  │\n",
            "├─────────────────────────┼───────────────────────┼────────────────────────────────┼───────────────────────┼────────────────────────────────┼───────────────────────┼────────────────────────────────┼───────────────────────┼────────────────────────────────┤\n",
            "│ longitude               │                       │                                │ 0.0                   │ 0.005 (0.928)                  │ -0.004                │ 0.006 (0.499)                  │                -0.004 │ 0.005 (0.468)                  │\n",
            "├─────────────────────────┼───────────────────────┼────────────────────────────────┼───────────────────────┼────────────────────────────────┼───────────────────────┼────────────────────────────────┼───────────────────────┼────────────────────────────────┤\n",
            "│ rain_min                │                       │                                │ -0.001                │ 0.007 (0.926)                  │ 0.0                   │ 0.007 (0.985)                  │                -0.001 │ 0.006 (0.88)                   │\n",
            "├─────────────────────────┼───────────────────────┼────────────────────────────────┼───────────────────────┼────────────────────────────────┼───────────────────────┼────────────────────────────────┼───────────────────────┼────────────────────────────────┤\n",
            "│ humid_max               │                       │                                │ 0.009                 │ 0.012 (0.428)                  │ 0.009                 │ 0.012 (0.44)                   │                 0.015 │ 0.011 (0.189)                  │\n",
            "├─────────────────────────┼───────────────────────┼────────────────────────────────┼───────────────────────┼────────────────────────────────┼───────────────────────┼────────────────────────────────┼───────────────────────┼────────────────────────────────┤\n",
            "│ low_temp                │                       │                                │ -0.019                │ 0.028 (0.51)                   │ -0.005                │ 0.027 (0.859)                  │                -0.015 │ 0.026 (0.567)                  │\n",
            "├─────────────────────────┼───────────────────────┼────────────────────────────────┼───────────────────────┼────────────────────────────────┼───────────────────────┼────────────────────────────────┼───────────────────────┼────────────────────────────────┤\n",
            "│ ln_coastline_area       │                       │                                │ 0.085                 │ 0.039 (0.035)                  │ 0.095                 │ 0.042 (0.031)                  │                 0.082 │ 0.04 (0.046)                   │\n",
            "├─────────────────────────┼───────────────────────┼────────────────────────────────┼───────────────────────┼────────────────────────────────┼───────────────────────┼────────────────────────────────┼───────────────────────┼────────────────────────────────┤\n",
            "│ island_dum              │                       │                                │                       │                                │ -0.398                │ 0.529 (0.457)                  │                -0.15  │ 0.516 (0.773)                  │\n",
            "├─────────────────────────┼───────────────────────┼────────────────────────────────┼───────────────────────┼────────────────────────────────┼───────────────────────┼────────────────────────────────┼───────────────────────┼────────────────────────────────┤\n",
            "│ islam                   │                       │                                │                       │                                │ -0.008                │ 0.003 (0.006)                  │                -0.006 │ 0.003 (0.061)                  │\n",
            "├─────────────────────────┼───────────────────────┼────────────────────────────────┼───────────────────────┼────────────────────────────────┼───────────────────────┼────────────────────────────────┼───────────────────────┼────────────────────────────────┤\n",
            "│ legor_fr                │                       │                                │                       │                                │ 0.755                 │ 0.503 (0.143)                  │                 2.396 │ 0.336 (0.0)                    │\n",
            "├─────────────────────────┼───────────────────────┼────────────────────────────────┼───────────────────────┼────────────────────────────────┼───────────────────────┼────────────────────────────────┼───────────────────────┼────────────────────────────────┤\n",
            "│ legor_uk                │                       │                                │                       │                                │                       │                                │                 1.754 │ 0.368 (0.0)                    │\n",
            "├─────────────────────────┼───────────────────────┼────────────────────────────────┼───────────────────────┼────────────────────────────────┼───────────────────────┼────────────────────────────────┼───────────────────────┼────────────────────────────────┤\n",
            "│ region_n                │                       │                                │                       │                                │ 0.382                 │ 0.484 (0.436)                  │                -0.304 │ 0.517 (0.561)                  │\n",
            "├─────────────────────────┼───────────────────────┼────────────────────────────────┼───────────────────────┼────────────────────────────────┼───────────────────────┼────────────────────────────────┼───────────────────────┼────────────────────────────────┤\n",
            "│ ln_avg_gold_pop         │                       │                                │                       │                                │                       │                                │                 0.011 │ 0.017 (0.531)                  │\n",
            "├─────────────────────────┼───────────────────────┼────────────────────────────────┼───────────────────────┼────────────────────────────────┼───────────────────────┼────────────────────────────────┼───────────────────────┼────────────────────────────────┤\n",
            "│ ln_avg_oil_pop          │                       │                                │                       │                                │                       │                                │                 0.078 │ 0.027 (0.008)                  │\n",
            "├─────────────────────────┼───────────────────────┼────────────────────────────────┼───────────────────────┼────────────────────────────────┼───────────────────────┼────────────────────────────────┼───────────────────────┼────────────────────────────────┤\n",
            "│ ln_avg_all_diamonds_pop │                       │                                │                       │                                │                       │                                │                -0.039 │ 0.043 (0.373)                  │\n",
            "╘═════════════════════════╧═══════════════════════╧════════════════════════════════╧═══════════════════════╧════════════════════════════════╧═══════════════════════╧════════════════════════════════╧═══════════════════════╧════════════════════════════════╛\n"
          ]
        }
      ]
    },
    {
      "cell_type": "markdown",
      "source": [
        "# **Table 4: IV and 2SLS**\n",
        "\n",
        "In this section, we replicate the IV analysis for the three different models presented in the paper."
      ],
      "metadata": {
        "id": "4r3B6bLUbBJH"
      }
    },
    {
      "cell_type": "markdown",
      "source": [
        "## **Instrumental Variable Analysis**"
      ],
      "metadata": {
        "id": "kYPOgE3Pmdl3"
      }
    },
    {
      "cell_type": "markdown",
      "source": [
        "**Model 1: Instrumental Variable Analysis without Controls**\n",
        "\n",
        "\n",
        "This code conducts an IV analysis through a two-stage least squares (2SLS) regression to address endogeneity concerns in econometric analysis. In the first stage, it predicts the endogenous variable (ln_export_area) using instrumental variables (atlantic_distance_minimum, indian_distance_minimum, saharan_distance_minimum, and red_sea_distance_minimum). Coefficients and standard errors are then extracted and presented in a tabular format. These results provide insights into the relationship between the endogenous variable and instrumental variables. In the second stage, the predicted values from the first stage are utilized as exogenous variables to examine the relationship between ln_export_area and ln_maddison_pcgdp2000. Coefficients and standard errors from this stage are also extracted and displayed, offering insights into the estimated effects of the variables under investigation."
      ],
      "metadata": {
        "id": "K51hpo9C1tKj"
      }
    },
    {
      "cell_type": "code",
      "source": [
        "import statsmodels.api as sm\n",
        "\n",
        "# Step 1: First Stage Regression\n",
        "# Define the endogenous variable (to be instrumented) and the instrument\n",
        "endog_first_stage = df['ln_export_area']\n",
        "instrument_first_stage = df[['atlantic_distance_minimum', 'indian_distance_minimum', 'saharan_distance_minimum', 'red_sea_distance_minimum']]\n",
        "\n",
        "# Add constant to the instrument\n",
        "instrument_first_stage = sm.add_constant(instrument_first_stage)\n",
        "\n",
        "# Fit the first stage regression\n",
        "first_stage_model1 = sm.OLS(endog_first_stage, instrument_first_stage).fit()\n",
        "\n",
        "# Step 2: Predicted Values from First Stage\n",
        "# Get the predicted values from the first stage\n",
        "df['ln_export_area_predicted'] = first_stage_model1.predict()\n",
        "\n",
        "# Step 3: Second Stage Regression\n",
        "# Define the exogenous variable (including the predicted values from the first stage)\n",
        "exog_second_stage = df[['ln_export_area_predicted']]\n",
        "\n",
        "# Add constant to the exogenous variables\n",
        "exog_second_stage = sm.add_constant(exog_second_stage)\n",
        "\n",
        "# Fit the second stage regression\n",
        "second_stage_model1 = sm.OLS(df['ln_maddison_pcgdp2000'], exog_second_stage).fit()"
      ],
      "metadata": {
        "id": "QAR7c9SbzAwM"
      },
      "execution_count": null,
      "outputs": []
    },
    {
      "cell_type": "code",
      "source": [
        "# Extract coefficients and standard errors for the first stage\n",
        "coefficients = first_stage_model1.params\n",
        "std_errors = first_stage_model1.bse\n",
        "\n",
        "# Create a DataFrame with coefficients and standard errors\n",
        "first_stage_results_df = pd.DataFrame({'Variable': coefficients.index, 'Coefficient': coefficients.values, 'Std. Error': std_errors.values})\n",
        "\n",
        "# Round the numbers to three decimals\n",
        "first_stage_results_df = first_stage_results_df.round(3)\n",
        "\n",
        "# Print the name of the first stage\n",
        "print(\"First Stage Results:\")\n",
        "# Print the table\n",
        "print(tabulate(first_stage_results_df, headers='keys', tablefmt='fancy_grid', showindex=False))\n",
        "\n",
        "# Extract coefficients and standard errors for the second stage\n",
        "coefficients_second_stage = second_stage_model1.params\n",
        "std_errors_second_stage = second_stage_model1.bse\n",
        "\n",
        "# Create a DataFrame with coefficients and standard errors for the second stage\n",
        "second_stage_results_df = pd.DataFrame({'Variable': coefficients_second_stage.index, 'Coefficient': coefficients_second_stage.values, 'Std. Error': std_errors_second_stage.values})\n",
        "\n",
        "# Round the numbers to three decimals\n",
        "second_stage_results_df = second_stage_results_df.round(3)\n",
        "\n",
        "# Print the name of the second stage\n",
        "print(\"\\nSecond Stage Results:\")\n",
        "# Print the table\n",
        "print(tabulate(second_stage_results_df, headers='keys', tablefmt='fancy_grid', showindex=False))"
      ],
      "metadata": {
        "colab": {
          "base_uri": "https://localhost:8080/"
        },
        "id": "TLkjiHxQ0exW",
        "outputId": "34649e58-258e-4e92-9871-a3c4cd8e6a83"
      },
      "execution_count": null,
      "outputs": [
        {
          "output_type": "stream",
          "name": "stdout",
          "text": [
            "First Stage Results:\n",
            "╒═══════════════════════════╤═══════════════╤══════════════╕\n",
            "│ Variable                  │   Coefficient │   Std. Error │\n",
            "╞═══════════════════════════╪═══════════════╪══════════════╡\n",
            "│ const                     │        29.11  │        6.959 │\n",
            "├───────────────────────────┼───────────────┼──────────────┤\n",
            "│ atlantic_distance_minimum │        -1.314 │        0.357 │\n",
            "├───────────────────────────┼───────────────┼──────────────┤\n",
            "│ indian_distance_minimum   │        -1.095 │        0.38  │\n",
            "├───────────────────────────┼───────────────┼──────────────┤\n",
            "│ saharan_distance_minimum  │        -2.435 │        0.823 │\n",
            "├───────────────────────────┼───────────────┼──────────────┤\n",
            "│ red_sea_distance_minimum  │        -0.002 │        0.71  │\n",
            "╘═══════════════════════════╧═══════════════╧══════════════╛\n",
            "\n",
            "Second Stage Results:\n",
            "╒══════════════════════════╤═══════════════╤══════════════╕\n",
            "│ Variable                 │   Coefficient │   Std. Error │\n",
            "╞══════════════════════════╪═══════════════╪══════════════╡\n",
            "│ const                    │         7.811 │        0.187 │\n",
            "├──────────────────────────┼───────────────┼──────────────┤\n",
            "│ ln_export_area_predicted │        -0.208 │        0.049 │\n",
            "╘══════════════════════════╧═══════════════╧══════════════╛\n"
          ]
        }
      ]
    },
    {
      "cell_type": "markdown",
      "source": [
        "**Model 2: Instrumental Variable Analysis with Colony Fixed Effects**\n",
        "\n",
        "This code conducts instrumental variable (IV) analysis while incorporating colony fixed effects to account for unobserved heterogeneity. In the first stage, the endogenous variable (ln_export_area) is regressed on instrumental variables along with colony indicators. Coefficients and standard errors are extracted and presented in a tabular format. Predicted values from the first stage are utilized in the second stage, where the relationship between ln_export_area and ln_maddison_pcgdp2000 is explored. Coefficients and standard errors from this stage are also extracted and presented in a similar tabular format. These analyses contribute to understanding the impact of the transatlantic slave trade while considering the influence of colony-specific characteristics."
      ],
      "metadata": {
        "id": "HqhpuujD1qr9"
      }
    },
    {
      "cell_type": "code",
      "source": [
        "import statsmodels.api as sm\n",
        "\n",
        "# Step 1: First Stage Regression\n",
        "# Define the endogenous variable (to be instrumented) and the instrument\n",
        "endog_first_stage = df['ln_export_area']\n",
        "instrument_first_stage = df[['atlantic_distance_minimum', 'indian_distance_minimum', 'saharan_distance_minimum', 'red_sea_distance_minimum', 'colony0', 'colony1', 'colony2', 'colony3', 'colony4', 'colony5', 'colony6']]\n",
        "\n",
        "# Add constant to the instrument\n",
        "instrument_first_stage = sm.add_constant(instrument_first_stage)\n",
        "\n",
        "# Fit the first stage regression\n",
        "first_stage_model2 = sm.OLS(endog_first_stage, instrument_first_stage).fit()\n",
        "\n",
        "# Step 2: Predicted Values from First Stage\n",
        "# Get the predicted values from the first stage\n",
        "df['ln_export_area_predicted'] = first_stage_model2.predict()\n",
        "\n",
        "# Step 3: Second Stage Regression\n",
        "# Define the exogenous variable (including the predicted values from the first stage)\n",
        "exog_second_stage = df[['ln_export_area_predicted', 'colony0', 'colony1', 'colony2', 'colony3', 'colony4', 'colony5', 'colony6']]\n",
        "\n",
        "# Add constant to the exogenous variables\n",
        "exog_second_stage = sm.add_constant(exog_second_stage)\n",
        "\n",
        "# Fit the second stage regression\n",
        "second_stage_model2 = sm.OLS(df['ln_maddison_pcgdp2000'], exog_second_stage).fit()\n"
      ],
      "metadata": {
        "id": "w2Rd12W0cKiv"
      },
      "execution_count": null,
      "outputs": []
    },
    {
      "cell_type": "code",
      "source": [
        "# Extract coefficients and standard errors for the first stage\n",
        "coefficients = first_stage_model2.params\n",
        "std_errors = first_stage_model2.bse\n",
        "\n",
        "# Create a DataFrame with coefficients and standard errors\n",
        "first_stage_results_df = pd.DataFrame({'Variable': coefficients.index, 'Coefficient': coefficients.values, 'Std. Error': std_errors.values})\n",
        "\n",
        "# Round the numbers to three decimals\n",
        "first_stage_results_df = first_stage_results_df.round(3)\n",
        "\n",
        "# Exclude colony variables from the first stage results table\n",
        "first_stage_results_df = first_stage_results_df[~first_stage_results_df['Variable'].str.startswith('colony')]\n",
        "\n",
        "# Add \"Colony Fixed Effects\" to the first stage results table\n",
        "colony_fixed_effects_row = pd.DataFrame({'Variable': ['Colony Fixed Effects'], 'Coefficient': ['Yes'], 'Std. Error': ['']})\n",
        "first_stage_results_df = pd.concat([first_stage_results_df, colony_fixed_effects_row], ignore_index=True)\n",
        "\n",
        "# Print the name of the first stage\n",
        "print(\"First Stage Results:\")\n",
        "# Print the table\n",
        "print(tabulate(first_stage_results_df, headers='keys', tablefmt='fancy_grid', showindex=False))\n",
        "\n",
        "# Extract coefficients and standard errors for the second stage\n",
        "coefficients_second_stage = second_stage_model2.params\n",
        "std_errors_second_stage = second_stage_model2.bse\n",
        "\n",
        "# Create a DataFrame with coefficients and standard errors for the second stage\n",
        "second_stage_results_df = pd.DataFrame({'Variable': coefficients_second_stage.index, 'Coefficient': coefficients_second_stage.values, 'Std. Error': std_errors_second_stage.values})\n",
        "\n",
        "# Round the numbers to three decimals\n",
        "second_stage_results_df = second_stage_results_df.round(3)\n",
        "\n",
        "# Exclude colony variables from the second stage results table\n",
        "second_stage_results_df = second_stage_results_df[~second_stage_results_df['Variable'].str.startswith('colony')]\n",
        "\n",
        "# Add \"Colony Fixed Effects\" to the second stage results table\n",
        "second_stage_results_df = pd.concat([second_stage_results_df, colony_fixed_effects_row], ignore_index=True)\n",
        "\n",
        "# Print the name of the second stage\n",
        "print(\"\\nSecond Stage Results:\")\n",
        "# Print the table\n",
        "print(tabulate(second_stage_results_df, headers='keys', tablefmt='fancy_grid', showindex=False))\n"
      ],
      "metadata": {
        "colab": {
          "base_uri": "https://localhost:8080/"
        },
        "id": "cDVH3WkXqfgk",
        "outputId": "8de444d3-cbec-4b52-8e5e-a6b38b40bf55"
      },
      "execution_count": null,
      "outputs": [
        {
          "output_type": "stream",
          "name": "stdout",
          "text": [
            "First Stage Results:\n",
            "╒═══════════════════════════╤═══════════════╤══════════════╕\n",
            "│ Variable                  │ Coefficient   │ Std. Error   │\n",
            "╞═══════════════════════════╪═══════════════╪══════════════╡\n",
            "│ const                     │ 42.363        │ 12.189       │\n",
            "├───────────────────────────┼───────────────┼──────────────┤\n",
            "│ atlantic_distance_minimum │ -1.741        │ 0.425        │\n",
            "├───────────────────────────┼───────────────┼──────────────┤\n",
            "│ indian_distance_minimum   │ -1.426        │ 0.531        │\n",
            "├───────────────────────────┼───────────────┼──────────────┤\n",
            "│ saharan_distance_minimum  │ -3.001        │ 1.049        │\n",
            "├───────────────────────────┼───────────────┼──────────────┤\n",
            "│ red_sea_distance_minimum  │ -0.152        │ 0.813        │\n",
            "├───────────────────────────┼───────────────┼──────────────┤\n",
            "│ Colony Fixed Effects      │ Yes           │              │\n",
            "╘═══════════════════════════╧═══════════════╧══════════════╛\n",
            "\n",
            "Second Stage Results:\n",
            "╒══════════════════════════╤═══════════════╤══════════════╕\n",
            "│ Variable                 │ Coefficient   │ Std. Error   │\n",
            "╞══════════════════════════╪═══════════════╪══════════════╡\n",
            "│ const                    │ 8.075         │ 0.62         │\n",
            "├──────────────────────────┼───────────────┼──────────────┤\n",
            "│ ln_export_area_predicted │ -0.201        │ 0.04         │\n",
            "├──────────────────────────┼───────────────┼──────────────┤\n",
            "│ Colony Fixed Effects     │ Yes           │              │\n",
            "╘══════════════════════════╧═══════════════╧══════════════╛\n"
          ]
        }
      ]
    },
    {
      "cell_type": "markdown",
      "source": [
        "**Model 3: Instrumental Variable Analysis with Colony Fixed Effects and Geography Controls**\n",
        "\n",
        "This script conducts instrumental variable (IV) analysis while incorporating colony fixed effects and additional geography controls to address endogeneity concerns. In the first stage, the endogenous variable (ln_export_area) is regressed on instrumental variables, colony indicators, and geography controls. Coefficients and standard errors are extracted and presented in a tabular format. Predicted values from the first stage are then utilized in the second stage, where the relationship between ln_export_area and ln_maddison_pcgdp2000 is explored. Similar to the first stage, coefficients and standard errors are extracted and presented in a tabular format. These analyses provide insights into the impact of both historical and geographical factors on economic outcomes, contributing to a comprehensive understanding of the underlying relationships."
      ],
      "metadata": {
        "id": "GuRlPBzo1n7V"
      }
    },
    {
      "cell_type": "code",
      "source": [
        "import statsmodels.api as sm\n",
        "\n",
        "# Step 1: First Stage Regression\n",
        "# Define the endogenous variable (to be instrumented) and the instrument\n",
        "endog_first_stage = df['ln_export_area']\n",
        "instrument_first_stage = df[['atlantic_distance_minimum', 'indian_distance_minimum', 'saharan_distance_minimum', 'red_sea_distance_minimum',\n",
        "                             'colony0', 'colony1', 'colony2', 'colony3', 'colony4', 'colony5', 'colony6',\n",
        "                             'abs_latitude', 'longitude', 'rain_min', 'humid_max', 'low_temp', 'ln_coastline_area']]\n",
        "\n",
        "# Add constant to the instrument\n",
        "instrument_first_stage = sm.add_constant(instrument_first_stage)\n",
        "\n",
        "# Fit the first stage regression\n",
        "first_stage_model3 = sm.OLS(endog_first_stage, instrument_first_stage).fit()\n",
        "\n",
        "# Step 2: Predicted Values from First Stage\n",
        "# Get the predicted values from the first stage\n",
        "df['ln_export_area_predicted'] = first_stage_model3.predict()\n",
        "\n",
        "# Step 3: Second Stage Regression\n",
        "# Define the exogenous variable (including the predicted values from the first stage)\n",
        "exog_second_stage = df[['ln_export_area_predicted', 'colony0', 'colony1', 'colony2', 'colony3', 'colony4', 'colony5', 'colony6',\n",
        "                        'abs_latitude', 'longitude', 'rain_min', 'humid_max', 'low_temp', 'ln_coastline_area']]\n",
        "\n",
        "# Add constant to the exogenous variables\n",
        "exog_second_stage = sm.add_constant(exog_second_stage)\n",
        "\n",
        "# Fit the second stage regression\n",
        "second_stage_model3 = sm.OLS(df['ln_maddison_pcgdp2000'], exog_second_stage).fit()"
      ],
      "metadata": {
        "id": "h3g56jVUlPC5"
      },
      "execution_count": null,
      "outputs": []
    },
    {
      "cell_type": "code",
      "source": [
        "# Extract first stage results\n",
        "coefficients_first_stage = first_stage_model3.params.round(3)\n",
        "std_errors_first_stage = first_stage_model3.bse.round(3)\n",
        "\n",
        "# Define variables to exclude\n",
        "exclude_variables = ['colony0', 'colony1', 'colony2', 'colony3', 'colony4', 'colony5', 'colony6', 'abs_latitude', 'longitude', 'rain_min', 'humid_max', 'low_temp', 'ln_coastline_area']\n",
        "\n",
        "# Create first stage results DataFrame\n",
        "first_stage_results_df = pd.DataFrame({'Variable': coefficients_first_stage.index,\n",
        "                                       'Coefficient': coefficients_first_stage.values,\n",
        "                                       'Std. Error': std_errors_first_stage.values})\n",
        "\n",
        "# Exclude specified variables\n",
        "first_stage_results_df = first_stage_results_df[~first_stage_results_df['Variable'].isin(exclude_variables)]\n",
        "\n",
        "# Add \"Colony Fixed Effects\" row\n",
        "colony_fixed_effects_row = pd.DataFrame({'Variable': ['Colony Fixed Effects'], 'Coefficient': ['Yes'], 'Std. Error': ['']})\n",
        "first_stage_results_df = pd.concat([first_stage_results_df, colony_fixed_effects_row], ignore_index=True)\n",
        "\n",
        "# Add \"Geography Controls\" row\n",
        "geography_controls_row = pd.DataFrame({'Variable': ['Geography Controls'], 'Coefficient': ['Yes'], 'Std. Error': ['']})\n",
        "first_stage_results_df = pd.concat([first_stage_results_df, geography_controls_row], ignore_index=True)\n",
        "\n",
        "# Print first stage table\n",
        "print(\"\\nFirst Stage Results:\")\n",
        "print(tabulate(first_stage_results_df, headers='keys', tablefmt='fancy_grid', showindex=False))\n",
        "\n",
        "# Extract second stage results\n",
        "coefficients_second_stage = second_stage_model3.params.round(3)\n",
        "std_errors_second_stage = second_stage_model3.bse.round(3)\n",
        "\n",
        "# Create second stage results DataFrame\n",
        "second_stage_results_df = pd.DataFrame({'Variable': coefficients_second_stage.index,\n",
        "                                        'Coefficient': coefficients_second_stage.values,\n",
        "                                        'Std. Error': std_errors_second_stage.values})\n",
        "\n",
        "# Exclude specified variables\n",
        "second_stage_results_df = second_stage_results_df[~second_stage_results_df['Variable'].isin(exclude_variables)]\n",
        "\n",
        "# Add \"Colony Fixed Effects\" row\n",
        "second_stage_results_df = pd.concat([second_stage_results_df, colony_fixed_effects_row], ignore_index=True)\n",
        "\n",
        "# Add \"Geography Controls\" row\n",
        "second_stage_results_df = pd.concat([second_stage_results_df, geography_controls_row], ignore_index=True)\n",
        "\n",
        "# Print second stage table\n",
        "print(\"\\nSecond Stage Results:\")\n",
        "print(tabulate(second_stage_results_df, headers='keys', tablefmt='fancy_grid', showindex=False))\n"
      ],
      "metadata": {
        "colab": {
          "base_uri": "https://localhost:8080/"
        },
        "id": "DSZtgs9IubNq",
        "outputId": "de7fb990-1a40-42a8-f95d-1481b4186356"
      },
      "execution_count": null,
      "outputs": [
        {
          "output_type": "stream",
          "name": "stdout",
          "text": [
            "\n",
            "First Stage Results:\n",
            "╒═══════════════════════════╤═══════════════╤══════════════╕\n",
            "│ Variable                  │ Coefficient   │ Std. Error   │\n",
            "╞═══════════════════════════╪═══════════════╪══════════════╡\n",
            "│ const                     │ 42.288        │ 19.336       │\n",
            "├───────────────────────────┼───────────────┼──────────────┤\n",
            "│ atlantic_distance_minimum │ -1.316        │ 0.761        │\n",
            "├───────────────────────────┼───────────────┼──────────────┤\n",
            "│ indian_distance_minimum   │ -1.081        │ 0.697        │\n",
            "├───────────────────────────┼───────────────┼──────────────┤\n",
            "│ saharan_distance_minimum  │ -1.139        │ 1.595        │\n",
            "├───────────────────────────┼───────────────┼──────────────┤\n",
            "│ red_sea_distance_minimum  │ -1.221        │ 1.82         │\n",
            "├───────────────────────────┼───────────────┼──────────────┤\n",
            "│ Colony Fixed Effects      │ Yes           │              │\n",
            "├───────────────────────────┼───────────────┼──────────────┤\n",
            "│ Geography Controls        │ Yes           │              │\n",
            "╘═══════════════════════════╧═══════════════╧══════════════╛\n",
            "\n",
            "Second Stage Results:\n",
            "╒══════════════════════════╤═══════════════╤══════════════╕\n",
            "│ Variable                 │ Coefficient   │ Std. Error   │\n",
            "╞══════════════════════════╪═══════════════╪══════════════╡\n",
            "│ const                    │ 8.771         │ 1.487        │\n",
            "├──────────────────────────┼───────────────┼──────────────┤\n",
            "│ ln_export_area_predicted │ -0.286        │ 0.096        │\n",
            "├──────────────────────────┼───────────────┼──────────────┤\n",
            "│ Colony Fixed Effects     │ Yes           │              │\n",
            "├──────────────────────────┼───────────────┼──────────────┤\n",
            "│ Geography Controls       │ Yes           │              │\n",
            "╘══════════════════════════╧═══════════════╧══════════════╛\n"
          ]
        }
      ]
    },
    {
      "cell_type": "markdown",
      "source": [
        "## **Figures**\n",
        "\n",
        "In this section, we re-create the main figures of the paper."
      ],
      "metadata": {
        "id": "0GX3WIJGWKrK"
      }
    },
    {
      "cell_type": "markdown",
      "source": [
        "### **Visualization of Relationships in Slave Trade and Economic Development**\n",
        "\n",
        "This script generates visualizations to explore the relationships between historical slave exports and various economic and demographic factors. The first plot (Figure 3) depicts the relationship between the logarithm of slave exports normalized by land area and the logarithm of real per capita GDP in 2000. Figure 4 illustrates the association between the logarithm of population density in 1400 and slave exports. Figure 6 explores the relationship between slave exports and ethnic fractionalization, while Figure 7 examines the link between slave exports and nineteenth-century state development. Each plot employs regression analysis to visualize the trends and correlations between the variables, providing insights into the historical implications of the transatlantic slave trade on economic and social factors."
      ],
      "metadata": {
        "id": "HXdI6iZ3qmep"
      }
    },
    {
      "cell_type": "code",
      "execution_count": null,
      "metadata": {
        "id": "mMihC3Q8Ewxr",
        "colab": {
          "base_uri": "https://localhost:8080/",
          "height": 1000
        },
        "outputId": "070ba5d7-ca2e-4114-fafd-36edc8e85189"
      },
      "outputs": [
        {
          "output_type": "display_data",
          "data": {
            "text/plain": [
              "<Figure size 640x480 with 1 Axes>"
            ],
            "image/png": "[encoded data removed]"
          },
          "metadata": {}
        },
        {
          "output_type": "display_data",
          "data": {
            "text/plain": [
              "<Figure size 640x480 with 1 Axes>"
            ],
            "image/png": "[encoded data removed]"
          },
          "metadata": {}
        },
        {
          "output_type": "display_data",
          "data": {
            "text/plain": [
              "<Figure size 640x480 with 1 Axes>"
            ],
            "image/png": "[encoded data removed]"
          },
          "metadata": {}
        },
        {
          "output_type": "display_data",
          "data": {
            "text/plain": [
              "<Figure size 640x480 with 1 Axes>"
            ],
            "image/png": "[encoded data removed]"
          },
          "metadata": {}
        }
      ],
      "source": [
        "# Figure 3: Relationship between slaves exported per area and GDP\n",
        "sns.regplot(x='ln_export_area', y='ln_maddison_pcgdp2000', data=df)\n",
        "plt.title('Figure 3: Relationship between Log Slave Exports Normalized by Land Area, ln(exports/area), and Log Real Per Capita GDP in 2000, ln y')\n",
        "plt.xlabel('Slave Exports, ln(exports/area)')\n",
        "plt.ylabel('Log Real Per Capita GDP in 2000, ln y')\n",
        "plt.show()\n",
        "\n",
        "# Figure 4: Relationship between ln_pop_dens_1400 and slaves exported per area\n",
        "sns.regplot(x='ln_pop_dens_1400', y='ln_export_area', data=df)\n",
        "plt.title('Figure 4: Relationship between Initial Population Density and Slave Exports')\n",
        "plt.xlabel('Log Population Density in 1400')\n",
        "plt.ylabel('Slave Exports, ln(exports/area)')\n",
        "plt.show()\n",
        "\n",
        "# Figure 6: Relationship between slaves exported per area and Ethnic Fractionalization\n",
        "sns.regplot(x='ln_export_area', y='ethnic_fractionalization', data=df)\n",
        "plt.title('Figure 6: Relationship between Slave Exports and Current Ethnic Fractionalization')\n",
        "plt.xlabel('Slave Exports, ln(exports/area)')\n",
        "plt.ylabel('Ethnic Fractionalization')\n",
        "plt.show()\n",
        "\n",
        "# Figure 7: Relationship between slaves exported per area and Nineteenth-Century State Development\n",
        "sns.regplot(x='ln_export_area', y='state_dev', data=df)\n",
        "plt.title('Figure 7: Relationship between Slave Exports and Nineteenth-Century State Development')\n",
        "plt.xlabel('Slave Exports, ln(exports/area)')\n",
        "plt.ylabel('19th Century State Development')\n",
        "plt.show()\n"
      ]
    },
    {
      "cell_type": "markdown",
      "source": [
        "# **Replicating the models with new GDP data**\n",
        "\n",
        "In this section, we replicate the OLS models and the IV models using GDP data from 2001 and 2022 and an average for the period 2001 - 2022."
      ],
      "metadata": {
        "id": "qr2wGoCg_t5I"
      }
    },
    {
      "cell_type": "markdown",
      "source": [
        "## **GDP 2001**"
      ],
      "metadata": {
        "id": "lFN-J1d43eDN"
      }
    },
    {
      "cell_type": "markdown",
      "source": [
        "### OLS Regressions\n",
        "\n",
        "This script conducts Ordinary Least Squares (OLS) regressions to analyze the relationship between 2001 economic growth (gdp01) and various predictor variables, with and without controls. Three models are fitted, each incorporating different sets of control variables. The predictors include factors such as ln_export_area, geographical coordinates, climate indicators, demographic characteristics, and regional features. Coefficients, standard errors, and p-values are extracted and presented in a tabular format, facilitating a comparative analysis of the effects of different control variables on economic growth estimates. These analyses contribute to understanding the drivers of economic development and inform policy decisions aimed at promoting sustainable growth."
      ],
      "metadata": {
        "id": "Abit7bwW_FnX"
      }
    },
    {
      "cell_type": "code",
      "source": [
        "# Table 3: OLS regression with and without controls\n",
        "X1 = sm.add_constant(df[['ln_export_area', 'colony0', 'colony1', 'colony2', 'colony3', 'colony4', 'colony5', 'colony6', 'colony7']])\n",
        "X2 = sm.add_constant(df[['ln_export_area', 'abs_latitude', 'longitude', 'rain_min', 'humid_max', 'low_temp', 'ln_coastline_area',  'colony0', 'colony1', 'colony2', 'colony3', 'colony4', 'colony5', 'colony6', 'colony7']])\n",
        "X4 = sm.add_constant(df[['ln_export_area', 'abs_latitude', 'longitude', 'rain_min', 'humid_max', 'low_temp', 'ln_coastline_area', 'island_dum', 'islam', 'legor_fr', 'region_n',  'colony0', 'colony1', 'colony2', 'colony3', 'colony4', 'colony5', 'colony6', 'colony7']])\n",
        "\n",
        "# Fit the models\n",
        "model1_gdp01 = sm.OLS(df['gpd01'], X1).fit()\n",
        "model2_gdp01 = sm.OLS(df['gpd01'], X2).fit()\n",
        "model4_gdp01 = sm.OLS(df['gpd01'], X4).fit()\n",
        "\n",
        "# Extract coefficients and other statistics for the specified variables\n",
        "variables = ['ln_export_area', 'abs_latitude', 'longitude', 'rain_min', 'humid_max', 'low_temp',\n",
        "             'ln_coastline_area', 'island_dum', 'islam', 'legor_fr', 'legor_uk', 'region_n',\n",
        "             'ln_avg_gold_pop', 'ln_avg_oil_pop', 'ln_avg_all_diamonds_pop']\n",
        "\n",
        "results = []\n",
        "\n",
        "# Populate the results list\n",
        "for var in variables:\n",
        "    row_values = {'Variable': var}\n",
        "    for i, model in enumerate([model1_gdp01, model2_gdp01, model4_gdp01]):\n",
        "        if var in model.params:\n",
        "            coefficient = round(model.params[var], 3)\n",
        "            std_error = round(model.bse[var], 3)\n",
        "            p_value = round(model.pvalues[var], 3)\n",
        "            std_p_value = f\"{std_error} ({p_value})\"\n",
        "            row_values[f'Model {i+1} Coefficient'] = coefficient\n",
        "            row_values[f'Model {i+1} Std. Error (P-value)'] = std_p_value\n",
        "        else:\n",
        "            row_values[f'Model {i+1} Coefficient'] = ''\n",
        "            row_values[f'Model {i+1} Std. Error (P-value)'] = ''\n",
        "    results.append(row_values)\n",
        "\n",
        "# Convert the results list to a DataFrame\n",
        "results_df = pd.DataFrame(results)\n",
        "\n",
        "# Convert NaN values to empty strings\n",
        "results_df = results_df.replace({np.nan: ''})\n",
        "\n",
        "# Convert the DataFrame to a tabular format with fancy styling\n",
        "table = tabulate(results_df, headers='keys', tablefmt='fancy_grid', showindex=False)\n",
        "\n",
        "# Print the table\n",
        "print(table)\n"
      ],
      "metadata": {
        "id": "Xy_Fusfs3kmo",
        "colab": {
          "base_uri": "https://localhost:8080/"
        },
        "outputId": "8d7ea1ff-a523-48a7-a695-ad97f0250a0a"
      },
      "execution_count": null,
      "outputs": [
        {
          "output_type": "stream",
          "name": "stdout",
          "text": [
            "╒═════════════════════════╤═══════════════════════╤════════════════════════════════╤═══════════════════════╤════════════════════════════════╤═══════════════════════╤════════════════════════════════╕\n",
            "│ Variable                │ Model 1 Coefficient   │ Model 1 Std. Error (P-value)   │ Model 2 Coefficient   │ Model 2 Std. Error (P-value)   │ Model 3 Coefficient   │ Model 3 Std. Error (P-value)   │\n",
            "╞═════════════════════════╪═══════════════════════╪════════════════════════════════╪═══════════════════════╪════════════════════════════════╪═══════════════════════╪════════════════════════════════╡\n",
            "│ ln_export_area          │ -0.115                │ 0.029 (0.0)                    │ -0.093                │ 0.036 (0.013)                  │ -0.101                │ 0.046 (0.034)                  │\n",
            "├─────────────────────────┼───────────────────────┼────────────────────────────────┼───────────────────────┼────────────────────────────────┼───────────────────────┼────────────────────────────────┤\n",
            "│ abs_latitude            │                       │                                │ 0.01                  │ 0.02 (0.618)                   │ 0.019                 │ 0.023 (0.406)                  │\n",
            "├─────────────────────────┼───────────────────────┼────────────────────────────────┼───────────────────────┼────────────────────────────────┼───────────────────────┼────────────────────────────────┤\n",
            "│ longitude               │                       │                                │ -0.002                │ 0.007 (0.781)                  │ -0.004                │ 0.007 (0.607)                  │\n",
            "├─────────────────────────┼───────────────────────┼────────────────────────────────┼───────────────────────┼────────────────────────────────┼───────────────────────┼────────────────────────────────┤\n",
            "│ rain_min                │                       │                                │ 0.002                 │ 0.008 (0.812)                  │ -0.001                │ 0.009 (0.947)                  │\n",
            "├─────────────────────────┼───────────────────────┼────────────────────────────────┼───────────────────────┼────────────────────────────────┼───────────────────────┼────────────────────────────────┤\n",
            "│ humid_max               │                       │                                │ 0.003                 │ 0.014 (0.85)                   │ -0.002                │ 0.015 (0.908)                  │\n",
            "├─────────────────────────┼───────────────────────┼────────────────────────────────┼───────────────────────┼────────────────────────────────┼───────────────────────┼────────────────────────────────┤\n",
            "│ low_temp                │                       │                                │ -0.001                │ 0.035 (0.988)                  │ 0.023                 │ 0.036 (0.525)                  │\n",
            "├─────────────────────────┼───────────────────────┼────────────────────────────────┼───────────────────────┼────────────────────────────────┼───────────────────────┼────────────────────────────────┤\n",
            "│ ln_coastline_area       │                       │                                │ 0.101                 │ 0.047 (0.041)                  │ 0.125                 │ 0.056 (0.031)                  │\n",
            "├─────────────────────────┼───────────────────────┼────────────────────────────────┼───────────────────────┼────────────────────────────────┼───────────────────────┼────────────────────────────────┤\n",
            "│ island_dum              │                       │                                │                       │                                │ -0.37                 │ 0.694 (0.598)                  │\n",
            "├─────────────────────────┼───────────────────────┼────────────────────────────────┼───────────────────────┼────────────────────────────────┼───────────────────────┼────────────────────────────────┤\n",
            "│ islam                   │                       │                                │                       │                                │ -0.009                │ 0.004 (0.019)                  │\n",
            "├─────────────────────────┼───────────────────────┼────────────────────────────────┼───────────────────────┼────────────────────────────────┼───────────────────────┼────────────────────────────────┤\n",
            "│ legor_fr                │                       │                                │                       │                                │ 0.091                 │ 0.661 (0.891)                  │\n",
            "├─────────────────────────┼───────────────────────┼────────────────────────────────┼───────────────────────┼────────────────────────────────┼───────────────────────┼────────────────────────────────┤\n",
            "│ legor_uk                │                       │                                │                       │                                │                       │                                │\n",
            "├─────────────────────────┼───────────────────────┼────────────────────────────────┼───────────────────────┼────────────────────────────────┼───────────────────────┼────────────────────────────────┤\n",
            "│ region_n                │                       │                                │                       │                                │ 0.459                 │ 0.635 (0.475)                  │\n",
            "├─────────────────────────┼───────────────────────┼────────────────────────────────┼───────────────────────┼────────────────────────────────┼───────────────────────┼────────────────────────────────┤\n",
            "│ ln_avg_gold_pop         │                       │                                │                       │                                │                       │                                │\n",
            "├─────────────────────────┼───────────────────────┼────────────────────────────────┼───────────────────────┼────────────────────────────────┼───────────────────────┼────────────────────────────────┤\n",
            "│ ln_avg_oil_pop          │                       │                                │                       │                                │                       │                                │\n",
            "├─────────────────────────┼───────────────────────┼────────────────────────────────┼───────────────────────┼────────────────────────────────┼───────────────────────┼────────────────────────────────┤\n",
            "│ ln_avg_all_diamonds_pop │                       │                                │                       │                                │                       │                                │\n",
            "╘═════════════════════════╧═══════════════════════╧════════════════════════════════╧═══════════════════════╧════════════════════════════════╧═══════════════════════╧════════════════════════════════╛\n"
          ]
        }
      ]
    },
    {
      "cell_type": "markdown",
      "source": [
        "### IV and 2SLS"
      ],
      "metadata": {
        "id": "bTXFDFyD-wpF"
      }
    },
    {
      "cell_type": "markdown",
      "source": [
        "**Model 1: Instrumental Variable Analysis without Controls**\n",
        "\n",
        "This script implements an IV analysis to estimate the relationship between 2001 economic growth (gdp01) and the endogenous variable ln_export_area, instrumented with atlantic_distance_minimum, indian_distance_minimum, saharan_distance_minimum, and red_sea_distance_minimum. In the first stage, the endogenous variable is regressed on the instrumental variables, and the predicted values are used in the second stage regression. Coefficients and standard errors for the second stage regression are extracted and presented in a tabular format, providing insights into the estimated effects of ln_export_area on economic growth. These results contribute to understanding the causal relationship between slave exports and economic development, accounting for potential endogeneity."
      ],
      "metadata": {
        "id": "QfN1d3zb1f5y"
      }
    },
    {
      "cell_type": "code",
      "source": [
        "import statsmodels.api as sm\n",
        "\n",
        "# Step 1: First Stage Regression\n",
        "# Define the endogenous variable (to be instrumented) and the instrument\n",
        "endog_first_stage = df['ln_export_area']\n",
        "instrument_first_stage = df[['atlantic_distance_minimum', 'indian_distance_minimum', 'saharan_distance_minimum', 'red_sea_distance_minimum']]\n",
        "\n",
        "# Add constant to the instrument\n",
        "instrument_first_stage = sm.add_constant(instrument_first_stage)\n",
        "\n",
        "# Fit the first stage regression\n",
        "first_stage_model1 = sm.OLS(endog_first_stage, instrument_first_stage).fit()\n",
        "\n",
        "# Step 2: Predicted Values from First Stage\n",
        "# Get the predicted values from the first stage\n",
        "df['ln_export_area_predicted'] = first_stage_model1.predict()\n",
        "\n",
        "# Step 3: Second Stage Regression\n",
        "# Define the exogenous variable (including the predicted values from the first stage)\n",
        "exog_second_stage = df[['ln_export_area_predicted']]\n",
        "\n",
        "# Add constant to the exogenous variables\n",
        "exog_second_stage = sm.add_constant(exog_second_stage)\n",
        "\n",
        "# Fit the second stage regression\n",
        "second_stage_model1_gdp01 = sm.OLS(df['gpd01'], exog_second_stage).fit()"
      ],
      "metadata": {
        "id": "ZLyHj8Nf-yKg"
      },
      "execution_count": null,
      "outputs": []
    },
    {
      "cell_type": "code",
      "source": [
        "# Extract coefficients and standard errors for the second stage\n",
        "coefficients_second_stage = second_stage_model1_gdp01.params\n",
        "std_errors_second_stage = second_stage_model1_gdp01.bse\n",
        "\n",
        "# Create a DataFrame with coefficients and standard errors for the second stage\n",
        "second_stage_results_df = pd.DataFrame({'Variable': coefficients_second_stage.index, 'Coefficient': coefficients_second_stage.values, 'Std. Error': std_errors_second_stage.values})\n",
        "\n",
        "# Round the numbers to three decimals\n",
        "second_stage_results_df = second_stage_results_df.round(3)\n",
        "\n",
        "# Print the name of the second stage\n",
        "print(\"\\nSecond Stage Results:\")\n",
        "# Print the table\n",
        "print(tabulate(second_stage_results_df, headers='keys', tablefmt='fancy_grid', showindex=False))"
      ],
      "metadata": {
        "colab": {
          "base_uri": "https://localhost:8080/"
        },
        "id": "KUaaQuP8wm3N",
        "outputId": "1e0a4b20-81d8-4a94-ee94-392e3af01263"
      },
      "execution_count": null,
      "outputs": [
        {
          "output_type": "stream",
          "name": "stdout",
          "text": [
            "\n",
            "Second Stage Results:\n",
            "╒══════════════════════════╤═══════════════╤══════════════╕\n",
            "│ Variable                 │   Coefficient │   Std. Error │\n",
            "╞══════════════════════════╪═══════════════╪══════════════╡\n",
            "│ const                    │         7.933 │        0.218 │\n",
            "├──────────────────────────┼───────────────┼──────────────┤\n",
            "│ ln_export_area_predicted │        -0.263 │        0.057 │\n",
            "╘══════════════════════════╧═══════════════╧══════════════╛\n"
          ]
        }
      ]
    },
    {
      "cell_type": "markdown",
      "source": [
        "**Model 2: Instrumental Variable Analysis with Colony Fixed Effects**\n",
        "\n",
        "This script performs an IV analysis with colony controls. In the first stage, the endogenous variable ln_export_area is regressed on instrumental variables and colony indicators. The predicted values from the first stage are then utilized in the second stage regression, where the economic growth variable gdp01 is regressed on the predicted ln_export_area, along with colony indicators. Coefficients and standard errors for the second stage regression are extracted and presented in a tabular format. These results provide insights into the impact of ln_export_area on economic growth while controlling for potential endogeneity and colony-specific effects."
      ],
      "metadata": {
        "id": "pBi23cQM1eo6"
      }
    },
    {
      "cell_type": "code",
      "source": [
        "import statsmodels.api as sm\n",
        "\n",
        "# Step 1: First Stage Regression\n",
        "# Define the endogenous variable (to be instrumented) and the instrument\n",
        "endog_first_stage = df['ln_export_area']\n",
        "instrument_first_stage = df[['atlantic_distance_minimum', 'indian_distance_minimum', 'saharan_distance_minimum', 'red_sea_distance_minimum', 'colony0', 'colony1', 'colony2', 'colony3', 'colony4', 'colony5', 'colony6']]\n",
        "\n",
        "# Add constant to the instrument\n",
        "instrument_first_stage = sm.add_constant(instrument_first_stage)\n",
        "\n",
        "# Fit the first stage regression\n",
        "first_stage_model2 = sm.OLS(endog_first_stage, instrument_first_stage).fit()\n",
        "\n",
        "# Step 2: Predicted Values from First Stage\n",
        "# Get the predicted values from the first stage\n",
        "df['ln_export_area_predicted'] = first_stage_model2.predict()\n",
        "\n",
        "# Step 3: Second Stage Regression\n",
        "# Define the exogenous variable (including the predicted values from the first stage)\n",
        "exog_second_stage = df[['ln_export_area_predicted', 'colony0', 'colony1', 'colony2', 'colony3', 'colony4', 'colony5', 'colony6']]\n",
        "\n",
        "# Add constant to the exogenous variables\n",
        "exog_second_stage = sm.add_constant(exog_second_stage)\n",
        "\n",
        "# Fit the second stage regression\n",
        "second_stage_model2_gdp01 = sm.OLS(df['gpd01'], exog_second_stage).fit()\n"
      ],
      "metadata": {
        "id": "PaK9TDeX_L9P"
      },
      "execution_count": null,
      "outputs": []
    },
    {
      "cell_type": "code",
      "source": [
        "# Extract coefficients and standard errors for the second stage\n",
        "coefficients_second_stage = second_stage_model2_gdp01.params\n",
        "std_errors_second_stage = second_stage_model2_gdp01.bse\n",
        "\n",
        "# Create a DataFrame with coefficients and standard errors for the second stage\n",
        "second_stage_results_df = pd.DataFrame({'Variable': coefficients_second_stage.index, 'Coefficient': coefficients_second_stage.values, 'Std. Error': std_errors_second_stage.values})\n",
        "\n",
        "# Round the numbers to three decimals\n",
        "second_stage_results_df = second_stage_results_df.round(3)\n",
        "\n",
        "# Exclude colony variables from the second stage results table\n",
        "second_stage_results_df = second_stage_results_df[~second_stage_results_df['Variable'].str.startswith('colony')]\n",
        "\n",
        "# Add \"Colony Fixed Effects\" to the second stage results table\n",
        "second_stage_results_df = pd.concat([second_stage_results_df, colony_fixed_effects_row], ignore_index=True)\n",
        "\n",
        "# Print the name of the second stage\n",
        "print(\"\\nSecond Stage Results:\")\n",
        "# Print the table\n",
        "print(tabulate(second_stage_results_df, headers='keys', tablefmt='fancy_grid', showindex=False))"
      ],
      "metadata": {
        "colab": {
          "base_uri": "https://localhost:8080/"
        },
        "id": "92cFNIIjw19b",
        "outputId": "f17092b4-7291-4466-d11f-17c8c0f096eb"
      },
      "execution_count": null,
      "outputs": [
        {
          "output_type": "stream",
          "name": "stdout",
          "text": [
            "\n",
            "Second Stage Results:\n",
            "╒══════════════════════════╤═══════════════╤══════════════╕\n",
            "│ Variable                 │ Coefficient   │ Std. Error   │\n",
            "╞══════════════════════════╪═══════════════╪══════════════╡\n",
            "│ const                    │ 9.651         │ 0.713        │\n",
            "├──────────────────────────┼───────────────┼──────────────┤\n",
            "│ ln_export_area_predicted │ -0.23         │ 0.046        │\n",
            "├──────────────────────────┼───────────────┼──────────────┤\n",
            "│ Colony Fixed Effects     │ Yes           │              │\n",
            "╘══════════════════════════╧═══════════════╧══════════════╛\n"
          ]
        }
      ]
    },
    {
      "cell_type": "markdown",
      "source": [
        "**Model 3: Instrumental Variable Analysis with Colony Fixed Effects and Geography Controls**\n",
        "\n",
        "This code conducts an IV analysis with colony and geography controls. In the first stage, the endogenous variable ln_export_area is regressed on instrumental variables, including geographical factors and colony indicators. Predicted values of ln_export_area are then generated. Subsequently, in the second stage, the economic growth variable gdp01 is regressed on the predicted ln_export_area, along with colony indicators and additional geographical control variables. Coefficients and standard errors for the second stage regression are extracted and presented in a tabular format. This analysis allows for an examination of the impact of ln_export_area on economic growth while addressing endogeneity concerns and controlling for relevant geographical and colonial factors."
      ],
      "metadata": {
        "id": "wokBT75M1bKE"
      }
    },
    {
      "cell_type": "code",
      "source": [
        "import statsmodels.api as sm\n",
        "\n",
        "# Step 1: First Stage Regression\n",
        "# Define the endogenous variable (to be instrumented) and the instrument\n",
        "endog_first_stage = df['ln_export_area']\n",
        "instrument_first_stage = df[['atlantic_distance_minimum', 'indian_distance_minimum', 'saharan_distance_minimum', 'red_sea_distance_minimum',\n",
        "                             'colony0', 'colony1', 'colony2', 'colony3', 'colony4', 'colony5', 'colony6',\n",
        "                             'abs_latitude', 'longitude', 'rain_min', 'humid_max', 'low_temp', 'ln_coastline_area']]\n",
        "\n",
        "# Add constant to the instrument\n",
        "instrument_first_stage = sm.add_constant(instrument_first_stage)\n",
        "\n",
        "# Fit the first stage regression\n",
        "first_stage_model3 = sm.OLS(endog_first_stage, instrument_first_stage).fit()\n",
        "\n",
        "# Step 2: Predicted Values from First Stage\n",
        "# Get the predicted values from the first stage\n",
        "df['ln_export_area_predicted'] = first_stage_model3.predict()\n",
        "\n",
        "# Step 3: Second Stage Regression\n",
        "# Define the exogenous variable (including the predicted values from the first stage)\n",
        "exog_second_stage = df[['ln_export_area_predicted', 'colony0', 'colony1', 'colony2', 'colony3', 'colony4', 'colony5', 'colony6',\n",
        "                        'abs_latitude', 'longitude', 'rain_min', 'humid_max', 'low_temp', 'ln_coastline_area']]\n",
        "\n",
        "# Add constant to the exogenous variables\n",
        "exog_second_stage = sm.add_constant(exog_second_stage)\n",
        "\n",
        "# Fit the second stage regression\n",
        "second_stage_model3_gdp01 = sm.OLS(df['gpd01'], exog_second_stage).fit()"
      ],
      "metadata": {
        "id": "gueLF7K-_Lws"
      },
      "execution_count": null,
      "outputs": []
    },
    {
      "cell_type": "code",
      "source": [
        "# Extract second stage results\n",
        "coefficients_second_stage = second_stage_model3_gdp01.params.round(3)\n",
        "std_errors_second_stage = second_stage_model3_gdp01.bse.round(3)\n",
        "\n",
        "# Create second stage results DataFrame\n",
        "second_stage_results_df = pd.DataFrame({'Variable': coefficients_second_stage.index,\n",
        "                                        'Coefficient': coefficients_second_stage.values,\n",
        "                                        'Std. Error': std_errors_second_stage.values})\n",
        "\n",
        "# Exclude specified variables\n",
        "second_stage_results_df = second_stage_results_df[~second_stage_results_df['Variable'].isin(exclude_variables)]\n",
        "\n",
        "# Add \"Colony Fixed Effects\" row\n",
        "second_stage_results_df = pd.concat([second_stage_results_df, colony_fixed_effects_row], ignore_index=True)\n",
        "\n",
        "# Add \"Geography Controls\" row\n",
        "second_stage_results_df = pd.concat([second_stage_results_df, geography_controls_row], ignore_index=True)\n",
        "\n",
        "# Print second stage table\n",
        "print(\"\\nSecond Stage Results:\")\n",
        "print(tabulate(second_stage_results_df, headers='keys', tablefmt='fancy_grid', showindex=False))"
      ],
      "metadata": {
        "colab": {
          "base_uri": "https://localhost:8080/"
        },
        "id": "o0mDWhvnxWNb",
        "outputId": "3ef00a5d-5e10-4886-af77-6dc9abea4d14"
      },
      "execution_count": null,
      "outputs": [
        {
          "output_type": "stream",
          "name": "stdout",
          "text": [
            "\n",
            "Second Stage Results:\n",
            "╒══════════════════════════╤═══════════════╤══════════════╕\n",
            "│ Variable                 │ Coefficient   │ Std. Error   │\n",
            "╞══════════════════════════╪═══════════════╪══════════════╡\n",
            "│ const                    │ 12.074        │ 1.739        │\n",
            "├──────────────────────────┼───────────────┼──────────────┤\n",
            "│ ln_export_area_predicted │ -0.41         │ 0.113        │\n",
            "├──────────────────────────┼───────────────┼──────────────┤\n",
            "│ Colony Fixed Effects     │ Yes           │              │\n",
            "├──────────────────────────┼───────────────┼──────────────┤\n",
            "│ Geography Controls       │ Yes           │              │\n",
            "╘══════════════════════════╧═══════════════╧══════════════╛\n"
          ]
        }
      ]
    },
    {
      "cell_type": "markdown",
      "source": [
        "## **GDP 2022**"
      ],
      "metadata": {
        "id": "BUefcv6j-NZS"
      }
    },
    {
      "cell_type": "markdown",
      "source": [
        "### OLS Regressions\n",
        "\n",
        "This script conducts Ordinary Least Squares (OLS) regressions to analyze the relationship between 2022 economic growth (gdp22) and various predictor variables, with and without controls. Three models are fitted, each incorporating different sets of control variables. The predictors include factors such as ln_export_area, geographical coordinates, climate indicators, demographic characteristics, and regional features. Coefficients, standard errors, and p-values are extracted and presented in a tabular format, facilitating a comparative analysis of the effects of different control variables on economic growth estimates. These analyses contribute to understanding the drivers of economic development and inform policy decisions aimed at promoting sustainable growth."
      ],
      "metadata": {
        "id": "Qx6-B4Qy_7Lu"
      }
    },
    {
      "cell_type": "code",
      "source": [
        "# Table 3: OLS regression with and without controls\n",
        "X1 = sm.add_constant(df[['ln_export_area', 'colony0', 'colony1', 'colony2', 'colony3', 'colony4', 'colony5', 'colony6', 'colony7']])\n",
        "X2 = sm.add_constant(df[['ln_export_area', 'abs_latitude', 'longitude', 'rain_min', 'humid_max', 'low_temp', 'ln_coastline_area',  'colony0', 'colony1', 'colony2', 'colony3', 'colony4', 'colony5', 'colony6', 'colony7']])\n",
        "X4 = sm.add_constant(df[['ln_export_area', 'abs_latitude', 'longitude', 'rain_min', 'humid_max', 'low_temp', 'ln_coastline_area', 'island_dum', 'islam', 'legor_fr', 'region_n',  'colony0', 'colony1', 'colony2', 'colony3', 'colony4', 'colony5', 'colony6', 'colony7']])\n",
        "\n",
        "# Fit the models\n",
        "model1_gdp22 = sm.OLS(df['gdp22'], X1).fit()\n",
        "model2_gdp22 = sm.OLS(df['gdp22'], X2).fit()\n",
        "model4_gdp22 = sm.OLS(df['gdp22'], X4).fit()\n",
        "\n",
        "# Extract coefficients and other statistics for the specified variables\n",
        "variables = ['ln_export_area', 'abs_latitude', 'longitude', 'rain_min', 'humid_max', 'low_temp',\n",
        "             'ln_coastline_area', 'island_dum', 'islam', 'legor_fr', 'legor_uk', 'region_n',\n",
        "             'ln_avg_gold_pop', 'ln_avg_oil_pop', 'ln_avg_all_diamonds_pop']\n",
        "\n",
        "results = []\n",
        "\n",
        "# Populate the results list\n",
        "for var in variables:\n",
        "    row_values = {'Variable': var}\n",
        "    for i, model in enumerate([model1_gdp22, model2_gdp22, model4_gdp22]):\n",
        "        if var in model.params:\n",
        "            coefficient = round(model.params[var], 3)\n",
        "            std_error = round(model.bse[var], 3)\n",
        "            p_value = round(model.pvalues[var], 3)\n",
        "            std_p_value = f\"{std_error} ({p_value})\"\n",
        "            row_values[f'Model {i+1} Coefficient'] = coefficient\n",
        "            row_values[f'Model {i+1} Std. Error (P-value)'] = std_p_value\n",
        "        else:\n",
        "            row_values[f'Model {i+1} Coefficient'] = ''\n",
        "            row_values[f'Model {i+1} Std. Error (P-value)'] = ''\n",
        "    results.append(row_values)\n",
        "\n",
        "# Convert the results list to a DataFrame\n",
        "results_df = pd.DataFrame(results)\n",
        "\n",
        "# Convert NaN values to empty strings\n",
        "results_df = results_df.replace({np.nan: ''})\n",
        "\n",
        "# Convert the DataFrame to a tabular format with fancy styling\n",
        "table = tabulate(results_df, headers='keys', tablefmt='fancy_grid', showindex=False)\n",
        "\n",
        "# Print the table\n",
        "print(table)\n"
      ],
      "metadata": {
        "id": "ObfpGEZ9-Nzm",
        "colab": {
          "base_uri": "https://localhost:8080/"
        },
        "outputId": "8b77b3da-34c4-4114-d6d1-94a367ae3e50"
      },
      "execution_count": null,
      "outputs": [
        {
          "output_type": "stream",
          "name": "stdout",
          "text": [
            "╒═════════════════════════╤═══════════════════════╤════════════════════════════════╤═══════════════════════╤════════════════════════════════╤═══════════════════════╤════════════════════════════════╕\n",
            "│ Variable                │ Model 1 Coefficient   │ Model 1 Std. Error (P-value)   │ Model 2 Coefficient   │ Model 2 Std. Error (P-value)   │ Model 3 Coefficient   │ Model 3 Std. Error (P-value)   │\n",
            "╞═════════════════════════╪═══════════════════════╪════════════════════════════════╪═══════════════════════╪════════════════════════════════╪═══════════════════════╪════════════════════════════════╡\n",
            "│ ln_export_area          │ -0.115                │ 0.029 (0.0)                    │ -0.083                │ 0.035 (0.023)                  │ -0.088                │ 0.044 (0.055)                  │\n",
            "├─────────────────────────┼───────────────────────┼────────────────────────────────┼───────────────────────┼────────────────────────────────┼───────────────────────┼────────────────────────────────┤\n",
            "│ abs_latitude            │                       │                                │ 0.008                 │ 0.02 (0.704)                   │ 0.008                 │ 0.022 (0.716)                  │\n",
            "├─────────────────────────┼───────────────────────┼────────────────────────────────┼───────────────────────┼────────────────────────────────┼───────────────────────┼────────────────────────────────┤\n",
            "│ longitude               │                       │                                │ -0.003                │ 0.007 (0.686)                  │ -0.007                │ 0.007 (0.344)                  │\n",
            "├─────────────────────────┼───────────────────────┼────────────────────────────────┼───────────────────────┼────────────────────────────────┼───────────────────────┼────────────────────────────────┤\n",
            "│ rain_min                │                       │                                │ 0.004                 │ 0.008 (0.642)                  │ 0.005                 │ 0.009 (0.589)                  │\n",
            "├─────────────────────────┼───────────────────────┼────────────────────────────────┼───────────────────────┼────────────────────────────────┼───────────────────────┼────────────────────────────────┤\n",
            "│ humid_max               │                       │                                │ 0.006                 │ 0.014 (0.661)                  │ 0.008                 │ 0.015 (0.607)                  │\n",
            "├─────────────────────────┼───────────────────────┼────────────────────────────────┼───────────────────────┼────────────────────────────────┼───────────────────────┼────────────────────────────────┤\n",
            "│ low_temp                │                       │                                │ -0.016                │ 0.034 (0.636)                  │ -0.005                │ 0.035 (0.891)                  │\n",
            "├─────────────────────────┼───────────────────────┼────────────────────────────────┼───────────────────────┼────────────────────────────────┼───────────────────────┼────────────────────────────────┤\n",
            "│ ln_coastline_area       │                       │                                │ 0.121                 │ 0.047 (0.014)                  │ 0.124                 │ 0.054 (0.028)                  │\n",
            "├─────────────────────────┼───────────────────────┼────────────────────────────────┼───────────────────────┼────────────────────────────────┼───────────────────────┼────────────────────────────────┤\n",
            "│ island_dum              │                       │                                │                       │                                │ -0.326                │ 0.674 (0.632)                  │\n",
            "├─────────────────────────┼───────────────────────┼────────────────────────────────┼───────────────────────┼────────────────────────────────┼───────────────────────┼────────────────────────────────┤\n",
            "│ islam                   │                       │                                │                       │                                │ -0.008                │ 0.004 (0.031)                  │\n",
            "├─────────────────────────┼───────────────────────┼────────────────────────────────┼───────────────────────┼────────────────────────────────┼───────────────────────┼────────────────────────────────┤\n",
            "│ legor_fr                │                       │                                │                       │                                │ 0.824                 │ 0.641 (0.208)                  │\n",
            "├─────────────────────────┼───────────────────────┼────────────────────────────────┼───────────────────────┼────────────────────────────────┼───────────────────────┼────────────────────────────────┤\n",
            "│ legor_uk                │                       │                                │                       │                                │                       │                                │\n",
            "├─────────────────────────┼───────────────────────┼────────────────────────────────┼───────────────────────┼────────────────────────────────┼───────────────────────┼────────────────────────────────┤\n",
            "│ region_n                │                       │                                │                       │                                │ 0.53                  │ 0.616 (0.396)                  │\n",
            "├─────────────────────────┼───────────────────────┼────────────────────────────────┼───────────────────────┼────────────────────────────────┼───────────────────────┼────────────────────────────────┤\n",
            "│ ln_avg_gold_pop         │                       │                                │                       │                                │                       │                                │\n",
            "├─────────────────────────┼───────────────────────┼────────────────────────────────┼───────────────────────┼────────────────────────────────┼───────────────────────┼────────────────────────────────┤\n",
            "│ ln_avg_oil_pop          │                       │                                │                       │                                │                       │                                │\n",
            "├─────────────────────────┼───────────────────────┼────────────────────────────────┼───────────────────────┼────────────────────────────────┼───────────────────────┼────────────────────────────────┤\n",
            "│ ln_avg_all_diamonds_pop │                       │                                │                       │                                │                       │                                │\n",
            "╘═════════════════════════╧═══════════════════════╧════════════════════════════════╧═══════════════════════╧════════════════════════════════╧═══════════════════════╧════════════════════════════════╛\n"
          ]
        }
      ]
    },
    {
      "cell_type": "markdown",
      "source": [
        "## IV and 2SLS"
      ],
      "metadata": {
        "id": "NUxXMoVuxi2W"
      }
    },
    {
      "cell_type": "markdown",
      "source": [
        "**Model 1: Instrumental Variable Analysis without Controls**\n",
        "\n",
        "This script implements an IV analysis to estimate the relationship between 2022 economic growth (gdp22) and the endogenous variable ln_export_area, instrumented with atlantic_distance_minimum, indian_distance_minimum, saharan_distance_minimum, and red_sea_distance_minimum. In the first stage, the endogenous variable is regressed on the instrumental variables, and the predicted values are used in the second stage regression. Coefficients and standard errors for the second stage regression are extracted and presented in a tabular format, providing insights into the estimated effects of ln_export_area on economic growth. These results contribute to understanding the causal relationship between slave exports and economic development, accounting for potential endogeneity."
      ],
      "metadata": {
        "id": "GoCN5kfG0tcF"
      }
    },
    {
      "cell_type": "code",
      "source": [
        "# Step 1: First Stage Regression\n",
        "# Define the endogenous variable (to be instrumented) and the instrument\n",
        "endog_first_stage = df['ln_export_area']\n",
        "instrument_first_stage = df[['atlantic_distance_minimum', 'indian_distance_minimum', 'saharan_distance_minimum', 'red_sea_distance_minimum']]\n",
        "\n",
        "# Add constant to the instrument\n",
        "instrument_first_stage = sm.add_constant(instrument_first_stage)\n",
        "\n",
        "# Fit the first stage regression\n",
        "first_stage_model1 = sm.OLS(endog_first_stage, instrument_first_stage).fit()\n",
        "\n",
        "# Step 2: Predicted Values from First Stage\n",
        "# Get the predicted values from the first stage\n",
        "df['ln_export_area_predicted'] = first_stage_model1.predict()\n",
        "\n",
        "# Step 3: Second Stage Regression\n",
        "# Define the exogenous variable (including the predicted values from the first stage)\n",
        "exog_second_stage = df[['ln_export_area_predicted']]\n",
        "\n",
        "# Add constant to the exogenous variables\n",
        "exog_second_stage = sm.add_constant(exog_second_stage)\n",
        "\n",
        "# Fit the second stage regression\n",
        "second_stage_model1_gdp22 = sm.OLS(df['gdp22'], exog_second_stage).fit()"
      ],
      "metadata": {
        "id": "2EJXXCUuxkiv"
      },
      "execution_count": null,
      "outputs": []
    },
    {
      "cell_type": "code",
      "source": [
        "# Extract coefficients and standard errors for the second stage\n",
        "coefficients_second_stage = second_stage_model1_gdp22.params\n",
        "std_errors_second_stage = second_stage_model1_gdp22.bse\n",
        "\n",
        "# Create a DataFrame with coefficients and standard errors for the second stage\n",
        "second_stage_results_df = pd.DataFrame({'Variable': coefficients_second_stage.index, 'Coefficient': coefficients_second_stage.values, 'Std. Error': std_errors_second_stage.values})\n",
        "\n",
        "# Round the numbers to three decimals\n",
        "second_stage_results_df = second_stage_results_df.round(3)\n",
        "\n",
        "# Print the name of the second stage\n",
        "print(\"\\nSecond Stage Results:\")\n",
        "# Print the table\n",
        "print(tabulate(second_stage_results_df, headers='keys', tablefmt='fancy_grid', showindex=False))"
      ],
      "metadata": {
        "colab": {
          "base_uri": "https://localhost:8080/"
        },
        "id": "NfV09YPUxjOo",
        "outputId": "11c3fb58-148c-4673-e3ac-4fe5d36290cc"
      },
      "execution_count": null,
      "outputs": [
        {
          "output_type": "stream",
          "name": "stdout",
          "text": [
            "\n",
            "Second Stage Results:\n",
            "╒══════════════════════════╤═══════════════╤══════════════╕\n",
            "│ Variable                 │   Coefficient │   Std. Error │\n",
            "╞══════════════════════════╪═══════════════╪══════════════╡\n",
            "│ const                    │         8.155 │        0.211 │\n",
            "├──────────────────────────┼───────────────┼──────────────┤\n",
            "│ ln_export_area_predicted │        -0.245 │        0.055 │\n",
            "╘══════════════════════════╧═══════════════╧══════════════╛\n"
          ]
        }
      ]
    },
    {
      "cell_type": "markdown",
      "source": [
        "**Model 2: Instrumental Variable Analysis with Colony Fixed Effects**\n",
        "\n",
        "This script performs an IV analysis with colony controls. In the first stage, the endogenous variable ln_export_area is regressed on instrumental variables and colony indicators. The predicted values from the first stage are then utilized in the second stage regression, where the economic growth variable gdp22 is regressed on the predicted ln_export_area, along with colony indicators. Coefficients and standard errors for the second stage regression are extracted and presented in a tabular format. These results provide insights into the impact of ln_export_area on economic growth while controlling for potential endogeneity and colony-specific effects."
      ],
      "metadata": {
        "id": "XTjR2GuL00BC"
      }
    },
    {
      "cell_type": "code",
      "source": [
        "import statsmodels.api as sm\n",
        "\n",
        "# Step 1: First Stage Regression\n",
        "# Define the endogenous variable (to be instrumented) and the instrument\n",
        "endog_first_stage = df['ln_export_area']\n",
        "instrument_first_stage = df[['atlantic_distance_minimum', 'indian_distance_minimum', 'saharan_distance_minimum', 'red_sea_distance_minimum', 'colony0', 'colony1', 'colony2', 'colony3', 'colony4', 'colony5', 'colony6']]\n",
        "\n",
        "# Add constant to the instrument\n",
        "instrument_first_stage = sm.add_constant(instrument_first_stage)\n",
        "\n",
        "# Fit the first stage regression\n",
        "first_stage_model2 = sm.OLS(endog_first_stage, instrument_first_stage).fit()\n",
        "\n",
        "# Step 2: Predicted Values from First Stage\n",
        "# Get the predicted values from the first stage\n",
        "df['ln_export_area_predicted'] = first_stage_model2.predict()\n",
        "\n",
        "# Step 3: Second Stage Regression\n",
        "# Define the exogenous variable (including the predicted values from the first stage)\n",
        "exog_second_stage = df[['ln_export_area_predicted', 'colony0', 'colony1', 'colony2', 'colony3', 'colony4', 'colony5', 'colony6']]\n",
        "\n",
        "# Add constant to the exogenous variables\n",
        "exog_second_stage = sm.add_constant(exog_second_stage)\n",
        "\n",
        "# Fit the second stage regression\n",
        "second_stage_model2_gdp22 = sm.OLS(df['gdp22'], exog_second_stage).fit()\n"
      ],
      "metadata": {
        "id": "FU4fLgkzxk7S"
      },
      "execution_count": null,
      "outputs": []
    },
    {
      "cell_type": "code",
      "source": [
        "# Extract coefficients and standard errors for the second stage\n",
        "coefficients_second_stage = second_stage_model2_gdp22.params\n",
        "std_errors_second_stage = second_stage_model2_gdp22.bse\n",
        "\n",
        "# Create a DataFrame with coefficients and standard errors for the second stage\n",
        "second_stage_results_df = pd.DataFrame({'Variable': coefficients_second_stage.index, 'Coefficient': coefficients_second_stage.values, 'Std. Error': std_errors_second_stage.values})\n",
        "\n",
        "# Round the numbers to three decimals\n",
        "second_stage_results_df = second_stage_results_df.round(3)\n",
        "\n",
        "# Exclude colony variables from the second stage results table\n",
        "second_stage_results_df = second_stage_results_df[~second_stage_results_df['Variable'].str.startswith('colony')]\n",
        "\n",
        "# Add \"Colony Fixed Effects\" to the second stage results table\n",
        "second_stage_results_df = pd.concat([second_stage_results_df, colony_fixed_effects_row], ignore_index=True)\n",
        "\n",
        "# Print the name of the second stage\n",
        "print(\"\\nSecond Stage Results:\")\n",
        "# Print the table\n",
        "print(tabulate(second_stage_results_df, headers='keys', tablefmt='fancy_grid', showindex=False))"
      ],
      "metadata": {
        "colab": {
          "base_uri": "https://localhost:8080/"
        },
        "id": "78rzuTHlxxoP",
        "outputId": "96087d2b-25b9-4e08-d475-16a1acd9253e"
      },
      "execution_count": null,
      "outputs": [
        {
          "output_type": "stream",
          "name": "stdout",
          "text": [
            "\n",
            "Second Stage Results:\n",
            "╒══════════════════════════╤═══════════════╤══════════════╕\n",
            "│ Variable                 │ Coefficient   │ Std. Error   │\n",
            "╞══════════════════════════╪═══════════════╪══════════════╡\n",
            "│ const                    │ 9.349         │ 0.751        │\n",
            "├──────────────────────────┼───────────────┼──────────────┤\n",
            "│ ln_export_area_predicted │ -0.213        │ 0.048        │\n",
            "├──────────────────────────┼───────────────┼──────────────┤\n",
            "│ Colony Fixed Effects     │ Yes           │              │\n",
            "╘══════════════════════════╧═══════════════╧══════════════╛\n"
          ]
        }
      ]
    },
    {
      "cell_type": "markdown",
      "source": [
        "**Model 3: Instrumental Variable Analysis with Colony Fixed Effects and Geography Controls**\n",
        "\n",
        "This code conducts an IV analysis with colony and geography controls. In the first stage, the endogenous variable ln_export_area is regressed on instrumental variables, including geographical factors and colony indicators. Predicted values of ln_export_area are then generated. Subsequently, in the second stage, the economic growth variable gdp22 is regressed on the predicted ln_export_area, along with colony indicators and additional geographical control variables. Coefficients and standard errors for the second stage regression are extracted and presented in a tabular format. This analysis allows for an examination of the impact of ln_export_area on economic growth while addressing endogeneity concerns and controlling for relevant geographical and colonial factors.\n",
        "\n",
        "\n"
      ],
      "metadata": {
        "id": "XgBEgAOF02P7"
      }
    },
    {
      "cell_type": "code",
      "source": [
        "import statsmodels.api as sm\n",
        "\n",
        "# Step 1: First Stage Regression\n",
        "# Define the endogenous variable (to be instrumented) and the instrument\n",
        "endog_first_stage = df['ln_export_area']\n",
        "instrument_first_stage = df[['atlantic_distance_minimum', 'indian_distance_minimum', 'saharan_distance_minimum', 'red_sea_distance_minimum',\n",
        "                             'colony0', 'colony1', 'colony2', 'colony3', 'colony4', 'colony5', 'colony6',\n",
        "                             'abs_latitude', 'longitude', 'rain_min', 'humid_max', 'low_temp', 'ln_coastline_area']]\n",
        "\n",
        "# Add constant to the instrument\n",
        "instrument_first_stage = sm.add_constant(instrument_first_stage)\n",
        "\n",
        "# Fit the first stage regression\n",
        "first_stage_model3 = sm.OLS(endog_first_stage, instrument_first_stage).fit()\n",
        "\n",
        "# Step 2: Predicted Values from First Stage\n",
        "# Get the predicted values from the first stage\n",
        "df['ln_export_area_predicted'] = first_stage_model3.predict()\n",
        "\n",
        "# Step 3: Second Stage Regression\n",
        "# Define the exogenous variable (including the predicted values from the first stage)\n",
        "exog_second_stage = df[['ln_export_area_predicted', 'colony0', 'colony1', 'colony2', 'colony3', 'colony4', 'colony5', 'colony6',\n",
        "                        'abs_latitude', 'longitude', 'rain_min', 'humid_max', 'low_temp', 'ln_coastline_area']]\n",
        "\n",
        "# Add constant to the exogenous variables\n",
        "exog_second_stage = sm.add_constant(exog_second_stage)\n",
        "\n",
        "# Fit the second stage regression\n",
        "second_stage_model3_gdp22 = sm.OLS(df['gdp22'], exog_second_stage).fit()"
      ],
      "metadata": {
        "id": "lbXamV0zxlO3"
      },
      "execution_count": null,
      "outputs": []
    },
    {
      "cell_type": "code",
      "source": [
        "# Extract second stage results\n",
        "coefficients_second_stage = second_stage_model3_gdp22.params.round(3)\n",
        "std_errors_second_stage = second_stage_model3_gdp22.bse.round(3)\n",
        "\n",
        "# Create second stage results DataFrame\n",
        "second_stage_results_df = pd.DataFrame({'Variable': coefficients_second_stage.index,\n",
        "                                        'Coefficient': coefficients_second_stage.values,\n",
        "                                        'Std. Error': std_errors_second_stage.values})\n",
        "\n",
        "# Exclude specified variables\n",
        "second_stage_results_df = second_stage_results_df[~second_stage_results_df['Variable'].isin(exclude_variables)]\n",
        "\n",
        "# Add \"Colony Fixed Effects\" row\n",
        "second_stage_results_df = pd.concat([second_stage_results_df, colony_fixed_effects_row], ignore_index=True)\n",
        "\n",
        "# Add \"Geography Controls\" row\n",
        "second_stage_results_df = pd.concat([second_stage_results_df, geography_controls_row], ignore_index=True)\n",
        "\n",
        "# Print second stage table\n",
        "print(\"\\nSecond Stage Results:\")\n",
        "print(tabulate(second_stage_results_df, headers='keys', tablefmt='fancy_grid', showindex=False))"
      ],
      "metadata": {
        "colab": {
          "base_uri": "https://localhost:8080/"
        },
        "id": "BpG0jgVJyOgW",
        "outputId": "a8160ccf-967a-4b85-95f5-85e7a6aee8ad"
      },
      "execution_count": null,
      "outputs": [
        {
          "output_type": "stream",
          "name": "stdout",
          "text": [
            "\n",
            "Second Stage Results:\n",
            "╒══════════════════════════╤═══════════════╤══════════════╕\n",
            "│ Variable                 │ Coefficient   │ Std. Error   │\n",
            "╞══════════════════════════╪═══════════════╪══════════════╡\n",
            "│ const                    │ 11.013        │ 1.782        │\n",
            "├──────────────────────────┼───────────────┼──────────────┤\n",
            "│ ln_export_area_predicted │ -0.337        │ 0.116        │\n",
            "├──────────────────────────┼───────────────┼──────────────┤\n",
            "│ Colony Fixed Effects     │ Yes           │              │\n",
            "├──────────────────────────┼───────────────┼──────────────┤\n",
            "│ Geography Controls       │ Yes           │              │\n",
            "╘══════════════════════════╧═══════════════╧══════════════╛\n"
          ]
        }
      ]
    },
    {
      "cell_type": "markdown",
      "source": [
        "## **Average GDP 2001 - 2022**"
      ],
      "metadata": {
        "id": "EsgPl3iQAHPq"
      }
    },
    {
      "cell_type": "markdown",
      "source": [
        "### OLS Regressions\n",
        "\n",
        "This script conducts Ordinary Least Squares (OLS) regressions to analyze the relationship between average GDP from 2001 to 2022 and various predictor variables, with and without controls. Three models are fitted, each incorporating different sets of control variables. The predictors include factors such as ln_export_area, geographical coordinates, climate indicators, demographic characteristics, and regional features. Coefficients, standard errors, and p-values are extracted and presented in a tabular format, facilitating a comparative analysis of the effects of different control variables on economic growth estimates. These analyses contribute to understanding the drivers of economic development and inform policy decisions aimed at promoting sustainable growth."
      ],
      "metadata": {
        "id": "eLpJeEIzAuU7"
      }
    },
    {
      "cell_type": "code",
      "source": [
        "# Table 3: OLS regression with and without controls\n",
        "X1 = sm.add_constant(df[['ln_export_area', 'colony0', 'colony1', 'colony2', 'colony3', 'colony4', 'colony5', 'colony6', 'colony7']])\n",
        "X2 = sm.add_constant(df[['ln_export_area', 'abs_latitude', 'longitude', 'rain_min', 'humid_max', 'low_temp', 'ln_coastline_area',  'colony0', 'colony1', 'colony2', 'colony3', 'colony4', 'colony5', 'colony6', 'colony7']])\n",
        "X4 = sm.add_constant(df[['ln_export_area', 'abs_latitude', 'longitude', 'rain_min', 'humid_max', 'low_temp', 'ln_coastline_area', 'island_dum', 'islam', 'legor_fr', 'region_n',  'colony0', 'colony1', 'colony2', 'colony3', 'colony4', 'colony5', 'colony6', 'colony7']])\n",
        "\n",
        "# Fit the models\n",
        "model1_avg = sm.OLS(df['average_gdp_01_22'], X1).fit()\n",
        "model2_avg = sm.OLS(df['average_gdp_01_22'], X2).fit()\n",
        "model4_avg = sm.OLS(df['average_gdp_01_22'], X4).fit()\n",
        "\n",
        "# Extract coefficients and other statistics for the specified variables\n",
        "variables = ['ln_export_area', 'abs_latitude', 'longitude', 'rain_min', 'humid_max', 'low_temp',\n",
        "             'ln_coastline_area', 'island_dum', 'islam', 'legor_fr', 'legor_uk', 'region_n',\n",
        "             'ln_avg_gold_pop', 'ln_avg_oil_pop', 'ln_avg_all_diamonds_pop']\n",
        "\n",
        "results = []\n",
        "\n",
        "# Populate the results list\n",
        "for var in variables:\n",
        "    row_values = {'Variable': var}\n",
        "    for i, model in enumerate([model1_avg, model2_avg, model4_avg]):\n",
        "        if var in model.params:\n",
        "            coefficient = round(model.params[var], 3)\n",
        "            std_error = round(model.bse[var], 3)\n",
        "            p_value = round(model.pvalues[var], 3)\n",
        "            std_p_value = f\"{std_error} ({p_value})\"\n",
        "            row_values[f'Model {i+1} Coefficient'] = coefficient\n",
        "            row_values[f'Model {i+1} Std. Error (P-value)'] = std_p_value\n",
        "        else:\n",
        "            row_values[f'Model {i+1} Coefficient'] = ''\n",
        "            row_values[f'Model {i+1} Std. Error (P-value)'] = ''\n",
        "    results.append(row_values)\n",
        "\n",
        "# Convert the results list to a DataFrame\n",
        "results_df = pd.DataFrame(results)\n",
        "\n",
        "# Convert NaN values to empty strings\n",
        "results_df = results_df.replace({np.nan: ''})\n",
        "\n",
        "# Convert the DataFrame to a tabular format with fancy styling\n",
        "table = tabulate(results_df, headers='keys', tablefmt='fancy_grid', showindex=False)\n",
        "\n",
        "# Print the table\n",
        "print(table)\n"
      ],
      "metadata": {
        "id": "vkcxvlqTAMSL",
        "colab": {
          "base_uri": "https://localhost:8080/"
        },
        "outputId": "2111a45e-205f-4832-f44b-fbf7ad18aaf1"
      },
      "execution_count": null,
      "outputs": [
        {
          "output_type": "stream",
          "name": "stdout",
          "text": [
            "╒═════════════════════════╤═══════════════════════╤════════════════════════════════╤═══════════════════════╤════════════════════════════════╤═══════════════════════╤════════════════════════════════╕\n",
            "│ Variable                │ Model 1 Coefficient   │ Model 1 Std. Error (P-value)   │ Model 2 Coefficient   │ Model 2 Std. Error (P-value)   │ Model 3 Coefficient   │ Model 3 Std. Error (P-value)   │\n",
            "╞═════════════════════════╪═══════════════════════╪════════════════════════════════╪═══════════════════════╪════════════════════════════════╪═══════════════════════╪════════════════════════════════╡\n",
            "│ ln_export_area          │ -0.114                │ 0.028 (0.0)                    │ -0.086                │ 0.035 (0.02)                   │ -0.087                │ 0.045 (0.061)                  │\n",
            "├─────────────────────────┼───────────────────────┼────────────────────────────────┼───────────────────────┼────────────────────────────────┼───────────────────────┼────────────────────────────────┤\n",
            "│ abs_latitude            │                       │                                │ 0.011                 │ 0.02 (0.576)                   │ 0.016                 │ 0.023 (0.492)                  │\n",
            "├─────────────────────────┼───────────────────────┼────────────────────────────────┼───────────────────────┼────────────────────────────────┼───────────────────────┼────────────────────────────────┤\n",
            "│ longitude               │                       │                                │ -0.001                │ 0.007 (0.83)                   │ -0.004                │ 0.007 (0.578)                  │\n",
            "├─────────────────────────┼───────────────────────┼────────────────────────────────┼───────────────────────┼────────────────────────────────┼───────────────────────┼────────────────────────────────┤\n",
            "│ rain_min                │                       │                                │ 0.003                 │ 0.008 (0.731)                  │ 0.001                 │ 0.009 (0.869)                  │\n",
            "├─────────────────────────┼───────────────────────┼────────────────────────────────┼───────────────────────┼────────────────────────────────┼───────────────────────┼────────────────────────────────┤\n",
            "│ humid_max               │                       │                                │ 0.004                 │ 0.014 (0.786)                  │ 0.003                 │ 0.015 (0.86)                   │\n",
            "├─────────────────────────┼───────────────────────┼────────────────────────────────┼───────────────────────┼────────────────────────────────┼───────────────────────┼────────────────────────────────┤\n",
            "│ low_temp                │                       │                                │ -0.006                │ 0.034 (0.859)                  │ 0.011                 │ 0.035 (0.749)                  │\n",
            "├─────────────────────────┼───────────────────────┼────────────────────────────────┼───────────────────────┼────────────────────────────────┼───────────────────────┼────────────────────────────────┤\n",
            "│ ln_coastline_area       │                       │                                │ 0.106                 │ 0.047 (0.03)                   │ 0.116                 │ 0.055 (0.042)                  │\n",
            "├─────────────────────────┼───────────────────────┼────────────────────────────────┼───────────────────────┼────────────────────────────────┼───────────────────────┼────────────────────────────────┤\n",
            "│ island_dum              │                       │                                │                       │                                │ -0.242                │ 0.683 (0.725)                  │\n",
            "├─────────────────────────┼───────────────────────┼────────────────────────────────┼───────────────────────┼────────────────────────────────┼───────────────────────┼────────────────────────────────┤\n",
            "│ islam                   │                       │                                │                       │                                │ -0.009                │ 0.004 (0.023)                  │\n",
            "├─────────────────────────┼───────────────────────┼────────────────────────────────┼───────────────────────┼────────────────────────────────┼───────────────────────┼────────────────────────────────┤\n",
            "│ legor_fr                │                       │                                │                       │                                │ 0.4                   │ 0.65 (0.543)                   │\n",
            "├─────────────────────────┼───────────────────────┼────────────────────────────────┼───────────────────────┼────────────────────────────────┼───────────────────────┼────────────────────────────────┤\n",
            "│ legor_uk                │                       │                                │                       │                                │                       │                                │\n",
            "├─────────────────────────┼───────────────────────┼────────────────────────────────┼───────────────────────┼────────────────────────────────┼───────────────────────┼────────────────────────────────┤\n",
            "│ region_n                │                       │                                │                       │                                │ 0.583                 │ 0.625 (0.357)                  │\n",
            "├─────────────────────────┼───────────────────────┼────────────────────────────────┼───────────────────────┼────────────────────────────────┼───────────────────────┼────────────────────────────────┤\n",
            "│ ln_avg_gold_pop         │                       │                                │                       │                                │                       │                                │\n",
            "├─────────────────────────┼───────────────────────┼────────────────────────────────┼───────────────────────┼────────────────────────────────┼───────────────────────┼────────────────────────────────┤\n",
            "│ ln_avg_oil_pop          │                       │                                │                       │                                │                       │                                │\n",
            "├─────────────────────────┼───────────────────────┼────────────────────────────────┼───────────────────────┼────────────────────────────────┼───────────────────────┼────────────────────────────────┤\n",
            "│ ln_avg_all_diamonds_pop │                       │                                │                       │                                │                       │                                │\n",
            "╘═════════════════════════╧═══════════════════════╧════════════════════════════════╧═══════════════════════╧════════════════════════════════╧═══════════════════════╧════════════════════════════════╛\n"
          ]
        }
      ]
    },
    {
      "cell_type": "markdown",
      "source": [
        "## IV and 2SLS"
      ],
      "metadata": {
        "id": "c9n1pf3Tx-0w"
      }
    },
    {
      "cell_type": "markdown",
      "source": [
        "**Model 1: Instrumental Variable Analysis without Controls**\n",
        "\n",
        "This script implements an IV analysis to estimate the relationship between average GDP from 2001 to 2022 and the endogenous variable ln_export_area, instrumented with atlantic_distance_minimum, indian_distance_minimum, saharan_distance_minimum, and red_sea_distance_minimum. In the first stage, the endogenous variable is regressed on the instrumental variables, and the predicted values are used in the second stage regression. Coefficients and standard errors for the second stage regression are extracted and presented in a tabular format, providing insights into the estimated effects of ln_export_area on economic growth. These results contribute to understanding the causal relationship between slave exports and economic development, accounting for potential endogeneity."
      ],
      "metadata": {
        "id": "QL99sB0Z0-qj"
      }
    },
    {
      "cell_type": "code",
      "source": [
        "# Step 1: First Stage Regression\n",
        "# Define the endogenous variable (to be instrumented) and the instrument\n",
        "endog_first_stage = df['ln_export_area']\n",
        "instrument_first_stage = df[['atlantic_distance_minimum', 'indian_distance_minimum', 'saharan_distance_minimum', 'red_sea_distance_minimum']]\n",
        "\n",
        "# Add constant to the instrument\n",
        "instrument_first_stage = sm.add_constant(instrument_first_stage)\n",
        "\n",
        "# Fit the first stage regression\n",
        "first_stage_model1 = sm.OLS(endog_first_stage, instrument_first_stage).fit()\n",
        "\n",
        "# Step 2: Predicted Values from First Stage\n",
        "# Get the predicted values from the first stage\n",
        "df['ln_export_area_predicted'] = first_stage_model1.predict()\n",
        "\n",
        "# Step 3: Second Stage Regression\n",
        "# Define the exogenous variable (including the predicted values from the first stage)\n",
        "exog_second_stage = df[['ln_export_area_predicted']]\n",
        "\n",
        "# Add constant to the exogenous variables\n",
        "exog_second_stage = sm.add_constant(exog_second_stage)\n",
        "\n",
        "# Fit the second stage regression\n",
        "second_stage_model1_avg = sm.OLS(df['average_gdp_01_22'], exog_second_stage).fit()"
      ],
      "metadata": {
        "id": "4Xk3RqJFx_Ir"
      },
      "execution_count": null,
      "outputs": []
    },
    {
      "cell_type": "code",
      "source": [
        "# Extract coefficients and standard errors for the second stage\n",
        "coefficients_second_stage = second_stage_model1_avg.params\n",
        "std_errors_second_stage = second_stage_model1_avg.bse\n",
        "\n",
        "# Create a DataFrame with coefficients and standard errors for the second stage\n",
        "second_stage_results_df = pd.DataFrame({'Variable': coefficients_second_stage.index, 'Coefficient': coefficients_second_stage.values, 'Std. Error': std_errors_second_stage.values})\n",
        "\n",
        "# Round the numbers to three decimals\n",
        "second_stage_results_df = second_stage_results_df.round(3)\n",
        "\n",
        "# Print the name of the second stage\n",
        "print(\"\\nSecond Stage Results:\")\n",
        "# Print the table\n",
        "print(tabulate(second_stage_results_df, headers='keys', tablefmt='fancy_grid', showindex=False))"
      ],
      "metadata": {
        "colab": {
          "base_uri": "https://localhost:8080/"
        },
        "id": "3TRrjusIygeH",
        "outputId": "9a5effa0-a2ca-4943-8a28-de026ffc78d4"
      },
      "execution_count": null,
      "outputs": [
        {
          "output_type": "stream",
          "name": "stdout",
          "text": [
            "\n",
            "Second Stage Results:\n",
            "╒══════════════════════════╤═══════════════╤══════════════╕\n",
            "│ Variable                 │   Coefficient │   Std. Error │\n",
            "╞══════════════════════════╪═══════════════╪══════════════╡\n",
            "│ const                    │         8.112 │        0.217 │\n",
            "├──────────────────────────┼───────────────┼──────────────┤\n",
            "│ ln_export_area_predicted │        -0.259 │        0.056 │\n",
            "╘══════════════════════════╧═══════════════╧══════════════╛\n"
          ]
        }
      ]
    },
    {
      "cell_type": "markdown",
      "source": [
        "**Model 2: Instrumental Variable Analysis with Colony Fixed Effects**\n",
        "\n",
        "This script performs an IV analysis with colony controls. In the first stage, the endogenous variable ln_export_area is regressed on instrumental variables and colony indicators. The predicted values from the first stage are then utilized in the second stage regression, where the economic growth variable average_gdp_01_22 is regressed on the predicted ln_export_area, along with colony indicators. Coefficients and standard errors for the second stage regression are extracted and presented in a tabular format. These results provide insights into the impact of ln_export_area on economic growth while controlling for potential endogeneity and colony-specific effects."
      ],
      "metadata": {
        "id": "LrWrNtCs1BoY"
      }
    },
    {
      "cell_type": "code",
      "source": [
        "import statsmodels.api as sm\n",
        "\n",
        "# Step 1: First Stage Regression\n",
        "# Define the endogenous variable (to be instrumented) and the instrument\n",
        "endog_first_stage = df['ln_export_area']\n",
        "instrument_first_stage = df[['atlantic_distance_minimum', 'indian_distance_minimum', 'saharan_distance_minimum', 'red_sea_distance_minimum', 'colony0', 'colony1', 'colony2', 'colony3', 'colony4', 'colony5', 'colony6']]\n",
        "\n",
        "# Add constant to the instrument\n",
        "instrument_first_stage = sm.add_constant(instrument_first_stage)\n",
        "\n",
        "# Fit the first stage regression\n",
        "first_stage_model2 = sm.OLS(endog_first_stage, instrument_first_stage).fit()\n",
        "\n",
        "# Step 2: Predicted Values from First Stage\n",
        "# Get the predicted values from the first stage\n",
        "df['ln_export_area_predicted'] = first_stage_model2.predict()\n",
        "\n",
        "# Step 3: Second Stage Regression\n",
        "# Define the exogenous variable (including the predicted values from the first stage)\n",
        "exog_second_stage = df[['ln_export_area_predicted', 'colony0', 'colony1', 'colony2', 'colony3', 'colony4', 'colony5', 'colony6']]\n",
        "\n",
        "# Add constant to the exogenous variables\n",
        "exog_second_stage = sm.add_constant(exog_second_stage)\n",
        "\n",
        "# Fit the second stage regression\n",
        "second_stage_model2_avg = sm.OLS(df['average_gdp_01_22'], exog_second_stage).fit()\n"
      ],
      "metadata": {
        "id": "llHhAzt-x_k7"
      },
      "execution_count": null,
      "outputs": []
    },
    {
      "cell_type": "code",
      "source": [
        "# Extract coefficients and standard errors for the second stage\n",
        "coefficients_second_stage = second_stage_model2_avg.params\n",
        "std_errors_second_stage = second_stage_model2_avg.bse\n",
        "\n",
        "# Create a DataFrame with coefficients and standard errors for the second stage\n",
        "second_stage_results_df = pd.DataFrame({'Variable': coefficients_second_stage.index, 'Coefficient': coefficients_second_stage.values, 'Std. Error': std_errors_second_stage.values})\n",
        "\n",
        "# Round the numbers to three decimals\n",
        "second_stage_results_df = second_stage_results_df.round(3)\n",
        "\n",
        "# Exclude colony variables from the second stage results table\n",
        "second_stage_results_df = second_stage_results_df[~second_stage_results_df['Variable'].str.startswith('colony')]\n",
        "\n",
        "# Add \"Colony Fixed Effects\" to the second stage results table\n",
        "second_stage_results_df = pd.concat([second_stage_results_df, colony_fixed_effects_row], ignore_index=True)\n",
        "\n",
        "# Print the name of the second stage\n",
        "print(\"\\nSecond Stage Results:\")\n",
        "# Print the table\n",
        "print(tabulate(second_stage_results_df, headers='keys', tablefmt='fancy_grid', showindex=False))"
      ],
      "metadata": {
        "colab": {
          "base_uri": "https://localhost:8080/"
        },
        "id": "Z5Utt-zVys3q",
        "outputId": "931de884-3d86-46e5-c2fd-b5f4da344661"
      },
      "execution_count": null,
      "outputs": [
        {
          "output_type": "stream",
          "name": "stdout",
          "text": [
            "\n",
            "Second Stage Results:\n",
            "╒══════════════════════════╤═══════════════╤══════════════╕\n",
            "│ Variable                 │ Coefficient   │ Std. Error   │\n",
            "╞══════════════════════════╪═══════════════╪══════════════╡\n",
            "│ const                    │ 9.61          │ 0.723        │\n",
            "├──────────────────────────┼───────────────┼──────────────┤\n",
            "│ ln_export_area_predicted │ -0.221        │ 0.047        │\n",
            "├──────────────────────────┼───────────────┼──────────────┤\n",
            "│ Colony Fixed Effects     │ Yes           │              │\n",
            "╘══════════════════════════╧═══════════════╧══════════════╛\n"
          ]
        }
      ]
    },
    {
      "cell_type": "markdown",
      "source": [
        "**Model 3: Instrumental Variable Analysis with Colony Fixed Effects and Geography Controls**\n",
        "\n",
        "This code conducts an IV analysis with colony and geography controls. In the first stage, the endogenous variable ln_export_area is regressed on instrumental variables, including geographical factors and colony indicators. Predicted values of ln_export_area are then generated. Subsequently, in the second stage, the economic growth variable average_gdp_01_22 is regressed on the predicted ln_export_area, along with colony indicators and additional geographical control variables. Coefficients and standard errors for the second stage regression are extracted and presented in a tabular format. This analysis allows for an examination of the impact of ln_export_area on economic growth while addressing endogeneity concerns and controlling for relevant geographical and colonial factors."
      ],
      "metadata": {
        "id": "sr9hR8YW1DQQ"
      }
    },
    {
      "cell_type": "code",
      "source": [
        "import statsmodels.api as sm\n",
        "\n",
        "# Step 1: First Stage Regression\n",
        "# Define the endogenous variable (to be instrumented) and the instrument\n",
        "endog_first_stage = df['ln_export_area']\n",
        "instrument_first_stage = df[['atlantic_distance_minimum', 'indian_distance_minimum', 'saharan_distance_minimum', 'red_sea_distance_minimum',\n",
        "                             'colony0', 'colony1', 'colony2', 'colony3', 'colony4', 'colony5', 'colony6',\n",
        "                             'abs_latitude', 'longitude', 'rain_min', 'humid_max', 'low_temp', 'ln_coastline_area']]\n",
        "\n",
        "# Add constant to the instrument\n",
        "instrument_first_stage = sm.add_constant(instrument_first_stage)\n",
        "\n",
        "# Fit the first stage regression\n",
        "first_stage_model3 = sm.OLS(endog_first_stage, instrument_first_stage).fit()\n",
        "\n",
        "# Step 2: Predicted Values from First Stage\n",
        "# Get the predicted values from the first stage\n",
        "df['ln_export_area_predicted'] = first_stage_model3.predict()\n",
        "\n",
        "# Step 3: Second Stage Regression\n",
        "# Define the exogenous variable (including the predicted values from the first stage)\n",
        "exog_second_stage = df[['ln_export_area_predicted', 'colony0', 'colony1', 'colony2', 'colony3', 'colony4', 'colony5', 'colony6',\n",
        "                        'abs_latitude', 'longitude', 'rain_min', 'humid_max', 'low_temp', 'ln_coastline_area']]\n",
        "\n",
        "# Add constant to the exogenous variables\n",
        "exog_second_stage = sm.add_constant(exog_second_stage)\n",
        "\n",
        "# Fit the second stage regression\n",
        "second_stage_model3_avg = sm.OLS(df['average_gdp_01_22'], exog_second_stage).fit()"
      ],
      "metadata": {
        "id": "CbcG658gx_2x"
      },
      "execution_count": null,
      "outputs": []
    },
    {
      "cell_type": "code",
      "source": [
        "# Extract second stage results\n",
        "coefficients_second_stage = second_stage_model3_avg.params.round(3)\n",
        "std_errors_second_stage = second_stage_model3_avg.bse.round(3)\n",
        "\n",
        "# Create second stage results DataFrame\n",
        "second_stage_results_df = pd.DataFrame({'Variable': coefficients_second_stage.index,\n",
        "                                        'Coefficient': coefficients_second_stage.values,\n",
        "                                        'Std. Error': std_errors_second_stage.values})\n",
        "\n",
        "# Exclude specified variables\n",
        "second_stage_results_df = second_stage_results_df[~second_stage_results_df['Variable'].isin(exclude_variables)]\n",
        "\n",
        "# Add \"Colony Fixed Effects\" row\n",
        "second_stage_results_df = pd.concat([second_stage_results_df, colony_fixed_effects_row], ignore_index=True)\n",
        "\n",
        "# Add \"Geography Controls\" row\n",
        "second_stage_results_df = pd.concat([second_stage_results_df, geography_controls_row], ignore_index=True)\n",
        "\n",
        "# Print second stage table\n",
        "print(\"\\nSecond Stage Results:\")\n",
        "print(tabulate(second_stage_results_df, headers='keys', tablefmt='fancy_grid', showindex=False))"
      ],
      "metadata": {
        "colab": {
          "base_uri": "https://localhost:8080/"
        },
        "id": "KIyK8PmmytZ8",
        "outputId": "ef2494cb-d5e1-4ccb-f100-b5c9f03b118b"
      },
      "execution_count": null,
      "outputs": [
        {
          "output_type": "stream",
          "name": "stdout",
          "text": [
            "\n",
            "Second Stage Results:\n",
            "╒══════════════════════════╤═══════════════╤══════════════╕\n",
            "│ Variable                 │ Coefficient   │ Std. Error   │\n",
            "╞══════════════════════════╪═══════════════╪══════════════╡\n",
            "│ const                    │ 11.555        │ 1.752        │\n",
            "├──────────────────────────┼───────────────┼──────────────┤\n",
            "│ ln_export_area_predicted │ -0.366        │ 0.114        │\n",
            "├──────────────────────────┼───────────────┼──────────────┤\n",
            "│ Colony Fixed Effects     │ Yes           │              │\n",
            "├──────────────────────────┼───────────────┼──────────────┤\n",
            "│ Geography Controls       │ Yes           │              │\n",
            "╘══════════════════════════╧═══════════════╧══════════════╛\n"
          ]
        }
      ]
    },
    {
      "cell_type": "markdown",
      "source": [
        "# **Analyzing multiple years**\n",
        "\n",
        "In this section, we re-estimate the model 3 of the original IV analysis for multiple years, in specific for the period 2001 - 2022, in order to see how different is the coefficient of our interest variable \"ln_export_area\" when we use the GDP from different years."
      ],
      "metadata": {
        "id": "y7CZJ4YEnogz"
      }
    },
    {
      "cell_type": "markdown",
      "source": [
        "### **Sequential Instrumental Variable Analysis with Colony and Geography Controls**\n",
        "\n",
        "This code iterates through a list of dependent variables to conduct a sequential IV analysis. For each dependent variable, the first stage regression involves regressing the endogenous variable ln_export_area on instrumental variables, including geographical factors and colony indicators. Predicted values of ln_export_area are then generated. In the second stage, the respective dependent variable is regressed on the predicted ln_export_area, along with colony indicators and additional geographical control variables. This process is repeated for each dependent variable in the list. The coefficients for each second stage regression are extracted and printed for further analysis. This approach allows for an examination of the impact of ln_export_area on the economic performance of different years while addressing endogeneity concerns and controlling for relevant geographical and colonial factors."
      ],
      "metadata": {
        "id": "xL15elQzxmiS"
      }
    },
    {
      "cell_type": "code",
      "source": [
        "import statsmodels.api as sm\n",
        "\n",
        "# Define the list of variables for the second stage model\n",
        "second_stage_variables = ['gdp00', 'gpd01', 'gdp02', 'gdp03', 'gdp04', 'gdp05', 'gdp06', 'gdp07', 'gdp08', 'gdp09', 'gdp10', 'gdp11', 'gdp12', 'gdp13', 'gdp14', 'gdp15','gdp16', 'gdp17', 'gdp18', 'gdp19', 'gdp20', 'gdp21', 'gdp22']\n",
        "\n",
        "for dependent_variable in second_stage_variables:\n",
        "    # Step 1: First Stage Regression\n",
        "    # Define the endogenous variable (to be instrumented) and the instrument\n",
        "    endog_first_stage = df['ln_export_area']\n",
        "    instrument_first_stage = df[['atlantic_distance_minimum', 'indian_distance_minimum', 'saharan_distance_minimum', 'red_sea_distance_minimum',\n",
        "                                 'colony0', 'colony1', 'colony2', 'colony3', 'colony4', 'colony5', 'colony6',\n",
        "                                 'abs_latitude', 'longitude', 'rain_min', 'humid_max', 'low_temp', 'ln_coastline_area']]\n",
        "\n",
        "    # Add constant to the instrument\n",
        "    instrument_first_stage = sm.add_constant(instrument_first_stage)\n",
        "\n",
        "    # Fit the first stage regression\n",
        "    first_stage_model = sm.OLS(endog_first_stage, instrument_first_stage).fit()\n",
        "\n",
        "    # Step 2: Predicted Values from First Stage\n",
        "    # Get the predicted values from the first stage\n",
        "    df['ln_export_area_predicted'] = first_stage_model.predict()\n",
        "\n",
        "    # Step 3: Second Stage Regression\n",
        "    # Define the exogenous variable (including the predicted values from the first stage)\n",
        "    exog_second_stage = df[['ln_export_area_predicted', 'colony0', 'colony1', 'colony2', 'colony3', 'colony4', 'colony5', 'colony6',\n",
        "                            'abs_latitude', 'longitude', 'rain_min', 'humid_max', 'low_temp', 'ln_coastline_area']]\n",
        "\n",
        "    # Add constant to the exogenous variables\n",
        "    exog_second_stage = sm.add_constant(exog_second_stage)\n",
        "\n",
        "    # Fit the second stage regression\n",
        "    second_stage_model = sm.OLS(df[dependent_variable], exog_second_stage).fit()\n"
      ],
      "metadata": {
        "id": "EK6NPliPpCSw"
      },
      "execution_count": null,
      "outputs": []
    },
    {
      "cell_type": "code",
      "source": [
        "import pandas as pd\n",
        "\n",
        "# Define an empty list to store the coefficients\n",
        "coefficients_table = []\n",
        "\n",
        "for dependent_variable in second_stage_variables:\n",
        "    # Rest of the code remains the same as before\n",
        "\n",
        "    # Fit the second stage regression\n",
        "    second_stage_model = sm.OLS(df[dependent_variable], exog_second_stage).fit()\n",
        "\n",
        "    # Extract the coefficient of ln_export_area_predicted\n",
        "    coefficient = second_stage_model.params['ln_export_area_predicted']\n",
        "\n",
        "    # Store the coefficient along with the dependent variable name\n",
        "    coefficients_table.append({'Dependent Variable': dependent_variable, 'Coefficient': coefficient})\n",
        "\n",
        "# Create a DataFrame from the coefficients list\n",
        "coefficients_df = pd.DataFrame(coefficients_table)\n",
        "\n",
        "# Add a column representing years from 2000 to 2022\n",
        "years = list(range(2000, 2023))\n",
        "coefficients_df['Year'] = years\n",
        "\n",
        "# Print the coefficients table\n",
        "print(coefficients_df)\n"
      ],
      "metadata": {
        "colab": {
          "base_uri": "https://localhost:8080/"
        },
        "id": "eMA8hGYIxSre",
        "outputId": "92d27fb3-4a1c-4c01-8384-ffa14460feac"
      },
      "execution_count": null,
      "outputs": [
        {
          "output_type": "stream",
          "name": "stdout",
          "text": [
            "   Dependent Variable  Coefficient  Year\n",
            "0               gdp00    -0.417695  2000\n",
            "1               gpd01    -0.409542  2001\n",
            "2               gdp02    -0.413216  2002\n",
            "3               gdp03    -0.393435  2003\n",
            "4               gdp04    -0.380955  2004\n",
            "5               gdp05    -0.377960  2005\n",
            "6               gdp06    -0.380701  2006\n",
            "7               gdp07    -0.388052  2007\n",
            "8               gdp08    -0.380723  2008\n",
            "9               gdp09    -0.376195  2009\n",
            "10              gdp10    -0.370007  2010\n",
            "11              gdp11    -0.377192  2011\n",
            "12              gdp12    -0.372040  2012\n",
            "13              gdp13    -0.357059  2013\n",
            "14              gdp14    -0.353198  2014\n",
            "15              gdp15    -0.351711  2015\n",
            "16              gdp16    -0.354777  2016\n",
            "17              gdp17    -0.354113  2017\n",
            "18              gdp18    -0.349884  2018\n",
            "19              gdp19    -0.346197  2019\n",
            "20              gdp20    -0.335079  2020\n",
            "21              gdp21    -0.341277  2021\n",
            "22              gdp22    -0.336849  2022\n"
          ]
        }
      ]
    },
    {
      "cell_type": "markdown",
      "source": [
        "### **Temporal Analysis of Coefficients for ln_export_area**\n",
        "\n",
        "This code generates a scatter plot visualizing the coefficients of ln_export_area_predicted over the years 2000 to 2022. The coefficients, representing the impact of the independent variable on the economic perfomance, are plotted against the years. Each point on the plot corresponds to a specific year and the coefficient value for that year. This visualization helps in understanding how the impact of the independent variable on the economic growth changes over time."
      ],
      "metadata": {
        "id": "cSAmEyYRyJgD"
      }
    },
    {
      "cell_type": "code",
      "source": [
        "import matplotlib.pyplot as plt\n",
        "\n",
        "# Plotting\n",
        "plt.figure(figsize=(10, 6))\n",
        "\n",
        "# Plot coefficients for each dependent variable\n",
        "plt.scatter(coefficients_df['Year'], coefficients_df['Coefficient'])\n",
        "\n",
        "# Adding labels and title\n",
        "plt.xlabel('Year')\n",
        "plt.ylabel('Coefficient')\n",
        "plt.title('Coefficient of ln_export_area over the years')\n",
        "plt.grid(True)\n",
        "\n",
        "# Show plot\n",
        "plt.show()"
      ],
      "metadata": {
        "colab": {
          "base_uri": "https://localhost:8080/",
          "height": 564
        },
        "id": "PWx5gDPpxdx5",
        "outputId": "130ddb34-41b3-40df-ee94-71ff4231e685"
      },
      "execution_count": null,
      "outputs": [
        {
          "output_type": "display_data",
          "data": {
            "text/plain": [
              "<Figure size 1000x600 with 1 Axes>"
            ],
            "image/png": "[encoded data removed]"
          },
          "metadata": {}
        }
      ]
    }
  ]
}