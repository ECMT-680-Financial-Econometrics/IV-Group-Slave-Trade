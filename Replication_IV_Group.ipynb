{
  "nbformat": 4,
  "nbformat_minor": 0,
  "metadata": {
    "colab": {
      "provenance": []
    },
    "kernelspec": {
      "name": "python3",
      "display_name": "Python 3"
    },
    "language_info": {
      "name": "python"
    }
  },
  "cells": [
    {
      "cell_type": "markdown",
      "source": [
        "# **Replication of the study from Nathan Nunn (2008)**\n",
        "\n",
        "## **IV Group Members**:\n",
        "### Colon, Christopher\n",
        "### Rodriguez Quinto, Anel\n",
        "### Stevens, Madison\n",
        "### Stutts, Charlie\n",
        "### Xu, Davis"
      ],
      "metadata": {
        "id": "I38oc0kP2DAV"
      }
    },
    {
      "cell_type": "code",
      "source": [
        "!pip install linearmodels\n",
        "\n",
        "import pandas as pd\n",
        "import numpy as np\n",
        "import statsmodels.api as sm\n",
        "import matplotlib.pyplot as plt\n",
        "import seaborn as sns\n",
        "import requests\n",
        "from io import BytesIO\n",
        "from statsmodels.sandbox.regression.gmm import IV2SLS\n",
        "import linearmodels.iv.model as lm\n",
        "from tabulate import tabulate\n",
        "\n",
        "# Clone the repository\n",
        "!git clone https://github.com/ECMT-680-Financial-Econometrics/IV-Group-Slave-Trade.git\n",
        "\n",
        "# Navigate to the repository directory\n",
        "%cd IV-Group-Slave-Trade\n",
        "\n",
        "# List the files in the directory to verify the repository is cloned\n",
        "#!ls\n",
        "\n",
        "# Now you can load the data from the cloned repository\n",
        "# For example, if the data is stored in a CSV file, you can use pandas to load it\n",
        "df = pd.read_csv('slave_trade_QJE_New_Data.csv')\n",
        "\n",
        "# print(df.columns)  # This will list all the columns in your DataFrame"
      ],
      "metadata": {
        "id": "mJOgJoTcm3dE",
        "colab": {
          "base_uri": "https://localhost:8080/"
        },
        "outputId": "1afb38ad-414b-4cd5-c321-b3f7482b4068"
      },
      "execution_count": 133,
      "outputs": [
        {
          "output_type": "stream",
          "name": "stdout",
          "text": [
            "Requirement already satisfied: linearmodels in /usr/local/lib/python3.10/dist-packages (6.0)\n",
            "Requirement already satisfied: numpy<3,>=1.22.3 in /usr/local/lib/python3.10/dist-packages (from linearmodels) (1.25.2)\n",
            "Requirement already satisfied: pandas>=1.4.0 in /usr/local/lib/python3.10/dist-packages (from linearmodels) (2.0.3)\n",
            "Requirement already satisfied: scipy>=1.8.0 in /usr/local/lib/python3.10/dist-packages (from linearmodels) (1.11.4)\n",
            "Requirement already satisfied: statsmodels>=0.13.0 in /usr/local/lib/python3.10/dist-packages (from linearmodels) (0.14.1)\n",
            "Requirement already satisfied: mypy-extensions>=0.4 in /usr/local/lib/python3.10/dist-packages (from linearmodels) (1.0.0)\n",
            "Requirement already satisfied: Cython>=3.0.10 in /usr/local/lib/python3.10/dist-packages (from linearmodels) (3.0.10)\n",
            "Requirement already satisfied: pyhdfe>=0.1 in /usr/local/lib/python3.10/dist-packages (from linearmodels) (0.2.0)\n",
            "Requirement already satisfied: formulaic>=1.0.0 in /usr/local/lib/python3.10/dist-packages (from linearmodels) (1.0.1)\n",
            "Requirement already satisfied: setuptools-scm[toml]<9.0.0,>=8.0.0 in /usr/local/lib/python3.10/dist-packages (from linearmodels) (8.0.4)\n",
            "Requirement already satisfied: interface-meta>=1.2.0 in /usr/local/lib/python3.10/dist-packages (from formulaic>=1.0.0->linearmodels) (1.3.0)\n",
            "Requirement already satisfied: typing-extensions>=4.2.0 in /usr/local/lib/python3.10/dist-packages (from formulaic>=1.0.0->linearmodels) (4.11.0)\n",
            "Requirement already satisfied: wrapt>=1.0 in /usr/local/lib/python3.10/dist-packages (from formulaic>=1.0.0->linearmodels) (1.14.1)\n",
            "Requirement already satisfied: python-dateutil>=2.8.2 in /usr/local/lib/python3.10/dist-packages (from pandas>=1.4.0->linearmodels) (2.8.2)\n",
            "Requirement already satisfied: pytz>=2020.1 in /usr/local/lib/python3.10/dist-packages (from pandas>=1.4.0->linearmodels) (2023.4)\n",
            "Requirement already satisfied: tzdata>=2022.1 in /usr/local/lib/python3.10/dist-packages (from pandas>=1.4.0->linearmodels) (2024.1)\n",
            "Requirement already satisfied: packaging>=20 in /usr/local/lib/python3.10/dist-packages (from setuptools-scm[toml]<9.0.0,>=8.0.0->linearmodels) (24.0)\n",
            "Requirement already satisfied: setuptools in /usr/local/lib/python3.10/dist-packages (from setuptools-scm[toml]<9.0.0,>=8.0.0->linearmodels) (67.7.2)\n",
            "Requirement already satisfied: tomli>=1 in /usr/local/lib/python3.10/dist-packages (from setuptools-scm[toml]<9.0.0,>=8.0.0->linearmodels) (2.0.1)\n",
            "Requirement already satisfied: patsy>=0.5.4 in /usr/local/lib/python3.10/dist-packages (from statsmodels>=0.13.0->linearmodels) (0.5.6)\n",
            "Requirement already satisfied: six in /usr/local/lib/python3.10/dist-packages (from patsy>=0.5.4->statsmodels>=0.13.0->linearmodels) (1.16.0)\n",
            "Cloning into 'IV-Group-Slave-Trade'...\n",
            "remote: Enumerating objects: 34, done.\u001b[K\n",
            "remote: Counting objects: 100% (34/34), done.\u001b[K\n",
            "remote: Compressing objects: 100% (34/34), done.\u001b[K\n",
            "remote: Total 34 (delta 12), reused 1 (delta 0), pack-reused 0\u001b[K\n",
            "Receiving objects: 100% (34/34), 261.00 KiB | 5.67 MiB/s, done.\n",
            "Resolving deltas: 100% (12/12), done.\n",
            "/content/IV-Group-Slave-Trade/IV-Group-Slave-Trade/IV-Group-Slave-Trade/IV-Group-Slave-Trade\n"
          ]
        }
      ]
    },
    {
      "cell_type": "markdown",
      "source": [
        "# **Table 3: OLS Regressions**"
      ],
      "metadata": {
        "id": "FG08saFKQ6QM"
      }
    },
    {
      "cell_type": "code",
      "source": [
        "# Table 3: OLS regression with and without controls\n",
        "X1 = sm.add_constant(df[['ln_export_area', 'colony0', 'colony1', 'colony2', 'colony3', 'colony4', 'colony5', 'colony6', 'colony7']])\n",
        "X2 = sm.add_constant(df[['ln_export_area', 'abs_latitude', 'longitude', 'rain_min', 'humid_max', 'low_temp', 'ln_coastline_area',  'colony0', 'colony1', 'colony2', 'colony3', 'colony4', 'colony5', 'colony6', 'colony7']])\n",
        "X4 = sm.add_constant(df[['ln_export_area', 'abs_latitude', 'longitude', 'rain_min', 'humid_max', 'low_temp', 'ln_coastline_area', 'island_dum', 'islam', 'legor_fr', 'region_n',  'colony0', 'colony1', 'colony2', 'colony3', 'colony4', 'colony5', 'colony6', 'colony7']])\n",
        "X5 = sm.add_constant(df[['ln_export_area', 'abs_latitude', 'longitude', 'rain_min', 'humid_max', 'low_temp', 'ln_coastline_area', 'island_dum', 'islam', 'legor_fr', 'legor_uk', 'region_n', 'ln_avg_gold_pop', 'ln_avg_oil_pop', 'ln_avg_all_diamonds_pop',  'colony0', 'colony1', 'colony2', 'colony3', 'colony4', 'colony5', 'colony6', 'colony7']])\n",
        "\n",
        "# Fit the models\n",
        "model1 = sm.OLS(df['ln_maddison_pcgdp2000'], X1).fit()\n",
        "model2 = sm.OLS(df['ln_maddison_pcgdp2000'], X2).fit()\n",
        "model4 = sm.OLS(df['ln_maddison_pcgdp2000'], X4).fit()\n",
        "model5 = sm.OLS(df['ln_maddison_pcgdp2000'], X5).fit()\n",
        "\n",
        "# Extract coefficients and other statistics for the specified variables\n",
        "variables = ['ln_export_area', 'abs_latitude', 'longitude', 'rain_min', 'humid_max', 'low_temp',\n",
        "             'ln_coastline_area', 'island_dum', 'islam', 'legor_fr', 'legor_uk', 'region_n',\n",
        "             'ln_avg_gold_pop', 'ln_avg_oil_pop', 'ln_avg_all_diamonds_pop']\n",
        "\n",
        "results = []\n",
        "\n",
        "# Populate the results list\n",
        "for var in variables:\n",
        "    row_values = {'Variable': var}\n",
        "    for i, model in enumerate([model1, model2, model4, model5]):\n",
        "        if var in model.params:\n",
        "            coefficient = round(model.params[var], 3)\n",
        "            std_error = round(model.bse[var], 3)\n",
        "            p_value = round(model.pvalues[var], 3)\n",
        "            std_p_value = f\"{std_error} ({p_value})\"\n",
        "            row_values[f'Model {i+1} Coefficient'] = coefficient\n",
        "            row_values[f'Model {i+1} Std. Error (P-value)'] = std_p_value\n",
        "        else:\n",
        "            row_values[f'Model {i+1} Coefficient'] = ''\n",
        "            row_values[f'Model {i+1} Std. Error (P-value)'] = ''\n",
        "    results.append(row_values)\n",
        "\n",
        "# Convert the results list to a DataFrame\n",
        "results_df = pd.DataFrame(results)\n",
        "\n",
        "# Convert NaN values to empty strings\n",
        "results_df = results_df.replace({np.nan: ''})\n",
        "\n",
        "# Convert the DataFrame to a tabular format with fancy styling\n",
        "table = tabulate(results_df, headers='keys', tablefmt='fancy_grid', showindex=False)\n",
        "\n",
        "# Print the table\n",
        "print(table)\n"
      ],
      "metadata": {
        "id": "9s_PtR2QpcsS",
        "colab": {
          "base_uri": "https://localhost:8080/"
        },
        "outputId": "816b05ea-cb86-4ead-8869-a22db35416f1"
      },
      "execution_count": 134,
      "outputs": [
        {
          "output_type": "stream",
          "name": "stdout",
          "text": [
            "╒═════════════════════════╤═══════════════════════╤════════════════════════════════╤═══════════════════════╤════════════════════════════════╤═══════════════════════╤════════════════════════════════╤═══════════════════════╤════════════════════════════════╕\n",
            "│ Variable                │ Model 1 Coefficient   │ Model 1 Std. Error (P-value)   │ Model 2 Coefficient   │ Model 2 Std. Error (P-value)   │ Model 3 Coefficient   │ Model 3 Std. Error (P-value)   │   Model 4 Coefficient │ Model 4 Std. Error (P-value)   │\n",
            "╞═════════════════════════╪═══════════════════════╪════════════════════════════════╪═══════════════════════╪════════════════════════════════╪═══════════════════════╪════════════════════════════════╪═══════════════════════╪════════════════════════════════╡\n",
            "│ ln_export_area          │ -0.112                │ 0.024 (0.0)                    │ -0.076                │ 0.029 (0.013)                  │ -0.085                │ 0.035 (0.02)                   │                -0.103 │ 0.034 (0.005)                  │\n",
            "├─────────────────────────┼───────────────────────┼────────────────────────────────┼───────────────────────┼────────────────────────────────┼───────────────────────┼────────────────────────────────┼───────────────────────┼────────────────────────────────┤\n",
            "│ abs_latitude            │                       │                                │ 0.016                 │ 0.017 (0.349)                  │ 0.019                 │ 0.018 (0.277)                  │                 0.023 │ 0.017 (0.177)                  │\n",
            "├─────────────────────────┼───────────────────────┼────────────────────────────────┼───────────────────────┼────────────────────────────────┼───────────────────────┼────────────────────────────────┼───────────────────────┼────────────────────────────────┤\n",
            "│ longitude               │                       │                                │ 0.0                   │ 0.005 (0.928)                  │ -0.004                │ 0.006 (0.499)                  │                -0.004 │ 0.005 (0.468)                  │\n",
            "├─────────────────────────┼───────────────────────┼────────────────────────────────┼───────────────────────┼────────────────────────────────┼───────────────────────┼────────────────────────────────┼───────────────────────┼────────────────────────────────┤\n",
            "│ rain_min                │                       │                                │ -0.001                │ 0.007 (0.926)                  │ 0.0                   │ 0.007 (0.985)                  │                -0.001 │ 0.006 (0.88)                   │\n",
            "├─────────────────────────┼───────────────────────┼────────────────────────────────┼───────────────────────┼────────────────────────────────┼───────────────────────┼────────────────────────────────┼───────────────────────┼────────────────────────────────┤\n",
            "│ humid_max               │                       │                                │ 0.009                 │ 0.012 (0.428)                  │ 0.009                 │ 0.012 (0.44)                   │                 0.015 │ 0.011 (0.189)                  │\n",
            "├─────────────────────────┼───────────────────────┼────────────────────────────────┼───────────────────────┼────────────────────────────────┼───────────────────────┼────────────────────────────────┼───────────────────────┼────────────────────────────────┤\n",
            "│ low_temp                │                       │                                │ -0.019                │ 0.028 (0.51)                   │ -0.005                │ 0.027 (0.859)                  │                -0.015 │ 0.026 (0.567)                  │\n",
            "├─────────────────────────┼───────────────────────┼────────────────────────────────┼───────────────────────┼────────────────────────────────┼───────────────────────┼────────────────────────────────┼───────────────────────┼────────────────────────────────┤\n",
            "│ ln_coastline_area       │                       │                                │ 0.085                 │ 0.039 (0.035)                  │ 0.095                 │ 0.042 (0.031)                  │                 0.082 │ 0.04 (0.046)                   │\n",
            "├─────────────────────────┼───────────────────────┼────────────────────────────────┼───────────────────────┼────────────────────────────────┼───────────────────────┼────────────────────────────────┼───────────────────────┼────────────────────────────────┤\n",
            "│ island_dum              │                       │                                │                       │                                │ -0.398                │ 0.529 (0.457)                  │                -0.15  │ 0.516 (0.773)                  │\n",
            "├─────────────────────────┼───────────────────────┼────────────────────────────────┼───────────────────────┼────────────────────────────────┼───────────────────────┼────────────────────────────────┼───────────────────────┼────────────────────────────────┤\n",
            "│ islam                   │                       │                                │                       │                                │ -0.008                │ 0.003 (0.006)                  │                -0.006 │ 0.003 (0.061)                  │\n",
            "├─────────────────────────┼───────────────────────┼────────────────────────────────┼───────────────────────┼────────────────────────────────┼───────────────────────┼────────────────────────────────┼───────────────────────┼────────────────────────────────┤\n",
            "│ legor_fr                │                       │                                │                       │                                │ 0.755                 │ 0.503 (0.143)                  │                 2.396 │ 0.336 (0.0)                    │\n",
            "├─────────────────────────┼───────────────────────┼────────────────────────────────┼───────────────────────┼────────────────────────────────┼───────────────────────┼────────────────────────────────┼───────────────────────┼────────────────────────────────┤\n",
            "│ legor_uk                │                       │                                │                       │                                │                       │                                │                 1.754 │ 0.368 (0.0)                    │\n",
            "├─────────────────────────┼───────────────────────┼────────────────────────────────┼───────────────────────┼────────────────────────────────┼───────────────────────┼────────────────────────────────┼───────────────────────┼────────────────────────────────┤\n",
            "│ region_n                │                       │                                │                       │                                │ 0.382                 │ 0.484 (0.436)                  │                -0.304 │ 0.517 (0.561)                  │\n",
            "├─────────────────────────┼───────────────────────┼────────────────────────────────┼───────────────────────┼────────────────────────────────┼───────────────────────┼────────────────────────────────┼───────────────────────┼────────────────────────────────┤\n",
            "│ ln_avg_gold_pop         │                       │                                │                       │                                │                       │                                │                 0.011 │ 0.017 (0.531)                  │\n",
            "├─────────────────────────┼───────────────────────┼────────────────────────────────┼───────────────────────┼────────────────────────────────┼───────────────────────┼────────────────────────────────┼───────────────────────┼────────────────────────────────┤\n",
            "│ ln_avg_oil_pop          │                       │                                │                       │                                │                       │                                │                 0.078 │ 0.027 (0.008)                  │\n",
            "├─────────────────────────┼───────────────────────┼────────────────────────────────┼───────────────────────┼────────────────────────────────┼───────────────────────┼────────────────────────────────┼───────────────────────┼────────────────────────────────┤\n",
            "│ ln_avg_all_diamonds_pop │                       │                                │                       │                                │                       │                                │                -0.039 │ 0.043 (0.373)                  │\n",
            "╘═════════════════════════╧═══════════════════════╧════════════════════════════════╧═══════════════════════╧════════════════════════════════╧═══════════════════════╧════════════════════════════════╧═══════════════════════╧════════════════════════════════╛\n"
          ]
        }
      ]
    },
    {
      "cell_type": "markdown",
      "source": [
        "# **Table 4: IV and 2SLS**"
      ],
      "metadata": {
        "id": "4r3B6bLUbBJH"
      }
    },
    {
      "cell_type": "markdown",
      "source": [
        "**Model 1**"
      ],
      "metadata": {
        "id": "K51hpo9C1tKj"
      }
    },
    {
      "cell_type": "code",
      "source": [
        "import statsmodels.api as sm\n",
        "\n",
        "# Step 1: First Stage Regression\n",
        "# Define the endogenous variable (to be instrumented) and the instrument\n",
        "endog_first_stage = df['ln_export_area']\n",
        "instrument_first_stage = df[['atlantic_distance_minimum', 'indian_distance_minimum', 'saharan_distance_minimum', 'red_sea_distance_minimum']]\n",
        "\n",
        "# Add constant to the instrument\n",
        "instrument_first_stage = sm.add_constant(instrument_first_stage)\n",
        "\n",
        "# Fit the first stage regression\n",
        "first_stage_model1 = sm.OLS(endog_first_stage, instrument_first_stage).fit()\n",
        "\n",
        "# Print first stage results\n",
        "# print(\"First Stage Results:\")\n",
        "# print(first_stage_model1.summary())\n",
        "\n",
        "# Step 2: Predicted Values from First Stage\n",
        "# Get the predicted values from the first stage\n",
        "df['ln_export_area_predicted'] = first_stage_model1.predict()\n",
        "\n",
        "# Step 3: Second Stage Regression\n",
        "# Define the exogenous variable (including the predicted values from the first stage)\n",
        "exog_second_stage = df[['ln_export_area_predicted']]\n",
        "\n",
        "# Add constant to the exogenous variables\n",
        "exog_second_stage = sm.add_constant(exog_second_stage)\n",
        "\n",
        "# Fit the second stage regression\n",
        "second_stage_model1 = sm.OLS(df['ln_maddison_pcgdp2000'], exog_second_stage).fit()\n",
        "\n",
        "# Print second stage results\n",
        "# print(\"\\nSecond Stage Results:\")\n",
        "# print(second_stage_model1.summary())\n"
      ],
      "metadata": {
        "id": "QAR7c9SbzAwM"
      },
      "execution_count": 135,
      "outputs": []
    },
    {
      "cell_type": "code",
      "source": [
        "# Extracting coefficients and standard errors for the first stage\n",
        "coefficients = first_stage_model1.params\n",
        "std_errors = first_stage_model1.bse\n",
        "\n",
        "# Create a DataFrame with coefficients and standard errors\n",
        "first_stage_results_df = pd.DataFrame({'Variable': coefficients.index, 'Coefficient': coefficients.values, 'Std. Error': std_errors.values})\n",
        "\n",
        "# Round the numbers to three decimals\n",
        "first_stage_results_df = first_stage_results_df.round(3)\n",
        "\n",
        "# Print the name of the first stage\n",
        "print(\"First Stage Results:\")\n",
        "# Print the table\n",
        "print(tabulate(first_stage_results_df, headers='keys', tablefmt='fancy_grid', showindex=False))\n",
        "\n",
        "# Extracting coefficients and standard errors for the second stage\n",
        "coefficients_second_stage = second_stage_model1.params\n",
        "std_errors_second_stage = second_stage_model1.bse\n",
        "\n",
        "# Create a DataFrame with coefficients and standard errors for the second stage\n",
        "second_stage_results_df = pd.DataFrame({'Variable': coefficients_second_stage.index, 'Coefficient': coefficients_second_stage.values, 'Std. Error': std_errors_second_stage.values})\n",
        "\n",
        "# Round the numbers to three decimals\n",
        "second_stage_results_df = second_stage_results_df.round(3)\n",
        "\n",
        "# Print the name of the second stage\n",
        "print(\"\\nSecond Stage Results:\")\n",
        "# Print the table\n",
        "print(tabulate(second_stage_results_df, headers='keys', tablefmt='fancy_grid', showindex=False))"
      ],
      "metadata": {
        "colab": {
          "base_uri": "https://localhost:8080/"
        },
        "id": "TLkjiHxQ0exW",
        "outputId": "9d268373-487d-44e8-a30c-03762eea739c"
      },
      "execution_count": 136,
      "outputs": [
        {
          "output_type": "stream",
          "name": "stdout",
          "text": [
            "First Stage Results:\n",
            "╒═══════════════════════════╤═══════════════╤══════════════╕\n",
            "│ Variable                  │   Coefficient │   Std. Error │\n",
            "╞═══════════════════════════╪═══════════════╪══════════════╡\n",
            "│ const                     │        29.11  │        6.959 │\n",
            "├───────────────────────────┼───────────────┼──────────────┤\n",
            "│ atlantic_distance_minimum │        -1.314 │        0.357 │\n",
            "├───────────────────────────┼───────────────┼──────────────┤\n",
            "│ indian_distance_minimum   │        -1.095 │        0.38  │\n",
            "├───────────────────────────┼───────────────┼──────────────┤\n",
            "│ saharan_distance_minimum  │        -2.435 │        0.823 │\n",
            "├───────────────────────────┼───────────────┼──────────────┤\n",
            "│ red_sea_distance_minimum  │        -0.002 │        0.71  │\n",
            "╘═══════════════════════════╧═══════════════╧══════════════╛\n",
            "\n",
            "Second Stage Results:\n",
            "╒══════════════════════════╤═══════════════╤══════════════╕\n",
            "│ Variable                 │   Coefficient │   Std. Error │\n",
            "╞══════════════════════════╪═══════════════╪══════════════╡\n",
            "│ const                    │         7.811 │        0.187 │\n",
            "├──────────────────────────┼───────────────┼──────────────┤\n",
            "│ ln_export_area_predicted │        -0.208 │        0.049 │\n",
            "╘══════════════════════════╧═══════════════╧══════════════╛\n"
          ]
        }
      ]
    },
    {
      "cell_type": "markdown",
      "source": [
        "**Model 2**"
      ],
      "metadata": {
        "id": "HqhpuujD1qr9"
      }
    },
    {
      "cell_type": "code",
      "source": [
        "import statsmodels.api as sm\n",
        "\n",
        "# Step 1: First Stage Regression\n",
        "# Define the endogenous variable (to be instrumented) and the instrument\n",
        "endog_first_stage = df['ln_export_area']\n",
        "instrument_first_stage = df[['atlantic_distance_minimum', 'indian_distance_minimum', 'saharan_distance_minimum', 'red_sea_distance_minimum', 'colony0', 'colony1', 'colony2', 'colony3', 'colony4', 'colony5', 'colony6']]\n",
        "\n",
        "# Add constant to the instrument\n",
        "instrument_first_stage = sm.add_constant(instrument_first_stage)\n",
        "\n",
        "# Fit the first stage regression\n",
        "first_stage_model2 = sm.OLS(endog_first_stage, instrument_first_stage).fit()\n",
        "\n",
        "# Print first stage results\n",
        "# print(\"First Stage Results:\")\n",
        "# print(first_stage_model2.summary())\n",
        "\n",
        "# Step 2: Predicted Values from First Stage\n",
        "# Get the predicted values from the first stage\n",
        "df['ln_export_area_predicted'] = first_stage_model2.predict()\n",
        "\n",
        "# Step 3: Second Stage Regression\n",
        "# Define the exogenous variable (including the predicted values from the first stage)\n",
        "exog_second_stage = df[['ln_export_area_predicted', 'colony0', 'colony1', 'colony2', 'colony3', 'colony4', 'colony5', 'colony6']]\n",
        "\n",
        "# Add constant to the exogenous variables\n",
        "exog_second_stage = sm.add_constant(exog_second_stage)\n",
        "\n",
        "# Fit the second stage regression\n",
        "second_stage_model2 = sm.OLS(df['ln_maddison_pcgdp2000'], exog_second_stage).fit()\n",
        "\n",
        "# Print second stage results\n",
        "# print(\"\\nSecond Stage Results:\")\n",
        "# print(second_stage_model2.summary())\n"
      ],
      "metadata": {
        "id": "w2Rd12W0cKiv"
      },
      "execution_count": 137,
      "outputs": []
    },
    {
      "cell_type": "code",
      "source": [
        "# Extracting coefficients and standard errors for the first stage\n",
        "coefficients = first_stage_model2.params\n",
        "std_errors = first_stage_model2.bse\n",
        "\n",
        "# Create a DataFrame with coefficients and standard errors\n",
        "first_stage_results_df = pd.DataFrame({'Variable': coefficients.index, 'Coefficient': coefficients.values, 'Std. Error': std_errors.values})\n",
        "\n",
        "# Round the numbers to three decimals\n",
        "first_stage_results_df = first_stage_results_df.round(3)\n",
        "\n",
        "# Exclude colony variables from the first stage results table\n",
        "first_stage_results_df = first_stage_results_df[~first_stage_results_df['Variable'].str.startswith('colony')]\n",
        "\n",
        "# Add \"Colony Fixed Effects\" to the first stage results table\n",
        "colony_fixed_effects_row = pd.DataFrame({'Variable': ['Colony Fixed Effects'], 'Coefficient': ['Yes'], 'Std. Error': ['']})\n",
        "first_stage_results_df = pd.concat([first_stage_results_df, colony_fixed_effects_row], ignore_index=True)\n",
        "\n",
        "# Print the name of the first stage\n",
        "print(\"First Stage Results:\")\n",
        "# Print the table\n",
        "print(tabulate(first_stage_results_df, headers='keys', tablefmt='fancy_grid', showindex=False))\n",
        "\n",
        "# Extracting coefficients and standard errors for the second stage\n",
        "coefficients_second_stage = second_stage_model2.params\n",
        "std_errors_second_stage = second_stage_model2.bse\n",
        "\n",
        "# Create a DataFrame with coefficients and standard errors for the second stage\n",
        "second_stage_results_df = pd.DataFrame({'Variable': coefficients_second_stage.index, 'Coefficient': coefficients_second_stage.values, 'Std. Error': std_errors_second_stage.values})\n",
        "\n",
        "# Round the numbers to three decimals\n",
        "second_stage_results_df = second_stage_results_df.round(3)\n",
        "\n",
        "# Exclude colony variables from the second stage results table\n",
        "second_stage_results_df = second_stage_results_df[~second_stage_results_df['Variable'].str.startswith('colony')]\n",
        "\n",
        "# Add \"Colony Fixed Effects\" to the second stage results table\n",
        "second_stage_results_df = pd.concat([second_stage_results_df, colony_fixed_effects_row], ignore_index=True)\n",
        "\n",
        "# Print the name of the second stage\n",
        "print(\"\\nSecond Stage Results:\")\n",
        "# Print the table\n",
        "print(tabulate(second_stage_results_df, headers='keys', tablefmt='fancy_grid', showindex=False))\n"
      ],
      "metadata": {
        "colab": {
          "base_uri": "https://localhost:8080/"
        },
        "id": "cDVH3WkXqfgk",
        "outputId": "7f6723ed-1494-4fae-c3ab-889554de8cf0"
      },
      "execution_count": 138,
      "outputs": [
        {
          "output_type": "stream",
          "name": "stdout",
          "text": [
            "First Stage Results:\n",
            "╒═══════════════════════════╤═══════════════╤══════════════╕\n",
            "│ Variable                  │ Coefficient   │ Std. Error   │\n",
            "╞═══════════════════════════╪═══════════════╪══════════════╡\n",
            "│ const                     │ 42.363        │ 12.189       │\n",
            "├───────────────────────────┼───────────────┼──────────────┤\n",
            "│ atlantic_distance_minimum │ -1.741        │ 0.425        │\n",
            "├───────────────────────────┼───────────────┼──────────────┤\n",
            "│ indian_distance_minimum   │ -1.426        │ 0.531        │\n",
            "├───────────────────────────┼───────────────┼──────────────┤\n",
            "│ saharan_distance_minimum  │ -3.001        │ 1.049        │\n",
            "├───────────────────────────┼───────────────┼──────────────┤\n",
            "│ red_sea_distance_minimum  │ -0.152        │ 0.813        │\n",
            "├───────────────────────────┼───────────────┼──────────────┤\n",
            "│ Colony Fixed Effects      │ Yes           │              │\n",
            "╘═══════════════════════════╧═══════════════╧══════════════╛\n",
            "\n",
            "Second Stage Results:\n",
            "╒══════════════════════════╤═══════════════╤══════════════╕\n",
            "│ Variable                 │ Coefficient   │ Std. Error   │\n",
            "╞══════════════════════════╪═══════════════╪══════════════╡\n",
            "│ const                    │ 8.075         │ 0.62         │\n",
            "├──────────────────────────┼───────────────┼──────────────┤\n",
            "│ ln_export_area_predicted │ -0.201        │ 0.04         │\n",
            "├──────────────────────────┼───────────────┼──────────────┤\n",
            "│ Colony Fixed Effects     │ Yes           │              │\n",
            "╘══════════════════════════╧═══════════════╧══════════════╛\n"
          ]
        }
      ]
    },
    {
      "cell_type": "markdown",
      "source": [
        "**Model 3**"
      ],
      "metadata": {
        "id": "GuRlPBzo1n7V"
      }
    },
    {
      "cell_type": "code",
      "source": [
        "import statsmodels.api as sm\n",
        "\n",
        "# Step 1: First Stage Regression\n",
        "# Define the endogenous variable (to be instrumented) and the instrument\n",
        "endog_first_stage = df['ln_export_area']\n",
        "instrument_first_stage = df[['atlantic_distance_minimum', 'indian_distance_minimum', 'saharan_distance_minimum', 'red_sea_distance_minimum',\n",
        "                             'colony0', 'colony1', 'colony2', 'colony3', 'colony4', 'colony5', 'colony6',\n",
        "                             'abs_latitude', 'longitude', 'rain_min', 'humid_max', 'low_temp', 'ln_coastline_area']]\n",
        "\n",
        "# Add constant to the instrument\n",
        "instrument_first_stage = sm.add_constant(instrument_first_stage)\n",
        "\n",
        "# Fit the first stage regression\n",
        "first_stage_model3 = sm.OLS(endog_first_stage, instrument_first_stage).fit()\n",
        "\n",
        "# Print first stage results\n",
        "# print(\"First Stage Results:\")\n",
        "# print(first_stage_model3.summary())\n",
        "\n",
        "# Step 2: Predicted Values from First Stage\n",
        "# Get the predicted values from the first stage\n",
        "df['ln_export_area_predicted'] = first_stage_model3.predict()\n",
        "\n",
        "# Step 3: Second Stage Regression\n",
        "# Define the exogenous variable (including the predicted values from the first stage)\n",
        "exog_second_stage = df[['ln_export_area_predicted', 'colony0', 'colony1', 'colony2', 'colony3', 'colony4', 'colony5', 'colony6',\n",
        "                        'abs_latitude', 'longitude', 'rain_min', 'humid_max', 'low_temp', 'ln_coastline_area']]\n",
        "\n",
        "# Add constant to the exogenous variables\n",
        "exog_second_stage = sm.add_constant(exog_second_stage)\n",
        "\n",
        "# Fit the second stage regression\n",
        "second_stage_model3 = sm.OLS(df['ln_maddison_pcgdp2000'], exog_second_stage).fit()\n",
        "\n",
        "# Print second stage results\n",
        "# print(\"\\nSecond Stage Results:\")\n",
        "# print(second_stage_model3.summary())"
      ],
      "metadata": {
        "id": "h3g56jVUlPC5"
      },
      "execution_count": 139,
      "outputs": []
    },
    {
      "cell_type": "code",
      "source": [
        "# Extract first stage results\n",
        "coefficients_first_stage = first_stage_model3.params.round(3)\n",
        "std_errors_first_stage = first_stage_model3.bse.round(3)\n",
        "\n",
        "# Define variables to exclude\n",
        "exclude_variables = ['colony0', 'colony1', 'colony2', 'colony3', 'colony4', 'colony5', 'colony6', 'abs_latitude', 'longitude', 'rain_min', 'humid_max', 'low_temp', 'ln_coastline_area']\n",
        "\n",
        "# Create first stage results DataFrame\n",
        "first_stage_results_df = pd.DataFrame({'Variable': coefficients_first_stage.index,\n",
        "                                       'Coefficient': coefficients_first_stage.values,\n",
        "                                       'Std. Error': std_errors_first_stage.values})\n",
        "\n",
        "# Exclude specified variables\n",
        "first_stage_results_df = first_stage_results_df[~first_stage_results_df['Variable'].isin(exclude_variables)]\n",
        "\n",
        "# Add \"Colony Fixed Effects\" row\n",
        "colony_fixed_effects_row = pd.DataFrame({'Variable': ['Colony Fixed Effects'], 'Coefficient': ['Yes'], 'Std. Error': ['']})\n",
        "first_stage_results_df = pd.concat([first_stage_results_df, colony_fixed_effects_row], ignore_index=True)\n",
        "\n",
        "# Add \"Geography Controls\" row\n",
        "geography_controls_row = pd.DataFrame({'Variable': ['Geography Controls'], 'Coefficient': ['Yes'], 'Std. Error': ['']})\n",
        "first_stage_results_df = pd.concat([first_stage_results_df, geography_controls_row], ignore_index=True)\n",
        "\n",
        "# Print first stage table\n",
        "print(\"\\nFirst Stage Results:\")\n",
        "print(tabulate(first_stage_results_df, headers='keys', tablefmt='fancy_grid', showindex=False))\n",
        "\n",
        "# Extract second stage results\n",
        "coefficients_second_stage = second_stage_model3.params.round(3)\n",
        "std_errors_second_stage = second_stage_model3.bse.round(3)\n",
        "\n",
        "# Create second stage results DataFrame\n",
        "second_stage_results_df = pd.DataFrame({'Variable': coefficients_second_stage.index,\n",
        "                                        'Coefficient': coefficients_second_stage.values,\n",
        "                                        'Std. Error': std_errors_second_stage.values})\n",
        "\n",
        "# Exclude specified variables\n",
        "second_stage_results_df = second_stage_results_df[~second_stage_results_df['Variable'].isin(exclude_variables)]\n",
        "\n",
        "# Add \"Colony Fixed Effects\" row\n",
        "second_stage_results_df = pd.concat([second_stage_results_df, colony_fixed_effects_row], ignore_index=True)\n",
        "\n",
        "# Add \"Geography Controls\" row\n",
        "second_stage_results_df = pd.concat([second_stage_results_df, geography_controls_row], ignore_index=True)\n",
        "\n",
        "# Print second stage table\n",
        "print(\"\\nSecond Stage Results:\")\n",
        "print(tabulate(second_stage_results_df, headers='keys', tablefmt='fancy_grid', showindex=False))\n"
      ],
      "metadata": {
        "colab": {
          "base_uri": "https://localhost:8080/"
        },
        "id": "DSZtgs9IubNq",
        "outputId": "5d658591-4b7b-4204-b4ea-61f02b2e4919"
      },
      "execution_count": 140,
      "outputs": [
        {
          "output_type": "stream",
          "name": "stdout",
          "text": [
            "\n",
            "First Stage Results:\n",
            "╒═══════════════════════════╤═══════════════╤══════════════╕\n",
            "│ Variable                  │ Coefficient   │ Std. Error   │\n",
            "╞═══════════════════════════╪═══════════════╪══════════════╡\n",
            "│ const                     │ 42.288        │ 19.336       │\n",
            "├───────────────────────────┼───────────────┼──────────────┤\n",
            "│ atlantic_distance_minimum │ -1.316        │ 0.761        │\n",
            "├───────────────────────────┼───────────────┼──────────────┤\n",
            "│ indian_distance_minimum   │ -1.081        │ 0.697        │\n",
            "├───────────────────────────┼───────────────┼──────────────┤\n",
            "│ saharan_distance_minimum  │ -1.139        │ 1.595        │\n",
            "├───────────────────────────┼───────────────┼──────────────┤\n",
            "│ red_sea_distance_minimum  │ -1.221        │ 1.82         │\n",
            "├───────────────────────────┼───────────────┼──────────────┤\n",
            "│ Colony Fixed Effects      │ Yes           │              │\n",
            "├───────────────────────────┼───────────────┼──────────────┤\n",
            "│ Geography Controls        │ Yes           │              │\n",
            "╘═══════════════════════════╧═══════════════╧══════════════╛\n",
            "\n",
            "Second Stage Results:\n",
            "╒══════════════════════════╤═══════════════╤══════════════╕\n",
            "│ Variable                 │ Coefficient   │ Std. Error   │\n",
            "╞══════════════════════════╪═══════════════╪══════════════╡\n",
            "│ const                    │ 8.771         │ 1.487        │\n",
            "├──────────────────────────┼───────────────┼──────────────┤\n",
            "│ ln_export_area_predicted │ -0.286        │ 0.096        │\n",
            "├──────────────────────────┼───────────────┼──────────────┤\n",
            "│ Colony Fixed Effects     │ Yes           │              │\n",
            "├──────────────────────────┼───────────────┼──────────────┤\n",
            "│ Geography Controls       │ Yes           │              │\n",
            "╘══════════════════════════╧═══════════════╧══════════════╛\n"
          ]
        }
      ]
    },
    {
      "cell_type": "markdown",
      "source": [
        "## **Figures**"
      ],
      "metadata": {
        "id": "0GX3WIJGWKrK"
      }
    },
    {
      "cell_type": "code",
      "execution_count": 141,
      "metadata": {
        "id": "mMihC3Q8Ewxr",
        "colab": {
          "base_uri": "https://localhost:8080/",
          "height": 1000
        },
        "outputId": "83570b8c-b321-41f8-e4ef-e3fc55c62e26"
      },
      "outputs": [
        {
          "output_type": "display_data",
          "data": {
            "text/plain": [
              "<Figure size 640x480 with 1 Axes>"
            ],
            "image/png": "[encoded data removed]"
          },
          "metadata": {}
        },
        {
          "output_type": "display_data",
          "data": {
            "text/plain": [
              "<Figure size 640x480 with 1 Axes>"
            ],
            "image/png": "[encoded data removed]"
          },
          "metadata": {}
        },
        {
          "output_type": "display_data",
          "data": {
            "text/plain": [
              "<Figure size 640x480 with 1 Axes>"
            ],
            "image/png": "[encoded data removed]"
          },
          "metadata": {}
        },
        {
          "output_type": "display_data",
          "data": {
            "text/plain": [
              "<Figure size 640x480 with 1 Axes>"
            ],
            "image/png": "[encoded data removed]"
          },
          "metadata": {}
        }
      ],
      "source": [
        "# Figure 3: Relationship between slaves exported per area and GDP\n",
        "sns.regplot(x='ln_export_area', y='ln_maddison_pcgdp2000', data=df)\n",
        "plt.title('Figure 3: Relationship between Log Slave Exports Normalized by Land Area, ln(exports/area), and Log Real Per Capita GDP in 2000, ln y')\n",
        "plt.xlabel('Slave Exports, ln(exports/area)')\n",
        "plt.ylabel('Log Real Per Capita GDP in 2000, ln y')\n",
        "plt.show()\n",
        "\n",
        "# Figure 4: Relationship between ln_pop_dens_1400 and slaves exported per area\n",
        "# Assuming 'ethnic_fractionalization' is available in df\n",
        "sns.regplot(x='ln_pop_dens_1400', y='ln_export_area', data=df)\n",
        "plt.title('Figure 4: Relationship between Initial Population Density and Slave Exports')\n",
        "plt.xlabel('Log Population Density in 1400')\n",
        "plt.ylabel('Slave Exports, ln(exports/area)')\n",
        "plt.show()\n",
        "\n",
        "# Figure 6: Relationship between slaves exported per area and Ethnic Fractionalization\n",
        "# Assuming 'ethnic_fractionalization' is available in df\n",
        "sns.regplot(x='ln_export_area', y='ethnic_fractionalization', data=df)\n",
        "plt.title('Figure 6: Relationship between Slave Exports and Current Ethnic Fractionalization')\n",
        "plt.xlabel('Slave Exports, ln(exports/area)')\n",
        "plt.ylabel('Ethnic Fractionalization')\n",
        "plt.show()\n",
        "\n",
        "# Figure 7: Relationship between slaves exported per area and Nineteenth-Century State Development\n",
        "# Assuming 'ethnic_fractionalization' is available in df\n",
        "sns.regplot(x='ln_export_area', y='state_dev', data=df)\n",
        "plt.title('Figure 7: Relationship between Slave Exports and Nineteenth-Century State Development')\n",
        "plt.xlabel('Slave Exports, ln(exports/area)')\n",
        "plt.ylabel('19th Century State Development')\n",
        "plt.show()\n"
      ]
    },
    {
      "cell_type": "markdown",
      "source": [
        "## **GDP 2001**"
      ],
      "metadata": {
        "id": "lFN-J1d43eDN"
      }
    },
    {
      "cell_type": "markdown",
      "source": [
        "### OLS Regressions"
      ],
      "metadata": {
        "id": "Abit7bwW_FnX"
      }
    },
    {
      "cell_type": "code",
      "source": [
        "# Table 3: OLS regression with and without controls\n",
        "X1 = sm.add_constant(df[['ln_export_area', 'colony0', 'colony1', 'colony2', 'colony3', 'colony4', 'colony5', 'colony6', 'colony7']])\n",
        "X2 = sm.add_constant(df[['ln_export_area', 'abs_latitude', 'longitude', 'rain_min', 'humid_max', 'low_temp', 'ln_coastline_area',  'colony0', 'colony1', 'colony2', 'colony3', 'colony4', 'colony5', 'colony6', 'colony7']])\n",
        "X4 = sm.add_constant(df[['ln_export_area', 'abs_latitude', 'longitude', 'rain_min', 'humid_max', 'low_temp', 'ln_coastline_area', 'island_dum', 'islam', 'legor_fr', 'region_n',  'colony0', 'colony1', 'colony2', 'colony3', 'colony4', 'colony5', 'colony6', 'colony7']])\n",
        "\n",
        "# Fit the models\n",
        "model1_gdp01 = sm.OLS(df['gpd01'], X1).fit()\n",
        "model2_gdp01 = sm.OLS(df['gpd01'], X2).fit()\n",
        "model4_gdp01 = sm.OLS(df['gpd01'], X4).fit()\n",
        "\n",
        "# Extract coefficients and other statistics for the specified variables\n",
        "variables = ['ln_export_area', 'abs_latitude', 'longitude', 'rain_min', 'humid_max', 'low_temp',\n",
        "             'ln_coastline_area', 'island_dum', 'islam', 'legor_fr', 'legor_uk', 'region_n',\n",
        "             'ln_avg_gold_pop', 'ln_avg_oil_pop', 'ln_avg_all_diamonds_pop']\n",
        "\n",
        "results = []\n",
        "\n",
        "# Populate the results list\n",
        "for var in variables:\n",
        "    row_values = {'Variable': var}\n",
        "    for i, model in enumerate([model1_gdp01, model2_gdp01, model4_gdp01]):\n",
        "        if var in model.params:\n",
        "            coefficient = round(model.params[var], 3)\n",
        "            std_error = round(model.bse[var], 3)\n",
        "            p_value = round(model.pvalues[var], 3)\n",
        "            std_p_value = f\"{std_error} ({p_value})\"\n",
        "            row_values[f'Model {i+1} Coefficient'] = coefficient\n",
        "            row_values[f'Model {i+1} Std. Error (P-value)'] = std_p_value\n",
        "        else:\n",
        "            row_values[f'Model {i+1} Coefficient'] = ''\n",
        "            row_values[f'Model {i+1} Std. Error (P-value)'] = ''\n",
        "    results.append(row_values)\n",
        "\n",
        "# Convert the results list to a DataFrame\n",
        "results_df = pd.DataFrame(results)\n",
        "\n",
        "# Convert NaN values to empty strings\n",
        "results_df = results_df.replace({np.nan: ''})\n",
        "\n",
        "# Convert the DataFrame to a tabular format with fancy styling\n",
        "table = tabulate(results_df, headers='keys', tablefmt='fancy_grid', showindex=False)\n",
        "\n",
        "# Print the table\n",
        "print(table)\n"
      ],
      "metadata": {
        "id": "Xy_Fusfs3kmo",
        "colab": {
          "base_uri": "https://localhost:8080/"
        },
        "outputId": "c4c1655a-f099-4cc4-9d46-2165adbb53f1"
      },
      "execution_count": 142,
      "outputs": [
        {
          "output_type": "stream",
          "name": "stdout",
          "text": [
            "╒═════════════════════════╤═══════════════════════╤════════════════════════════════╤═══════════════════════╤════════════════════════════════╤═══════════════════════╤════════════════════════════════╕\n",
            "│ Variable                │ Model 1 Coefficient   │ Model 1 Std. Error (P-value)   │ Model 2 Coefficient   │ Model 2 Std. Error (P-value)   │ Model 3 Coefficient   │ Model 3 Std. Error (P-value)   │\n",
            "╞═════════════════════════╪═══════════════════════╪════════════════════════════════╪═══════════════════════╪════════════════════════════════╪═══════════════════════╪════════════════════════════════╡\n",
            "│ ln_export_area          │ -0.115                │ 0.029 (0.0)                    │ -0.093                │ 0.036 (0.013)                  │ -0.101                │ 0.046 (0.034)                  │\n",
            "├─────────────────────────┼───────────────────────┼────────────────────────────────┼───────────────────────┼────────────────────────────────┼───────────────────────┼────────────────────────────────┤\n",
            "│ abs_latitude            │                       │                                │ 0.01                  │ 0.02 (0.618)                   │ 0.019                 │ 0.023 (0.406)                  │\n",
            "├─────────────────────────┼───────────────────────┼────────────────────────────────┼───────────────────────┼────────────────────────────────┼───────────────────────┼────────────────────────────────┤\n",
            "│ longitude               │                       │                                │ -0.002                │ 0.007 (0.781)                  │ -0.004                │ 0.007 (0.607)                  │\n",
            "├─────────────────────────┼───────────────────────┼────────────────────────────────┼───────────────────────┼────────────────────────────────┼───────────────────────┼────────────────────────────────┤\n",
            "│ rain_min                │                       │                                │ 0.002                 │ 0.008 (0.812)                  │ -0.001                │ 0.009 (0.947)                  │\n",
            "├─────────────────────────┼───────────────────────┼────────────────────────────────┼───────────────────────┼────────────────────────────────┼───────────────────────┼────────────────────────────────┤\n",
            "│ humid_max               │                       │                                │ 0.003                 │ 0.014 (0.85)                   │ -0.002                │ 0.015 (0.908)                  │\n",
            "├─────────────────────────┼───────────────────────┼────────────────────────────────┼───────────────────────┼────────────────────────────────┼───────────────────────┼────────────────────────────────┤\n",
            "│ low_temp                │                       │                                │ -0.001                │ 0.035 (0.988)                  │ 0.023                 │ 0.036 (0.525)                  │\n",
            "├─────────────────────────┼───────────────────────┼────────────────────────────────┼───────────────────────┼────────────────────────────────┼───────────────────────┼────────────────────────────────┤\n",
            "│ ln_coastline_area       │                       │                                │ 0.101                 │ 0.047 (0.041)                  │ 0.125                 │ 0.056 (0.031)                  │\n",
            "├─────────────────────────┼───────────────────────┼────────────────────────────────┼───────────────────────┼────────────────────────────────┼───────────────────────┼────────────────────────────────┤\n",
            "│ island_dum              │                       │                                │                       │                                │ -0.37                 │ 0.694 (0.598)                  │\n",
            "├─────────────────────────┼───────────────────────┼────────────────────────────────┼───────────────────────┼────────────────────────────────┼───────────────────────┼────────────────────────────────┤\n",
            "│ islam                   │                       │                                │                       │                                │ -0.009                │ 0.004 (0.019)                  │\n",
            "├─────────────────────────┼───────────────────────┼────────────────────────────────┼───────────────────────┼────────────────────────────────┼───────────────────────┼────────────────────────────────┤\n",
            "│ legor_fr                │                       │                                │                       │                                │ 0.091                 │ 0.661 (0.891)                  │\n",
            "├─────────────────────────┼───────────────────────┼────────────────────────────────┼───────────────────────┼────────────────────────────────┼───────────────────────┼────────────────────────────────┤\n",
            "│ legor_uk                │                       │                                │                       │                                │                       │                                │\n",
            "├─────────────────────────┼───────────────────────┼────────────────────────────────┼───────────────────────┼────────────────────────────────┼───────────────────────┼────────────────────────────────┤\n",
            "│ region_n                │                       │                                │                       │                                │ 0.459                 │ 0.635 (0.475)                  │\n",
            "├─────────────────────────┼───────────────────────┼────────────────────────────────┼───────────────────────┼────────────────────────────────┼───────────────────────┼────────────────────────────────┤\n",
            "│ ln_avg_gold_pop         │                       │                                │                       │                                │                       │                                │\n",
            "├─────────────────────────┼───────────────────────┼────────────────────────────────┼───────────────────────┼────────────────────────────────┼───────────────────────┼────────────────────────────────┤\n",
            "│ ln_avg_oil_pop          │                       │                                │                       │                                │                       │                                │\n",
            "├─────────────────────────┼───────────────────────┼────────────────────────────────┼───────────────────────┼────────────────────────────────┼───────────────────────┼────────────────────────────────┤\n",
            "│ ln_avg_all_diamonds_pop │                       │                                │                       │                                │                       │                                │\n",
            "╘═════════════════════════╧═══════════════════════╧════════════════════════════════╧═══════════════════════╧════════════════════════════════╧═══════════════════════╧════════════════════════════════╛\n"
          ]
        }
      ]
    },
    {
      "cell_type": "markdown",
      "source": [
        "### IV and 2SLS"
      ],
      "metadata": {
        "id": "bTXFDFyD-wpF"
      }
    },
    {
      "cell_type": "markdown",
      "source": [
        "**Model 1**"
      ],
      "metadata": {
        "id": "QfN1d3zb1f5y"
      }
    },
    {
      "cell_type": "code",
      "source": [
        "import statsmodels.api as sm\n",
        "\n",
        "# Step 1: First Stage Regression\n",
        "# Define the endogenous variable (to be instrumented) and the instrument\n",
        "endog_first_stage = df['ln_export_area']\n",
        "instrument_first_stage = df[['atlantic_distance_minimum', 'indian_distance_minimum', 'saharan_distance_minimum', 'red_sea_distance_minimum']]\n",
        "\n",
        "# Add constant to the instrument\n",
        "instrument_first_stage = sm.add_constant(instrument_first_stage)\n",
        "\n",
        "# Fit the first stage regression\n",
        "first_stage_model1 = sm.OLS(endog_first_stage, instrument_first_stage).fit()\n",
        "\n",
        "# Print first stage results\n",
        "# print(\"First Stage Results:\")\n",
        "# print(first_stage_model1.summary())\n",
        "\n",
        "# Step 2: Predicted Values from First Stage\n",
        "# Get the predicted values from the first stage\n",
        "df['ln_export_area_predicted'] = first_stage_model1.predict()\n",
        "\n",
        "# Step 3: Second Stage Regression\n",
        "# Define the exogenous variable (including the predicted values from the first stage)\n",
        "exog_second_stage = df[['ln_export_area_predicted']]\n",
        "\n",
        "# Add constant to the exogenous variables\n",
        "exog_second_stage = sm.add_constant(exog_second_stage)\n",
        "\n",
        "# Fit the second stage regression\n",
        "second_stage_model1_gdp01 = sm.OLS(df['gpd01'], exog_second_stage).fit()\n",
        "\n",
        "# Print second stage results\n",
        "# print(\"\\nSecond Stage Results:\")\n",
        "# print(second_stage_model1_gdp01.summary())\n"
      ],
      "metadata": {
        "id": "ZLyHj8Nf-yKg"
      },
      "execution_count": 143,
      "outputs": []
    },
    {
      "cell_type": "code",
      "source": [
        "# Extracting coefficients and standard errors for the second stage\n",
        "coefficients_second_stage = second_stage_model1_gdp01.params\n",
        "std_errors_second_stage = second_stage_model1_gdp01.bse\n",
        "\n",
        "# Create a DataFrame with coefficients and standard errors for the second stage\n",
        "second_stage_results_df = pd.DataFrame({'Variable': coefficients_second_stage.index, 'Coefficient': coefficients_second_stage.values, 'Std. Error': std_errors_second_stage.values})\n",
        "\n",
        "# Round the numbers to three decimals\n",
        "second_stage_results_df = second_stage_results_df.round(3)\n",
        "\n",
        "# Print the name of the second stage\n",
        "print(\"\\nSecond Stage Results:\")\n",
        "# Print the table\n",
        "print(tabulate(second_stage_results_df, headers='keys', tablefmt='fancy_grid', showindex=False))"
      ],
      "metadata": {
        "colab": {
          "base_uri": "https://localhost:8080/"
        },
        "id": "KUaaQuP8wm3N",
        "outputId": "51e602dc-6845-4c25-d976-a79dcd28d0d9"
      },
      "execution_count": 144,
      "outputs": [
        {
          "output_type": "stream",
          "name": "stdout",
          "text": [
            "\n",
            "Second Stage Results:\n",
            "╒══════════════════════════╤═══════════════╤══════════════╕\n",
            "│ Variable                 │   Coefficient │   Std. Error │\n",
            "╞══════════════════════════╪═══════════════╪══════════════╡\n",
            "│ const                    │         7.933 │        0.218 │\n",
            "├──────────────────────────┼───────────────┼──────────────┤\n",
            "│ ln_export_area_predicted │        -0.263 │        0.057 │\n",
            "╘══════════════════════════╧═══════════════╧══════════════╛\n"
          ]
        }
      ]
    },
    {
      "cell_type": "markdown",
      "source": [
        "**Model 2**"
      ],
      "metadata": {
        "id": "pBi23cQM1eo6"
      }
    },
    {
      "cell_type": "code",
      "source": [
        "import statsmodels.api as sm\n",
        "\n",
        "# Step 1: First Stage Regression\n",
        "# Define the endogenous variable (to be instrumented) and the instrument\n",
        "endog_first_stage = df['ln_export_area']\n",
        "instrument_first_stage = df[['atlantic_distance_minimum', 'indian_distance_minimum', 'saharan_distance_minimum', 'red_sea_distance_minimum', 'colony0', 'colony1', 'colony2', 'colony3', 'colony4', 'colony5', 'colony6']]\n",
        "\n",
        "# Add constant to the instrument\n",
        "instrument_first_stage = sm.add_constant(instrument_first_stage)\n",
        "\n",
        "# Fit the first stage regression\n",
        "first_stage_model2 = sm.OLS(endog_first_stage, instrument_first_stage).fit()\n",
        "\n",
        "# Print first stage results\n",
        "# print(\"First Stage Results:\")\n",
        "# print(first_stage_model2.summary())\n",
        "\n",
        "# Step 2: Predicted Values from First Stage\n",
        "# Get the predicted values from the first stage\n",
        "df['ln_export_area_predicted'] = first_stage_model2.predict()\n",
        "\n",
        "# Step 3: Second Stage Regression\n",
        "# Define the exogenous variable (including the predicted values from the first stage)\n",
        "exog_second_stage = df[['ln_export_area_predicted', 'colony0', 'colony1', 'colony2', 'colony3', 'colony4', 'colony5', 'colony6']]\n",
        "\n",
        "# Add constant to the exogenous variables\n",
        "exog_second_stage = sm.add_constant(exog_second_stage)\n",
        "\n",
        "# Fit the second stage regression\n",
        "second_stage_model2_gdp01 = sm.OLS(df['gpd01'], exog_second_stage).fit()\n",
        "\n",
        "# Print second stage results\n",
        "# print(\"\\nSecond Stage Results:\")\n",
        "# print(second_stage_model2_gdp01.summary())"
      ],
      "metadata": {
        "id": "PaK9TDeX_L9P"
      },
      "execution_count": 145,
      "outputs": []
    },
    {
      "cell_type": "code",
      "source": [
        "# Extracting coefficients and standard errors for the second stage\n",
        "coefficients_second_stage = second_stage_model2_gdp01.params\n",
        "std_errors_second_stage = second_stage_model2_gdp01.bse\n",
        "\n",
        "# Create a DataFrame with coefficients and standard errors for the second stage\n",
        "second_stage_results_df = pd.DataFrame({'Variable': coefficients_second_stage.index, 'Coefficient': coefficients_second_stage.values, 'Std. Error': std_errors_second_stage.values})\n",
        "\n",
        "# Round the numbers to three decimals\n",
        "second_stage_results_df = second_stage_results_df.round(3)\n",
        "\n",
        "# Exclude colony variables from the second stage results table\n",
        "second_stage_results_df = second_stage_results_df[~second_stage_results_df['Variable'].str.startswith('colony')]\n",
        "\n",
        "# Add \"Colony Fixed Effects\" to the second stage results table\n",
        "second_stage_results_df = pd.concat([second_stage_results_df, colony_fixed_effects_row], ignore_index=True)\n",
        "\n",
        "# Print the name of the second stage\n",
        "print(\"\\nSecond Stage Results:\")\n",
        "# Print the table\n",
        "print(tabulate(second_stage_results_df, headers='keys', tablefmt='fancy_grid', showindex=False))"
      ],
      "metadata": {
        "colab": {
          "base_uri": "https://localhost:8080/"
        },
        "id": "92cFNIIjw19b",
        "outputId": "39ccbe84-ca27-490a-8da0-dc812ee055fe"
      },
      "execution_count": 146,
      "outputs": [
        {
          "output_type": "stream",
          "name": "stdout",
          "text": [
            "\n",
            "Second Stage Results:\n",
            "╒══════════════════════════╤═══════════════╤══════════════╕\n",
            "│ Variable                 │ Coefficient   │ Std. Error   │\n",
            "╞══════════════════════════╪═══════════════╪══════════════╡\n",
            "│ const                    │ 9.651         │ 0.713        │\n",
            "├──────────────────────────┼───────────────┼──────────────┤\n",
            "│ ln_export_area_predicted │ -0.23         │ 0.046        │\n",
            "├──────────────────────────┼───────────────┼──────────────┤\n",
            "│ Colony Fixed Effects     │ Yes           │              │\n",
            "╘══════════════════════════╧═══════════════╧══════════════╛\n"
          ]
        }
      ]
    },
    {
      "cell_type": "markdown",
      "source": [
        "**Model 3**"
      ],
      "metadata": {
        "id": "wokBT75M1bKE"
      }
    },
    {
      "cell_type": "code",
      "source": [
        "import statsmodels.api as sm\n",
        "\n",
        "# Step 1: First Stage Regression\n",
        "# Define the endogenous variable (to be instrumented) and the instrument\n",
        "endog_first_stage = df['ln_export_area']\n",
        "instrument_first_stage = df[['atlantic_distance_minimum', 'indian_distance_minimum', 'saharan_distance_minimum', 'red_sea_distance_minimum',\n",
        "                             'colony0', 'colony1', 'colony2', 'colony3', 'colony4', 'colony5', 'colony6',\n",
        "                             'abs_latitude', 'longitude', 'rain_min', 'humid_max', 'low_temp', 'ln_coastline_area']]\n",
        "\n",
        "# Add constant to the instrument\n",
        "instrument_first_stage = sm.add_constant(instrument_first_stage)\n",
        "\n",
        "# Fit the first stage regression\n",
        "first_stage_model3 = sm.OLS(endog_first_stage, instrument_first_stage).fit()\n",
        "\n",
        "# Print first stage results\n",
        "# print(\"First Stage Results:\")\n",
        "# print(first_stage_model3.summary())\n",
        "\n",
        "# Step 2: Predicted Values from First Stage\n",
        "# Get the predicted values from the first stage\n",
        "df['ln_export_area_predicted'] = first_stage_model3.predict()\n",
        "\n",
        "# Step 3: Second Stage Regression\n",
        "# Define the exogenous variable (including the predicted values from the first stage)\n",
        "exog_second_stage = df[['ln_export_area_predicted', 'colony0', 'colony1', 'colony2', 'colony3', 'colony4', 'colony5', 'colony6',\n",
        "                        'abs_latitude', 'longitude', 'rain_min', 'humid_max', 'low_temp', 'ln_coastline_area']]\n",
        "\n",
        "# Add constant to the exogenous variables\n",
        "exog_second_stage = sm.add_constant(exog_second_stage)\n",
        "\n",
        "# Fit the second stage regression\n",
        "second_stage_model3_gdp01 = sm.OLS(df['gpd01'], exog_second_stage).fit()\n",
        "\n",
        "# Print second stage results\n",
        "# print(\"\\nSecond Stage Results:\")\n",
        "# print(second_stage_model3_gdp01.summary())"
      ],
      "metadata": {
        "id": "gueLF7K-_Lws"
      },
      "execution_count": 147,
      "outputs": []
    },
    {
      "cell_type": "code",
      "source": [
        "# Extract second stage results\n",
        "coefficients_second_stage = second_stage_model3_gdp01.params.round(3)\n",
        "std_errors_second_stage = second_stage_model3_gdp01.bse.round(3)\n",
        "\n",
        "# Create second stage results DataFrame\n",
        "second_stage_results_df = pd.DataFrame({'Variable': coefficients_second_stage.index,\n",
        "                                        'Coefficient': coefficients_second_stage.values,\n",
        "                                        'Std. Error': std_errors_second_stage.values})\n",
        "\n",
        "# Exclude specified variables\n",
        "second_stage_results_df = second_stage_results_df[~second_stage_results_df['Variable'].isin(exclude_variables)]\n",
        "\n",
        "# Add \"Colony Fixed Effects\" row\n",
        "second_stage_results_df = pd.concat([second_stage_results_df, colony_fixed_effects_row], ignore_index=True)\n",
        "\n",
        "# Add \"Geography Controls\" row\n",
        "second_stage_results_df = pd.concat([second_stage_results_df, geography_controls_row], ignore_index=True)\n",
        "\n",
        "# Print second stage table\n",
        "print(\"\\nSecond Stage Results:\")\n",
        "print(tabulate(second_stage_results_df, headers='keys', tablefmt='fancy_grid', showindex=False))"
      ],
      "metadata": {
        "colab": {
          "base_uri": "https://localhost:8080/"
        },
        "id": "o0mDWhvnxWNb",
        "outputId": "04666e76-79f5-4025-b8e1-e5fb80ef6288"
      },
      "execution_count": 148,
      "outputs": [
        {
          "output_type": "stream",
          "name": "stdout",
          "text": [
            "\n",
            "Second Stage Results:\n",
            "╒══════════════════════════╤═══════════════╤══════════════╕\n",
            "│ Variable                 │ Coefficient   │ Std. Error   │\n",
            "╞══════════════════════════╪═══════════════╪══════════════╡\n",
            "│ const                    │ 12.074        │ 1.739        │\n",
            "├──────────────────────────┼───────────────┼──────────────┤\n",
            "│ ln_export_area_predicted │ -0.41         │ 0.113        │\n",
            "├──────────────────────────┼───────────────┼──────────────┤\n",
            "│ Colony Fixed Effects     │ Yes           │              │\n",
            "├──────────────────────────┼───────────────┼──────────────┤\n",
            "│ Geography Controls       │ Yes           │              │\n",
            "╘══════════════════════════╧═══════════════╧══════════════╛\n"
          ]
        }
      ]
    },
    {
      "cell_type": "markdown",
      "source": [
        "## **GDP 2022**"
      ],
      "metadata": {
        "id": "BUefcv6j-NZS"
      }
    },
    {
      "cell_type": "markdown",
      "source": [
        "### OLS Regressions"
      ],
      "metadata": {
        "id": "Qx6-B4Qy_7Lu"
      }
    },
    {
      "cell_type": "code",
      "source": [
        "# Table 3: OLS regression with and without controls\n",
        "X1 = sm.add_constant(df[['ln_export_area', 'colony0', 'colony1', 'colony2', 'colony3', 'colony4', 'colony5', 'colony6', 'colony7']])\n",
        "X2 = sm.add_constant(df[['ln_export_area', 'abs_latitude', 'longitude', 'rain_min', 'humid_max', 'low_temp', 'ln_coastline_area',  'colony0', 'colony1', 'colony2', 'colony3', 'colony4', 'colony5', 'colony6', 'colony7']])\n",
        "X4 = sm.add_constant(df[['ln_export_area', 'abs_latitude', 'longitude', 'rain_min', 'humid_max', 'low_temp', 'ln_coastline_area', 'island_dum', 'islam', 'legor_fr', 'region_n',  'colony0', 'colony1', 'colony2', 'colony3', 'colony4', 'colony5', 'colony6', 'colony7']])\n",
        "\n",
        "# Fit the models\n",
        "model1_gdp22 = sm.OLS(df['gdp22'], X1).fit()\n",
        "model2_gdp22 = sm.OLS(df['gdp22'], X2).fit()\n",
        "model4_gdp22 = sm.OLS(df['gdp22'], X4).fit()\n",
        "\n",
        "# Extract coefficients and other statistics for the specified variables\n",
        "variables = ['ln_export_area', 'abs_latitude', 'longitude', 'rain_min', 'humid_max', 'low_temp',\n",
        "             'ln_coastline_area', 'island_dum', 'islam', 'legor_fr', 'legor_uk', 'region_n',\n",
        "             'ln_avg_gold_pop', 'ln_avg_oil_pop', 'ln_avg_all_diamonds_pop']\n",
        "\n",
        "results = []\n",
        "\n",
        "# Populate the results list\n",
        "for var in variables:\n",
        "    row_values = {'Variable': var}\n",
        "    for i, model in enumerate([model1_gdp22, model2_gdp22, model4_gdp22]):\n",
        "        if var in model.params:\n",
        "            coefficient = round(model.params[var], 3)\n",
        "            std_error = round(model.bse[var], 3)\n",
        "            p_value = round(model.pvalues[var], 3)\n",
        "            std_p_value = f\"{std_error} ({p_value})\"\n",
        "            row_values[f'Model {i+1} Coefficient'] = coefficient\n",
        "            row_values[f'Model {i+1} Std. Error (P-value)'] = std_p_value\n",
        "        else:\n",
        "            row_values[f'Model {i+1} Coefficient'] = ''\n",
        "            row_values[f'Model {i+1} Std. Error (P-value)'] = ''\n",
        "    results.append(row_values)\n",
        "\n",
        "# Convert the results list to a DataFrame\n",
        "results_df = pd.DataFrame(results)\n",
        "\n",
        "# Convert NaN values to empty strings\n",
        "results_df = results_df.replace({np.nan: ''})\n",
        "\n",
        "# Convert the DataFrame to a tabular format with fancy styling\n",
        "table = tabulate(results_df, headers='keys', tablefmt='fancy_grid', showindex=False)\n",
        "\n",
        "# Print the table\n",
        "print(table)\n"
      ],
      "metadata": {
        "id": "ObfpGEZ9-Nzm",
        "colab": {
          "base_uri": "https://localhost:8080/"
        },
        "outputId": "3b75416c-1292-4514-bf4e-8fa92e527275"
      },
      "execution_count": 149,
      "outputs": [
        {
          "output_type": "stream",
          "name": "stdout",
          "text": [
            "╒═════════════════════════╤═══════════════════════╤════════════════════════════════╤═══════════════════════╤════════════════════════════════╤═══════════════════════╤════════════════════════════════╕\n",
            "│ Variable                │ Model 1 Coefficient   │ Model 1 Std. Error (P-value)   │ Model 2 Coefficient   │ Model 2 Std. Error (P-value)   │ Model 3 Coefficient   │ Model 3 Std. Error (P-value)   │\n",
            "╞═════════════════════════╪═══════════════════════╪════════════════════════════════╪═══════════════════════╪════════════════════════════════╪═══════════════════════╪════════════════════════════════╡\n",
            "│ ln_export_area          │ -0.115                │ 0.029 (0.0)                    │ -0.083                │ 0.035 (0.023)                  │ -0.088                │ 0.044 (0.055)                  │\n",
            "├─────────────────────────┼───────────────────────┼────────────────────────────────┼───────────────────────┼────────────────────────────────┼───────────────────────┼────────────────────────────────┤\n",
            "│ abs_latitude            │                       │                                │ 0.008                 │ 0.02 (0.704)                   │ 0.008                 │ 0.022 (0.716)                  │\n",
            "├─────────────────────────┼───────────────────────┼────────────────────────────────┼───────────────────────┼────────────────────────────────┼───────────────────────┼────────────────────────────────┤\n",
            "│ longitude               │                       │                                │ -0.003                │ 0.007 (0.686)                  │ -0.007                │ 0.007 (0.344)                  │\n",
            "├─────────────────────────┼───────────────────────┼────────────────────────────────┼───────────────────────┼────────────────────────────────┼───────────────────────┼────────────────────────────────┤\n",
            "│ rain_min                │                       │                                │ 0.004                 │ 0.008 (0.642)                  │ 0.005                 │ 0.009 (0.589)                  │\n",
            "├─────────────────────────┼───────────────────────┼────────────────────────────────┼───────────────────────┼────────────────────────────────┼───────────────────────┼────────────────────────────────┤\n",
            "│ humid_max               │                       │                                │ 0.006                 │ 0.014 (0.661)                  │ 0.008                 │ 0.015 (0.607)                  │\n",
            "├─────────────────────────┼───────────────────────┼────────────────────────────────┼───────────────────────┼────────────────────────────────┼───────────────────────┼────────────────────────────────┤\n",
            "│ low_temp                │                       │                                │ -0.016                │ 0.034 (0.636)                  │ -0.005                │ 0.035 (0.891)                  │\n",
            "├─────────────────────────┼───────────────────────┼────────────────────────────────┼───────────────────────┼────────────────────────────────┼───────────────────────┼────────────────────────────────┤\n",
            "│ ln_coastline_area       │                       │                                │ 0.121                 │ 0.047 (0.014)                  │ 0.124                 │ 0.054 (0.028)                  │\n",
            "├─────────────────────────┼───────────────────────┼────────────────────────────────┼───────────────────────┼────────────────────────────────┼───────────────────────┼────────────────────────────────┤\n",
            "│ island_dum              │                       │                                │                       │                                │ -0.326                │ 0.674 (0.632)                  │\n",
            "├─────────────────────────┼───────────────────────┼────────────────────────────────┼───────────────────────┼────────────────────────────────┼───────────────────────┼────────────────────────────────┤\n",
            "│ islam                   │                       │                                │                       │                                │ -0.008                │ 0.004 (0.031)                  │\n",
            "├─────────────────────────┼───────────────────────┼────────────────────────────────┼───────────────────────┼────────────────────────────────┼───────────────────────┼────────────────────────────────┤\n",
            "│ legor_fr                │                       │                                │                       │                                │ 0.824                 │ 0.641 (0.208)                  │\n",
            "├─────────────────────────┼───────────────────────┼────────────────────────────────┼───────────────────────┼────────────────────────────────┼───────────────────────┼────────────────────────────────┤\n",
            "│ legor_uk                │                       │                                │                       │                                │                       │                                │\n",
            "├─────────────────────────┼───────────────────────┼────────────────────────────────┼───────────────────────┼────────────────────────────────┼───────────────────────┼────────────────────────────────┤\n",
            "│ region_n                │                       │                                │                       │                                │ 0.53                  │ 0.616 (0.396)                  │\n",
            "├─────────────────────────┼───────────────────────┼────────────────────────────────┼───────────────────────┼────────────────────────────────┼───────────────────────┼────────────────────────────────┤\n",
            "│ ln_avg_gold_pop         │                       │                                │                       │                                │                       │                                │\n",
            "├─────────────────────────┼───────────────────────┼────────────────────────────────┼───────────────────────┼────────────────────────────────┼───────────────────────┼────────────────────────────────┤\n",
            "│ ln_avg_oil_pop          │                       │                                │                       │                                │                       │                                │\n",
            "├─────────────────────────┼───────────────────────┼────────────────────────────────┼───────────────────────┼────────────────────────────────┼───────────────────────┼────────────────────────────────┤\n",
            "│ ln_avg_all_diamonds_pop │                       │                                │                       │                                │                       │                                │\n",
            "╘═════════════════════════╧═══════════════════════╧════════════════════════════════╧═══════════════════════╧════════════════════════════════╧═══════════════════════╧════════════════════════════════╛\n"
          ]
        }
      ]
    },
    {
      "cell_type": "markdown",
      "source": [
        "## IV and 2SLS"
      ],
      "metadata": {
        "id": "NUxXMoVuxi2W"
      }
    },
    {
      "cell_type": "markdown",
      "source": [
        "**Model 1**"
      ],
      "metadata": {
        "id": "GoCN5kfG0tcF"
      }
    },
    {
      "cell_type": "code",
      "source": [
        "# Step 1: First Stage Regression\n",
        "# Define the endogenous variable (to be instrumented) and the instrument\n",
        "endog_first_stage = df['ln_export_area']\n",
        "instrument_first_stage = df[['atlantic_distance_minimum', 'indian_distance_minimum', 'saharan_distance_minimum', 'red_sea_distance_minimum']]\n",
        "\n",
        "# Add constant to the instrument\n",
        "instrument_first_stage = sm.add_constant(instrument_first_stage)\n",
        "\n",
        "# Fit the first stage regression\n",
        "first_stage_model1 = sm.OLS(endog_first_stage, instrument_first_stage).fit()\n",
        "\n",
        "# Print first stage results\n",
        "# print(\"First Stage Results:\")\n",
        "# print(first_stage_model1.summary())\n",
        "\n",
        "# Step 2: Predicted Values from First Stage\n",
        "# Get the predicted values from the first stage\n",
        "df['ln_export_area_predicted'] = first_stage_model1.predict()\n",
        "\n",
        "# Step 3: Second Stage Regression\n",
        "# Define the exogenous variable (including the predicted values from the first stage)\n",
        "exog_second_stage = df[['ln_export_area_predicted']]\n",
        "\n",
        "# Add constant to the exogenous variables\n",
        "exog_second_stage = sm.add_constant(exog_second_stage)\n",
        "\n",
        "# Fit the second stage regression\n",
        "second_stage_model1_gdp22 = sm.OLS(df['gdp22'], exog_second_stage).fit()\n",
        "\n",
        "# Print second stage results\n",
        "# print(\"\\nSecond Stage Results:\")\n",
        "# print(second_stage_model1_gdp22.summary())"
      ],
      "metadata": {
        "id": "2EJXXCUuxkiv"
      },
      "execution_count": 150,
      "outputs": []
    },
    {
      "cell_type": "code",
      "source": [
        "# Extracting coefficients and standard errors for the second stage\n",
        "coefficients_second_stage = second_stage_model1_gdp22.params\n",
        "std_errors_second_stage = second_stage_model1_gdp22.bse\n",
        "\n",
        "# Create a DataFrame with coefficients and standard errors for the second stage\n",
        "second_stage_results_df = pd.DataFrame({'Variable': coefficients_second_stage.index, 'Coefficient': coefficients_second_stage.values, 'Std. Error': std_errors_second_stage.values})\n",
        "\n",
        "# Round the numbers to three decimals\n",
        "second_stage_results_df = second_stage_results_df.round(3)\n",
        "\n",
        "# Print the name of the second stage\n",
        "print(\"\\nSecond Stage Results:\")\n",
        "# Print the table\n",
        "print(tabulate(second_stage_results_df, headers='keys', tablefmt='fancy_grid', showindex=False))"
      ],
      "metadata": {
        "colab": {
          "base_uri": "https://localhost:8080/"
        },
        "id": "NfV09YPUxjOo",
        "outputId": "45fd37e6-e40b-4610-d502-1e27de9e3e6b"
      },
      "execution_count": 151,
      "outputs": [
        {
          "output_type": "stream",
          "name": "stdout",
          "text": [
            "\n",
            "Second Stage Results:\n",
            "╒══════════════════════════╤═══════════════╤══════════════╕\n",
            "│ Variable                 │   Coefficient │   Std. Error │\n",
            "╞══════════════════════════╪═══════════════╪══════════════╡\n",
            "│ const                    │         8.155 │        0.211 │\n",
            "├──────────────────────────┼───────────────┼──────────────┤\n",
            "│ ln_export_area_predicted │        -0.245 │        0.055 │\n",
            "╘══════════════════════════╧═══════════════╧══════════════╛\n"
          ]
        }
      ]
    },
    {
      "cell_type": "markdown",
      "source": [
        "**Model 2**"
      ],
      "metadata": {
        "id": "XTjR2GuL00BC"
      }
    },
    {
      "cell_type": "code",
      "source": [
        "import statsmodels.api as sm\n",
        "\n",
        "# Step 1: First Stage Regression\n",
        "# Define the endogenous variable (to be instrumented) and the instrument\n",
        "endog_first_stage = df['ln_export_area']\n",
        "instrument_first_stage = df[['atlantic_distance_minimum', 'indian_distance_minimum', 'saharan_distance_minimum', 'red_sea_distance_minimum', 'colony0', 'colony1', 'colony2', 'colony3', 'colony4', 'colony5', 'colony6']]\n",
        "\n",
        "# Add constant to the instrument\n",
        "instrument_first_stage = sm.add_constant(instrument_first_stage)\n",
        "\n",
        "# Fit the first stage regression\n",
        "first_stage_model2 = sm.OLS(endog_first_stage, instrument_first_stage).fit()\n",
        "\n",
        "# Print first stage results\n",
        "# print(\"First Stage Results:\")\n",
        "# print(first_stage_model2.summary())\n",
        "\n",
        "# Step 2: Predicted Values from First Stage\n",
        "# Get the predicted values from the first stage\n",
        "df['ln_export_area_predicted'] = first_stage_model2.predict()\n",
        "\n",
        "# Step 3: Second Stage Regression\n",
        "# Define the exogenous variable (including the predicted values from the first stage)\n",
        "exog_second_stage = df[['ln_export_area_predicted', 'colony0', 'colony1', 'colony2', 'colony3', 'colony4', 'colony5', 'colony6']]\n",
        "\n",
        "# Add constant to the exogenous variables\n",
        "exog_second_stage = sm.add_constant(exog_second_stage)\n",
        "\n",
        "# Fit the second stage regression\n",
        "second_stage_model2_gdp22 = sm.OLS(df['gdp22'], exog_second_stage).fit()\n",
        "\n",
        "# Print second stage results\n",
        "# print(\"\\nSecond Stage Results:\")\n",
        "# print(second_stage_model2_gdp22.summary())"
      ],
      "metadata": {
        "id": "FU4fLgkzxk7S"
      },
      "execution_count": 152,
      "outputs": []
    },
    {
      "cell_type": "code",
      "source": [
        "# Extracting coefficients and standard errors for the second stage\n",
        "coefficients_second_stage = second_stage_model2_gdp22.params\n",
        "std_errors_second_stage = second_stage_model2_gdp22.bse\n",
        "\n",
        "# Create a DataFrame with coefficients and standard errors for the second stage\n",
        "second_stage_results_df = pd.DataFrame({'Variable': coefficients_second_stage.index, 'Coefficient': coefficients_second_stage.values, 'Std. Error': std_errors_second_stage.values})\n",
        "\n",
        "# Round the numbers to three decimals\n",
        "second_stage_results_df = second_stage_results_df.round(3)\n",
        "\n",
        "# Exclude colony variables from the second stage results table\n",
        "second_stage_results_df = second_stage_results_df[~second_stage_results_df['Variable'].str.startswith('colony')]\n",
        "\n",
        "# Add \"Colony Fixed Effects\" to the second stage results table\n",
        "second_stage_results_df = pd.concat([second_stage_results_df, colony_fixed_effects_row], ignore_index=True)\n",
        "\n",
        "# Print the name of the second stage\n",
        "print(\"\\nSecond Stage Results:\")\n",
        "# Print the table\n",
        "print(tabulate(second_stage_results_df, headers='keys', tablefmt='fancy_grid', showindex=False))"
      ],
      "metadata": {
        "colab": {
          "base_uri": "https://localhost:8080/"
        },
        "id": "78rzuTHlxxoP",
        "outputId": "75f44e01-0907-40bb-feb5-51e18cd10b41"
      },
      "execution_count": 153,
      "outputs": [
        {
          "output_type": "stream",
          "name": "stdout",
          "text": [
            "\n",
            "Second Stage Results:\n",
            "╒══════════════════════════╤═══════════════╤══════════════╕\n",
            "│ Variable                 │ Coefficient   │ Std. Error   │\n",
            "╞══════════════════════════╪═══════════════╪══════════════╡\n",
            "│ const                    │ 9.349         │ 0.751        │\n",
            "├──────────────────────────┼───────────────┼──────────────┤\n",
            "│ ln_export_area_predicted │ -0.213        │ 0.048        │\n",
            "├──────────────────────────┼───────────────┼──────────────┤\n",
            "│ Colony Fixed Effects     │ Yes           │              │\n",
            "╘══════════════════════════╧═══════════════╧══════════════╛\n"
          ]
        }
      ]
    },
    {
      "cell_type": "markdown",
      "source": [
        "**Model 3**"
      ],
      "metadata": {
        "id": "XgBEgAOF02P7"
      }
    },
    {
      "cell_type": "code",
      "source": [
        "import statsmodels.api as sm\n",
        "\n",
        "# Step 1: First Stage Regression\n",
        "# Define the endogenous variable (to be instrumented) and the instrument\n",
        "endog_first_stage = df['ln_export_area']\n",
        "instrument_first_stage = df[['atlantic_distance_minimum', 'indian_distance_minimum', 'saharan_distance_minimum', 'red_sea_distance_minimum',\n",
        "                             'colony0', 'colony1', 'colony2', 'colony3', 'colony4', 'colony5', 'colony6',\n",
        "                             'abs_latitude', 'longitude', 'rain_min', 'humid_max', 'low_temp', 'ln_coastline_area']]\n",
        "\n",
        "# Add constant to the instrument\n",
        "instrument_first_stage = sm.add_constant(instrument_first_stage)\n",
        "\n",
        "# Fit the first stage regression\n",
        "first_stage_model3 = sm.OLS(endog_first_stage, instrument_first_stage).fit()\n",
        "\n",
        "# Print first stage results\n",
        "# print(\"First Stage Results:\")\n",
        "# print(first_stage_model3.summary())\n",
        "\n",
        "# Step 2: Predicted Values from First Stage\n",
        "# Get the predicted values from the first stage\n",
        "df['ln_export_area_predicted'] = first_stage_model3.predict()\n",
        "\n",
        "# Step 3: Second Stage Regression\n",
        "# Define the exogenous variable (including the predicted values from the first stage)\n",
        "exog_second_stage = df[['ln_export_area_predicted', 'colony0', 'colony1', 'colony2', 'colony3', 'colony4', 'colony5', 'colony6',\n",
        "                        'abs_latitude', 'longitude', 'rain_min', 'humid_max', 'low_temp', 'ln_coastline_area']]\n",
        "\n",
        "# Add constant to the exogenous variables\n",
        "exog_second_stage = sm.add_constant(exog_second_stage)\n",
        "\n",
        "# Fit the second stage regression\n",
        "second_stage_model3_gdp22 = sm.OLS(df['gdp22'], exog_second_stage).fit()\n",
        "\n",
        "# Print second stage results\n",
        "# print(\"\\nSecond Stage Results:\")\n",
        "# print(second_stage_model3_gdp22.summary())"
      ],
      "metadata": {
        "id": "lbXamV0zxlO3"
      },
      "execution_count": 154,
      "outputs": []
    },
    {
      "cell_type": "code",
      "source": [
        "# Extract second stage results\n",
        "coefficients_second_stage = second_stage_model3_gdp22.params.round(3)\n",
        "std_errors_second_stage = second_stage_model3_gdp22.bse.round(3)\n",
        "\n",
        "# Create second stage results DataFrame\n",
        "second_stage_results_df = pd.DataFrame({'Variable': coefficients_second_stage.index,\n",
        "                                        'Coefficient': coefficients_second_stage.values,\n",
        "                                        'Std. Error': std_errors_second_stage.values})\n",
        "\n",
        "# Exclude specified variables\n",
        "second_stage_results_df = second_stage_results_df[~second_stage_results_df['Variable'].isin(exclude_variables)]\n",
        "\n",
        "# Add \"Colony Fixed Effects\" row\n",
        "second_stage_results_df = pd.concat([second_stage_results_df, colony_fixed_effects_row], ignore_index=True)\n",
        "\n",
        "# Add \"Geography Controls\" row\n",
        "second_stage_results_df = pd.concat([second_stage_results_df, geography_controls_row], ignore_index=True)\n",
        "\n",
        "# Print second stage table\n",
        "print(\"\\nSecond Stage Results:\")\n",
        "print(tabulate(second_stage_results_df, headers='keys', tablefmt='fancy_grid', showindex=False))"
      ],
      "metadata": {
        "colab": {
          "base_uri": "https://localhost:8080/"
        },
        "id": "BpG0jgVJyOgW",
        "outputId": "873ad543-77b1-4a9d-c1f3-18e9c73dd73e"
      },
      "execution_count": 155,
      "outputs": [
        {
          "output_type": "stream",
          "name": "stdout",
          "text": [
            "\n",
            "Second Stage Results:\n",
            "╒══════════════════════════╤═══════════════╤══════════════╕\n",
            "│ Variable                 │ Coefficient   │ Std. Error   │\n",
            "╞══════════════════════════╪═══════════════╪══════════════╡\n",
            "│ const                    │ 11.013        │ 1.782        │\n",
            "├──────────────────────────┼───────────────┼──────────────┤\n",
            "│ ln_export_area_predicted │ -0.337        │ 0.116        │\n",
            "├──────────────────────────┼───────────────┼──────────────┤\n",
            "│ Colony Fixed Effects     │ Yes           │              │\n",
            "├──────────────────────────┼───────────────┼──────────────┤\n",
            "│ Geography Controls       │ Yes           │              │\n",
            "╘══════════════════════════╧═══════════════╧══════════════╛\n"
          ]
        }
      ]
    },
    {
      "cell_type": "markdown",
      "source": [
        "## **Average GDP 2001 - 2022**"
      ],
      "metadata": {
        "id": "EsgPl3iQAHPq"
      }
    },
    {
      "cell_type": "markdown",
      "source": [
        "### OLS Regressions"
      ],
      "metadata": {
        "id": "eLpJeEIzAuU7"
      }
    },
    {
      "cell_type": "code",
      "source": [
        "# Table 3: OLS regression with and without controls\n",
        "X1 = sm.add_constant(df[['ln_export_area', 'colony0', 'colony1', 'colony2', 'colony3', 'colony4', 'colony5', 'colony6', 'colony7']])\n",
        "X2 = sm.add_constant(df[['ln_export_area', 'abs_latitude', 'longitude', 'rain_min', 'humid_max', 'low_temp', 'ln_coastline_area',  'colony0', 'colony1', 'colony2', 'colony3', 'colony4', 'colony5', 'colony6', 'colony7']])\n",
        "X4 = sm.add_constant(df[['ln_export_area', 'abs_latitude', 'longitude', 'rain_min', 'humid_max', 'low_temp', 'ln_coastline_area', 'island_dum', 'islam', 'legor_fr', 'region_n',  'colony0', 'colony1', 'colony2', 'colony3', 'colony4', 'colony5', 'colony6', 'colony7']])\n",
        "\n",
        "# Fit the models\n",
        "model1_avg = sm.OLS(df['average_gdp_01_22'], X1).fit()\n",
        "model2_avg = sm.OLS(df['average_gdp_01_22'], X2).fit()\n",
        "model4_avg = sm.OLS(df['average_gdp_01_22'], X4).fit()\n",
        "\n",
        "# Extract coefficients and other statistics for the specified variables\n",
        "variables = ['ln_export_area', 'abs_latitude', 'longitude', 'rain_min', 'humid_max', 'low_temp',\n",
        "             'ln_coastline_area', 'island_dum', 'islam', 'legor_fr', 'legor_uk', 'region_n',\n",
        "             'ln_avg_gold_pop', 'ln_avg_oil_pop', 'ln_avg_all_diamonds_pop']\n",
        "\n",
        "results = []\n",
        "\n",
        "# Populate the results list\n",
        "for var in variables:\n",
        "    row_values = {'Variable': var}\n",
        "    for i, model in enumerate([model1_avg, model2_avg, model4_avg]):\n",
        "        if var in model.params:\n",
        "            coefficient = round(model.params[var], 3)\n",
        "            std_error = round(model.bse[var], 3)\n",
        "            p_value = round(model.pvalues[var], 3)\n",
        "            std_p_value = f\"{std_error} ({p_value})\"\n",
        "            row_values[f'Model {i+1} Coefficient'] = coefficient\n",
        "            row_values[f'Model {i+1} Std. Error (P-value)'] = std_p_value\n",
        "        else:\n",
        "            row_values[f'Model {i+1} Coefficient'] = ''\n",
        "            row_values[f'Model {i+1} Std. Error (P-value)'] = ''\n",
        "    results.append(row_values)\n",
        "\n",
        "# Convert the results list to a DataFrame\n",
        "results_df = pd.DataFrame(results)\n",
        "\n",
        "# Convert NaN values to empty strings\n",
        "results_df = results_df.replace({np.nan: ''})\n",
        "\n",
        "# Convert the DataFrame to a tabular format with fancy styling\n",
        "table = tabulate(results_df, headers='keys', tablefmt='fancy_grid', showindex=False)\n",
        "\n",
        "# Print the table\n",
        "print(table)\n"
      ],
      "metadata": {
        "id": "vkcxvlqTAMSL",
        "colab": {
          "base_uri": "https://localhost:8080/"
        },
        "outputId": "db5a5c95-1f80-439c-9cb7-3912f2506868"
      },
      "execution_count": 156,
      "outputs": [
        {
          "output_type": "stream",
          "name": "stdout",
          "text": [
            "╒═════════════════════════╤═══════════════════════╤════════════════════════════════╤═══════════════════════╤════════════════════════════════╤═══════════════════════╤════════════════════════════════╕\n",
            "│ Variable                │ Model 1 Coefficient   │ Model 1 Std. Error (P-value)   │ Model 2 Coefficient   │ Model 2 Std. Error (P-value)   │ Model 3 Coefficient   │ Model 3 Std. Error (P-value)   │\n",
            "╞═════════════════════════╪═══════════════════════╪════════════════════════════════╪═══════════════════════╪════════════════════════════════╪═══════════════════════╪════════════════════════════════╡\n",
            "│ ln_export_area          │ -0.114                │ 0.028 (0.0)                    │ -0.086                │ 0.035 (0.02)                   │ -0.087                │ 0.045 (0.061)                  │\n",
            "├─────────────────────────┼───────────────────────┼────────────────────────────────┼───────────────────────┼────────────────────────────────┼───────────────────────┼────────────────────────────────┤\n",
            "│ abs_latitude            │                       │                                │ 0.011                 │ 0.02 (0.576)                   │ 0.016                 │ 0.023 (0.492)                  │\n",
            "├─────────────────────────┼───────────────────────┼────────────────────────────────┼───────────────────────┼────────────────────────────────┼───────────────────────┼────────────────────────────────┤\n",
            "│ longitude               │                       │                                │ -0.001                │ 0.007 (0.83)                   │ -0.004                │ 0.007 (0.578)                  │\n",
            "├─────────────────────────┼───────────────────────┼────────────────────────────────┼───────────────────────┼────────────────────────────────┼───────────────────────┼────────────────────────────────┤\n",
            "│ rain_min                │                       │                                │ 0.003                 │ 0.008 (0.731)                  │ 0.001                 │ 0.009 (0.869)                  │\n",
            "├─────────────────────────┼───────────────────────┼────────────────────────────────┼───────────────────────┼────────────────────────────────┼───────────────────────┼────────────────────────────────┤\n",
            "│ humid_max               │                       │                                │ 0.004                 │ 0.014 (0.786)                  │ 0.003                 │ 0.015 (0.86)                   │\n",
            "├─────────────────────────┼───────────────────────┼────────────────────────────────┼───────────────────────┼────────────────────────────────┼───────────────────────┼────────────────────────────────┤\n",
            "│ low_temp                │                       │                                │ -0.006                │ 0.034 (0.859)                  │ 0.011                 │ 0.035 (0.749)                  │\n",
            "├─────────────────────────┼───────────────────────┼────────────────────────────────┼───────────────────────┼────────────────────────────────┼───────────────────────┼────────────────────────────────┤\n",
            "│ ln_coastline_area       │                       │                                │ 0.106                 │ 0.047 (0.03)                   │ 0.116                 │ 0.055 (0.042)                  │\n",
            "├─────────────────────────┼───────────────────────┼────────────────────────────────┼───────────────────────┼────────────────────────────────┼───────────────────────┼────────────────────────────────┤\n",
            "│ island_dum              │                       │                                │                       │                                │ -0.242                │ 0.683 (0.725)                  │\n",
            "├─────────────────────────┼───────────────────────┼────────────────────────────────┼───────────────────────┼────────────────────────────────┼───────────────────────┼────────────────────────────────┤\n",
            "│ islam                   │                       │                                │                       │                                │ -0.009                │ 0.004 (0.023)                  │\n",
            "├─────────────────────────┼───────────────────────┼────────────────────────────────┼───────────────────────┼────────────────────────────────┼───────────────────────┼────────────────────────────────┤\n",
            "│ legor_fr                │                       │                                │                       │                                │ 0.4                   │ 0.65 (0.543)                   │\n",
            "├─────────────────────────┼───────────────────────┼────────────────────────────────┼───────────────────────┼────────────────────────────────┼───────────────────────┼────────────────────────────────┤\n",
            "│ legor_uk                │                       │                                │                       │                                │                       │                                │\n",
            "├─────────────────────────┼───────────────────────┼────────────────────────────────┼───────────────────────┼────────────────────────────────┼───────────────────────┼────────────────────────────────┤\n",
            "│ region_n                │                       │                                │                       │                                │ 0.583                 │ 0.625 (0.357)                  │\n",
            "├─────────────────────────┼───────────────────────┼────────────────────────────────┼───────────────────────┼────────────────────────────────┼───────────────────────┼────────────────────────────────┤\n",
            "│ ln_avg_gold_pop         │                       │                                │                       │                                │                       │                                │\n",
            "├─────────────────────────┼───────────────────────┼────────────────────────────────┼───────────────────────┼────────────────────────────────┼───────────────────────┼────────────────────────────────┤\n",
            "│ ln_avg_oil_pop          │                       │                                │                       │                                │                       │                                │\n",
            "├─────────────────────────┼───────────────────────┼────────────────────────────────┼───────────────────────┼────────────────────────────────┼───────────────────────┼────────────────────────────────┤\n",
            "│ ln_avg_all_diamonds_pop │                       │                                │                       │                                │                       │                                │\n",
            "╘═════════════════════════╧═══════════════════════╧════════════════════════════════╧═══════════════════════╧════════════════════════════════╧═══════════════════════╧════════════════════════════════╛\n"
          ]
        }
      ]
    },
    {
      "cell_type": "markdown",
      "source": [
        "## IV and 2SLS"
      ],
      "metadata": {
        "id": "c9n1pf3Tx-0w"
      }
    },
    {
      "cell_type": "markdown",
      "source": [
        "**Model 1**"
      ],
      "metadata": {
        "id": "QL99sB0Z0-qj"
      }
    },
    {
      "cell_type": "code",
      "source": [
        "# Step 1: First Stage Regression\n",
        "# Define the endogenous variable (to be instrumented) and the instrument\n",
        "endog_first_stage = df['ln_export_area']\n",
        "instrument_first_stage = df[['atlantic_distance_minimum', 'indian_distance_minimum', 'saharan_distance_minimum', 'red_sea_distance_minimum']]\n",
        "\n",
        "# Add constant to the instrument\n",
        "instrument_first_stage = sm.add_constant(instrument_first_stage)\n",
        "\n",
        "# Fit the first stage regression\n",
        "first_stage_model1 = sm.OLS(endog_first_stage, instrument_first_stage).fit()\n",
        "\n",
        "# Print first stage results\n",
        "# print(\"First Stage Results:\")\n",
        "# print(first_stage_model1.summary())\n",
        "\n",
        "# Step 2: Predicted Values from First Stage\n",
        "# Get the predicted values from the first stage\n",
        "df['ln_export_area_predicted'] = first_stage_model1.predict()\n",
        "\n",
        "# Step 3: Second Stage Regression\n",
        "# Define the exogenous variable (including the predicted values from the first stage)\n",
        "exog_second_stage = df[['ln_export_area_predicted']]\n",
        "\n",
        "# Add constant to the exogenous variables\n",
        "exog_second_stage = sm.add_constant(exog_second_stage)\n",
        "\n",
        "# Fit the second stage regression\n",
        "second_stage_model1_avg = sm.OLS(df['average_gdp_01_22'], exog_second_stage).fit()\n",
        "\n",
        "# Print second stage results\n",
        "# print(\"\\nSecond Stage Results:\")\n",
        "# print(second_stage_model1_avg.summary())"
      ],
      "metadata": {
        "id": "4Xk3RqJFx_Ir"
      },
      "execution_count": 157,
      "outputs": []
    },
    {
      "cell_type": "code",
      "source": [
        "# Extracting coefficients and standard errors for the second stage\n",
        "coefficients_second_stage = second_stage_model1_avg.params\n",
        "std_errors_second_stage = second_stage_model1_avg.bse\n",
        "\n",
        "# Create a DataFrame with coefficients and standard errors for the second stage\n",
        "second_stage_results_df = pd.DataFrame({'Variable': coefficients_second_stage.index, 'Coefficient': coefficients_second_stage.values, 'Std. Error': std_errors_second_stage.values})\n",
        "\n",
        "# Round the numbers to three decimals\n",
        "second_stage_results_df = second_stage_results_df.round(3)\n",
        "\n",
        "# Print the name of the second stage\n",
        "print(\"\\nSecond Stage Results:\")\n",
        "# Print the table\n",
        "print(tabulate(second_stage_results_df, headers='keys', tablefmt='fancy_grid', showindex=False))"
      ],
      "metadata": {
        "colab": {
          "base_uri": "https://localhost:8080/"
        },
        "id": "3TRrjusIygeH",
        "outputId": "4a5d3267-662d-4e39-adb1-a4144242363d"
      },
      "execution_count": 158,
      "outputs": [
        {
          "output_type": "stream",
          "name": "stdout",
          "text": [
            "\n",
            "Second Stage Results:\n",
            "╒══════════════════════════╤═══════════════╤══════════════╕\n",
            "│ Variable                 │   Coefficient │   Std. Error │\n",
            "╞══════════════════════════╪═══════════════╪══════════════╡\n",
            "│ const                    │         8.112 │        0.217 │\n",
            "├──────────────────────────┼───────────────┼──────────────┤\n",
            "│ ln_export_area_predicted │        -0.259 │        0.056 │\n",
            "╘══════════════════════════╧═══════════════╧══════════════╛\n"
          ]
        }
      ]
    },
    {
      "cell_type": "markdown",
      "source": [
        "**Model 2**"
      ],
      "metadata": {
        "id": "LrWrNtCs1BoY"
      }
    },
    {
      "cell_type": "code",
      "source": [
        "import statsmodels.api as sm\n",
        "\n",
        "# Step 1: First Stage Regression\n",
        "# Define the endogenous variable (to be instrumented) and the instrument\n",
        "endog_first_stage = df['ln_export_area']\n",
        "instrument_first_stage = df[['atlantic_distance_minimum', 'indian_distance_minimum', 'saharan_distance_minimum', 'red_sea_distance_minimum', 'colony0', 'colony1', 'colony2', 'colony3', 'colony4', 'colony5', 'colony6']]\n",
        "\n",
        "# Add constant to the instrument\n",
        "instrument_first_stage = sm.add_constant(instrument_first_stage)\n",
        "\n",
        "# Fit the first stage regression\n",
        "first_stage_model2 = sm.OLS(endog_first_stage, instrument_first_stage).fit()\n",
        "\n",
        "# Print first stage results\n",
        "# print(\"First Stage Results:\")\n",
        "# print(first_stage_model2.summary())\n",
        "\n",
        "# Step 2: Predicted Values from First Stage\n",
        "# Get the predicted values from the first stage\n",
        "df['ln_export_area_predicted'] = first_stage_model2.predict()\n",
        "\n",
        "# Step 3: Second Stage Regression\n",
        "# Define the exogenous variable (including the predicted values from the first stage)\n",
        "exog_second_stage = df[['ln_export_area_predicted', 'colony0', 'colony1', 'colony2', 'colony3', 'colony4', 'colony5', 'colony6']]\n",
        "\n",
        "# Add constant to the exogenous variables\n",
        "exog_second_stage = sm.add_constant(exog_second_stage)\n",
        "\n",
        "# Fit the second stage regression\n",
        "second_stage_model2_avg = sm.OLS(df['average_gdp_01_22'], exog_second_stage).fit()\n",
        "\n",
        "# Print second stage results\n",
        "# print(\"\\nSecond Stage Results:\")\n",
        "# print(second_stage_model2_avg.summary())"
      ],
      "metadata": {
        "id": "llHhAzt-x_k7"
      },
      "execution_count": 159,
      "outputs": []
    },
    {
      "cell_type": "code",
      "source": [
        "# Extracting coefficients and standard errors for the second stage\n",
        "coefficients_second_stage = second_stage_model2_avg.params\n",
        "std_errors_second_stage = second_stage_model2_avg.bse\n",
        "\n",
        "# Create a DataFrame with coefficients and standard errors for the second stage\n",
        "second_stage_results_df = pd.DataFrame({'Variable': coefficients_second_stage.index, 'Coefficient': coefficients_second_stage.values, 'Std. Error': std_errors_second_stage.values})\n",
        "\n",
        "# Round the numbers to three decimals\n",
        "second_stage_results_df = second_stage_results_df.round(3)\n",
        "\n",
        "# Exclude colony variables from the second stage results table\n",
        "second_stage_results_df = second_stage_results_df[~second_stage_results_df['Variable'].str.startswith('colony')]\n",
        "\n",
        "# Add \"Colony Fixed Effects\" to the second stage results table\n",
        "second_stage_results_df = pd.concat([second_stage_results_df, colony_fixed_effects_row], ignore_index=True)\n",
        "\n",
        "# Print the name of the second stage\n",
        "print(\"\\nSecond Stage Results:\")\n",
        "# Print the table\n",
        "print(tabulate(second_stage_results_df, headers='keys', tablefmt='fancy_grid', showindex=False))"
      ],
      "metadata": {
        "colab": {
          "base_uri": "https://localhost:8080/"
        },
        "id": "Z5Utt-zVys3q",
        "outputId": "d7b66b35-8a78-44af-970d-c77578643814"
      },
      "execution_count": 160,
      "outputs": [
        {
          "output_type": "stream",
          "name": "stdout",
          "text": [
            "\n",
            "Second Stage Results:\n",
            "╒══════════════════════════╤═══════════════╤══════════════╕\n",
            "│ Variable                 │ Coefficient   │ Std. Error   │\n",
            "╞══════════════════════════╪═══════════════╪══════════════╡\n",
            "│ const                    │ 9.61          │ 0.723        │\n",
            "├──────────────────────────┼───────────────┼──────────────┤\n",
            "│ ln_export_area_predicted │ -0.221        │ 0.047        │\n",
            "├──────────────────────────┼───────────────┼──────────────┤\n",
            "│ Colony Fixed Effects     │ Yes           │              │\n",
            "╘══════════════════════════╧═══════════════╧══════════════╛\n"
          ]
        }
      ]
    },
    {
      "cell_type": "markdown",
      "source": [
        "**Model 3**"
      ],
      "metadata": {
        "id": "sr9hR8YW1DQQ"
      }
    },
    {
      "cell_type": "code",
      "source": [
        "import statsmodels.api as sm\n",
        "\n",
        "# Step 1: First Stage Regression\n",
        "# Define the endogenous variable (to be instrumented) and the instrument\n",
        "endog_first_stage = df['ln_export_area']\n",
        "instrument_first_stage = df[['atlantic_distance_minimum', 'indian_distance_minimum', 'saharan_distance_minimum', 'red_sea_distance_minimum',\n",
        "                             'colony0', 'colony1', 'colony2', 'colony3', 'colony4', 'colony5', 'colony6',\n",
        "                             'abs_latitude', 'longitude', 'rain_min', 'humid_max', 'low_temp', 'ln_coastline_area']]\n",
        "\n",
        "# Add constant to the instrument\n",
        "instrument_first_stage = sm.add_constant(instrument_first_stage)\n",
        "\n",
        "# Fit the first stage regression\n",
        "first_stage_model3 = sm.OLS(endog_first_stage, instrument_first_stage).fit()\n",
        "\n",
        "# Print first stage results\n",
        "# print(\"First Stage Results:\")\n",
        "# print(first_stage_model3.summary())\n",
        "\n",
        "# Step 2: Predicted Values from First Stage\n",
        "# Get the predicted values from the first stage\n",
        "df['ln_export_area_predicted'] = first_stage_model3.predict()\n",
        "\n",
        "# Step 3: Second Stage Regression\n",
        "# Define the exogenous variable (including the predicted values from the first stage)\n",
        "exog_second_stage = df[['ln_export_area_predicted', 'colony0', 'colony1', 'colony2', 'colony3', 'colony4', 'colony5', 'colony6',\n",
        "                        'abs_latitude', 'longitude', 'rain_min', 'humid_max', 'low_temp', 'ln_coastline_area']]\n",
        "\n",
        "# Add constant to the exogenous variables\n",
        "exog_second_stage = sm.add_constant(exog_second_stage)\n",
        "\n",
        "# Fit the second stage regression\n",
        "second_stage_model3_avg = sm.OLS(df['average_gdp_01_22'], exog_second_stage).fit()\n",
        "\n",
        "# Print second stage results\n",
        "# print(\"\\nSecond Stage Results:\")\n",
        "# print(second_stage_model3_avg.summary())"
      ],
      "metadata": {
        "id": "CbcG658gx_2x"
      },
      "execution_count": 161,
      "outputs": []
    },
    {
      "cell_type": "code",
      "source": [
        "# Extract second stage results\n",
        "coefficients_second_stage = second_stage_model3_avg.params.round(3)\n",
        "std_errors_second_stage = second_stage_model3_avg.bse.round(3)\n",
        "\n",
        "# Create second stage results DataFrame\n",
        "second_stage_results_df = pd.DataFrame({'Variable': coefficients_second_stage.index,\n",
        "                                        'Coefficient': coefficients_second_stage.values,\n",
        "                                        'Std. Error': std_errors_second_stage.values})\n",
        "\n",
        "# Exclude specified variables\n",
        "second_stage_results_df = second_stage_results_df[~second_stage_results_df['Variable'].isin(exclude_variables)]\n",
        "\n",
        "# Add \"Colony Fixed Effects\" row\n",
        "second_stage_results_df = pd.concat([second_stage_results_df, colony_fixed_effects_row], ignore_index=True)\n",
        "\n",
        "# Add \"Geography Controls\" row\n",
        "second_stage_results_df = pd.concat([second_stage_results_df, geography_controls_row], ignore_index=True)\n",
        "\n",
        "# Print second stage table\n",
        "print(\"\\nSecond Stage Results:\")\n",
        "print(tabulate(second_stage_results_df, headers='keys', tablefmt='fancy_grid', showindex=False))"
      ],
      "metadata": {
        "colab": {
          "base_uri": "https://localhost:8080/"
        },
        "id": "KIyK8PmmytZ8",
        "outputId": "b63f1b79-f6fa-4b91-d92e-b5bdc6adc609"
      },
      "execution_count": 162,
      "outputs": [
        {
          "output_type": "stream",
          "name": "stdout",
          "text": [
            "\n",
            "Second Stage Results:\n",
            "╒══════════════════════════╤═══════════════╤══════════════╕\n",
            "│ Variable                 │ Coefficient   │ Std. Error   │\n",
            "╞══════════════════════════╪═══════════════╪══════════════╡\n",
            "│ const                    │ 11.555        │ 1.752        │\n",
            "├──────────────────────────┼───────────────┼──────────────┤\n",
            "│ ln_export_area_predicted │ -0.366        │ 0.114        │\n",
            "├──────────────────────────┼───────────────┼──────────────┤\n",
            "│ Colony Fixed Effects     │ Yes           │              │\n",
            "├──────────────────────────┼───────────────┼──────────────┤\n",
            "│ Geography Controls       │ Yes           │              │\n",
            "╘══════════════════════════╧═══════════════╧══════════════╛\n"
          ]
        }
      ]
    }
  ]
}